{
 "cells": [
  {
   "cell_type": "markdown",
   "metadata": {
    "id": "q7w_WFgxrwxe"
   },
   "source": [
    "# Predicting Question Pairs in Discussion Forums using MaLSTM network"
   ]
  },
  {
   "cell_type": "markdown",
   "metadata": {
    "id": "UefczQkr6iN5"
   },
   "source": [
    "### I. Environment Setup"
   ]
  },
  {
   "cell_type": "code",
   "execution_count": 1,
   "metadata": {
    "colab": {
     "base_uri": "https://localhost:8080/"
    },
    "id": "5lihXlnZ1UT8",
    "outputId": "599eb680-a6bf-4ee7-e048-454c87a6e8a8"
   },
   "outputs": [],
   "source": [
    "# from google.colab import drive\n",
    "# drive.mount('/content/drive')\n",
    "\n",
    "# path = 'drive/MyDrive/Colab Notebooks'\n",
    "# %cd $path"
   ]
  },
  {
   "cell_type": "code",
   "execution_count": 4,
   "metadata": {
    "scrolled": true
   },
   "outputs": [
    {
     "name": "stdout",
     "output_type": "stream",
     "text": [
      "Requirement already satisfied: gensim==3.8.3 in c:\\users\\siddh\\anaconda3\\lib\\site-packages (3.8.3)\n",
      "Requirement already satisfied: smart-open>=1.8.1 in c:\\users\\siddh\\anaconda3\\lib\\site-packages (from gensim==3.8.3) (5.2.1)\n",
      "Requirement already satisfied: scipy>=0.18.1 in c:\\users\\siddh\\anaconda3\\lib\\site-packages (from gensim==3.8.3) (1.5.2)\n",
      "Requirement already satisfied: Cython==0.29.14 in c:\\users\\siddh\\anaconda3\\lib\\site-packages (from gensim==3.8.3) (0.29.14)\n",
      "Requirement already satisfied: six>=1.5.0 in c:\\users\\siddh\\anaconda3\\lib\\site-packages (from gensim==3.8.3) (1.15.0)\n",
      "Requirement already satisfied: numpy>=1.11.3 in c:\\users\\siddh\\anaconda3\\lib\\site-packages (from gensim==3.8.3) (1.19.2)\n"
     ]
    }
   ],
   "source": [
    "# ! pip install gensim==3.8.3 --user"
   ]
  },
  {
   "cell_type": "code",
   "execution_count": 1,
   "metadata": {
    "id": "LEOdCCp5rcfN"
   },
   "outputs": [],
   "source": [
    "from time import time\n",
    "import pandas as pd\n",
    "import numpy as np\n",
    "from gensim.models import KeyedVectors\n",
    "import re\n",
    "import nltk\n",
    "from nltk.corpus import stopwords\n",
    "from sklearn.model_selection import train_test_split\n",
    "import matplotlib.pyplot as plt\n",
    "import seaborn as sns\n",
    "import itertools\n",
    "import datetime"
   ]
  },
  {
   "cell_type": "code",
   "execution_count": 2,
   "metadata": {
    "id": "0tpHslSLrfuH"
   },
   "outputs": [],
   "source": [
    "from keras.preprocessing.sequence import pad_sequences\n",
    "from keras.models import Model\n",
    "from keras.layers import Input, Embedding, LSTM, Lambda\n",
    "import keras.backend as K\n",
    "from tensorflow.keras.optimizers import Adadelta, Adam\n",
    "from keras.callbacks import ModelCheckpoint"
   ]
  },
  {
   "cell_type": "code",
   "execution_count": 3,
   "metadata": {
    "colab": {
     "base_uri": "https://localhost:8080/"
    },
    "id": "vSZ6qM77_U1c",
    "outputId": "c74421de-0dc0-4ee0-e6b8-aaf6adba0045"
   },
   "outputs": [
    {
     "name": "stderr",
     "output_type": "stream",
     "text": [
      "[nltk_data] Downloading package stopwords to\n",
      "[nltk_data]     C:\\Users\\siddh\\AppData\\Roaming\\nltk_data...\n",
      "[nltk_data]   Package stopwords is already up-to-date!\n"
     ]
    },
    {
     "data": {
      "text/plain": [
       "True"
      ]
     },
     "execution_count": 3,
     "metadata": {},
     "output_type": "execute_result"
    }
   ],
   "source": [
    "nltk.download('stopwords')"
   ]
  },
  {
   "cell_type": "markdown",
   "metadata": {
    "id": "SlvPz0cZ5Q49"
   },
   "source": [
    "### II. Preprocess Datasets"
   ]
  },
  {
   "cell_type": "code",
   "execution_count": 4,
   "metadata": {
    "colab": {
     "base_uri": "https://localhost:8080/"
    },
    "id": "MvrWwHkcAGd8",
    "outputId": "8ffc8fbd-f742-434c-ba22-edbca9f9b1c5"
   },
   "outputs": [
    {
     "data": {
      "text/plain": [
       "['.ipynb_checkpoints',\n",
       " 'models',\n",
       " 'plots',\n",
       " 'pred_output.csv',\n",
       " 'Project Proposal.docx',\n",
       " 'Project Proposal.pdf',\n",
       " 'Project_Guidelines.pdf',\n",
       " 'QuestionPairs_MaLSTM.ipynb',\n",
       " 'quora-question-pairs']"
      ]
     },
     "execution_count": 4,
     "metadata": {},
     "output_type": "execute_result"
    }
   ],
   "source": [
    "import os\n",
    "os.listdir()"
   ]
  },
  {
   "cell_type": "code",
   "execution_count": 5,
   "metadata": {
    "id": "9L8N7V362ca1"
   },
   "outputs": [],
   "source": [
    "train_path = './quora-question-pairs/train.csv'\n",
    "test_path = './quora-question-pairs/test.csv'\n",
    "\n",
    "embedding_file = r'C:\\Users\\siddh\\Downloads\\GoogleNews-vectors-negative300.bin'\n",
    "# model_saving_dir = '/home/ecohen/HDD/HDD4/Models/Kaggle/Quora/'"
   ]
  },
  {
   "cell_type": "code",
   "execution_count": 6,
   "metadata": {
    "id": "G8AleU7G3FcT"
   },
   "outputs": [],
   "source": [
    "train_df = pd.read_csv(train_path)\n",
    "test_df = pd.read_csv(test_path)\n",
    "\n",
    "stops = set(stopwords.words('english'))\n",
    "\n",
    "def text_to_word_list(text):\n",
    "    ''' Pre process and convert texts to a list of words '''\n",
    "    text = str(text)\n",
    "    text = text.lower()\n",
    "\n",
    "    # Clean the text\n",
    "    text = re.sub(r\"[^A-Za-z0-9^,!.\\/'+-=]\", \" \", text)\n",
    "    text = re.sub(r\"what's\", \"what is \", text)\n",
    "    text = re.sub(r\"\\'s\", \" \", text)\n",
    "    text = re.sub(r\"\\'ve\", \" have \", text)\n",
    "    text = re.sub(r\"can't\", \"cannot \", text)\n",
    "    text = re.sub(r\"n't\", \" not \", text)\n",
    "    text = re.sub(r\"i'm\", \"i am \", text)\n",
    "    text = re.sub(r\"\\'re\", \" are \", text)\n",
    "    text = re.sub(r\"\\'d\", \" would \", text)\n",
    "    text = re.sub(r\"\\'ll\", \" will \", text)\n",
    "    text = re.sub(r\",\", \" \", text)\n",
    "    text = re.sub(r\"\\.\", \" \", text)\n",
    "    text = re.sub(r\"!\", \" ! \", text)\n",
    "    text = re.sub(r\"\\/\", \" \", text)\n",
    "    text = re.sub(r\"\\^\", \" ^ \", text)\n",
    "    text = re.sub(r\"\\+\", \" + \", text)\n",
    "    text = re.sub(r\"\\-\", \" - \", text)\n",
    "    text = re.sub(r\"\\=\", \" = \", text)\n",
    "    text = re.sub(r\"'\", \" \", text)\n",
    "    text = re.sub(r\"(\\d+)(k)\", r\"\\g<1>000\", text)\n",
    "    text = re.sub(r\":\", \" : \", text)\n",
    "    text = re.sub(r\" e g \", \" eg \", text)\n",
    "    text = re.sub(r\" b g \", \" bg \", text)\n",
    "    text = re.sub(r\" u s \", \" american \", text)\n",
    "    text = re.sub(r\"\\0s\", \"0\", text)\n",
    "    text = re.sub(r\" 9 11 \", \"911\", text)\n",
    "    text = re.sub(r\"e - mail\", \"email\", text)\n",
    "    text = re.sub(r\"j k\", \"jk\", text)\n",
    "    text = re.sub(r\"\\s{2,}\", \" \", text)\n",
    "\n",
    "    text = text.split()\n",
    "\n",
    "    return text"
   ]
  },
  {
   "cell_type": "markdown",
   "metadata": {
    "id": "W1DFl6SRA8Cp"
   },
   "source": [
    "### III. Generate Embeddings"
   ]
  },
  {
   "cell_type": "code",
   "execution_count": 7,
   "metadata": {
    "id": "NV3GAlZa5bxT"
   },
   "outputs": [],
   "source": [
    "vocabulary = dict()\n",
    "inverse_vocabulary = ['<unknown>']  # '<unknown>' will never be used, it is only a placeholder for the [0, 0, ....0] embedding\n",
    "word2vec = KeyedVectors.load_word2vec_format(embedding_file, binary=True)\n",
    "\n",
    "questions_cols = ['question1', 'question2']"
   ]
  },
  {
   "cell_type": "code",
   "execution_count": 8,
   "metadata": {
    "id": "opIzZD0z5dL0"
   },
   "outputs": [],
   "source": [
    "# Iterate over the questions only of both training and test datasets\n",
    "for dataset in [train_df, test_df]:\n",
    "    for index, row in dataset.iterrows():\n",
    "\n",
    "        # Iterate through the text of both questions of the row\n",
    "        for question in questions_cols:\n",
    "\n",
    "            q2n = []  # q2n -> question numbers representation\n",
    "            for word in text_to_word_list(row[question]):\n",
    "\n",
    "                # Check for unwanted words\n",
    "                if word in stops and word not in word2vec.vocab:\n",
    "                    continue\n",
    "\n",
    "                if word not in vocabulary:\n",
    "                    vocabulary[word] = len(inverse_vocabulary)\n",
    "                    q2n.append(len(inverse_vocabulary))\n",
    "                    inverse_vocabulary.append(word)\n",
    "                else:\n",
    "                    q2n.append(vocabulary[word])\n",
    "\n",
    "            # Replace questions as word to question as number representation\n",
    "            dataset.at[index, question] = q2n"
   ]
  },
  {
   "cell_type": "code",
   "execution_count": 9,
   "metadata": {
    "id": "oNTMU4GtCeoG"
   },
   "outputs": [],
   "source": [
    "embedding_dim = 300\n",
    "embeddings = 1 * np.random.randn(len(vocabulary) + 1, embedding_dim)  # This will be the embedding matrix\n",
    "embeddings[0] = 0  # So that the padding will be ignored\n",
    "\n",
    "# Build the embedding matrix\n",
    "for word, index in vocabulary.items():\n",
    "    if word in word2vec.vocab:\n",
    "        embeddings[index] = word2vec.word_vec(word)"
   ]
  },
  {
   "cell_type": "markdown",
   "metadata": {
    "id": "iThq3NZmGgwO"
   },
   "source": [
    "### IV. Prepare Training & Validation Data"
   ]
  },
  {
   "cell_type": "code",
   "execution_count": 10,
   "metadata": {
    "id": "fWL5VJQfGnMI"
   },
   "outputs": [],
   "source": [
    "max_seq_length = max(train_df.question1.map(lambda x: len(x)).max(),\n",
    "                     train_df.question2.map(lambda x: len(x)).max(),\n",
    "                     test_df.question1.map(lambda x: len(x)).max(),\n",
    "                     test_df.question2.map(lambda x: len(x)).max())\n",
    "\n",
    "# manual_seq_length = 213        \n",
    "        \n",
    "# Split to train validation\n",
    "test_size = 40000\n",
    "training_size = len(train_df) - test_size\n",
    "\n",
    "X = train_df[questions_cols]\n",
    "Y = train_df['is_duplicate']\n",
    "\n",
    "X_train, X_test, Y_train, Y_test = train_test_split(X, Y, test_size=test_size)\n",
    "\n",
    "# Split to dicts\n",
    "X_train = {'left': X_train.question1, 'right': X_train.question2}\n",
    "X_test = {'left': X_test.question1, 'right': X_test.question2}\n",
    "# X_test = {'left': test_df.question1, 'right': test_df.question2}\n",
    "\n",
    "# Convert labels to their numpy representations\n",
    "Y_train = Y_train.values\n",
    "Y_test = Y_test.values\n",
    "\n",
    "# Zero padding\n",
    "for dataset, side in itertools.product([X_train, X_test], ['left', 'right']):\n",
    "    dataset[side] = pad_sequences(dataset[side], maxlen=max_seq_length)\n",
    "\n",
    "# Make sure everything is ok\n",
    "assert X_train['left'].shape == X_train['right'].shape\n",
    "assert len(X_train['left']) == len(Y_train)"
   ]
  },
  {
   "cell_type": "markdown",
   "metadata": {
    "id": "Vko19l2aG3jY"
   },
   "source": [
    "### V. Build Model"
   ]
  },
  {
   "cell_type": "code",
   "execution_count": 15,
   "metadata": {},
   "outputs": [],
   "source": [
    "def exponent_neg_manhattan_distance(left, right):\n",
    "    ''' Helper function for the similarity estimate of the LSTMs outputs'''\n",
    "    return K.exp(-K.sum(K.abs(left-right), axis=1, keepdims=True))"
   ]
  },
  {
   "cell_type": "code",
   "execution_count": 11,
   "metadata": {
    "colab": {
     "base_uri": "https://localhost:8080/"
    },
    "id": "DcdHwv7NGve-",
    "outputId": "d9345ff3-c13c-4b89-94d3-eea9b080044c"
   },
   "outputs": [
    {
     "name": "stderr",
     "output_type": "stream",
     "text": [
      "C:\\Users\\siddh\\anaconda3\\lib\\site-packages\\keras\\optimizer_v2\\adam.py:105: UserWarning: The `lr` argument is deprecated, use `learning_rate` instead.\n",
      "  super(Adam, self).__init__(name, **kwargs)\n"
     ]
    }
   ],
   "source": [
    "# Model variables\n",
    "n_hidden = 50\n",
    "gradient_clipping_norm = 1.25\n",
    "batch_size = 64\n",
    "n_epoch = 10\n",
    "lr = 0.001\n",
    "\n",
    "def exponent_neg_manhattan_distance(left, right):\n",
    "    ''' Helper function for the similarity estimate of the LSTMs outputs'''\n",
    "    return K.exp(-K.sum(K.abs(left-right), axis=1, keepdims=True))\n",
    "\n",
    "# The visible layer\n",
    "left_input = Input(shape=(max_seq_length,), dtype='int32')\n",
    "right_input = Input(shape=(max_seq_length,), dtype='int32')\n",
    "\n",
    "embedding_layer = Embedding(len(embeddings), embedding_dim, weights=[embeddings], input_length=max_seq_length, trainable=False)\n",
    "\n",
    "# Embedded version of the inputs\n",
    "encoded_left = embedding_layer(left_input)\n",
    "encoded_right = embedding_layer(right_input)\n",
    "\n",
    "# Since this is a siamese network, both sides share the same LSTM\n",
    "shared_lstm = LSTM(n_hidden)\n",
    "\n",
    "left_output = shared_lstm(encoded_left)\n",
    "right_output = shared_lstm(encoded_right)\n",
    "\n",
    "# Calculates the distance as defined by the MaLSTM model\n",
    "malstm_distance = Lambda(function=lambda x: exponent_neg_manhattan_distance(x[0], x[1]),output_shape=lambda x: (x[0][0], 1))([left_output, right_output])\n",
    "\n",
    "# Pack it all up into a model\n",
    "malstm = Model([left_input, right_input], [malstm_distance])\n",
    "\n",
    "# Adadelta optimizer, with gradient clipping by norm\n",
    "optimizer = Adam(clipnorm=gradient_clipping_norm, lr=lr)\n",
    "\n",
    "malstm.compile(loss='binary_crossentropy', optimizer=optimizer, metrics=['accuracy'])"
   ]
  },
  {
   "cell_type": "code",
   "execution_count": 12,
   "metadata": {
    "colab": {
     "base_uri": "https://localhost:8080/"
    },
    "id": "s5wQtR1qPt5h",
    "outputId": "bc005148-4c27-4414-bfd4-405c3b0d0d41"
   },
   "outputs": [
    {
     "data": {
      "text/plain": [
       "{'name': 'Adam',\n",
       " 'clipnorm': 1.25,\n",
       " 'learning_rate': 0.001,\n",
       " 'decay': 0.0,\n",
       " 'beta_1': 0.9,\n",
       " 'beta_2': 0.999,\n",
       " 'epsilon': 1e-07,\n",
       " 'amsgrad': False}"
      ]
     },
     "execution_count": 12,
     "metadata": {},
     "output_type": "execute_result"
    }
   ],
   "source": [
    "malstm.optimizer.get_config()"
   ]
  },
  {
   "cell_type": "code",
   "execution_count": 18,
   "metadata": {
    "colab": {
     "base_uri": "https://localhost:8080/",
     "height": 433
    },
    "id": "nwo7aKhKHDs3",
    "outputId": "74e37936-90c8-4f5d-d44a-81eca3393a58",
    "scrolled": false
   },
   "outputs": [
    {
     "name": "stdout",
     "output_type": "stream",
     "text": [
      "Epoch 1/10\n",
      "5693/5693 [==============================] - 1467s 257ms/step - loss: 0.5037 - accuracy: 0.7609 - val_loss: 0.4692 - val_accuracy: 0.7781\n",
      "Epoch 2/10\n",
      "5693/5693 [==============================] - 1400s 246ms/step - loss: 0.4527 - accuracy: 0.7905 - val_loss: 0.4494 - val_accuracy: 0.7944\n",
      "Epoch 3/10\n",
      "5693/5693 [==============================] - 1399s 246ms/step - loss: 0.4337 - accuracy: 0.8009 - val_loss: 0.4400 - val_accuracy: 0.8033\n",
      "Epoch 4/10\n",
      "5693/5693 [==============================] - 1528s 268ms/step - loss: 0.4197 - accuracy: 0.8095 - val_loss: 0.4327 - val_accuracy: 0.8033\n",
      "Epoch 5/10\n",
      "5693/5693 [==============================] - 1406s 247ms/step - loss: 0.4099 - accuracy: 0.8149 - val_loss: 0.4253 - val_accuracy: 0.8080\n",
      "Epoch 6/10\n",
      "5693/5693 [==============================] - 1634s 287ms/step - loss: 0.4022 - accuracy: 0.8193 - val_loss: 0.4224 - val_accuracy: 0.8109\n",
      "Epoch 7/10\n",
      "5693/5693 [==============================] - 1682s 295ms/step - loss: 0.3957 - accuracy: 0.8229 - val_loss: 0.4199 - val_accuracy: 0.8130\n",
      "Epoch 8/10\n",
      "5693/5693 [==============================] - 1798s 316ms/step - loss: 0.3898 - accuracy: 0.8261 - val_loss: 0.4210 - val_accuracy: 0.8127\n",
      "Epoch 9/10\n",
      "5693/5693 [==============================] - 1504s 264ms/step - loss: 0.3848 - accuracy: 0.8287 - val_loss: 0.4163 - val_accuracy: 0.8168\n",
      "Epoch 10/10\n",
      "5693/5693 [==============================] - 1425s 250ms/step - loss: 0.3802 - accuracy: 0.8307 - val_loss: 0.4169 - val_accuracy: 0.8187\n",
      "Training time finished.\n",
      "10 epochs in 4:14:05.487637\n"
     ]
    }
   ],
   "source": [
    "# Start training\n",
    "training_start_time = time()\n",
    "\n",
    "malstm_trained = malstm.fit([X_train['left'], X_train['right']], Y_train, batch_size=batch_size, epochs=n_epoch,\n",
    "                            validation_data=([X_test['left'], X_test['right']], Y_test))\n",
    "\n",
    "print(\"Training time finished.\\n{} epochs in {}\".format(n_epoch, datetime.timedelta(seconds=time()-training_start_time)))"
   ]
  },
  {
   "cell_type": "markdown",
   "metadata": {},
   "source": [
    "### Save model and training history"
   ]
  },
  {
   "cell_type": "code",
   "execution_count": 19,
   "metadata": {},
   "outputs": [
    {
     "name": "stdout",
     "output_type": "stream",
     "text": [
      "{'loss': [0.5036944150924683, 0.4526798725128174, 0.43374085426330566, 0.4197349548339844, 0.40990710258483887, 0.40218585729599, 0.39567214250564575, 0.38984736800193787, 0.38479894399642944, 0.38023677468299866], 'accuracy': [0.7609267234802246, 0.7904608845710754, 0.8009278178215027, 0.8094704747200012, 0.8148919939994812, 0.8192813396453857, 0.8228938579559326, 0.8261357545852661, 0.8286502361297607, 0.8307117819786072], 'val_loss': [0.469163179397583, 0.44943949580192566, 0.4399891495704651, 0.43265634775161743, 0.4253295063972473, 0.4223763048648834, 0.4198516011238098, 0.42097899317741394, 0.4162590205669403, 0.4168676733970642], 'val_accuracy': [0.7781000137329102, 0.7943750023841858, 0.8032749891281128, 0.8032749891281128, 0.8080000281333923, 0.8108749985694885, 0.8129749894142151, 0.8127250075340271, 0.8167999982833862, 0.8187249898910522]}\n"
     ]
    }
   ],
   "source": [
    "print(malstm_trained.history)"
   ]
  },
  {
   "cell_type": "code",
   "execution_count": 20,
   "metadata": {},
   "outputs": [],
   "source": [
    "# convert the malstm_trained.history dict to a pandas DataFrame:     \n",
    "hist_df = pd.DataFrame(malstm_trained.history) \n",
    "hist_df.to_csv('./models/malstm-2.csv')\n",
    "\n",
    "malstm.save('./models/malstm-2.h5')"
   ]
  },
  {
   "cell_type": "code",
   "execution_count": 21,
   "metadata": {},
   "outputs": [
    {
     "data": {
      "text/html": [
       "<div>\n",
       "<style scoped>\n",
       "    .dataframe tbody tr th:only-of-type {\n",
       "        vertical-align: middle;\n",
       "    }\n",
       "\n",
       "    .dataframe tbody tr th {\n",
       "        vertical-align: top;\n",
       "    }\n",
       "\n",
       "    .dataframe thead th {\n",
       "        text-align: right;\n",
       "    }\n",
       "</style>\n",
       "<table border=\"1\" class=\"dataframe\">\n",
       "  <thead>\n",
       "    <tr style=\"text-align: right;\">\n",
       "      <th></th>\n",
       "      <th>loss</th>\n",
       "      <th>accuracy</th>\n",
       "      <th>val_loss</th>\n",
       "      <th>val_accuracy</th>\n",
       "    </tr>\n",
       "  </thead>\n",
       "  <tbody>\n",
       "    <tr>\n",
       "      <th>0</th>\n",
       "      <td>0.503694</td>\n",
       "      <td>0.760927</td>\n",
       "      <td>0.469163</td>\n",
       "      <td>0.778100</td>\n",
       "    </tr>\n",
       "    <tr>\n",
       "      <th>1</th>\n",
       "      <td>0.452680</td>\n",
       "      <td>0.790461</td>\n",
       "      <td>0.449439</td>\n",
       "      <td>0.794375</td>\n",
       "    </tr>\n",
       "    <tr>\n",
       "      <th>2</th>\n",
       "      <td>0.433741</td>\n",
       "      <td>0.800928</td>\n",
       "      <td>0.439989</td>\n",
       "      <td>0.803275</td>\n",
       "    </tr>\n",
       "    <tr>\n",
       "      <th>3</th>\n",
       "      <td>0.419735</td>\n",
       "      <td>0.809470</td>\n",
       "      <td>0.432656</td>\n",
       "      <td>0.803275</td>\n",
       "    </tr>\n",
       "    <tr>\n",
       "      <th>4</th>\n",
       "      <td>0.409907</td>\n",
       "      <td>0.814892</td>\n",
       "      <td>0.425330</td>\n",
       "      <td>0.808000</td>\n",
       "    </tr>\n",
       "    <tr>\n",
       "      <th>5</th>\n",
       "      <td>0.402186</td>\n",
       "      <td>0.819281</td>\n",
       "      <td>0.422376</td>\n",
       "      <td>0.810875</td>\n",
       "    </tr>\n",
       "    <tr>\n",
       "      <th>6</th>\n",
       "      <td>0.395672</td>\n",
       "      <td>0.822894</td>\n",
       "      <td>0.419852</td>\n",
       "      <td>0.812975</td>\n",
       "    </tr>\n",
       "    <tr>\n",
       "      <th>7</th>\n",
       "      <td>0.389847</td>\n",
       "      <td>0.826136</td>\n",
       "      <td>0.420979</td>\n",
       "      <td>0.812725</td>\n",
       "    </tr>\n",
       "    <tr>\n",
       "      <th>8</th>\n",
       "      <td>0.384799</td>\n",
       "      <td>0.828650</td>\n",
       "      <td>0.416259</td>\n",
       "      <td>0.816800</td>\n",
       "    </tr>\n",
       "    <tr>\n",
       "      <th>9</th>\n",
       "      <td>0.380237</td>\n",
       "      <td>0.830712</td>\n",
       "      <td>0.416868</td>\n",
       "      <td>0.818725</td>\n",
       "    </tr>\n",
       "  </tbody>\n",
       "</table>\n",
       "</div>"
      ],
      "text/plain": [
       "       loss  accuracy  val_loss  val_accuracy\n",
       "0  0.503694  0.760927  0.469163      0.778100\n",
       "1  0.452680  0.790461  0.449439      0.794375\n",
       "2  0.433741  0.800928  0.439989      0.803275\n",
       "3  0.419735  0.809470  0.432656      0.803275\n",
       "4  0.409907  0.814892  0.425330      0.808000\n",
       "5  0.402186  0.819281  0.422376      0.810875\n",
       "6  0.395672  0.822894  0.419852      0.812975\n",
       "7  0.389847  0.826136  0.420979      0.812725\n",
       "8  0.384799  0.828650  0.416259      0.816800\n",
       "9  0.380237  0.830712  0.416868      0.818725"
      ]
     },
     "execution_count": 21,
     "metadata": {},
     "output_type": "execute_result"
    }
   ],
   "source": [
    "hist_df"
   ]
  },
  {
   "cell_type": "code",
   "execution_count": 1,
   "metadata": {
    "id": "fG8Q5Er9HIlN"
   },
   "outputs": [
    {
     "ename": "NameError",
     "evalue": "name 'plt' is not defined",
     "output_type": "error",
     "traceback": [
      "\u001b[1;31m---------------------------------------------------------------------------\u001b[0m",
      "\u001b[1;31mNameError\u001b[0m                                 Traceback (most recent call last)",
      "\u001b[1;32m<ipython-input-1-a9e820329111>\u001b[0m in \u001b[0;36m<module>\u001b[1;34m\u001b[0m\n\u001b[0;32m      1\u001b[0m \u001b[1;31m# Plot accuracy\u001b[0m\u001b[1;33m\u001b[0m\u001b[1;33m\u001b[0m\u001b[1;33m\u001b[0m\u001b[0m\n\u001b[1;32m----> 2\u001b[1;33m \u001b[0mplt\u001b[0m\u001b[1;33m.\u001b[0m\u001b[0mplot\u001b[0m\u001b[1;33m(\u001b[0m\u001b[0mhist_df\u001b[0m\u001b[1;33m[\u001b[0m\u001b[1;34m'accuracy'\u001b[0m\u001b[1;33m]\u001b[0m\u001b[1;33m)\u001b[0m\u001b[1;33m\u001b[0m\u001b[1;33m\u001b[0m\u001b[0m\n\u001b[0m\u001b[0;32m      3\u001b[0m \u001b[0mplt\u001b[0m\u001b[1;33m.\u001b[0m\u001b[0mplot\u001b[0m\u001b[1;33m(\u001b[0m\u001b[0mhist_df\u001b[0m\u001b[1;33m[\u001b[0m\u001b[1;34m'val_accuracy'\u001b[0m\u001b[1;33m]\u001b[0m\u001b[1;33m)\u001b[0m\u001b[1;33m\u001b[0m\u001b[1;33m\u001b[0m\u001b[0m\n\u001b[0;32m      4\u001b[0m \u001b[0mplt\u001b[0m\u001b[1;33m.\u001b[0m\u001b[0mtitle\u001b[0m\u001b[1;33m(\u001b[0m\u001b[1;34m'Model Accuracy'\u001b[0m\u001b[1;33m)\u001b[0m\u001b[1;33m\u001b[0m\u001b[1;33m\u001b[0m\u001b[0m\n\u001b[0;32m      5\u001b[0m \u001b[0mplt\u001b[0m\u001b[1;33m.\u001b[0m\u001b[0mylabel\u001b[0m\u001b[1;33m(\u001b[0m\u001b[1;34m'Accuracy'\u001b[0m\u001b[1;33m)\u001b[0m\u001b[1;33m\u001b[0m\u001b[1;33m\u001b[0m\u001b[0m\n",
      "\u001b[1;31mNameError\u001b[0m: name 'plt' is not defined"
     ]
    }
   ],
   "source": [
    "# Plot accuracy\n",
    "plt.plot(hist_df['accuracy'])\n",
    "plt.plot(hist_df['val_accuracy'])\n",
    "plt.title('Model Accuracy')\n",
    "plt.ylabel('Accuracy')\n",
    "plt.xlabel('Epoch')\n",
    "plt.legend(['Train', 'Test'], loc='upper left')\n",
    "plt.show()\n",
    "\n",
    "# Plot loss\n",
    "plt.plot(hist_df['loss'])\n",
    "plt.plot(hist_df['val_loss'])\n",
    "plt.title('Model Loss')\n",
    "plt.ylabel('Loss')\n",
    "plt.xlabel('Epoch')\n",
    "plt.legend(['Train', 'Test'], loc='upper right')\n",
    "plt.show()"
   ]
  },
  {
   "cell_type": "markdown",
   "metadata": {},
   "source": [
    "### Load model"
   ]
  },
  {
   "cell_type": "code",
   "execution_count": 13,
   "metadata": {},
   "outputs": [],
   "source": [
    "from keras.models import load_model\n",
    "model1 = load_model('./models/malstm-2.h5')\n",
    "model1.compile(loss='binary_crossentropy', optimizer=optimizer, metrics=['accuracy'])"
   ]
  },
  {
   "cell_type": "markdown",
   "metadata": {},
   "source": [
    "### Model Testing"
   ]
  },
  {
   "cell_type": "code",
   "execution_count": 17,
   "metadata": {
    "scrolled": true
   },
   "outputs": [],
   "source": [
    "y_pred = model1.predict([X_test['left'], X_test['right']])"
   ]
  },
  {
   "cell_type": "code",
   "execution_count": 18,
   "metadata": {},
   "outputs": [
    {
     "name": "stdout",
     "output_type": "stream",
     "text": [
      "1250/1250 [==============================] - 88s 70ms/step - loss: 0.3751 - accuracy: 0.8348\n"
     ]
    }
   ],
   "source": [
    "test_loss, test_acc = model1.evaluate([X_test['left'], X_test['right']], Y_test)\n",
    "\n",
    "# print(\"Test loss = {:.3f} and Test Accuracy = {:.3f}\".format(test_loss, test_acc))"
   ]
  },
  {
   "cell_type": "code",
   "execution_count": 22,
   "metadata": {},
   "outputs": [
    {
     "data": {
      "text/plain": [
       "array([0, 0, 0, ..., 0, 0, 0])"
      ]
     },
     "execution_count": 22,
     "metadata": {},
     "output_type": "execute_result"
    }
   ],
   "source": [
    "y_labels = np.array([1 if l > 0.5 else 0 for l in y_pred])\n",
    "y_labels"
   ]
  },
  {
   "cell_type": "code",
   "execution_count": 30,
   "metadata": {},
   "outputs": [
    {
     "name": "stdout",
     "output_type": "stream",
     "text": [
      "[[22914  2238]\n",
      " [ 4370 10478]]\n"
     ]
    },
    {
     "data": {
      "text/plain": [
       "<sklearn.metrics._plot.confusion_matrix.ConfusionMatrixDisplay at 0x218de4ee0a0>"
      ]
     },
     "execution_count": 30,
     "metadata": {},
     "output_type": "execute_result"
    },
    {
     "data": {
      "image/png": "[encoded data removed]",
      "text/plain": [
       "<Figure size 432x288 with 2 Axes>"
      ]
     },
     "metadata": {
      "needs_background": "light"
     },
     "output_type": "display_data"
    }
   ],
   "source": [
    "from sklearn.metrics import confusion_matrix, ConfusionMatrixDisplay\n",
    "\n",
    "cm = confusion_matrix(Y_test, y_labels)\n",
    "print(cm)\n",
    "\n",
    "cmd_obj = ConfusionMatrixDisplay(cm)\n",
    "cmd_obj.plot()"
   ]
  },
  {
   "cell_type": "markdown",
   "metadata": {},
   "source": [
    "### Model Testing (Unlabelled Data)"
   ]
  },
  {
   "cell_type": "code",
   "execution_count": 64,
   "metadata": {},
   "outputs": [],
   "source": [
    "n = 100000\n",
    "X1 = test_df[questions_cols][:n]\n",
    "\n",
    "# Split to dicts\n",
    "X_test1 = {'left': X1.question1, 'right': X1.question2}\n",
    "\n",
    "# Zero padding\n",
    "for dataset, side in itertools.product([X_test1], ['left', 'right']):\n",
    "    dataset[side] = pad_sequences(dataset[side], maxlen=max_seq_length)\n",
    "\n",
    "# Make sure everything is ok\n",
    "assert X_test1['left'].shape == X_test1['right'].shape"
   ]
  },
  {
   "cell_type": "code",
   "execution_count": 65,
   "metadata": {},
   "outputs": [],
   "source": [
    "y_pred1 = malstm.predict([X_test1['left'], X_test1['right']])"
   ]
  },
  {
   "cell_type": "code",
   "execution_count": 67,
   "metadata": {},
   "outputs": [],
   "source": [
    "df1 = pd.read_csv(test_path, nrows=n)\n",
    "df1 = df1.merge(pd.Series(y_pred1.reshape(n, ), name='y_pred'), left_index=True, right_index=True)\n",
    "df1['label'] = [1 if l > 0.5 else 0 for l in df.y_pred]\n",
    "\n",
    "# df1.to_csv('pred_output.csv', index=False)"
   ]
  }
 ],
 "metadata": {
  "accelerator": "GPU",
  "colab": {
   "name": "QuestionPairs-MaLSTM.ipynb",
   "provenance": []
  },
  "kernelspec": {
   "display_name": "Python 3",
   "language": "python",
   "name": "python3"
  },
  "language_info": {
   "codemirror_mode": {
    "name": "ipython",
    "version": 3
   },
   "file_extension": ".py",
   "mimetype": "text/x-python",
   "name": "python",
   "nbconvert_exporter": "python",
   "pygments_lexer": "ipython3",
   "version": "3.8.5"
  }
 },
 "nbformat": 4,
 "nbformat_minor": 1
}
