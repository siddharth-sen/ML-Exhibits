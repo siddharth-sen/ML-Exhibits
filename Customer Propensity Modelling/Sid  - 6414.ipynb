{
 "cells": [
  {
   "cell_type": "code",
   "execution_count": 2,
   "metadata": {},
   "outputs": [],
   "source": [
    "import pandas as pd\n",
    "import numpy as np\n",
    "import sklearn\n",
    "\n",
    "import seaborn as sns\n",
    "import matplotlib.pyplot as plt\n",
    "\n",
    "from collections import defaultdict"
   ]
  },
  {
   "cell_type": "code",
   "execution_count": 3,
   "metadata": {},
   "outputs": [],
   "source": [
    "path = r\"C:\\Users\\siddh\\Desktop\\MSA\\Acads\\ISyE 6414\\Project\"\n",
    "df = pd.read_csv(path+r\"\\training_sample.csv\")\n",
    "df_test = pd.read_csv(path+r\"\\testing_sample.csv\")"
   ]
  },
  {
   "cell_type": "code",
   "execution_count": 4,
   "metadata": {},
   "outputs": [
    {
     "data": {
      "text/html": [
       "<div>\n",
       "<style scoped>\n",
       "    .dataframe tbody tr th:only-of-type {\n",
       "        vertical-align: middle;\n",
       "    }\n",
       "\n",
       "    .dataframe tbody tr th {\n",
       "        vertical-align: top;\n",
       "    }\n",
       "\n",
       "    .dataframe thead th {\n",
       "        text-align: right;\n",
       "    }\n",
       "</style>\n",
       "<table border=\"1\" class=\"dataframe\">\n",
       "  <thead>\n",
       "    <tr style=\"text-align: right;\">\n",
       "      <th></th>\n",
       "      <th>basket_icon_click</th>\n",
       "      <th>basket_add_list</th>\n",
       "      <th>basket_add_detail</th>\n",
       "      <th>sort_by</th>\n",
       "      <th>image_picker</th>\n",
       "      <th>account_page_click</th>\n",
       "      <th>promo_banner_click</th>\n",
       "      <th>detail_wishlist_add</th>\n",
       "      <th>list_size_dropdown</th>\n",
       "      <th>closed_minibasket_click</th>\n",
       "      <th>...</th>\n",
       "      <th>saw_sizecharts</th>\n",
       "      <th>saw_delivery</th>\n",
       "      <th>saw_account_upgrade</th>\n",
       "      <th>saw_homepage</th>\n",
       "      <th>device_mobile</th>\n",
       "      <th>device_computer</th>\n",
       "      <th>device_tablet</th>\n",
       "      <th>returning_user</th>\n",
       "      <th>loc_uk</th>\n",
       "      <th>ordered</th>\n",
       "    </tr>\n",
       "  </thead>\n",
       "  <tbody>\n",
       "    <tr>\n",
       "      <th>0</th>\n",
       "      <td>0</td>\n",
       "      <td>0</td>\n",
       "      <td>0</td>\n",
       "      <td>0</td>\n",
       "      <td>0</td>\n",
       "      <td>0</td>\n",
       "      <td>0</td>\n",
       "      <td>0</td>\n",
       "      <td>0</td>\n",
       "      <td>0</td>\n",
       "      <td>...</td>\n",
       "      <td>0</td>\n",
       "      <td>0</td>\n",
       "      <td>0</td>\n",
       "      <td>0</td>\n",
       "      <td>1</td>\n",
       "      <td>0</td>\n",
       "      <td>0</td>\n",
       "      <td>0</td>\n",
       "      <td>1</td>\n",
       "      <td>0</td>\n",
       "    </tr>\n",
       "    <tr>\n",
       "      <th>1</th>\n",
       "      <td>0</td>\n",
       "      <td>0</td>\n",
       "      <td>0</td>\n",
       "      <td>0</td>\n",
       "      <td>0</td>\n",
       "      <td>0</td>\n",
       "      <td>0</td>\n",
       "      <td>0</td>\n",
       "      <td>0</td>\n",
       "      <td>0</td>\n",
       "      <td>...</td>\n",
       "      <td>0</td>\n",
       "      <td>0</td>\n",
       "      <td>0</td>\n",
       "      <td>0</td>\n",
       "      <td>1</td>\n",
       "      <td>0</td>\n",
       "      <td>0</td>\n",
       "      <td>0</td>\n",
       "      <td>1</td>\n",
       "      <td>0</td>\n",
       "    </tr>\n",
       "    <tr>\n",
       "      <th>2</th>\n",
       "      <td>0</td>\n",
       "      <td>0</td>\n",
       "      <td>0</td>\n",
       "      <td>0</td>\n",
       "      <td>0</td>\n",
       "      <td>0</td>\n",
       "      <td>0</td>\n",
       "      <td>0</td>\n",
       "      <td>0</td>\n",
       "      <td>0</td>\n",
       "      <td>...</td>\n",
       "      <td>0</td>\n",
       "      <td>0</td>\n",
       "      <td>0</td>\n",
       "      <td>0</td>\n",
       "      <td>1</td>\n",
       "      <td>0</td>\n",
       "      <td>0</td>\n",
       "      <td>1</td>\n",
       "      <td>1</td>\n",
       "      <td>0</td>\n",
       "    </tr>\n",
       "    <tr>\n",
       "      <th>3</th>\n",
       "      <td>0</td>\n",
       "      <td>0</td>\n",
       "      <td>0</td>\n",
       "      <td>0</td>\n",
       "      <td>0</td>\n",
       "      <td>0</td>\n",
       "      <td>0</td>\n",
       "      <td>0</td>\n",
       "      <td>0</td>\n",
       "      <td>0</td>\n",
       "      <td>...</td>\n",
       "      <td>0</td>\n",
       "      <td>0</td>\n",
       "      <td>0</td>\n",
       "      <td>0</td>\n",
       "      <td>1</td>\n",
       "      <td>0</td>\n",
       "      <td>0</td>\n",
       "      <td>1</td>\n",
       "      <td>1</td>\n",
       "      <td>0</td>\n",
       "    </tr>\n",
       "    <tr>\n",
       "      <th>4</th>\n",
       "      <td>0</td>\n",
       "      <td>1</td>\n",
       "      <td>0</td>\n",
       "      <td>1</td>\n",
       "      <td>0</td>\n",
       "      <td>0</td>\n",
       "      <td>0</td>\n",
       "      <td>0</td>\n",
       "      <td>1</td>\n",
       "      <td>0</td>\n",
       "      <td>...</td>\n",
       "      <td>0</td>\n",
       "      <td>0</td>\n",
       "      <td>0</td>\n",
       "      <td>1</td>\n",
       "      <td>0</td>\n",
       "      <td>0</td>\n",
       "      <td>1</td>\n",
       "      <td>0</td>\n",
       "      <td>1</td>\n",
       "      <td>1</td>\n",
       "    </tr>\n",
       "  </tbody>\n",
       "</table>\n",
       "<p>5 rows × 24 columns</p>\n",
       "</div>"
      ],
      "text/plain": [
       "   basket_icon_click  basket_add_list  basket_add_detail  sort_by  \\\n",
       "0                  0                0                  0        0   \n",
       "1                  0                0                  0        0   \n",
       "2                  0                0                  0        0   \n",
       "3                  0                0                  0        0   \n",
       "4                  0                1                  0        1   \n",
       "\n",
       "   image_picker  account_page_click  promo_banner_click  detail_wishlist_add  \\\n",
       "0             0                   0                   0                    0   \n",
       "1             0                   0                   0                    0   \n",
       "2             0                   0                   0                    0   \n",
       "3             0                   0                   0                    0   \n",
       "4             0                   0                   0                    0   \n",
       "\n",
       "   list_size_dropdown  closed_minibasket_click  ...  saw_sizecharts  \\\n",
       "0                   0                        0  ...               0   \n",
       "1                   0                        0  ...               0   \n",
       "2                   0                        0  ...               0   \n",
       "3                   0                        0  ...               0   \n",
       "4                   1                        0  ...               0   \n",
       "\n",
       "   saw_delivery  saw_account_upgrade  saw_homepage  device_mobile  \\\n",
       "0             0                    0             0              1   \n",
       "1             0                    0             0              1   \n",
       "2             0                    0             0              1   \n",
       "3             0                    0             0              1   \n",
       "4             0                    0             1              0   \n",
       "\n",
       "   device_computer  device_tablet  returning_user  loc_uk  ordered  \n",
       "0                0              0               0       1        0  \n",
       "1                0              0               0       1        0  \n",
       "2                0              0               1       1        0  \n",
       "3                0              0               1       1        0  \n",
       "4                0              1               0       1        1  \n",
       "\n",
       "[5 rows x 24 columns]"
      ]
     },
     "execution_count": 4,
     "metadata": {},
     "output_type": "execute_result"
    }
   ],
   "source": [
    "df = df.iloc[:, 1:]\n",
    "df.head()"
   ]
  },
  {
   "cell_type": "code",
   "execution_count": 5,
   "metadata": {},
   "outputs": [
    {
     "data": {
      "text/plain": [
       "1    19093\n",
       "Name: ordered, dtype: int64"
      ]
     },
     "execution_count": 5,
     "metadata": {},
     "output_type": "execute_result"
    }
   ],
   "source": [
    "X_0 = df.loc[df['ordered'] == 0]\n",
    "X_0['ordered'].value_counts()\n",
    "\n",
    "X_1 = df.loc[df['ordered'] == 1]\n",
    "X_1['ordered'].value_counts()"
   ]
  },
  {
   "cell_type": "code",
   "execution_count": 6,
   "metadata": {},
   "outputs": [
    {
     "data": {
      "text/plain": [
       "0    21815\n",
       "1    19093\n",
       "Name: ordered, dtype: int64"
      ]
     },
     "execution_count": 6,
     "metadata": {},
     "output_type": "execute_result"
    }
   ],
   "source": [
    "X_sample = X_0.sample(frac = 0.05 , random_state=None)\n",
    "X_new = X_1.append(X_sample , ignore_index=True)\n",
    "X_new['ordered'].value_counts()"
   ]
  },
  {
   "cell_type": "code",
   "execution_count": 7,
   "metadata": {},
   "outputs": [],
   "source": [
    "def create_test_data(df , selected_cols):\n",
    "    X_1 = df.loc[df['ordered'] == 1]\n",
    "    X_0 = df.loc[df['ordered'] == 0]\n",
    "   \n",
    "    # Select X1 test sample\n",
    "    #test_indices = np.random.choice(X_1.index, 5000, replace=False , seed = 123)\n",
    "    X_1_test_sample = X_1.sample(5000 , random_state = 123)\n",
    "    test_indices = X_1_test_sample.index\n",
    "    #X_1_test_sample = X_1.iloc[test_indices]\n",
    "    X_1_train_sample = X_1.drop(test_indices)\n",
    "   \n",
    "    # Select X0 train sample\n",
    "    #test_indices = np.random.choice(X_0.index, 7000, replace=False , seed = 123)\n",
    "    X_0_test_sample = X_0.sample(15000, random_state = 123)\n",
    "    test_indices = X_0_test_sample.index\n",
    "    #X_0_test_sample = X_0_new.iloc[test_indices]\n",
    "   \n",
    "    X_0_new = X_0.drop(test_indices)\n",
    "   \n",
    "    #train_indices = np.random.choice(X_0_new.index, 15000, replace=False)\n",
    "    X_0_train_sample = X_0.sample(45000)\n",
    "   \n",
    "    df_train = X_1_train_sample.append(X_0_train_sample , ignore_index=True)\n",
    "    df_test = X_1_test_sample.append(X_0_test_sample , ignore_index=True)\n",
    "   \n",
    "    X_train = df_train[selected_cols]\n",
    "    X_test = df_test[selected_cols]\n",
    "    y_train = df_train['ordered']\n",
    "    y_test = df_test['ordered']\n",
    "   \n",
    "    return X_train , X_test , y_train , y_test"
   ]
  },
  {
   "cell_type": "code",
   "execution_count": 8,
   "metadata": {},
   "outputs": [],
   "source": [
    "select_cols = ['basket_icon_click', 'basket_add_list', 'basket_add_detail', 'sort_by', 'image_picker', 'account_page_click',\n",
    "               'promo_banner_click', 'detail_wishlist_add', 'list_size_dropdown', 'closed_minibasket_click', \n",
    "               'checked_returns_detail', 'saw_sizecharts', 'saw_delivery', 'saw_account_upgrade', 'saw_homepage',  \n",
    "               'device_computer', 'device_tablet', 'returning_user']"
   ]
  },
  {
   "cell_type": "code",
   "execution_count": 9,
   "metadata": {},
   "outputs": [],
   "source": [
    "X_train , X_test , y_train , y_test = create_test_data(df, select_cols)"
   ]
  },
  {
   "cell_type": "code",
   "execution_count": 10,
   "metadata": {},
   "outputs": [
    {
     "name": "stdout",
     "output_type": "stream",
     "text": [
      "455401 24\n"
     ]
    }
   ],
   "source": [
    "N, D = df.shape\n",
    "print(N, D)\n",
    "\n",
    "X = X_new.loc[:, select_cols]\n",
    "y = X_new.iloc[:, -1]"
   ]
  },
  {
   "cell_type": "code",
   "execution_count": 11,
   "metadata": {},
   "outputs": [
    {
     "data": {
      "text/plain": [
       "0    21815\n",
       "1    19093\n",
       "Name: ordered, dtype: int64"
      ]
     },
     "execution_count": 11,
     "metadata": {},
     "output_type": "execute_result"
    }
   ],
   "source": [
    "y.value_counts()"
   ]
  },
  {
   "cell_type": "code",
   "execution_count": 12,
   "metadata": {},
   "outputs": [
    {
     "data": {
      "text/html": [
       "<div>\n",
       "<style scoped>\n",
       "    .dataframe tbody tr th:only-of-type {\n",
       "        vertical-align: middle;\n",
       "    }\n",
       "\n",
       "    .dataframe tbody tr th {\n",
       "        vertical-align: top;\n",
       "    }\n",
       "\n",
       "    .dataframe thead th {\n",
       "        text-align: right;\n",
       "    }\n",
       "</style>\n",
       "<table border=\"1\" class=\"dataframe\">\n",
       "  <thead>\n",
       "    <tr style=\"text-align: right;\">\n",
       "      <th></th>\n",
       "      <th>basket_icon_click</th>\n",
       "      <th>basket_add_list</th>\n",
       "      <th>basket_add_detail</th>\n",
       "      <th>sort_by</th>\n",
       "      <th>image_picker</th>\n",
       "      <th>account_page_click</th>\n",
       "      <th>promo_banner_click</th>\n",
       "      <th>detail_wishlist_add</th>\n",
       "      <th>list_size_dropdown</th>\n",
       "      <th>closed_minibasket_click</th>\n",
       "      <th>checked_returns_detail</th>\n",
       "      <th>saw_sizecharts</th>\n",
       "      <th>saw_delivery</th>\n",
       "      <th>saw_account_upgrade</th>\n",
       "      <th>saw_homepage</th>\n",
       "      <th>device_computer</th>\n",
       "      <th>device_tablet</th>\n",
       "      <th>returning_user</th>\n",
       "    </tr>\n",
       "  </thead>\n",
       "  <tbody>\n",
       "    <tr>\n",
       "      <th>count</th>\n",
       "      <td>40908.000000</td>\n",
       "      <td>40908.000000</td>\n",
       "      <td>40908.000000</td>\n",
       "      <td>40908.000000</td>\n",
       "      <td>40908.000000</td>\n",
       "      <td>40908.000000</td>\n",
       "      <td>40908.000000</td>\n",
       "      <td>40908.000000</td>\n",
       "      <td>40908.000000</td>\n",
       "      <td>40908.000000</td>\n",
       "      <td>40908.000000</td>\n",
       "      <td>40908.000000</td>\n",
       "      <td>40908.000000</td>\n",
       "      <td>40908.000000</td>\n",
       "      <td>40908.000000</td>\n",
       "      <td>40908.000000</td>\n",
       "      <td>40908.000000</td>\n",
       "      <td>40908.000000</td>\n",
       "    </tr>\n",
       "    <tr>\n",
       "      <th>mean</th>\n",
       "      <td>0.370783</td>\n",
       "      <td>0.234868</td>\n",
       "      <td>0.390217</td>\n",
       "      <td>0.058693</td>\n",
       "      <td>0.051384</td>\n",
       "      <td>0.010805</td>\n",
       "      <td>0.031143</td>\n",
       "      <td>0.006356</td>\n",
       "      <td>0.368314</td>\n",
       "      <td>0.055710</td>\n",
       "      <td>0.021609</td>\n",
       "      <td>0.000733</td>\n",
       "      <td>0.010414</td>\n",
       "      <td>0.002958</td>\n",
       "      <td>0.439938</td>\n",
       "      <td>0.237729</td>\n",
       "      <td>0.139141</td>\n",
       "      <td>0.597952</td>\n",
       "    </tr>\n",
       "    <tr>\n",
       "      <th>std</th>\n",
       "      <td>0.483020</td>\n",
       "      <td>0.423922</td>\n",
       "      <td>0.487805</td>\n",
       "      <td>0.235051</td>\n",
       "      <td>0.220782</td>\n",
       "      <td>0.103384</td>\n",
       "      <td>0.173706</td>\n",
       "      <td>0.079470</td>\n",
       "      <td>0.482353</td>\n",
       "      <td>0.229364</td>\n",
       "      <td>0.145406</td>\n",
       "      <td>0.027071</td>\n",
       "      <td>0.101516</td>\n",
       "      <td>0.054306</td>\n",
       "      <td>0.496386</td>\n",
       "      <td>0.425697</td>\n",
       "      <td>0.346098</td>\n",
       "      <td>0.490318</td>\n",
       "    </tr>\n",
       "    <tr>\n",
       "      <th>min</th>\n",
       "      <td>0.000000</td>\n",
       "      <td>0.000000</td>\n",
       "      <td>0.000000</td>\n",
       "      <td>0.000000</td>\n",
       "      <td>0.000000</td>\n",
       "      <td>0.000000</td>\n",
       "      <td>0.000000</td>\n",
       "      <td>0.000000</td>\n",
       "      <td>0.000000</td>\n",
       "      <td>0.000000</td>\n",
       "      <td>0.000000</td>\n",
       "      <td>0.000000</td>\n",
       "      <td>0.000000</td>\n",
       "      <td>0.000000</td>\n",
       "      <td>0.000000</td>\n",
       "      <td>0.000000</td>\n",
       "      <td>0.000000</td>\n",
       "      <td>0.000000</td>\n",
       "    </tr>\n",
       "    <tr>\n",
       "      <th>25%</th>\n",
       "      <td>0.000000</td>\n",
       "      <td>0.000000</td>\n",
       "      <td>0.000000</td>\n",
       "      <td>0.000000</td>\n",
       "      <td>0.000000</td>\n",
       "      <td>0.000000</td>\n",
       "      <td>0.000000</td>\n",
       "      <td>0.000000</td>\n",
       "      <td>0.000000</td>\n",
       "      <td>0.000000</td>\n",
       "      <td>0.000000</td>\n",
       "      <td>0.000000</td>\n",
       "      <td>0.000000</td>\n",
       "      <td>0.000000</td>\n",
       "      <td>0.000000</td>\n",
       "      <td>0.000000</td>\n",
       "      <td>0.000000</td>\n",
       "      <td>0.000000</td>\n",
       "    </tr>\n",
       "    <tr>\n",
       "      <th>50%</th>\n",
       "      <td>0.000000</td>\n",
       "      <td>0.000000</td>\n",
       "      <td>0.000000</td>\n",
       "      <td>0.000000</td>\n",
       "      <td>0.000000</td>\n",
       "      <td>0.000000</td>\n",
       "      <td>0.000000</td>\n",
       "      <td>0.000000</td>\n",
       "      <td>0.000000</td>\n",
       "      <td>0.000000</td>\n",
       "      <td>0.000000</td>\n",
       "      <td>0.000000</td>\n",
       "      <td>0.000000</td>\n",
       "      <td>0.000000</td>\n",
       "      <td>0.000000</td>\n",
       "      <td>0.000000</td>\n",
       "      <td>0.000000</td>\n",
       "      <td>1.000000</td>\n",
       "    </tr>\n",
       "    <tr>\n",
       "      <th>75%</th>\n",
       "      <td>1.000000</td>\n",
       "      <td>0.000000</td>\n",
       "      <td>1.000000</td>\n",
       "      <td>0.000000</td>\n",
       "      <td>0.000000</td>\n",
       "      <td>0.000000</td>\n",
       "      <td>0.000000</td>\n",
       "      <td>0.000000</td>\n",
       "      <td>1.000000</td>\n",
       "      <td>0.000000</td>\n",
       "      <td>0.000000</td>\n",
       "      <td>0.000000</td>\n",
       "      <td>0.000000</td>\n",
       "      <td>0.000000</td>\n",
       "      <td>1.000000</td>\n",
       "      <td>0.000000</td>\n",
       "      <td>0.000000</td>\n",
       "      <td>1.000000</td>\n",
       "    </tr>\n",
       "    <tr>\n",
       "      <th>max</th>\n",
       "      <td>1.000000</td>\n",
       "      <td>1.000000</td>\n",
       "      <td>1.000000</td>\n",
       "      <td>1.000000</td>\n",
       "      <td>1.000000</td>\n",
       "      <td>1.000000</td>\n",
       "      <td>1.000000</td>\n",
       "      <td>1.000000</td>\n",
       "      <td>1.000000</td>\n",
       "      <td>1.000000</td>\n",
       "      <td>1.000000</td>\n",
       "      <td>1.000000</td>\n",
       "      <td>1.000000</td>\n",
       "      <td>1.000000</td>\n",
       "      <td>1.000000</td>\n",
       "      <td>1.000000</td>\n",
       "      <td>1.000000</td>\n",
       "      <td>1.000000</td>\n",
       "    </tr>\n",
       "  </tbody>\n",
       "</table>\n",
       "</div>"
      ],
      "text/plain": [
       "       basket_icon_click  basket_add_list  basket_add_detail       sort_by  \\\n",
       "count       40908.000000     40908.000000       40908.000000  40908.000000   \n",
       "mean            0.370783         0.234868           0.390217      0.058693   \n",
       "std             0.483020         0.423922           0.487805      0.235051   \n",
       "min             0.000000         0.000000           0.000000      0.000000   \n",
       "25%             0.000000         0.000000           0.000000      0.000000   \n",
       "50%             0.000000         0.000000           0.000000      0.000000   \n",
       "75%             1.000000         0.000000           1.000000      0.000000   \n",
       "max             1.000000         1.000000           1.000000      1.000000   \n",
       "\n",
       "       image_picker  account_page_click  promo_banner_click  \\\n",
       "count  40908.000000        40908.000000        40908.000000   \n",
       "mean       0.051384            0.010805            0.031143   \n",
       "std        0.220782            0.103384            0.173706   \n",
       "min        0.000000            0.000000            0.000000   \n",
       "25%        0.000000            0.000000            0.000000   \n",
       "50%        0.000000            0.000000            0.000000   \n",
       "75%        0.000000            0.000000            0.000000   \n",
       "max        1.000000            1.000000            1.000000   \n",
       "\n",
       "       detail_wishlist_add  list_size_dropdown  closed_minibasket_click  \\\n",
       "count         40908.000000        40908.000000             40908.000000   \n",
       "mean              0.006356            0.368314                 0.055710   \n",
       "std               0.079470            0.482353                 0.229364   \n",
       "min               0.000000            0.000000                 0.000000   \n",
       "25%               0.000000            0.000000                 0.000000   \n",
       "50%               0.000000            0.000000                 0.000000   \n",
       "75%               0.000000            1.000000                 0.000000   \n",
       "max               1.000000            1.000000                 1.000000   \n",
       "\n",
       "       checked_returns_detail  saw_sizecharts  saw_delivery  \\\n",
       "count            40908.000000    40908.000000  40908.000000   \n",
       "mean                 0.021609        0.000733      0.010414   \n",
       "std                  0.145406        0.027071      0.101516   \n",
       "min                  0.000000        0.000000      0.000000   \n",
       "25%                  0.000000        0.000000      0.000000   \n",
       "50%                  0.000000        0.000000      0.000000   \n",
       "75%                  0.000000        0.000000      0.000000   \n",
       "max                  1.000000        1.000000      1.000000   \n",
       "\n",
       "       saw_account_upgrade  saw_homepage  device_computer  device_tablet  \\\n",
       "count         40908.000000  40908.000000     40908.000000   40908.000000   \n",
       "mean              0.002958      0.439938         0.237729       0.139141   \n",
       "std               0.054306      0.496386         0.425697       0.346098   \n",
       "min               0.000000      0.000000         0.000000       0.000000   \n",
       "25%               0.000000      0.000000         0.000000       0.000000   \n",
       "50%               0.000000      0.000000         0.000000       0.000000   \n",
       "75%               0.000000      1.000000         0.000000       0.000000   \n",
       "max               1.000000      1.000000         1.000000       1.000000   \n",
       "\n",
       "       returning_user  \n",
       "count    40908.000000  \n",
       "mean         0.597952  \n",
       "std          0.490318  \n",
       "min          0.000000  \n",
       "25%          0.000000  \n",
       "50%          1.000000  \n",
       "75%          1.000000  \n",
       "max          1.000000  "
      ]
     },
     "execution_count": 12,
     "metadata": {},
     "output_type": "execute_result"
    }
   ],
   "source": [
    "X.describe()"
   ]
  },
  {
   "cell_type": "code",
   "execution_count": 13,
   "metadata": {},
   "outputs": [
    {
     "data": {
      "text/plain": [
       "<AxesSubplot:>"
      ]
     },
     "execution_count": 13,
     "metadata": {},
     "output_type": "execute_result"
    },
    {
     "data": {
      "image/png": "[encoded data removed]",
      "text/plain": [
       "<Figure size 1080x720 with 2 Axes>"
      ]
     },
     "metadata": {
      "needs_background": "light"
     },
     "output_type": "display_data"
    }
   ],
   "source": [
    "fig, ax = plt.subplots(figsize=(15,10))\n",
    "sns.heatmap(X.corr(), ax=ax)"
   ]
  },
  {
   "cell_type": "code",
   "execution_count": 14,
   "metadata": {},
   "outputs": [],
   "source": [
    "# from sklearn.model_selection import train_test_split\n",
    "# X_train, X_test, y_train, y_test = train_test_split(X, y, test_size=0.3, random_state=123, stratify=y)"
   ]
  },
  {
   "cell_type": "code",
   "execution_count": 15,
   "metadata": {},
   "outputs": [
    {
     "name": "stdout",
     "output_type": "stream",
     "text": [
      "Index(['basket_icon_click', 'basket_add_list', 'basket_add_detail', 'sort_by',\n",
      "       'image_picker', 'account_page_click', 'promo_banner_click',\n",
      "       'detail_wishlist_add', 'list_size_dropdown', 'closed_minibasket_click',\n",
      "       'checked_returns_detail', 'saw_sizecharts', 'saw_delivery',\n",
      "       'saw_account_upgrade', 'saw_homepage', 'device_computer',\n",
      "       'device_tablet', 'returning_user'],\n",
      "      dtype='object')\n"
     ]
    },
    {
     "data": {
      "text/plain": [
       "array([0.03712766, 0.        , 0.08661087, 0.        , 0.        ,\n",
       "       0.        , 0.        , 0.        , 0.        , 0.        ,\n",
       "       0.        , 0.        , 0.        , 0.        , 0.        ,\n",
       "       0.        , 0.        , 0.        ])"
      ]
     },
     "execution_count": 15,
     "metadata": {},
     "output_type": "execute_result"
    }
   ],
   "source": [
    "from sklearn import linear_model\n",
    "clf = linear_model.Lasso(alpha=0.1).fit(X_train, y_train)\n",
    "\n",
    "print(X_train.columns)\n",
    "clf.coef_"
   ]
  },
  {
   "cell_type": "code",
   "execution_count": 16,
   "metadata": {},
   "outputs": [],
   "source": [
    "from sklearn.metrics import recall_score\n",
    "from sklearn.naive_bayes import GaussianNB\n",
    "from sklearn.metrics import precision_score, recall_score, accuracy_score, f1_score\n",
    "from sklearn.metrics import f1_score"
   ]
  },
  {
   "cell_type": "code",
   "execution_count": 17,
   "metadata": {},
   "outputs": [
    {
     "name": "stdout",
     "output_type": "stream",
     "text": [
      "============ Gaussian Naive Bayes ============\n",
      "Mean Accuracy Score: 0.8495649999999999, with std. deviation 0.0012087286709596932\n",
      "Mean Precision Score: 0.7989668241117525, with std. deviation 0.0016985341548880495\n",
      "Mean Recall Score: 0.8018700000000001, with std. deviation 0.001132396671764063\n"
     ]
    }
   ],
   "source": [
    "y_pred = []\n",
    "accuracy = []\n",
    "precision = []\n",
    "recall = []\n",
    "from sklearn.naive_bayes import GaussianNB\n",
    "\n",
    "for i in range(10):\n",
    "    X_train , X_test , y_train , y_test = create_test_data(df, select_cols)\n",
    "    \n",
    "    gnb = GaussianNB()\n",
    "    y_pred_i = gnb.fit(X_train, y_train).predict(X_test)\n",
    "    y_pred.append(y_pred_i)\n",
    "    \n",
    "    accuracy.append(accuracy_score(y_test, y_pred_i))\n",
    "    precision.append(precision_score(y_test, y_pred_i, average='macro'))\n",
    "    recall.append(recall_score(y_test, y_pred_i, average='macro'))\n",
    "\n",
    "print('============ Gaussian Naive Bayes ============')\n",
    "print('Mean Accuracy Score: {}, with std. deviation {}'.format(np.mean(accuracy), np.std(accuracy)))\n",
    "print('Mean Precision Score: {}, with std. deviation {}'.format(np.mean(precision), np.std(precision)))\n",
    "print('Mean Recall Score: {}, with std. deviation {}'.format(np.mean(recall), np.std(recall)))"
   ]
  },
  {
   "cell_type": "code",
   "execution_count": 106,
   "metadata": {
    "scrolled": true
   },
   "outputs": [],
   "source": [
    "# gnb = GaussianNB()\n",
    "# y_pred = gnb.fit(X_train, y_train).predict(X_test)\n",
    "\n",
    "# print(\"Recall = {}\".format(recall_score(y_test, y_pred, average='macro')))\n",
    "# print(\"Precision = {}\".format(precision_score(y_test, y_pred, average='macro')))\n",
    "# print(\"F1-Score = {}\".format(f1_score(y_test, y_pred, average='macro')))"
   ]
  },
  {
   "cell_type": "code",
   "execution_count": 133,
   "metadata": {},
   "outputs": [
    {
     "name": "stdout",
     "output_type": "stream",
     "text": [
      "============ Gaussian Naive Bayes ============\n",
      "Mean Accuracy Score: 0.884555, with std. deviation 0.0013497129324415533\n",
      "Mean Precision Score: 0.854619246409938, with std. deviation 0.0008596032690675826\n",
      "Mean Recall Score: 0.8287700000000001, with std. deviation 0.004419086129758306\n"
     ]
    }
   ],
   "source": [
    "y_pred = []\n",
    "accuracy = []\n",
    "precision = []\n",
    "recall = []\n",
    "from sklearn.linear_model import LogisticRegression\n",
    "\n",
    "for i in range(10):\n",
    "    X_train , X_test , y_train , y_test = create_test_data(df, select_cols)\n",
    "\n",
    "    clf = LogisticRegression().fit(X_train, y_train)\n",
    "    y_pred_i = clf.predict(X_test)\n",
    "    \n",
    "    y_pred.append(y_pred_i)\n",
    "    \n",
    "    accuracy.append(accuracy_score(y_test, y_pred_i))\n",
    "    precision.append(precision_score(y_test, y_pred_i, average='macro'))\n",
    "    recall.append(recall_score(y_test, y_pred_i, average='macro'))\n",
    "\n",
    "print('============ Gaussian Naive Bayes ============')\n",
    "print('Mean Accuracy Score: {}, with std. deviation {}'.format(np.mean(accuracy), np.std(accuracy)))\n",
    "print('Mean Precision Score: {}, with std. deviation {}'.format(np.mean(precision), np.std(precision)))\n",
    "print('Mean Recall Score: {}, with std. deviation {}'.format(np.mean(recall), np.std(recall)))"
   ]
  },
  {
   "cell_type": "code",
   "execution_count": 134,
   "metadata": {},
   "outputs": [
    {
     "name": "stdout",
     "output_type": "stream",
     "text": [
      "============ Gaussian Naive Bayes ============\n",
      "Mean Accuracy Score: 0.8990599999999999, with std. deviation 0.0008377947242612608\n",
      "Mean Precision Score: 0.8572204131119268, with std. deviation 0.0010989387311969709\n",
      "Mean Recall Score: 0.8913266666666667, with std. deviation 0.003306720429670453\n"
     ]
    }
   ],
   "source": [
    "y_pred = []\n",
    "accuracy = []\n",
    "precision = []\n",
    "recall = []\n",
    "from sklearn.ensemble import RandomForestClassifier\n",
    "\n",
    "for i in range(10):\n",
    "    X_train , X_test , y_train , y_test = create_test_data(df, select_cols)\n",
    "\n",
    "    clf = RandomForestClassifier(max_depth=15, random_state=0)\n",
    "    clf.fit(X_train, y_train)\n",
    "    y_pred_i = clf.predict(X_test)\n",
    "    \n",
    "    y_pred.append(y_pred_i)\n",
    "    accuracy.append(accuracy_score(y_test, y_pred_i))\n",
    "    precision.append(precision_score(y_test, y_pred_i, average='macro'))\n",
    "    recall.append(recall_score(y_test, y_pred_i, average='macro'))\n",
    "\n",
    "print('============ Gaussian Naive Bayes ============')\n",
    "print('Mean Accuracy Score: {}, with std. deviation {}'.format(np.mean(accuracy), np.std(accuracy)))\n",
    "print('Mean Precision Score: {}, with std. deviation {}'.format(np.mean(precision), np.std(precision)))\n",
    "print('Mean Recall Score: {}, with std. deviation {}'.format(np.mean(recall), np.std(recall)))"
   ]
  },
  {
   "cell_type": "code",
   "execution_count": 127,
   "metadata": {},
   "outputs": [
    {
     "data": {
      "image/png": "[encoded data removed]",
      "text/plain": [
       "<Figure size 504x360 with 1 Axes>"
      ]
     },
     "metadata": {
      "needs_background": "light"
     },
     "output_type": "display_data"
    }
   ],
   "source": [
    "feats = list(zip(X_train.columns, clf.feature_importances_))\n",
    "sorted_feats = sorted(feats, key=lambda x: x[1], reverse=True)\n",
    "sorted_feats\n",
    "\n",
    "x = list(zip(*sorted_feats))[0]\n",
    "y = list(zip(*sorted_feats))[1]\n",
    "\n",
    "\n",
    "fig = plt.figure(figsize=(7,5))\n",
    "ax = fig.add_axes([0,0,1,1])\n",
    "\n",
    "ax.bar(x, y)\n",
    "\n",
    "plt.xticks(rotation=90, ha='right')\n",
    "plt.title('Feature Importances')\n",
    "plt.show()"
   ]
  },
  {
   "cell_type": "code",
   "execution_count": 46,
   "metadata": {},
   "outputs": [
    {
     "name": "stdout",
     "output_type": "stream",
     "text": [
      "Recall = 0.912303546355058\n",
      "Precision = 0.9110513939993876\n",
      "F1-Score = 0.9092123345178478\n"
     ]
    }
   ],
   "source": [
    "from sklearn.svm import SVC\n",
    "clf = SVC(gamma='auto')\n",
    "clf.fit(X_train, y_train)\n",
    "\n",
    "y_pred = clf.predict(X_test)\n",
    "\n",
    "print(\"Recall = {}\".format(recall_score(y_test, y_pred, average='macro')))\n",
    "print(\"Precision = {}\".format(precision_score(y_test, y_pred, average='macro')))\n",
    "print(\"F1-Score = {}\".format(f1_score(y_test, y_pred, average='macro')))"
   ]
  },
  {
   "cell_type": "code",
   "execution_count": 19,
   "metadata": {},
   "outputs": [
    {
     "name": "stderr",
     "output_type": "stream",
     "text": [
      "C:\\Users\\siddh\\anaconda3\\lib\\site-packages\\xgboost\\sklearn.py:1224: UserWarning: The use of label encoder in XGBClassifier is deprecated and will be removed in a future release. To remove this warning, do the following: 1) Pass option use_label_encoder=False when constructing XGBClassifier object; and 2) Encode your labels (y) as integers starting with 0, i.e. 0, 1, 2, ..., [num_class - 1].\n",
      "  warnings.warn(label_encoder_deprecation_msg, UserWarning)\n"
     ]
    },
    {
     "name": "stdout",
     "output_type": "stream",
     "text": [
      "[12:31:53] WARNING: C:/Users/Administrator/workspace/xgboost-win64_release_1.5.0/src/learner.cc:1115: Starting in XGBoost 1.3.0, the default evaluation metric used with the objective 'binary:logistic' was changed from 'error' to 'logloss'. Explicitly set eval_metric if you'd like to restore the old behavior.\n"
     ]
    },
    {
     "name": "stderr",
     "output_type": "stream",
     "text": [
      "C:\\Users\\siddh\\anaconda3\\lib\\site-packages\\xgboost\\sklearn.py:1224: UserWarning: The use of label encoder in XGBClassifier is deprecated and will be removed in a future release. To remove this warning, do the following: 1) Pass option use_label_encoder=False when constructing XGBClassifier object; and 2) Encode your labels (y) as integers starting with 0, i.e. 0, 1, 2, ..., [num_class - 1].\n",
      "  warnings.warn(label_encoder_deprecation_msg, UserWarning)\n"
     ]
    },
    {
     "name": "stdout",
     "output_type": "stream",
     "text": [
      "[12:31:54] WARNING: C:/Users/Administrator/workspace/xgboost-win64_release_1.5.0/src/learner.cc:1115: Starting in XGBoost 1.3.0, the default evaluation metric used with the objective 'binary:logistic' was changed from 'error' to 'logloss'. Explicitly set eval_metric if you'd like to restore the old behavior.\n"
     ]
    },
    {
     "name": "stderr",
     "output_type": "stream",
     "text": [
      "C:\\Users\\siddh\\anaconda3\\lib\\site-packages\\xgboost\\sklearn.py:1224: UserWarning: The use of label encoder in XGBClassifier is deprecated and will be removed in a future release. To remove this warning, do the following: 1) Pass option use_label_encoder=False when constructing XGBClassifier object; and 2) Encode your labels (y) as integers starting with 0, i.e. 0, 1, 2, ..., [num_class - 1].\n",
      "  warnings.warn(label_encoder_deprecation_msg, UserWarning)\n"
     ]
    },
    {
     "name": "stdout",
     "output_type": "stream",
     "text": [
      "[12:31:55] WARNING: C:/Users/Administrator/workspace/xgboost-win64_release_1.5.0/src/learner.cc:1115: Starting in XGBoost 1.3.0, the default evaluation metric used with the objective 'binary:logistic' was changed from 'error' to 'logloss'. Explicitly set eval_metric if you'd like to restore the old behavior.\n"
     ]
    },
    {
     "name": "stderr",
     "output_type": "stream",
     "text": [
      "C:\\Users\\siddh\\anaconda3\\lib\\site-packages\\xgboost\\sklearn.py:1224: UserWarning: The use of label encoder in XGBClassifier is deprecated and will be removed in a future release. To remove this warning, do the following: 1) Pass option use_label_encoder=False when constructing XGBClassifier object; and 2) Encode your labels (y) as integers starting with 0, i.e. 0, 1, 2, ..., [num_class - 1].\n",
      "  warnings.warn(label_encoder_deprecation_msg, UserWarning)\n"
     ]
    },
    {
     "name": "stdout",
     "output_type": "stream",
     "text": [
      "[12:31:56] WARNING: C:/Users/Administrator/workspace/xgboost-win64_release_1.5.0/src/learner.cc:1115: Starting in XGBoost 1.3.0, the default evaluation metric used with the objective 'binary:logistic' was changed from 'error' to 'logloss'. Explicitly set eval_metric if you'd like to restore the old behavior.\n"
     ]
    },
    {
     "name": "stderr",
     "output_type": "stream",
     "text": [
      "C:\\Users\\siddh\\anaconda3\\lib\\site-packages\\xgboost\\sklearn.py:1224: UserWarning: The use of label encoder in XGBClassifier is deprecated and will be removed in a future release. To remove this warning, do the following: 1) Pass option use_label_encoder=False when constructing XGBClassifier object; and 2) Encode your labels (y) as integers starting with 0, i.e. 0, 1, 2, ..., [num_class - 1].\n",
      "  warnings.warn(label_encoder_deprecation_msg, UserWarning)\n"
     ]
    },
    {
     "name": "stdout",
     "output_type": "stream",
     "text": [
      "[12:31:57] WARNING: C:/Users/Administrator/workspace/xgboost-win64_release_1.5.0/src/learner.cc:1115: Starting in XGBoost 1.3.0, the default evaluation metric used with the objective 'binary:logistic' was changed from 'error' to 'logloss'. Explicitly set eval_metric if you'd like to restore the old behavior.\n"
     ]
    },
    {
     "name": "stderr",
     "output_type": "stream",
     "text": [
      "C:\\Users\\siddh\\anaconda3\\lib\\site-packages\\xgboost\\sklearn.py:1224: UserWarning: The use of label encoder in XGBClassifier is deprecated and will be removed in a future release. To remove this warning, do the following: 1) Pass option use_label_encoder=False when constructing XGBClassifier object; and 2) Encode your labels (y) as integers starting with 0, i.e. 0, 1, 2, ..., [num_class - 1].\n",
      "  warnings.warn(label_encoder_deprecation_msg, UserWarning)\n"
     ]
    },
    {
     "name": "stdout",
     "output_type": "stream",
     "text": [
      "[12:31:58] WARNING: C:/Users/Administrator/workspace/xgboost-win64_release_1.5.0/src/learner.cc:1115: Starting in XGBoost 1.3.0, the default evaluation metric used with the objective 'binary:logistic' was changed from 'error' to 'logloss'. Explicitly set eval_metric if you'd like to restore the old behavior.\n"
     ]
    },
    {
     "name": "stderr",
     "output_type": "stream",
     "text": [
      "C:\\Users\\siddh\\anaconda3\\lib\\site-packages\\xgboost\\sklearn.py:1224: UserWarning: The use of label encoder in XGBClassifier is deprecated and will be removed in a future release. To remove this warning, do the following: 1) Pass option use_label_encoder=False when constructing XGBClassifier object; and 2) Encode your labels (y) as integers starting with 0, i.e. 0, 1, 2, ..., [num_class - 1].\n",
      "  warnings.warn(label_encoder_deprecation_msg, UserWarning)\n"
     ]
    },
    {
     "name": "stdout",
     "output_type": "stream",
     "text": [
      "[12:32:01] WARNING: C:/Users/Administrator/workspace/xgboost-win64_release_1.5.0/src/learner.cc:1115: Starting in XGBoost 1.3.0, the default evaluation metric used with the objective 'binary:logistic' was changed from 'error' to 'logloss'. Explicitly set eval_metric if you'd like to restore the old behavior.\n"
     ]
    },
    {
     "name": "stderr",
     "output_type": "stream",
     "text": [
      "C:\\Users\\siddh\\anaconda3\\lib\\site-packages\\xgboost\\sklearn.py:1224: UserWarning: The use of label encoder in XGBClassifier is deprecated and will be removed in a future release. To remove this warning, do the following: 1) Pass option use_label_encoder=False when constructing XGBClassifier object; and 2) Encode your labels (y) as integers starting with 0, i.e. 0, 1, 2, ..., [num_class - 1].\n",
      "  warnings.warn(label_encoder_deprecation_msg, UserWarning)\n"
     ]
    },
    {
     "name": "stdout",
     "output_type": "stream",
     "text": [
      "[12:32:02] WARNING: C:/Users/Administrator/workspace/xgboost-win64_release_1.5.0/src/learner.cc:1115: Starting in XGBoost 1.3.0, the default evaluation metric used with the objective 'binary:logistic' was changed from 'error' to 'logloss'. Explicitly set eval_metric if you'd like to restore the old behavior.\n"
     ]
    },
    {
     "name": "stderr",
     "output_type": "stream",
     "text": [
      "C:\\Users\\siddh\\anaconda3\\lib\\site-packages\\xgboost\\sklearn.py:1224: UserWarning: The use of label encoder in XGBClassifier is deprecated and will be removed in a future release. To remove this warning, do the following: 1) Pass option use_label_encoder=False when constructing XGBClassifier object; and 2) Encode your labels (y) as integers starting with 0, i.e. 0, 1, 2, ..., [num_class - 1].\n",
      "  warnings.warn(label_encoder_deprecation_msg, UserWarning)\n"
     ]
    },
    {
     "name": "stdout",
     "output_type": "stream",
     "text": [
      "[12:32:04] WARNING: C:/Users/Administrator/workspace/xgboost-win64_release_1.5.0/src/learner.cc:1115: Starting in XGBoost 1.3.0, the default evaluation metric used with the objective 'binary:logistic' was changed from 'error' to 'logloss'. Explicitly set eval_metric if you'd like to restore the old behavior.\n"
     ]
    },
    {
     "name": "stderr",
     "output_type": "stream",
     "text": [
      "C:\\Users\\siddh\\anaconda3\\lib\\site-packages\\xgboost\\sklearn.py:1224: UserWarning: The use of label encoder in XGBClassifier is deprecated and will be removed in a future release. To remove this warning, do the following: 1) Pass option use_label_encoder=False when constructing XGBClassifier object; and 2) Encode your labels (y) as integers starting with 0, i.e. 0, 1, 2, ..., [num_class - 1].\n",
      "  warnings.warn(label_encoder_deprecation_msg, UserWarning)\n"
     ]
    },
    {
     "name": "stdout",
     "output_type": "stream",
     "text": [
      "[12:32:05] WARNING: C:/Users/Administrator/workspace/xgboost-win64_release_1.5.0/src/learner.cc:1115: Starting in XGBoost 1.3.0, the default evaluation metric used with the objective 'binary:logistic' was changed from 'error' to 'logloss'. Explicitly set eval_metric if you'd like to restore the old behavior.\n",
      "============ Gaussian Naive Bayes ============\n",
      "Mean Accuracy Score: 0.901605, with std. deviation 0.0004197916149710443\n",
      "Mean Precision Score: 0.8593751882953361, with std. deviation 0.0006024953242995125\n",
      "Mean Recall Score: 0.9001833333333332, with std. deviation 0.0034971496329947783\n"
     ]
    }
   ],
   "source": [
    "y_pred = []\n",
    "accuracy = []\n",
    "precision = []\n",
    "recall = []\n",
    "from xgboost import XGBClassifier\n",
    "\n",
    "for i in range(10):\n",
    "    X_train , X_test , y_train , y_test = create_test_data(df, select_cols)\n",
    "    clf = XGBClassifier(n_estimators=10)\n",
    "    clf.fit(X_train, y_train)\n",
    "\n",
    "    y_pred_i = clf.predict(X_test)\n",
    "    y_pred.append(y_pred_i)\n",
    "\n",
    "    accuracy.append(accuracy_score(y_test, y_pred_i))\n",
    "    precision.append(precision_score(y_test, y_pred_i, average='macro'))\n",
    "    recall.append(recall_score(y_test, y_pred_i, average='macro'))\n",
    "\n",
    "print('============ Gaussian Naive Bayes ============')\n",
    "print('Mean Accuracy Score: {}, with std. deviation {}'.format(np.mean(accuracy), np.std(accuracy)))\n",
    "print('Mean Precision Score: {}, with std. deviation {}'.format(np.mean(precision), np.std(precision)))\n",
    "print('Mean Recall Score: {}, with std. deviation {}'.format(np.mean(recall), np.std(recall)))"
   ]
  },
  {
   "cell_type": "code",
   "execution_count": 20,
   "metadata": {
    "scrolled": false
   },
   "outputs": [
    {
     "data": {
      "text/plain": [
       "0        0.693052\n",
       "1        0.660656\n",
       "2        0.605978\n",
       "3        0.484168\n",
       "4        0.605978\n",
       "           ...   \n",
       "19995    0.057693\n",
       "19996    0.025143\n",
       "19997    0.023657\n",
       "19998    0.023657\n",
       "19999    0.025143\n",
       "Length: 20000, dtype: float32"
      ]
     },
     "execution_count": 20,
     "metadata": {},
     "output_type": "execute_result"
    }
   ],
   "source": [
    "probs = np.array(clf.predict_proba(X_test))[:, 1]\n",
    "probs = pd.Series(probs)\n",
    "probs"
   ]
  },
  {
   "cell_type": "code",
   "execution_count": 76,
   "metadata": {},
   "outputs": [
    {
     "data": {
      "text/html": [
       "<div>\n",
       "<style scoped>\n",
       "    .dataframe tbody tr th:only-of-type {\n",
       "        vertical-align: middle;\n",
       "    }\n",
       "\n",
       "    .dataframe tbody tr th {\n",
       "        vertical-align: top;\n",
       "    }\n",
       "\n",
       "    .dataframe thead th {\n",
       "        text-align: right;\n",
       "    }\n",
       "</style>\n",
       "<table border=\"1\" class=\"dataframe\">\n",
       "  <thead>\n",
       "    <tr style=\"text-align: right;\">\n",
       "      <th></th>\n",
       "      <th>prob</th>\n",
       "      <th>label</th>\n",
       "    </tr>\n",
       "  </thead>\n",
       "  <tbody>\n",
       "    <tr>\n",
       "      <th>0</th>\n",
       "      <td>0.693052</td>\n",
       "      <td>High</td>\n",
       "    </tr>\n",
       "    <tr>\n",
       "      <th>1</th>\n",
       "      <td>0.660656</td>\n",
       "      <td>High</td>\n",
       "    </tr>\n",
       "    <tr>\n",
       "      <th>2</th>\n",
       "      <td>0.605978</td>\n",
       "      <td>High</td>\n",
       "    </tr>\n",
       "    <tr>\n",
       "      <th>3</th>\n",
       "      <td>0.484168</td>\n",
       "      <td>Low</td>\n",
       "    </tr>\n",
       "    <tr>\n",
       "      <th>4</th>\n",
       "      <td>0.605978</td>\n",
       "      <td>High</td>\n",
       "    </tr>\n",
       "    <tr>\n",
       "      <th>...</th>\n",
       "      <td>...</td>\n",
       "      <td>...</td>\n",
       "    </tr>\n",
       "    <tr>\n",
       "      <th>495</th>\n",
       "      <td>0.746653</td>\n",
       "      <td>High</td>\n",
       "    </tr>\n",
       "    <tr>\n",
       "      <th>496</th>\n",
       "      <td>0.886686</td>\n",
       "      <td>High</td>\n",
       "    </tr>\n",
       "    <tr>\n",
       "      <th>497</th>\n",
       "      <td>0.055388</td>\n",
       "      <td>Low</td>\n",
       "    </tr>\n",
       "    <tr>\n",
       "      <th>498</th>\n",
       "      <td>0.843988</td>\n",
       "      <td>High</td>\n",
       "    </tr>\n",
       "    <tr>\n",
       "      <th>499</th>\n",
       "      <td>0.838148</td>\n",
       "      <td>High</td>\n",
       "    </tr>\n",
       "  </tbody>\n",
       "</table>\n",
       "<p>500 rows × 2 columns</p>\n",
       "</div>"
      ],
      "text/plain": [
       "         prob label\n",
       "0    0.693052  High\n",
       "1    0.660656  High\n",
       "2    0.605978  High\n",
       "3    0.484168   Low\n",
       "4    0.605978  High\n",
       "..        ...   ...\n",
       "495  0.746653  High\n",
       "496  0.886686  High\n",
       "497  0.055388   Low\n",
       "498  0.843988  High\n",
       "499  0.838148  High\n",
       "\n",
       "[500 rows x 2 columns]"
      ]
     },
     "execution_count": 76,
     "metadata": {},
     "output_type": "execute_result"
    }
   ],
   "source": [
    "result = pd.DataFrame(probs, columns=['prob'])\n",
    "# result['label'] = ['High' if prob > 0.75 else 'Medium' if (prob > 0.5 and prob <= 0.75) else 'Low' for prob in probs]\n",
    "result['label'] = ['High' if prob > 0.5 else 'Low' for prob in probs]\n",
    "result.head(500)"
   ]
  },
  {
   "cell_type": "code",
   "execution_count": 87,
   "metadata": {},
   "outputs": [
    {
     "data": {
      "text/html": [
       "<div>\n",
       "<style scoped>\n",
       "    .dataframe tbody tr th:only-of-type {\n",
       "        vertical-align: middle;\n",
       "    }\n",
       "\n",
       "    .dataframe tbody tr th {\n",
       "        vertical-align: top;\n",
       "    }\n",
       "\n",
       "    .dataframe thead th {\n",
       "        text-align: right;\n",
       "    }\n",
       "</style>\n",
       "<table border=\"1\" class=\"dataframe\">\n",
       "  <thead>\n",
       "    <tr style=\"text-align: right;\">\n",
       "      <th></th>\n",
       "      <th>basket_icon_click</th>\n",
       "      <th>basket_add_list</th>\n",
       "      <th>basket_add_detail</th>\n",
       "      <th>sort_by</th>\n",
       "      <th>image_picker</th>\n",
       "      <th>account_page_click</th>\n",
       "      <th>promo_banner_click</th>\n",
       "      <th>detail_wishlist_add</th>\n",
       "      <th>list_size_dropdown</th>\n",
       "      <th>closed_minibasket_click</th>\n",
       "      <th>checked_returns_detail</th>\n",
       "      <th>saw_sizecharts</th>\n",
       "      <th>saw_delivery</th>\n",
       "      <th>saw_account_upgrade</th>\n",
       "      <th>saw_homepage</th>\n",
       "      <th>device_computer</th>\n",
       "      <th>device_tablet</th>\n",
       "      <th>returning_user</th>\n",
       "      <th>prob</th>\n",
       "      <th>label</th>\n",
       "    </tr>\n",
       "  </thead>\n",
       "  <tbody>\n",
       "    <tr>\n",
       "      <th>0</th>\n",
       "      <td>0</td>\n",
       "      <td>0</td>\n",
       "      <td>1</td>\n",
       "      <td>0</td>\n",
       "      <td>1</td>\n",
       "      <td>0</td>\n",
       "      <td>0</td>\n",
       "      <td>0</td>\n",
       "      <td>1</td>\n",
       "      <td>0</td>\n",
       "      <td>0</td>\n",
       "      <td>0</td>\n",
       "      <td>0</td>\n",
       "      <td>0</td>\n",
       "      <td>1</td>\n",
       "      <td>1</td>\n",
       "      <td>0</td>\n",
       "      <td>1</td>\n",
       "      <td>0.693052</td>\n",
       "      <td>High</td>\n",
       "    </tr>\n",
       "    <tr>\n",
       "      <th>1</th>\n",
       "      <td>1</td>\n",
       "      <td>0</td>\n",
       "      <td>0</td>\n",
       "      <td>0</td>\n",
       "      <td>0</td>\n",
       "      <td>0</td>\n",
       "      <td>0</td>\n",
       "      <td>0</td>\n",
       "      <td>0</td>\n",
       "      <td>0</td>\n",
       "      <td>0</td>\n",
       "      <td>0</td>\n",
       "      <td>0</td>\n",
       "      <td>0</td>\n",
       "      <td>1</td>\n",
       "      <td>1</td>\n",
       "      <td>0</td>\n",
       "      <td>1</td>\n",
       "      <td>0.660656</td>\n",
       "      <td>High</td>\n",
       "    </tr>\n",
       "    <tr>\n",
       "      <th>2</th>\n",
       "      <td>1</td>\n",
       "      <td>0</td>\n",
       "      <td>0</td>\n",
       "      <td>0</td>\n",
       "      <td>0</td>\n",
       "      <td>0</td>\n",
       "      <td>0</td>\n",
       "      <td>0</td>\n",
       "      <td>0</td>\n",
       "      <td>0</td>\n",
       "      <td>0</td>\n",
       "      <td>0</td>\n",
       "      <td>0</td>\n",
       "      <td>0</td>\n",
       "      <td>1</td>\n",
       "      <td>0</td>\n",
       "      <td>0</td>\n",
       "      <td>1</td>\n",
       "      <td>0.605978</td>\n",
       "      <td>High</td>\n",
       "    </tr>\n",
       "    <tr>\n",
       "      <th>3</th>\n",
       "      <td>0</td>\n",
       "      <td>1</td>\n",
       "      <td>0</td>\n",
       "      <td>0</td>\n",
       "      <td>0</td>\n",
       "      <td>0</td>\n",
       "      <td>0</td>\n",
       "      <td>0</td>\n",
       "      <td>1</td>\n",
       "      <td>0</td>\n",
       "      <td>0</td>\n",
       "      <td>0</td>\n",
       "      <td>0</td>\n",
       "      <td>0</td>\n",
       "      <td>1</td>\n",
       "      <td>0</td>\n",
       "      <td>1</td>\n",
       "      <td>1</td>\n",
       "      <td>0.484168</td>\n",
       "      <td>Low</td>\n",
       "    </tr>\n",
       "    <tr>\n",
       "      <th>4</th>\n",
       "      <td>1</td>\n",
       "      <td>0</td>\n",
       "      <td>0</td>\n",
       "      <td>0</td>\n",
       "      <td>0</td>\n",
       "      <td>0</td>\n",
       "      <td>0</td>\n",
       "      <td>0</td>\n",
       "      <td>0</td>\n",
       "      <td>0</td>\n",
       "      <td>0</td>\n",
       "      <td>0</td>\n",
       "      <td>0</td>\n",
       "      <td>0</td>\n",
       "      <td>1</td>\n",
       "      <td>0</td>\n",
       "      <td>0</td>\n",
       "      <td>1</td>\n",
       "      <td>0.605978</td>\n",
       "      <td>High</td>\n",
       "    </tr>\n",
       "  </tbody>\n",
       "</table>\n",
       "</div>"
      ],
      "text/plain": [
       "   basket_icon_click  basket_add_list  basket_add_detail  sort_by  \\\n",
       "0                  0                0                  1        0   \n",
       "1                  1                0                  0        0   \n",
       "2                  1                0                  0        0   \n",
       "3                  0                1                  0        0   \n",
       "4                  1                0                  0        0   \n",
       "\n",
       "   image_picker  account_page_click  promo_banner_click  detail_wishlist_add  \\\n",
       "0             1                   0                   0                    0   \n",
       "1             0                   0                   0                    0   \n",
       "2             0                   0                   0                    0   \n",
       "3             0                   0                   0                    0   \n",
       "4             0                   0                   0                    0   \n",
       "\n",
       "   list_size_dropdown  closed_minibasket_click  checked_returns_detail  \\\n",
       "0                   1                        0                       0   \n",
       "1                   0                        0                       0   \n",
       "2                   0                        0                       0   \n",
       "3                   1                        0                       0   \n",
       "4                   0                        0                       0   \n",
       "\n",
       "   saw_sizecharts  saw_delivery  saw_account_upgrade  saw_homepage  \\\n",
       "0               0             0                    0             1   \n",
       "1               0             0                    0             1   \n",
       "2               0             0                    0             1   \n",
       "3               0             0                    0             1   \n",
       "4               0             0                    0             1   \n",
       "\n",
       "   device_computer  device_tablet  returning_user      prob label  \n",
       "0                1              0               1  0.693052  High  \n",
       "1                1              0               1  0.660656  High  \n",
       "2                0              0               1  0.605978  High  \n",
       "3                0              1               1  0.484168   Low  \n",
       "4                0              0               1  0.605978  High  "
      ]
     },
     "execution_count": 87,
     "metadata": {},
     "output_type": "execute_result"
    }
   ],
   "source": [
    "signif_cols = ['basket_icon_click', 'basket_add_list', 'basket_add_detail']\n",
    "X_probs = X_test.merge(result, left_index=True, right_index=True, how='inner')\n",
    "X_probs.head()"
   ]
  },
  {
   "cell_type": "code",
   "execution_count": 102,
   "metadata": {},
   "outputs": [
    {
     "data": {
      "text/plain": [
       "0    0.978403\n",
       "1    0.021597\n",
       "Name: basket_add_detail, dtype: float64"
      ]
     },
     "execution_count": 102,
     "metadata": {},
     "output_type": "execute_result"
    }
   ],
   "source": [
    "X_probs[X_probs.label=='Low'].basket_add_detail.value_counts()/len(X_probs[X_probs.label=='Low'])"
   ]
  },
  {
   "cell_type": "code",
   "execution_count": 108,
   "metadata": {},
   "outputs": [],
   "source": [
    "def func(df, col, label):\n",
    "    data = df[df.label == label]\n",
    "    freq = (data[col].value_counts()/len(data)).sort_index()\n",
    "    return freq"
   ]
  },
  {
   "cell_type": "code",
   "execution_count": 109,
   "metadata": {},
   "outputs": [
    {
     "data": {
      "text/plain": [
       "0    0.993542\n",
       "1    0.006458\n",
       "Name: basket_icon_click, dtype: float64"
      ]
     },
     "execution_count": 109,
     "metadata": {},
     "output_type": "execute_result"
    }
   ],
   "source": [
    "func(X_probs, 'basket_icon_click', 'Low')"
   ]
  },
  {
   "cell_type": "code",
   "execution_count": 136,
   "metadata": {},
   "outputs": [
    {
     "data": {
      "image/png": "[encoded data removed]",
      "text/plain": [
       "<Figure size 720x360 with 3 Axes>"
      ]
     },
     "metadata": {
      "needs_background": "light"
     },
     "output_type": "display_data"
    }
   ],
   "source": [
    "fig, (ax1, ax2, ax3) = plt.subplots(1, 3, figsize=(10,5), sharey=True)\n",
    "fig.suptitle('Behaviour of Customers with Low Propensity')\n",
    "ax1.bar(list(map(str, func(X_probs, 'basket_icon_click', 'Low').index)), func(X_probs, 'basket_icon_click', 'Low'))\n",
    "ax1.title.set_text('basket_icon_click')\n",
    "ax2.bar(list(map(str, func(X_probs, 'basket_add_detail', 'Low').index)), func(X_probs, 'basket_add_detail', 'Low'))\n",
    "ax2.title.set_text('basket_add_detail')\n",
    "ax3.bar(list(map(str, func(X_probs, 'returning_user', 'Low').index)), func(X_probs, 'returning_user', 'Low'))\n",
    "ax3.title.set_text('returning_user')"
   ]
  },
  {
   "cell_type": "code",
   "execution_count": 137,
   "metadata": {},
   "outputs": [
    {
     "data": {
      "image/png": "[encoded data removed]",
      "text/plain": [
       "<Figure size 720x360 with 3 Axes>"
      ]
     },
     "metadata": {
      "needs_background": "light"
     },
     "output_type": "display_data"
    }
   ],
   "source": [
    "fig, (ax1, ax2, ax3) = plt.subplots(1, 3, figsize=(10,5), sharey=True)\n",
    "fig.suptitle('Behaviour of Customers with High Propensity')\n",
    "ax1.bar(list(map(str, func(X_probs, 'basket_icon_click', 'High').index)), func(X_probs, 'basket_icon_click', 'High'))\n",
    "ax1.title.set_text('basket_icon_click')\n",
    "ax2.bar(list(map(str, func(X_probs, 'basket_add_detail', 'High').index)), func(X_probs, 'basket_add_detail', 'High'))\n",
    "ax2.title.set_text('basket_add_detail')\n",
    "ax3.bar(list(map(str, func(X_probs, 'returning_user', 'High').index)), func(X_probs, 'returning_user', 'High'))\n",
    "ax3.title.set_text('returning_user')"
   ]
  }
 ],
 "metadata": {
  "kernelspec": {
   "display_name": "Python 3",
   "language": "python",
   "name": "python3"
  },
  "language_info": {
   "codemirror_mode": {
    "name": "ipython",
    "version": 3
   },
   "file_extension": ".py",
   "mimetype": "text/x-python",
   "name": "python",
   "nbconvert_exporter": "python",
   "pygments_lexer": "ipython3",
   "version": "3.8.5"
  }
 },
 "nbformat": 4,
 "nbformat_minor": 4
}
