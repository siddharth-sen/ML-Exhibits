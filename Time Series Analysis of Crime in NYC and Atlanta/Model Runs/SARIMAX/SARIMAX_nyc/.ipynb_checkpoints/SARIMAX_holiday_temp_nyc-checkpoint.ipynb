{
 "cells": [
  {
   "cell_type": "code",
   "execution_count": 1,
   "id": "2a793254",
   "metadata": {},
   "outputs": [],
   "source": [
    "#pip install holidays"
   ]
  },
  {
   "cell_type": "code",
   "execution_count": 2,
   "id": "adba5d5f",
   "metadata": {},
   "outputs": [],
   "source": [
    "# Basic imports\n",
    "import numpy as np\n",
    "import pandas as pd\n",
    "import datetime # manipulating date formats\n",
    "import itertools\n",
    "import time\n",
    "import holidays\n",
    "import os\n",
    "\n",
    "from math import sqrt\n",
    "from matplotlib import pyplot as plt\n",
    "\n",
    "from sklearn.model_selection import train_test_split\n",
    "from sklearn.metrics import mean_squared_error as MSE, r2_score, mean_absolute_percentage_error as MAPE\n",
    "from sklearn import datasets, linear_model\n",
    "\n",
    "# Stats packages\n",
    "from statsmodels.tsa.statespace.sarimax import SARIMAX\n",
    "from statsmodels.tsa.statespace.tools import diff\n",
    "from statsmodels.graphics.tsaplots import plot_acf,plot_pacf\n",
    "from statsmodels.stats.diagnostic import acorr_ljungbox\n",
    "from statsmodels.tsa.stattools import adfuller\n",
    "import statsmodels.api as sm\n",
    "\n",
    "import warnings\n",
    "warnings.filterwarnings(\"ignore\")"
   ]
  },
  {
   "cell_type": "code",
   "execution_count": 3,
   "id": "34aa177b",
   "metadata": {},
   "outputs": [],
   "source": [
    "nyc_v = pd.read_csv(\"/Users/sameshbajaj/Desktop/Time Series Analysis/Assignments/Project/nyc_violent_final copy.csv\", parse_dates=['date'])\n",
    "nyc_temp = pd.read_csv(\"/Users/sameshbajaj/Desktop/Time Series Analysis/Assignments/Project/ISYE6203_NYC_avg_temp_2009-2020.csv\", parse_dates=['date'])\n",
    "holiday = pd.read_csv(\"/Users/sameshbajaj/Desktop/Time Series Analysis/Assignments/Project/Holidays_2009-2020.csv\", parse_dates=['date'])"
   ]
  },
  {
   "cell_type": "code",
   "execution_count": 4,
   "id": "826d8b70",
   "metadata": {},
   "outputs": [],
   "source": [
    "nyc_v = nyc_v.set_index(\"date\")\n",
    "nyc_temp = nyc_temp.set_index(\"date\")\n",
    "holiday = holiday.set_index(\"date\")"
   ]
  },
  {
   "cell_type": "code",
   "execution_count": 5,
   "id": "64400462",
   "metadata": {},
   "outputs": [
    {
     "data": {
      "text/plain": [
       "<AxesSubplot:xlabel='date'>"
      ]
     },
     "execution_count": 5,
     "metadata": {},
     "output_type": "execute_result"
    },
    {
     "data": {
      "image/png": "[encoded data removed]",
      "text/plain": [
       "<Figure size 432x288 with 1 Axes>"
      ]
     },
     "metadata": {
      "needs_background": "light"
     },
     "output_type": "display_data"
    }
   ],
   "source": [
    "nyc_v.plot()"
   ]
  },
  {
   "cell_type": "code",
   "execution_count": 6,
   "id": "549a907e",
   "metadata": {},
   "outputs": [
    {
     "data": {
      "text/html": [
       "<div>\n",
       "<style scoped>\n",
       "    .dataframe tbody tr th:only-of-type {\n",
       "        vertical-align: middle;\n",
       "    }\n",
       "\n",
       "    .dataframe tbody tr th {\n",
       "        vertical-align: top;\n",
       "    }\n",
       "\n",
       "    .dataframe thead th {\n",
       "        text-align: right;\n",
       "    }\n",
       "</style>\n",
       "<table border=\"1\" class=\"dataframe\">\n",
       "  <thead>\n",
       "    <tr style=\"text-align: right;\">\n",
       "      <th></th>\n",
       "      <th>avgTemp</th>\n",
       "    </tr>\n",
       "    <tr>\n",
       "      <th>date</th>\n",
       "      <th></th>\n",
       "    </tr>\n",
       "  </thead>\n",
       "  <tbody>\n",
       "    <tr>\n",
       "      <th>2009-01-01</th>\n",
       "      <td>20.57</td>\n",
       "    </tr>\n",
       "    <tr>\n",
       "      <th>2009-01-02</th>\n",
       "      <td>28.49</td>\n",
       "    </tr>\n",
       "    <tr>\n",
       "      <th>2009-01-03</th>\n",
       "      <td>33.44</td>\n",
       "    </tr>\n",
       "    <tr>\n",
       "      <th>2009-01-04</th>\n",
       "      <td>33.53</td>\n",
       "    </tr>\n",
       "    <tr>\n",
       "      <th>2009-01-05</th>\n",
       "      <td>40.46</td>\n",
       "    </tr>\n",
       "    <tr>\n",
       "      <th>...</th>\n",
       "      <td>...</td>\n",
       "    </tr>\n",
       "    <tr>\n",
       "      <th>2020-12-27</th>\n",
       "      <td>30.65</td>\n",
       "    </tr>\n",
       "    <tr>\n",
       "      <th>2020-12-28</th>\n",
       "      <td>42.53</td>\n",
       "    </tr>\n",
       "    <tr>\n",
       "      <th>2020-12-29</th>\n",
       "      <td>36.59</td>\n",
       "    </tr>\n",
       "    <tr>\n",
       "      <th>2020-12-30</th>\n",
       "      <td>35.60</td>\n",
       "    </tr>\n",
       "    <tr>\n",
       "      <th>2020-12-31</th>\n",
       "      <td>41.99</td>\n",
       "    </tr>\n",
       "  </tbody>\n",
       "</table>\n",
       "<p>4383 rows × 1 columns</p>\n",
       "</div>"
      ],
      "text/plain": [
       "            avgTemp\n",
       "date               \n",
       "2009-01-01    20.57\n",
       "2009-01-02    28.49\n",
       "2009-01-03    33.44\n",
       "2009-01-04    33.53\n",
       "2009-01-05    40.46\n",
       "...             ...\n",
       "2020-12-27    30.65\n",
       "2020-12-28    42.53\n",
       "2020-12-29    36.59\n",
       "2020-12-30    35.60\n",
       "2020-12-31    41.99\n",
       "\n",
       "[4383 rows x 1 columns]"
      ]
     },
     "execution_count": 6,
     "metadata": {},
     "output_type": "execute_result"
    }
   ],
   "source": [
    "nyc_temp"
   ]
  },
  {
   "cell_type": "code",
   "execution_count": 7,
   "id": "3c5ee185",
   "metadata": {},
   "outputs": [
    {
     "data": {
      "text/plain": [
       "4383"
      ]
     },
     "execution_count": 7,
     "metadata": {},
     "output_type": "execute_result"
    }
   ],
   "source": [
    "len(nyc_temp)"
   ]
  },
  {
   "cell_type": "code",
   "execution_count": 8,
   "id": "26801742",
   "metadata": {},
   "outputs": [
    {
     "data": {
      "text/plain": [
       "<AxesSubplot:xlabel='date'>"
      ]
     },
     "execution_count": 8,
     "metadata": {},
     "output_type": "execute_result"
    },
    {
     "data": {
      "image/png": "[encoded data removed]",
      "text/plain": [
       "<Figure size 432x288 with 1 Axes>"
      ]
     },
     "metadata": {
      "needs_background": "light"
     },
     "output_type": "display_data"
    }
   ],
   "source": [
    "nyc_temp.plot()"
   ]
  },
  {
   "cell_type": "code",
   "execution_count": 9,
   "id": "3d3d6a54",
   "metadata": {},
   "outputs": [
    {
     "data": {
      "text/html": [
       "<div>\n",
       "<style scoped>\n",
       "    .dataframe tbody tr th:only-of-type {\n",
       "        vertical-align: middle;\n",
       "    }\n",
       "\n",
       "    .dataframe tbody tr th {\n",
       "        vertical-align: top;\n",
       "    }\n",
       "\n",
       "    .dataframe thead th {\n",
       "        text-align: right;\n",
       "    }\n",
       "</style>\n",
       "<table border=\"1\" class=\"dataframe\">\n",
       "  <thead>\n",
       "    <tr style=\"text-align: right;\">\n",
       "      <th></th>\n",
       "      <th>Holiday</th>\n",
       "    </tr>\n",
       "    <tr>\n",
       "      <th>date</th>\n",
       "      <th></th>\n",
       "    </tr>\n",
       "  </thead>\n",
       "  <tbody>\n",
       "    <tr>\n",
       "      <th>2009-01-01</th>\n",
       "      <td>1</td>\n",
       "    </tr>\n",
       "    <tr>\n",
       "      <th>2009-01-02</th>\n",
       "      <td>0</td>\n",
       "    </tr>\n",
       "    <tr>\n",
       "      <th>2009-01-03</th>\n",
       "      <td>0</td>\n",
       "    </tr>\n",
       "    <tr>\n",
       "      <th>2009-01-04</th>\n",
       "      <td>0</td>\n",
       "    </tr>\n",
       "    <tr>\n",
       "      <th>2009-01-05</th>\n",
       "      <td>0</td>\n",
       "    </tr>\n",
       "    <tr>\n",
       "      <th>...</th>\n",
       "      <td>...</td>\n",
       "    </tr>\n",
       "    <tr>\n",
       "      <th>2020-12-27</th>\n",
       "      <td>0</td>\n",
       "    </tr>\n",
       "    <tr>\n",
       "      <th>2020-12-28</th>\n",
       "      <td>0</td>\n",
       "    </tr>\n",
       "    <tr>\n",
       "      <th>2020-12-29</th>\n",
       "      <td>0</td>\n",
       "    </tr>\n",
       "    <tr>\n",
       "      <th>2020-12-30</th>\n",
       "      <td>0</td>\n",
       "    </tr>\n",
       "    <tr>\n",
       "      <th>2020-12-31</th>\n",
       "      <td>1</td>\n",
       "    </tr>\n",
       "  </tbody>\n",
       "</table>\n",
       "<p>4383 rows × 1 columns</p>\n",
       "</div>"
      ],
      "text/plain": [
       "            Holiday\n",
       "date               \n",
       "2009-01-01        1\n",
       "2009-01-02        0\n",
       "2009-01-03        0\n",
       "2009-01-04        0\n",
       "2009-01-05        0\n",
       "...             ...\n",
       "2020-12-27        0\n",
       "2020-12-28        0\n",
       "2020-12-29        0\n",
       "2020-12-30        0\n",
       "2020-12-31        1\n",
       "\n",
       "[4383 rows x 1 columns]"
      ]
     },
     "execution_count": 9,
     "metadata": {},
     "output_type": "execute_result"
    }
   ],
   "source": [
    "holiday"
   ]
  },
  {
   "cell_type": "code",
   "execution_count": 10,
   "id": "f2c5eb8b",
   "metadata": {},
   "outputs": [],
   "source": [
    "exo_temp_hol = pd.merge(nyc_temp, holiday, left_index=True, right_index=True)"
   ]
  },
  {
   "cell_type": "code",
   "execution_count": 11,
   "id": "8b7bdaf8",
   "metadata": {},
   "outputs": [
    {
     "data": {
      "text/html": [
       "<div>\n",
       "<style scoped>\n",
       "    .dataframe tbody tr th:only-of-type {\n",
       "        vertical-align: middle;\n",
       "    }\n",
       "\n",
       "    .dataframe tbody tr th {\n",
       "        vertical-align: top;\n",
       "    }\n",
       "\n",
       "    .dataframe thead th {\n",
       "        text-align: right;\n",
       "    }\n",
       "</style>\n",
       "<table border=\"1\" class=\"dataframe\">\n",
       "  <thead>\n",
       "    <tr style=\"text-align: right;\">\n",
       "      <th></th>\n",
       "      <th>avgTemp</th>\n",
       "      <th>Holiday</th>\n",
       "    </tr>\n",
       "    <tr>\n",
       "      <th>date</th>\n",
       "      <th></th>\n",
       "      <th></th>\n",
       "    </tr>\n",
       "  </thead>\n",
       "  <tbody>\n",
       "    <tr>\n",
       "      <th>2009-01-01</th>\n",
       "      <td>20.57</td>\n",
       "      <td>1</td>\n",
       "    </tr>\n",
       "    <tr>\n",
       "      <th>2009-01-02</th>\n",
       "      <td>28.49</td>\n",
       "      <td>0</td>\n",
       "    </tr>\n",
       "    <tr>\n",
       "      <th>2009-01-03</th>\n",
       "      <td>33.44</td>\n",
       "      <td>0</td>\n",
       "    </tr>\n",
       "    <tr>\n",
       "      <th>2009-01-04</th>\n",
       "      <td>33.53</td>\n",
       "      <td>0</td>\n",
       "    </tr>\n",
       "    <tr>\n",
       "      <th>2009-01-05</th>\n",
       "      <td>40.46</td>\n",
       "      <td>0</td>\n",
       "    </tr>\n",
       "    <tr>\n",
       "      <th>...</th>\n",
       "      <td>...</td>\n",
       "      <td>...</td>\n",
       "    </tr>\n",
       "    <tr>\n",
       "      <th>2020-12-27</th>\n",
       "      <td>30.65</td>\n",
       "      <td>0</td>\n",
       "    </tr>\n",
       "    <tr>\n",
       "      <th>2020-12-28</th>\n",
       "      <td>42.53</td>\n",
       "      <td>0</td>\n",
       "    </tr>\n",
       "    <tr>\n",
       "      <th>2020-12-29</th>\n",
       "      <td>36.59</td>\n",
       "      <td>0</td>\n",
       "    </tr>\n",
       "    <tr>\n",
       "      <th>2020-12-30</th>\n",
       "      <td>35.60</td>\n",
       "      <td>0</td>\n",
       "    </tr>\n",
       "    <tr>\n",
       "      <th>2020-12-31</th>\n",
       "      <td>41.99</td>\n",
       "      <td>1</td>\n",
       "    </tr>\n",
       "  </tbody>\n",
       "</table>\n",
       "<p>4383 rows × 2 columns</p>\n",
       "</div>"
      ],
      "text/plain": [
       "            avgTemp  Holiday\n",
       "date                        \n",
       "2009-01-01    20.57        1\n",
       "2009-01-02    28.49        0\n",
       "2009-01-03    33.44        0\n",
       "2009-01-04    33.53        0\n",
       "2009-01-05    40.46        0\n",
       "...             ...      ...\n",
       "2020-12-27    30.65        0\n",
       "2020-12-28    42.53        0\n",
       "2020-12-29    36.59        0\n",
       "2020-12-30    35.60        0\n",
       "2020-12-31    41.99        1\n",
       "\n",
       "[4383 rows x 2 columns]"
      ]
     },
     "execution_count": 11,
     "metadata": {},
     "output_type": "execute_result"
    }
   ],
   "source": [
    "exo_temp_hol"
   ]
  },
  {
   "cell_type": "code",
   "execution_count": 12,
   "id": "0387f6f9",
   "metadata": {},
   "outputs": [],
   "source": [
    "def test_stationarity(timeseries):\n",
    "    # Perform Dickey-Fuller test:\n",
    "    print('Results of Dickey-Fuller Test:')\n",
    "    dftest = adfuller(timeseries,maxlag=7*4, autolag='AIC')\n",
    "    dfoutput = pd.Series(dftest[0:4], index=['Test Statistic','p-value','#Lags Used','Number of Observations Used'])\n",
    "    for key,value in dftest[4].items():\n",
    "        dfoutput['Critical Value (%s)'%key] = value\n",
    "    print (round(dfoutput,3))"
   ]
  },
  {
   "cell_type": "code",
   "execution_count": 13,
   "id": "770a0c5f",
   "metadata": {
    "scrolled": true
   },
   "outputs": [
    {
     "name": "stdout",
     "output_type": "stream",
     "text": [
      "Results of Dickey-Fuller Test:\n",
      "Test Statistic                   -4.165\n",
      "p-value                           0.001\n",
      "#Lags Used                       28.000\n",
      "Number of Observations Used    4354.000\n",
      "Critical Value (1%)              -3.432\n",
      "Critical Value (5%)              -2.862\n",
      "Critical Value (10%)             -2.567\n",
      "dtype: float64\n"
     ]
    }
   ],
   "source": [
    "test_stationarity(nyc_v)"
   ]
  },
  {
   "cell_type": "code",
   "execution_count": 14,
   "id": "afd5fbc9",
   "metadata": {},
   "outputs": [
    {
     "data": {
      "image/png": "[encoded data removed]",
      "text/plain": [
       "<Figure size 432x288 with 1 Axes>"
      ]
     },
     "metadata": {
      "needs_background": "light"
     },
     "output_type": "display_data"
    },
    {
     "data": {
      "image/png": "[encoded data removed]",
      "text/plain": [
       "<Figure size 432x288 with 1 Axes>"
      ]
     },
     "metadata": {
      "needs_background": "light"
     },
     "output_type": "display_data"
    }
   ],
   "source": [
    "acf=plot_acf(nyc_v)\n",
    "pacf=plot_pacf(nyc_v)"
   ]
  },
  {
   "cell_type": "code",
   "execution_count": 15,
   "id": "5ee18bab",
   "metadata": {},
   "outputs": [
    {
     "data": {
      "text/plain": [
       "<AxesSubplot:xlabel='date'>"
      ]
     },
     "execution_count": 15,
     "metadata": {},
     "output_type": "execute_result"
    },
    {
     "data": {
      "image/png": "[encoded data removed]",
      "text/plain": [
       "<Figure size 864x432 with 1 Axes>"
      ]
     },
     "metadata": {
      "needs_background": "light"
     },
     "output_type": "display_data"
    }
   ],
   "source": [
    "train_end = '2020-12-24'\n",
    "#test_start = '2020-12-25'\n",
    "test_end = '2020-12-31'\n",
    "demo_start = '2020-10-31'\n",
    "demo = nyc_v[demo_start:test_end]\n",
    "nyc_v_train, nyc_v_test = nyc_v[:train_end], nyc_v[train_end:]\n",
    "\n",
    "nyc_v_train.plot(figsize=(12,6), style='o', grid=True)"
   ]
  },
  {
   "cell_type": "code",
   "execution_count": 16,
   "id": "687b1ce3",
   "metadata": {},
   "outputs": [
    {
     "data": {
      "text/html": [
       "<div>\n",
       "<style scoped>\n",
       "    .dataframe tbody tr th:only-of-type {\n",
       "        vertical-align: middle;\n",
       "    }\n",
       "\n",
       "    .dataframe tbody tr th {\n",
       "        vertical-align: top;\n",
       "    }\n",
       "\n",
       "    .dataframe thead th {\n",
       "        text-align: right;\n",
       "    }\n",
       "</style>\n",
       "<table border=\"1\" class=\"dataframe\">\n",
       "  <thead>\n",
       "    <tr style=\"text-align: right;\">\n",
       "      <th></th>\n",
       "      <th>Holiday</th>\n",
       "    </tr>\n",
       "    <tr>\n",
       "      <th>date</th>\n",
       "      <th></th>\n",
       "    </tr>\n",
       "  </thead>\n",
       "  <tbody>\n",
       "    <tr>\n",
       "      <th>2020-12-24</th>\n",
       "      <td>1</td>\n",
       "    </tr>\n",
       "    <tr>\n",
       "      <th>2020-12-25</th>\n",
       "      <td>1</td>\n",
       "    </tr>\n",
       "    <tr>\n",
       "      <th>2020-12-26</th>\n",
       "      <td>0</td>\n",
       "    </tr>\n",
       "    <tr>\n",
       "      <th>2020-12-27</th>\n",
       "      <td>0</td>\n",
       "    </tr>\n",
       "    <tr>\n",
       "      <th>2020-12-28</th>\n",
       "      <td>0</td>\n",
       "    </tr>\n",
       "    <tr>\n",
       "      <th>2020-12-29</th>\n",
       "      <td>0</td>\n",
       "    </tr>\n",
       "    <tr>\n",
       "      <th>2020-12-30</th>\n",
       "      <td>0</td>\n",
       "    </tr>\n",
       "  </tbody>\n",
       "</table>\n",
       "</div>"
      ],
      "text/plain": [
       "            Holiday\n",
       "date               \n",
       "2020-12-24        1\n",
       "2020-12-25        1\n",
       "2020-12-26        0\n",
       "2020-12-27        0\n",
       "2020-12-28        0\n",
       "2020-12-29        0\n",
       "2020-12-30        0"
      ]
     },
     "execution_count": 16,
     "metadata": {},
     "output_type": "execute_result"
    }
   ],
   "source": [
    "begin = '2009-01-01'\n",
    "abv = '2020-12-30'\n",
    "\n",
    "exo = holiday.copy()\n",
    "exo_train,exo_test = exo[:train_end], exo[train_end:abv]\n",
    "exo_test"
   ]
  },
  {
   "cell_type": "code",
   "execution_count": 17,
   "id": "de1464af",
   "metadata": {},
   "outputs": [
    {
     "data": {
      "text/html": [
       "<div>\n",
       "<style scoped>\n",
       "    .dataframe tbody tr th:only-of-type {\n",
       "        vertical-align: middle;\n",
       "    }\n",
       "\n",
       "    .dataframe tbody tr th {\n",
       "        vertical-align: top;\n",
       "    }\n",
       "\n",
       "    .dataframe thead th {\n",
       "        text-align: right;\n",
       "    }\n",
       "</style>\n",
       "<table border=\"1\" class=\"dataframe\">\n",
       "  <thead>\n",
       "    <tr style=\"text-align: right;\">\n",
       "      <th></th>\n",
       "      <th>avgTemp</th>\n",
       "    </tr>\n",
       "    <tr>\n",
       "      <th>date</th>\n",
       "      <th></th>\n",
       "    </tr>\n",
       "  </thead>\n",
       "  <tbody>\n",
       "    <tr>\n",
       "      <th>2020-12-24</th>\n",
       "      <td>50.99</td>\n",
       "    </tr>\n",
       "    <tr>\n",
       "      <th>2020-12-25</th>\n",
       "      <td>45.05</td>\n",
       "    </tr>\n",
       "    <tr>\n",
       "      <th>2020-12-26</th>\n",
       "      <td>28.13</td>\n",
       "    </tr>\n",
       "    <tr>\n",
       "      <th>2020-12-27</th>\n",
       "      <td>30.65</td>\n",
       "    </tr>\n",
       "    <tr>\n",
       "      <th>2020-12-28</th>\n",
       "      <td>42.53</td>\n",
       "    </tr>\n",
       "    <tr>\n",
       "      <th>2020-12-29</th>\n",
       "      <td>36.59</td>\n",
       "    </tr>\n",
       "    <tr>\n",
       "      <th>2020-12-30</th>\n",
       "      <td>35.60</td>\n",
       "    </tr>\n",
       "  </tbody>\n",
       "</table>\n",
       "</div>"
      ],
      "text/plain": [
       "            avgTemp\n",
       "date               \n",
       "2020-12-24    50.99\n",
       "2020-12-25    45.05\n",
       "2020-12-26    28.13\n",
       "2020-12-27    30.65\n",
       "2020-12-28    42.53\n",
       "2020-12-29    36.59\n",
       "2020-12-30    35.60"
      ]
     },
     "execution_count": 17,
     "metadata": {},
     "output_type": "execute_result"
    }
   ],
   "source": [
    "exo2 = nyc_temp.copy()\n",
    "exo2_train,exo2_test = exo2[:train_end], exo2[train_end:abv]\n",
    "exo2_test"
   ]
  },
  {
   "cell_type": "code",
   "execution_count": 18,
   "id": "ca213a5a",
   "metadata": {},
   "outputs": [
    {
     "data": {
      "text/html": [
       "<div>\n",
       "<style scoped>\n",
       "    .dataframe tbody tr th:only-of-type {\n",
       "        vertical-align: middle;\n",
       "    }\n",
       "\n",
       "    .dataframe tbody tr th {\n",
       "        vertical-align: top;\n",
       "    }\n",
       "\n",
       "    .dataframe thead th {\n",
       "        text-align: right;\n",
       "    }\n",
       "</style>\n",
       "<table border=\"1\" class=\"dataframe\">\n",
       "  <thead>\n",
       "    <tr style=\"text-align: right;\">\n",
       "      <th></th>\n",
       "      <th>avgTemp</th>\n",
       "      <th>Holiday</th>\n",
       "    </tr>\n",
       "    <tr>\n",
       "      <th>date</th>\n",
       "      <th></th>\n",
       "      <th></th>\n",
       "    </tr>\n",
       "  </thead>\n",
       "  <tbody>\n",
       "    <tr>\n",
       "      <th>2020-12-24</th>\n",
       "      <td>50.99</td>\n",
       "      <td>1</td>\n",
       "    </tr>\n",
       "    <tr>\n",
       "      <th>2020-12-25</th>\n",
       "      <td>45.05</td>\n",
       "      <td>1</td>\n",
       "    </tr>\n",
       "    <tr>\n",
       "      <th>2020-12-26</th>\n",
       "      <td>28.13</td>\n",
       "      <td>0</td>\n",
       "    </tr>\n",
       "    <tr>\n",
       "      <th>2020-12-27</th>\n",
       "      <td>30.65</td>\n",
       "      <td>0</td>\n",
       "    </tr>\n",
       "    <tr>\n",
       "      <th>2020-12-28</th>\n",
       "      <td>42.53</td>\n",
       "      <td>0</td>\n",
       "    </tr>\n",
       "    <tr>\n",
       "      <th>2020-12-29</th>\n",
       "      <td>36.59</td>\n",
       "      <td>0</td>\n",
       "    </tr>\n",
       "    <tr>\n",
       "      <th>2020-12-30</th>\n",
       "      <td>35.60</td>\n",
       "      <td>0</td>\n",
       "    </tr>\n",
       "  </tbody>\n",
       "</table>\n",
       "</div>"
      ],
      "text/plain": [
       "            avgTemp  Holiday\n",
       "date                        \n",
       "2020-12-24    50.99        1\n",
       "2020-12-25    45.05        1\n",
       "2020-12-26    28.13        0\n",
       "2020-12-27    30.65        0\n",
       "2020-12-28    42.53        0\n",
       "2020-12-29    36.59        0\n",
       "2020-12-30    35.60        0"
      ]
     },
     "execution_count": 18,
     "metadata": {},
     "output_type": "execute_result"
    }
   ],
   "source": [
    "exo_temp_hol_train, exo_temp_hol_test = exo_temp_hol[:train_end], exo_temp_hol[train_end:abv]\n",
    "exo_temp_hol_test"
   ]
  },
  {
   "cell_type": "code",
   "execution_count": 19,
   "id": "d5c250ba",
   "metadata": {},
   "outputs": [
    {
     "data": {
      "text/plain": [
       "(7, 2)"
      ]
     },
     "execution_count": 19,
     "metadata": {},
     "output_type": "execute_result"
    }
   ],
   "source": [
    "exo_temp_hol_test.shape"
   ]
  },
  {
   "cell_type": "code",
   "execution_count": 20,
   "id": "df10c5b6",
   "metadata": {},
   "outputs": [
    {
     "data": {
      "text/plain": [
       "(4376, 2)"
      ]
     },
     "execution_count": 20,
     "metadata": {},
     "output_type": "execute_result"
    }
   ],
   "source": [
    "exo_temp_hol_train.shape"
   ]
  },
  {
   "cell_type": "code",
   "execution_count": 21,
   "id": "e10b1e57",
   "metadata": {},
   "outputs": [
    {
     "data": {
      "text/plain": [
       "(4376, 1)"
      ]
     },
     "execution_count": 21,
     "metadata": {},
     "output_type": "execute_result"
    }
   ],
   "source": [
    "exo2_train.shape"
   ]
  },
  {
   "cell_type": "code",
   "execution_count": 22,
   "id": "26fd257d",
   "metadata": {},
   "outputs": [
    {
     "data": {
      "text/plain": [
       "(7, 1)"
      ]
     },
     "execution_count": 22,
     "metadata": {},
     "output_type": "execute_result"
    }
   ],
   "source": [
    "exo2_test.shape"
   ]
  },
  {
   "cell_type": "code",
   "execution_count": 23,
   "id": "04daf23e",
   "metadata": {},
   "outputs": [
    {
     "data": {
      "text/plain": [
       "(4376, 1)"
      ]
     },
     "execution_count": 23,
     "metadata": {},
     "output_type": "execute_result"
    }
   ],
   "source": [
    "exo_train.shape"
   ]
  },
  {
   "cell_type": "code",
   "execution_count": 24,
   "id": "87c93be9",
   "metadata": {},
   "outputs": [
    {
     "data": {
      "text/plain": [
       "(7, 1)"
      ]
     },
     "execution_count": 24,
     "metadata": {},
     "output_type": "execute_result"
    }
   ],
   "source": [
    "exo_test.shape"
   ]
  },
  {
   "cell_type": "code",
   "execution_count": 25,
   "id": "33424e1d",
   "metadata": {},
   "outputs": [
    {
     "data": {
      "text/plain": [
       "(4376, 1)"
      ]
     },
     "execution_count": 25,
     "metadata": {},
     "output_type": "execute_result"
    }
   ],
   "source": [
    "nyc_v_train.shape"
   ]
  },
  {
   "cell_type": "code",
   "execution_count": 26,
   "id": "4c32c42e",
   "metadata": {},
   "outputs": [
    {
     "data": {
      "text/plain": [
       "(8, 1)"
      ]
     },
     "execution_count": 26,
     "metadata": {},
     "output_type": "execute_result"
    }
   ],
   "source": [
    "nyc_v_test.shape"
   ]
  },
  {
   "cell_type": "code",
   "execution_count": 27,
   "id": "b820118d",
   "metadata": {},
   "outputs": [],
   "source": [
    "def sarimax(ts,exo,all_param):\n",
    "    results = []\n",
    "    for param in all_param:\n",
    "        try:\n",
    "            mod = SARIMAX(ts,\n",
    "                          exog = exo,\n",
    "                          order=param[0],\n",
    "                          seasonal_order=param[1])\n",
    "            res = mod.fit()\n",
    "            results.append((res,res.aic,param))\n",
    "            print('Tried out SARIMAX{}x{} - AIC:{}'.format(param[0], param[1], round(res.aic,2)))\n",
    "        except Exception as e:\n",
    "            print(e)\n",
    "            continue\n",
    "            \n",
    "    return results"
   ]
  },
  {
   "cell_type": "code",
   "execution_count": 28,
   "id": "28003be3",
   "metadata": {},
   "outputs": [],
   "source": [
    "# set parameter range\n",
    "p,d,q = range(0,2),[1],range(0,2)\n",
    "P,D,Q,s = range(0,2),[1],range(0,2),[7]\n",
    "# list of all parameter combos\n",
    "pdq = list(itertools.product(p, d, q))\n",
    "seasonal_pdq = list(itertools.product(P, D, Q, s))\n",
    "all_param = list(itertools.product(pdq,seasonal_pdq))"
   ]
  },
  {
   "cell_type": "code",
   "execution_count": 29,
   "id": "22b00a97",
   "metadata": {},
   "outputs": [
    {
     "name": "stderr",
     "output_type": "stream",
     "text": [
      " This problem is unconstrained.\n"
     ]
    },
    {
     "name": "stdout",
     "output_type": "stream",
     "text": [
      "RUNNING THE L-BFGS-B CODE\n",
      "\n",
      "           * * *\n",
      "\n",
      "Machine precision = 2.220D-16\n",
      " N =            3     M =           10\n",
      "\n",
      "At X0         0 variables are exactly at the bounds\n",
      "\n",
      "At iterate    0    f=  9.19265D+00    |proj g|=  2.50390D-04\n",
      "  ys=-1.547E+02  -gs= 1.008E+00 BFGS update SKIPPED\n",
      "\n",
      "At iterate    5    f=  5.51208D+00    |proj g|=  8.79821D-03\n",
      "\n",
      "           * * *\n",
      "\n",
      "Tit   = total number of iterations\n",
      "Tnf   = total number of function evaluations\n",
      "Tnint = total number of segments explored during Cauchy searches\n",
      "Skip  = number of BFGS updates skipped\n",
      "Nact  = number of active bounds at final generalized Cauchy point\n",
      "Projg = norm of the final projected gradient\n",
      "F     = final function value\n",
      "\n",
      "           * * *\n",
      "\n",
      "   N    Tit     Tnf  Tnint  Skip  Nact     Projg        F\n",
      "    3      8     24      2     1     0   5.248D-06   5.508D+00\n",
      "  F =   5.5082518674325982     \n",
      "\n",
      "CONVERGENCE: NORM_OF_PROJECTED_GRADIENT_<=_PGTOL            \n",
      "Tried out SARIMAX(0, 1, 0)x(0, 1, 0, 7) - AIC:48214.22\n",
      "RUNNING THE L-BFGS-B CODE\n",
      "\n",
      "           * * *\n",
      "\n",
      "Machine precision = 2.220D-16\n",
      " N =            4     M =           10\n",
      "\n",
      "At X0         0 variables are exactly at the bounds\n",
      "\n",
      "At iterate    0    f=  5.25583D+00    |proj g|=  5.68789D-02\n"
     ]
    },
    {
     "name": "stderr",
     "output_type": "stream",
     "text": [
      " This problem is unconstrained.\n"
     ]
    },
    {
     "name": "stdout",
     "output_type": "stream",
     "text": [
      "\n",
      "At iterate    5    f=  5.19449D+00    |proj g|=  6.05087D-03\n",
      "\n",
      "At iterate   10    f=  5.18663D+00    |proj g|=  9.07352D-05\n",
      "\n",
      "At iterate   15    f=  5.18663D+00    |proj g|=  8.15952D-06\n",
      "\n",
      "           * * *\n",
      "\n",
      "Tit   = total number of iterations\n",
      "Tnf   = total number of function evaluations\n",
      "Tnint = total number of segments explored during Cauchy searches\n",
      "Skip  = number of BFGS updates skipped\n",
      "Nact  = number of active bounds at final generalized Cauchy point\n",
      "Projg = norm of the final projected gradient\n",
      "F     = final function value\n",
      "\n",
      "           * * *\n",
      "\n",
      "   N    Tit     Tnf  Tnint  Skip  Nact     Projg        F\n",
      "    4     15     18      1     0     0   8.160D-06   5.187D+00\n",
      "  F =   5.1866273088481920     \n",
      "\n",
      "CONVERGENCE: NORM_OF_PROJECTED_GRADIENT_<=_PGTOL            \n",
      "Tried out SARIMAX(0, 1, 0)x(0, 1, 1, 7) - AIC:45401.36\n",
      "RUNNING THE L-BFGS-B CODE\n",
      "\n",
      "           * * *\n",
      "\n",
      "Machine precision = 2.220D-16\n",
      " N =            4     M =           10\n",
      "\n",
      "At X0         0 variables are exactly at the bounds\n",
      "\n",
      "At iterate    0    f=  5.36049D+00    |proj g|=  3.99437D-03\n"
     ]
    },
    {
     "name": "stderr",
     "output_type": "stream",
     "text": [
      " This problem is unconstrained.\n"
     ]
    },
    {
     "name": "stdout",
     "output_type": "stream",
     "text": [
      "\n",
      "At iterate    5    f=  5.36046D+00    |proj g|=  1.33464D-03\n",
      "\n",
      "At iterate   10    f=  5.36040D+00    |proj g|=  5.02627D-03\n",
      "\n",
      "At iterate   15    f=  5.36017D+00    |proj g|=  6.09305D-03\n",
      "\n",
      "At iterate   20    f=  5.35974D+00    |proj g|=  4.72722D-04\n",
      "\n",
      "           * * *\n",
      "\n",
      "Tit   = total number of iterations\n",
      "Tnf   = total number of function evaluations\n",
      "Tnint = total number of segments explored during Cauchy searches\n",
      "Skip  = number of BFGS updates skipped\n",
      "Nact  = number of active bounds at final generalized Cauchy point\n",
      "Projg = norm of the final projected gradient\n",
      "F     = final function value\n",
      "\n",
      "           * * *\n",
      "\n",
      "   N    Tit     Tnf  Tnint  Skip  Nact     Projg        F\n",
      "    4     22     25      1     0     0   4.993D-06   5.360D+00\n",
      "  F =   5.3597423959051298     \n",
      "\n",
      "CONVERGENCE: NORM_OF_PROJECTED_GRADIENT_<=_PGTOL            \n",
      "Tried out SARIMAX(0, 1, 0)x(1, 1, 0, 7) - AIC:46916.47\n",
      "RUNNING THE L-BFGS-B CODE\n",
      "\n",
      "           * * *\n",
      "\n",
      "Machine precision = 2.220D-16\n",
      " N =            5     M =           10\n",
      "\n",
      "At X0         0 variables are exactly at the bounds\n",
      "\n",
      "At iterate    0    f=  5.29560D+00    |proj g|=  1.10615D-01\n"
     ]
    },
    {
     "name": "stderr",
     "output_type": "stream",
     "text": [
      " This problem is unconstrained.\n"
     ]
    },
    {
     "name": "stdout",
     "output_type": "stream",
     "text": [
      "\n",
      "At iterate    5    f=  5.20867D+00    |proj g|=  8.81817D-03\n",
      "\n",
      "At iterate   10    f=  5.18731D+00    |proj g|=  4.05829D-04\n",
      "\n",
      "At iterate   15    f=  5.18722D+00    |proj g|=  5.89721D-03\n",
      "\n",
      "At iterate   20    f=  5.18675D+00    |proj g|=  1.77875D-03\n",
      "\n",
      "At iterate   25    f=  5.18674D+00    |proj g|=  1.24045D-04\n",
      "\n",
      "           * * *\n",
      "\n",
      "Tit   = total number of iterations\n",
      "Tnf   = total number of function evaluations\n",
      "Tnint = total number of segments explored during Cauchy searches\n",
      "Skip  = number of BFGS updates skipped\n",
      "Nact  = number of active bounds at final generalized Cauchy point\n",
      "Projg = norm of the final projected gradient\n",
      "F     = final function value\n",
      "\n",
      "           * * *\n",
      "\n",
      "   N    Tit     Tnf  Tnint  Skip  Nact     Projg        F\n",
      "    5     27     31      1     0     0   2.974D-05   5.187D+00\n",
      "  F =   5.1867437913932690     \n",
      "\n",
      "CONVERGENCE: REL_REDUCTION_OF_F_<=_FACTR*EPSMCH             \n",
      "Tried out SARIMAX(0, 1, 0)x(1, 1, 1, 7) - AIC:45404.38\n",
      "RUNNING THE L-BFGS-B CODE\n",
      "\n",
      "           * * *\n",
      "\n",
      "Machine precision = 2.220D-16\n",
      " N =            4     M =           10\n",
      "\n",
      "At X0         0 variables are exactly at the bounds\n",
      "\n",
      "At iterate    0    f=  5.28425D+00    |proj g|=  7.13047D-02\n"
     ]
    },
    {
     "name": "stderr",
     "output_type": "stream",
     "text": [
      " This problem is unconstrained.\n"
     ]
    },
    {
     "name": "stdout",
     "output_type": "stream",
     "text": [
      "\n",
      "At iterate    5    f=  5.21641D+00    |proj g|=  5.50522D-03\n",
      "\n",
      "At iterate   10    f=  5.20677D+00    |proj g|=  6.06608D-04\n",
      "\n",
      "At iterate   15    f=  5.20323D+00    |proj g|=  3.38569D-03\n",
      "\n",
      "At iterate   20    f=  5.20310D+00    |proj g|=  9.04175D-05\n",
      "\n",
      "           * * *\n",
      "\n",
      "Tit   = total number of iterations\n",
      "Tnf   = total number of function evaluations\n",
      "Tnint = total number of segments explored during Cauchy searches\n",
      "Skip  = number of BFGS updates skipped\n",
      "Nact  = number of active bounds at final generalized Cauchy point\n",
      "Projg = norm of the final projected gradient\n",
      "F     = final function value\n",
      "\n",
      "           * * *\n",
      "\n",
      "   N    Tit     Tnf  Tnint  Skip  Nact     Projg        F\n",
      "    4     24     27      1     0     0   7.797D-07   5.203D+00\n",
      "  F =   5.2030510952044420     \n",
      "\n",
      "CONVERGENCE: NORM_OF_PROJECTED_GRADIENT_<=_PGTOL            \n",
      "Tried out SARIMAX(0, 1, 1)x(0, 1, 0, 7) - AIC:45545.1\n"
     ]
    },
    {
     "name": "stderr",
     "output_type": "stream",
     "text": [
      " This problem is unconstrained.\n"
     ]
    },
    {
     "name": "stdout",
     "output_type": "stream",
     "text": [
      "RUNNING THE L-BFGS-B CODE\n",
      "\n",
      "           * * *\n",
      "\n",
      "Machine precision = 2.220D-16\n",
      " N =            5     M =           10\n",
      "\n",
      "At X0         0 variables are exactly at the bounds\n",
      "\n",
      "At iterate    0    f=  5.07902D+00    |proj g|=  4.84661D-02\n",
      "\n",
      "At iterate    5    f=  4.95902D+00    |proj g|=  2.44794D-02\n",
      "\n",
      "At iterate   10    f=  4.91284D+00    |proj g|=  4.77333D-03\n",
      "\n",
      "At iterate   15    f=  4.91153D+00    |proj g|=  8.59511D-03\n",
      "\n",
      "At iterate   20    f=  4.90424D+00    |proj g|=  5.45888D-04\n",
      "\n",
      "At iterate   25    f=  4.90412D+00    |proj g|=  6.36872D-04\n",
      "\n",
      "At iterate   30    f=  4.90387D+00    |proj g|=  2.67040D-06\n",
      "\n",
      "           * * *\n",
      "\n",
      "Tit   = total number of iterations\n",
      "Tnf   = total number of function evaluations\n",
      "Tnint = total number of segments explored during Cauchy searches\n",
      "Skip  = number of BFGS updates skipped\n",
      "Nact  = number of active bounds at final generalized Cauchy point\n",
      "Projg = norm of the final projected gradient\n",
      "F     = final function value\n",
      "\n",
      "           * * *\n",
      "\n",
      "   N    Tit     Tnf  Tnint  Skip  Nact     Projg        F\n",
      "    5     30     35      1     0     0   2.670D-06   4.904D+00\n",
      "  F =   4.9038700262367341     \n",
      "\n",
      "CONVERGENCE: NORM_OF_PROJECTED_GRADIENT_<=_PGTOL            \n",
      "Tried out SARIMAX(0, 1, 1)x(0, 1, 1, 7) - AIC:42928.67\n",
      "RUNNING THE L-BFGS-B CODE\n",
      "\n",
      "           * * *\n",
      "\n",
      "Machine precision = 2.220D-16\n",
      " N =            5     M =           10\n",
      "\n",
      "At X0         0 variables are exactly at the bounds\n",
      "\n",
      "At iterate    0    f=  5.15447D+00    |proj g|=  6.05000D-02\n"
     ]
    },
    {
     "name": "stderr",
     "output_type": "stream",
     "text": [
      " This problem is unconstrained.\n"
     ]
    },
    {
     "name": "stdout",
     "output_type": "stream",
     "text": [
      "\n",
      "At iterate    5    f=  5.09694D+00    |proj g|=  6.84947D-03\n",
      "\n",
      "At iterate   10    f=  5.05828D+00    |proj g|=  6.82225D-04\n",
      "\n",
      "At iterate   15    f=  5.05200D+00    |proj g|=  9.47288D-04\n",
      "\n",
      "At iterate   20    f=  5.05194D+00    |proj g|=  3.84560D-04\n",
      "\n",
      "At iterate   25    f=  5.05185D+00    |proj g|=  7.62383D-04\n",
      "\n",
      "At iterate   30    f=  5.05172D+00    |proj g|=  3.85349D-04\n",
      "\n",
      "At iterate   35    f=  5.05170D+00    |proj g|=  6.57697D-05\n",
      "\n",
      "At iterate   40    f=  5.05170D+00    |proj g|=  3.64421D-05\n",
      "\n",
      "           * * *\n",
      "\n",
      "Tit   = total number of iterations\n",
      "Tnf   = total number of function evaluations\n",
      "Tnint = total number of segments explored during Cauchy searches\n",
      "Skip  = number of BFGS updates skipped\n",
      "Nact  = number of active bounds at final generalized Cauchy point\n",
      "Projg = norm of the final projected gradient\n",
      "F     = final function value\n",
      "\n",
      "           * * *\n",
      "\n",
      "   N    Tit     Tnf  Tnint  Skip  Nact     Projg        F\n",
      "    5     42     49      1     0     0   5.935D-06   5.052D+00\n",
      "  F =   5.0516983347113209     \n",
      "\n",
      "CONVERGENCE: NORM_OF_PROJECTED_GRADIENT_<=_PGTOL            \n",
      "Tried out SARIMAX(0, 1, 1)x(1, 1, 0, 7) - AIC:44222.46\n",
      "RUNNING THE L-BFGS-B CODE\n",
      "\n",
      "           * * *\n",
      "\n",
      "Machine precision = 2.220D-16\n",
      " N =            6     M =           10\n",
      "\n",
      "At X0         0 variables are exactly at the bounds\n",
      "\n",
      "At iterate    0    f=  5.10887D+00    |proj g|=  7.83637D-02\n"
     ]
    },
    {
     "name": "stderr",
     "output_type": "stream",
     "text": [
      " This problem is unconstrained.\n"
     ]
    },
    {
     "name": "stdout",
     "output_type": "stream",
     "text": [
      "\n",
      "At iterate    5    f=  5.01504D+00    |proj g|=  1.05363D-02\n",
      "\n",
      "At iterate   10    f=  4.92429D+00    |proj g|=  4.35420D-03\n",
      "\n",
      "At iterate   15    f=  4.91292D+00    |proj g|=  1.02611D-02\n",
      "\n",
      "At iterate   20    f=  4.91226D+00    |proj g|=  1.65534D-03\n",
      "\n",
      "At iterate   25    f=  4.90857D+00    |proj g|=  1.26400D-02\n",
      "\n",
      "At iterate   30    f=  4.90470D+00    |proj g|=  7.09946D-04\n",
      "\n",
      "At iterate   35    f=  4.90466D+00    |proj g|=  2.82633D-03\n",
      "\n",
      "At iterate   40    f=  4.90391D+00    |proj g|=  1.35522D-03\n",
      "\n",
      "At iterate   45    f=  4.90381D+00    |proj g|=  2.19006D-04\n",
      "\n",
      "At iterate   50    f=  4.90381D+00    |proj g|=  1.22400D-04\n",
      "\n",
      "           * * *\n",
      "\n",
      "Tit   = total number of iterations\n",
      "Tnf   = total number of function evaluations\n",
      "Tnint = total number of segments explored during Cauchy searches\n",
      "Skip  = number of BFGS updates skipped\n",
      "Nact  = number of active bounds at final generalized Cauchy point\n",
      "Projg = norm of the final projected gradient\n",
      "F     = final function value\n",
      "\n",
      "           * * *\n",
      "\n",
      "   N    Tit     Tnf  Tnint  Skip  Nact     Projg        F\n",
      "    6     50     68      1     0     0   1.224D-04   4.904D+00\n",
      "  F =   4.9038142114636125     \n",
      "\n",
      "STOP: TOTAL NO. of ITERATIONS REACHED LIMIT                 \n",
      "Tried out SARIMAX(0, 1, 1)x(1, 1, 1, 7) - AIC:42930.18\n",
      "RUNNING THE L-BFGS-B CODE\n",
      "\n",
      "           * * *\n",
      "\n",
      "Machine precision = 2.220D-16\n",
      " N =            4     M =           10\n",
      "\n",
      "At X0         0 variables are exactly at the bounds\n",
      "\n",
      "At iterate    0    f=  5.38730D+00    |proj g|=  4.00155D-03\n"
     ]
    },
    {
     "name": "stderr",
     "output_type": "stream",
     "text": [
      " This problem is unconstrained.\n"
     ]
    },
    {
     "name": "stdout",
     "output_type": "stream",
     "text": [
      "\n",
      "At iterate    5    f=  5.38702D+00    |proj g|=  3.75086D-04\n",
      "\n",
      "At iterate   10    f=  5.38691D+00    |proj g|=  8.10521D-03\n",
      "\n",
      "At iterate   15    f=  5.38618D+00    |proj g|=  2.84587D-03\n",
      "\n",
      "At iterate   20    f=  5.38501D+00    |proj g|=  2.02585D-04\n",
      "\n",
      "           * * *\n",
      "\n",
      "Tit   = total number of iterations\n",
      "Tnf   = total number of function evaluations\n",
      "Tnint = total number of segments explored during Cauchy searches\n",
      "Skip  = number of BFGS updates skipped\n",
      "Nact  = number of active bounds at final generalized Cauchy point\n",
      "Projg = norm of the final projected gradient\n",
      "F     = final function value\n",
      "\n",
      "           * * *\n",
      "\n",
      "   N    Tit     Tnf  Tnint  Skip  Nact     Projg        F\n",
      "    4     22     24      1     0     0   3.819D-05   5.385D+00\n",
      "  F =   5.3850071477420007     \n",
      "\n",
      "CONVERGENCE: REL_REDUCTION_OF_F_<=_FACTR*EPSMCH             \n",
      "Tried out SARIMAX(1, 1, 0)x(0, 1, 0, 7) - AIC:47137.58\n"
     ]
    },
    {
     "name": "stderr",
     "output_type": "stream",
     "text": [
      " This problem is unconstrained.\n"
     ]
    },
    {
     "name": "stdout",
     "output_type": "stream",
     "text": [
      "RUNNING THE L-BFGS-B CODE\n",
      "\n",
      "           * * *\n",
      "\n",
      "Machine precision = 2.220D-16\n",
      " N =            5     M =           10\n",
      "\n",
      "At X0         0 variables are exactly at the bounds\n",
      "\n",
      "At iterate    0    f=  5.17696D+00    |proj g|=  4.23323D-02\n",
      "\n",
      "At iterate    5    f=  5.12737D+00    |proj g|=  7.83160D-03\n",
      "\n",
      "At iterate   10    f=  5.07586D+00    |proj g|=  8.91907D-04\n",
      "\n",
      "At iterate   15    f=  5.07136D+00    |proj g|=  3.96169D-02\n",
      "\n",
      "At iterate   20    f=  5.06667D+00    |proj g|=  7.47254D-04\n",
      "\n",
      "At iterate   25    f=  5.06587D+00    |proj g|=  3.96185D-04\n",
      "\n",
      "           * * *\n",
      "\n",
      "Tit   = total number of iterations\n",
      "Tnf   = total number of function evaluations\n",
      "Tnint = total number of segments explored during Cauchy searches\n",
      "Skip  = number of BFGS updates skipped\n",
      "Nact  = number of active bounds at final generalized Cauchy point\n",
      "Projg = norm of the final projected gradient\n",
      "F     = final function value\n",
      "\n",
      "           * * *\n",
      "\n",
      "   N    Tit     Tnf  Tnint  Skip  Nact     Projg        F\n",
      "    5     27     32      1     0     0   7.819D-06   5.066D+00\n",
      "  F =   5.0658609579978640     \n",
      "\n",
      "CONVERGENCE: NORM_OF_PROJECTED_GRADIENT_<=_PGTOL            \n",
      "Tried out SARIMAX(1, 1, 0)x(0, 1, 1, 7) - AIC:44346.42\n",
      "RUNNING THE L-BFGS-B CODE\n",
      "\n",
      "           * * *\n",
      "\n",
      "Machine precision = 2.220D-16\n",
      " N =            5     M =           10\n",
      "\n",
      "At X0         0 variables are exactly at the bounds\n",
      "\n",
      "At iterate    0    f=  5.25771D+00    |proj g|=  4.69992D-03\n"
     ]
    },
    {
     "name": "stderr",
     "output_type": "stream",
     "text": [
      " This problem is unconstrained.\n"
     ]
    },
    {
     "name": "stdout",
     "output_type": "stream",
     "text": [
      "\n",
      "At iterate    5    f=  5.24930D+00    |proj g|=  2.78762D-02\n",
      "\n",
      "At iterate   10    f=  5.23817D+00    |proj g|=  6.82497D-04\n",
      "\n",
      "At iterate   15    f=  5.23807D+00    |proj g|=  8.78196D-03\n",
      "\n",
      "At iterate   20    f=  5.23302D+00    |proj g|=  3.36825D-02\n",
      "\n",
      "At iterate   25    f=  5.23201D+00    |proj g|=  1.22656D-04\n",
      "\n",
      "At iterate   30    f=  5.23201D+00    |proj g|=  3.37829D-05\n",
      "\n",
      "           * * *\n",
      "\n",
      "Tit   = total number of iterations\n",
      "Tnf   = total number of function evaluations\n",
      "Tnint = total number of segments explored during Cauchy searches\n",
      "Skip  = number of BFGS updates skipped\n",
      "Nact  = number of active bounds at final generalized Cauchy point\n",
      "Projg = norm of the final projected gradient\n",
      "F     = final function value\n",
      "\n",
      "           * * *\n",
      "\n",
      "   N    Tit     Tnf  Tnint  Skip  Nact     Projg        F\n",
      "    5     31     35      1     0     0   7.646D-06   5.232D+00\n",
      "  F =   5.2320085187759569     \n",
      "\n",
      "CONVERGENCE: NORM_OF_PROJECTED_GRADIENT_<=_PGTOL            \n",
      "Tried out SARIMAX(1, 1, 0)x(1, 1, 0, 7) - AIC:45800.54\n",
      "RUNNING THE L-BFGS-B CODE\n",
      "\n",
      "           * * *\n",
      "\n",
      "Machine precision = 2.220D-16\n",
      " N =            6     M =           10\n",
      "\n",
      "At X0         0 variables are exactly at the bounds\n",
      "\n",
      "At iterate    0    f=  5.21073D+00    |proj g|=  7.84530D-02\n"
     ]
    },
    {
     "name": "stderr",
     "output_type": "stream",
     "text": [
      " This problem is unconstrained.\n"
     ]
    },
    {
     "name": "stdout",
     "output_type": "stream",
     "text": [
      "\n",
      "At iterate    5    f=  5.14590D+00    |proj g|=  8.32609D-03\n",
      "\n",
      "At iterate   10    f=  5.07493D+00    |proj g|=  3.61986D-03\n",
      "\n",
      "At iterate   15    f=  5.07482D+00    |proj g|=  4.60531D-03\n",
      "\n",
      "At iterate   20    f=  5.06916D+00    |proj g|=  1.71910D-02\n",
      "\n",
      "At iterate   25    f=  5.06761D+00    |proj g|=  1.75821D-04\n",
      "\n",
      "           * * *\n",
      "\n",
      "Tit   = total number of iterations\n",
      "Tnf   = total number of function evaluations\n",
      "Tnint = total number of segments explored during Cauchy searches\n",
      "Skip  = number of BFGS updates skipped\n",
      "Nact  = number of active bounds at final generalized Cauchy point\n",
      "Projg = norm of the final projected gradient\n",
      "F     = final function value\n",
      "\n",
      "           * * *\n",
      "\n",
      "   N    Tit     Tnf  Tnint  Skip  Nact     Projg        F\n",
      "    6     28     32      1     0     0   6.976D-06   5.068D+00\n",
      "  F =   5.0676116263867730     \n",
      "\n",
      "CONVERGENCE: NORM_OF_PROJECTED_GRADIENT_<=_PGTOL            \n",
      "Tried out SARIMAX(1, 1, 0)x(1, 1, 1, 7) - AIC:44363.74\n",
      "RUNNING THE L-BFGS-B CODE\n",
      "\n",
      "           * * *\n",
      "\n",
      "Machine precision = 2.220D-16\n",
      " N =            5     M =           10\n",
      "\n",
      "At X0         0 variables are exactly at the bounds\n",
      "\n",
      "At iterate    0    f=  5.27682D+00    |proj g|=  8.50981D-02\n"
     ]
    },
    {
     "name": "stderr",
     "output_type": "stream",
     "text": [
      " This problem is unconstrained.\n"
     ]
    },
    {
     "name": "stdout",
     "output_type": "stream",
     "text": [
      "\n",
      "At iterate    5    f=  5.22129D+00    |proj g|=  7.00399D-03\n",
      "\n",
      "At iterate   10    f=  5.20426D+00    |proj g|=  5.41399D-03\n",
      "\n",
      "At iterate   15    f=  5.20314D+00    |proj g|=  6.02762D-03\n",
      "\n",
      "At iterate   20    f=  5.20115D+00    |proj g|=  2.75819D-03\n",
      "\n",
      "           * * *\n",
      "\n",
      "Tit   = total number of iterations\n",
      "Tnf   = total number of function evaluations\n",
      "Tnint = total number of segments explored during Cauchy searches\n",
      "Skip  = number of BFGS updates skipped\n",
      "Nact  = number of active bounds at final generalized Cauchy point\n",
      "Projg = norm of the final projected gradient\n",
      "F     = final function value\n",
      "\n",
      "           * * *\n",
      "\n",
      "   N    Tit     Tnf  Tnint  Skip  Nact     Projg        F\n",
      "    5     24     29      1     0     0   5.976D-06   5.201D+00\n",
      "  F =   5.2009440993514628     \n",
      "\n",
      "CONVERGENCE: NORM_OF_PROJECTED_GRADIENT_<=_PGTOL            \n",
      "Tried out SARIMAX(1, 1, 1)x(0, 1, 0, 7) - AIC:45528.66\n"
     ]
    },
    {
     "name": "stderr",
     "output_type": "stream",
     "text": [
      " This problem is unconstrained.\n"
     ]
    },
    {
     "name": "stdout",
     "output_type": "stream",
     "text": [
      "RUNNING THE L-BFGS-B CODE\n",
      "\n",
      "           * * *\n",
      "\n",
      "Machine precision = 2.220D-16\n",
      " N =            6     M =           10\n",
      "\n",
      "At X0         0 variables are exactly at the bounds\n",
      "\n",
      "At iterate    0    f=  5.07402D+00    |proj g|=  6.05080D-02\n",
      "\n",
      "At iterate    5    f=  5.01079D+00    |proj g|=  1.05918D-02\n",
      "\n",
      "At iterate   10    f=  4.92451D+00    |proj g|=  4.04614D-03\n",
      "\n",
      "At iterate   15    f=  4.91087D+00    |proj g|=  1.70687D-02\n",
      "\n",
      "At iterate   20    f=  4.91029D+00    |proj g|=  1.78836D-03\n",
      "\n",
      "At iterate   25    f=  4.90861D+00    |proj g|=  1.64081D-02\n",
      "\n",
      "At iterate   30    f=  4.90397D+00    |proj g|=  1.17145D-03\n",
      "\n",
      "At iterate   35    f=  4.90347D+00    |proj g|=  2.96148D-03\n",
      "\n",
      "At iterate   40    f=  4.90276D+00    |proj g|=  6.12228D-04\n",
      "\n",
      "           * * *\n",
      "\n",
      "Tit   = total number of iterations\n",
      "Tnf   = total number of function evaluations\n",
      "Tnint = total number of segments explored during Cauchy searches\n",
      "Skip  = number of BFGS updates skipped\n",
      "Nact  = number of active bounds at final generalized Cauchy point\n",
      "Projg = norm of the final projected gradient\n",
      "F     = final function value\n",
      "\n",
      "           * * *\n",
      "\n",
      "   N    Tit     Tnf  Tnint  Skip  Nact     Projg        F\n",
      "    6     44     58      1     0     0   4.911D-06   4.903D+00\n",
      "  F =   4.9027452853368914     \n",
      "\n",
      "CONVERGENCE: NORM_OF_PROJECTED_GRADIENT_<=_PGTOL            \n",
      "Tried out SARIMAX(1, 1, 1)x(0, 1, 1, 7) - AIC:42920.83\n"
     ]
    },
    {
     "name": "stderr",
     "output_type": "stream",
     "text": [
      " This problem is unconstrained.\n"
     ]
    },
    {
     "name": "stdout",
     "output_type": "stream",
     "text": [
      "RUNNING THE L-BFGS-B CODE\n",
      "\n",
      "           * * *\n",
      "\n",
      "Machine precision = 2.220D-16\n",
      " N =            6     M =           10\n",
      "\n",
      "At X0         0 variables are exactly at the bounds\n",
      "\n",
      "At iterate    0    f=  5.14866D+00    |proj g|=  7.83080D-02\n",
      "\n",
      "At iterate    5    f=  5.10635D+00    |proj g|=  7.27364D-03\n",
      "\n",
      "At iterate   10    f=  5.05563D+00    |proj g|=  6.39109D-03\n",
      "\n",
      "At iterate   15    f=  5.05517D+00    |proj g|=  1.35674D-02\n",
      "\n",
      "At iterate   20    f=  5.05011D+00    |proj g|=  3.74724D-03\n",
      "\n",
      "           * * *\n",
      "\n",
      "Tit   = total number of iterations\n",
      "Tnf   = total number of function evaluations\n",
      "Tnint = total number of segments explored during Cauchy searches\n",
      "Skip  = number of BFGS updates skipped\n",
      "Nact  = number of active bounds at final generalized Cauchy point\n",
      "Projg = norm of the final projected gradient\n",
      "F     = final function value\n",
      "\n",
      "           * * *\n",
      "\n",
      "   N    Tit     Tnf  Tnint  Skip  Nact     Projg        F\n",
      "    6     23     28      1     0     0   1.146D-05   5.050D+00\n",
      "  F =   5.0500835721124755     \n",
      "\n",
      "CONVERGENCE: REL_REDUCTION_OF_F_<=_FACTR*EPSMCH             \n",
      "Tried out SARIMAX(1, 1, 1)x(1, 1, 0, 7) - AIC:44210.33\n"
     ]
    },
    {
     "name": "stderr",
     "output_type": "stream",
     "text": [
      " This problem is unconstrained.\n"
     ]
    },
    {
     "name": "stdout",
     "output_type": "stream",
     "text": [
      "RUNNING THE L-BFGS-B CODE\n",
      "\n",
      "           * * *\n",
      "\n",
      "Machine precision = 2.220D-16\n",
      " N =            7     M =           10\n",
      "\n",
      "At X0         0 variables are exactly at the bounds\n",
      "\n",
      "At iterate    0    f=  5.10358D+00    |proj g|=  7.79085D-02\n",
      "\n",
      "At iterate    5    f=  5.03247D+00    |proj g|=  2.69079D-02\n",
      "\n",
      "At iterate   10    f=  4.94341D+00    |proj g|=  8.25013D-02\n",
      "\n",
      "At iterate   15    f=  4.92776D+00    |proj g|=  2.31679D-02\n",
      "\n",
      "At iterate   20    f=  4.90998D+00    |proj g|=  4.53766D-03\n",
      "\n",
      "At iterate   25    f=  4.90961D+00    |proj g|=  6.56390D-03\n",
      "\n",
      "At iterate   30    f=  4.90619D+00    |proj g|=  1.75158D-02\n",
      "\n",
      "At iterate   35    f=  4.90519D+00    |proj g|=  4.29216D-03\n",
      "\n",
      "At iterate   40    f=  4.90279D+00    |proj g|=  7.89435D-03\n",
      "\n",
      "At iterate   45    f=  4.90262D+00    |proj g|=  4.94376D-04\n",
      "\n",
      "           * * *\n",
      "\n",
      "Tit   = total number of iterations\n",
      "Tnf   = total number of function evaluations\n",
      "Tnint = total number of segments explored during Cauchy searches\n",
      "Skip  = number of BFGS updates skipped\n",
      "Nact  = number of active bounds at final generalized Cauchy point\n",
      "Projg = norm of the final projected gradient\n",
      "F     = final function value\n",
      "\n",
      "           * * *\n",
      "\n",
      "   N    Tit     Tnf  Tnint  Skip  Nact     Projg        F\n",
      "    7     49     63      1     0     0   5.224D-06   4.903D+00\n",
      "  F =   4.9026175102861638     \n",
      "\n",
      "CONVERGENCE: NORM_OF_PROJECTED_GRADIENT_<=_PGTOL            \n",
      "Tried out SARIMAX(1, 1, 1)x(1, 1, 1, 7) - AIC:42921.71\n"
     ]
    }
   ],
   "source": [
    "all_res = sarimax(nyc_v_train,exo_temp_hol_train,all_param)"
   ]
  },
  {
   "cell_type": "code",
   "execution_count": 30,
   "id": "260518ff",
   "metadata": {},
   "outputs": [
    {
     "data": {
      "text/plain": [
       "[(<statsmodels.tsa.statespace.sarimax.SARIMAXResultsWrapper at 0x7fca45f64490>,\n",
       "  42920.82673726847,\n",
       "  ((1, 1, 1), (0, 1, 1, 7))),\n",
       " (<statsmodels.tsa.statespace.sarimax.SARIMAXResultsWrapper at 0x7fca45f81f70>,\n",
       "  42921.708450024504,\n",
       "  ((1, 1, 1), (1, 1, 1, 7))),\n",
       " (<statsmodels.tsa.statespace.sarimax.SARIMAXResultsWrapper at 0x7fca8baa5bb0>,\n",
       "  42928.670469623896,\n",
       "  ((0, 1, 1), (0, 1, 1, 7))),\n",
       " (<statsmodels.tsa.statespace.sarimax.SARIMAXResultsWrapper at 0x7fca6c141a60>,\n",
       "  42930.18197872954,\n",
       "  ((0, 1, 1), (1, 1, 1, 7))),\n",
       " (<statsmodels.tsa.statespace.sarimax.SARIMAXResultsWrapper at 0x7fca45f49310>,\n",
       "  44210.33142312839,\n",
       "  ((1, 1, 1), (1, 1, 0, 7)))]"
      ]
     },
     "execution_count": 30,
     "metadata": {},
     "output_type": "execute_result"
    }
   ],
   "source": [
    "all_res.sort(key=lambda x: x[1])\n",
    "all_res[:5]"
   ]
  },
  {
   "cell_type": "code",
   "execution_count": 31,
   "id": "c342203a",
   "metadata": {},
   "outputs": [],
   "source": [
    "# set parameter range\n",
    "p,d,q = range(0,2),[0],range(0,2)\n",
    "P,D,Q,s = range(0,2),[0],range(0,2),[7]\n",
    "# list of all parameter combos\n",
    "pdq = list(itertools.product(p, d, q))\n",
    "seasonal_pdq = list(itertools.product(P, D, Q, s))\n",
    "all_param = list(itertools.product(pdq,seasonal_pdq))"
   ]
  },
  {
   "cell_type": "code",
   "execution_count": 32,
   "id": "10d8a3df",
   "metadata": {},
   "outputs": [
    {
     "data": {
      "image/png": "[encoded data removed]",
      "text/plain": [
       "<Figure size 1080x864 with 4 Axes>"
      ]
     },
     "metadata": {
      "needs_background": "light"
     },
     "output_type": "display_data"
    },
    {
     "name": "stdout",
     "output_type": "stream",
     "text": [
      "Ljung-box p-values:\n",
      "[5.95560366e-01 8.39104212e-01 7.10834672e-01 8.03141843e-01\n",
      " 6.90261567e-01 7.76182286e-01 3.57683454e-01 4.60504698e-01\n",
      " 4.98338094e-01 4.22472725e-01 3.78539194e-01 3.84333652e-01\n",
      " 3.01904464e-01 3.12963363e-04]\n"
     ]
    },
    {
     "data": {
      "text/html": [
       "<table class=\"simpletable\">\n",
       "<caption>SARIMAX Results</caption>\n",
       "<tr>\n",
       "  <th>Dep. Variable:</th>            <td>crime count</td>          <th>  No. Observations:  </th>    <td>4376</td>   \n",
       "</tr>\n",
       "<tr>\n",
       "  <th>Model:</th>           <td>SARIMAX(1, 1, 1)x(0, 1, 1, 7)</td> <th>  Log Likelihood     </th> <td>-21454.413</td>\n",
       "</tr>\n",
       "<tr>\n",
       "  <th>Date:</th>                  <td>Tue, 26 Apr 2022</td>        <th>  AIC                </th>  <td>42920.827</td>\n",
       "</tr>\n",
       "<tr>\n",
       "  <th>Time:</th>                      <td>16:27:53</td>            <th>  BIC                </th>  <td>42959.119</td>\n",
       "</tr>\n",
       "<tr>\n",
       "  <th>Sample:</th>                   <td>01-01-2009</td>           <th>  HQIC               </th>  <td>42934.340</td>\n",
       "</tr>\n",
       "<tr>\n",
       "  <th></th>                         <td>- 12-24-2020</td>          <th>                     </th>      <td> </td>    \n",
       "</tr>\n",
       "<tr>\n",
       "  <th>Covariance Type:</th>              <td>opg</td>              <th>                     </th>      <td> </td>    \n",
       "</tr>\n",
       "</table>\n",
       "<table class=\"simpletable\">\n",
       "<tr>\n",
       "     <td></td>        <th>coef</th>     <th>std err</th>      <th>z</th>      <th>P>|z|</th>  <th>[0.025</th>    <th>0.975]</th>  \n",
       "</tr>\n",
       "<tr>\n",
       "  <th>avgTemp</th> <td>    1.5871</td> <td>    0.062</td> <td>   25.600</td> <td> 0.000</td> <td>    1.466</td> <td>    1.709</td>\n",
       "</tr>\n",
       "<tr>\n",
       "  <th>Holiday</th> <td>   39.2633</td> <td>    1.884</td> <td>   20.838</td> <td> 0.000</td> <td>   35.570</td> <td>   42.956</td>\n",
       "</tr>\n",
       "<tr>\n",
       "  <th>ar.L1</th>   <td>    0.0522</td> <td>    0.013</td> <td>    3.890</td> <td> 0.000</td> <td>    0.026</td> <td>    0.078</td>\n",
       "</tr>\n",
       "<tr>\n",
       "  <th>ma.L1</th>   <td>   -0.9462</td> <td>    0.005</td> <td> -187.226</td> <td> 0.000</td> <td>   -0.956</td> <td>   -0.936</td>\n",
       "</tr>\n",
       "<tr>\n",
       "  <th>ma.S.L7</th> <td>   -0.9895</td> <td>    0.003</td> <td> -350.566</td> <td> 0.000</td> <td>   -0.995</td> <td>   -0.984</td>\n",
       "</tr>\n",
       "<tr>\n",
       "  <th>sigma2</th>  <td> 1073.2408</td> <td>    9.345</td> <td>  114.849</td> <td> 0.000</td> <td> 1054.925</td> <td> 1091.556</td>\n",
       "</tr>\n",
       "</table>\n",
       "<table class=\"simpletable\">\n",
       "<tr>\n",
       "  <th>Ljung-Box (L1) (Q):</th>     <td>0.28</td> <th>  Jarque-Bera (JB):  </th> <td>358480.22</td>\n",
       "</tr>\n",
       "<tr>\n",
       "  <th>Prob(Q):</th>                <td>0.60</td> <th>  Prob(JB):          </th>   <td>0.00</td>   \n",
       "</tr>\n",
       "<tr>\n",
       "  <th>Heteroskedasticity (H):</th> <td>0.74</td> <th>  Skew:              </th>   <td>3.75</td>   \n",
       "</tr>\n",
       "<tr>\n",
       "  <th>Prob(H) (two-sided):</th>    <td>0.00</td> <th>  Kurtosis:          </th>   <td>46.74</td>  \n",
       "</tr>\n",
       "</table><br/><br/>Warnings:<br/>[1] Covariance matrix calculated using the outer product of gradients (complex-step)."
      ],
      "text/plain": [
       "<class 'statsmodels.iolib.summary.Summary'>\n",
       "\"\"\"\n",
       "                                     SARIMAX Results                                     \n",
       "=========================================================================================\n",
       "Dep. Variable:                       crime count   No. Observations:                 4376\n",
       "Model:             SARIMAX(1, 1, 1)x(0, 1, 1, 7)   Log Likelihood              -21454.413\n",
       "Date:                           Tue, 26 Apr 2022   AIC                          42920.827\n",
       "Time:                                   16:27:53   BIC                          42959.119\n",
       "Sample:                               01-01-2009   HQIC                         42934.340\n",
       "                                    - 12-24-2020                                         \n",
       "Covariance Type:                             opg                                         \n",
       "==============================================================================\n",
       "                 coef    std err          z      P>|z|      [0.025      0.975]\n",
       "------------------------------------------------------------------------------\n",
       "avgTemp        1.5871      0.062     25.600      0.000       1.466       1.709\n",
       "Holiday       39.2633      1.884     20.838      0.000      35.570      42.956\n",
       "ar.L1          0.0522      0.013      3.890      0.000       0.026       0.078\n",
       "ma.L1         -0.9462      0.005   -187.226      0.000      -0.956      -0.936\n",
       "ma.S.L7       -0.9895      0.003   -350.566      0.000      -0.995      -0.984\n",
       "sigma2      1073.2408      9.345    114.849      0.000    1054.925    1091.556\n",
       "===================================================================================\n",
       "Ljung-Box (L1) (Q):                   0.28   Jarque-Bera (JB):            358480.22\n",
       "Prob(Q):                              0.60   Prob(JB):                         0.00\n",
       "Heteroskedasticity (H):               0.74   Skew:                             3.75\n",
       "Prob(H) (two-sided):                  0.00   Kurtosis:                        46.74\n",
       "===================================================================================\n",
       "\n",
       "Warnings:\n",
       "[1] Covariance matrix calculated using the outer product of gradients (complex-step).\n",
       "\"\"\""
      ]
     },
     "execution_count": 32,
     "metadata": {},
     "output_type": "execute_result"
    }
   ],
   "source": [
    "res = all_res[0][0]\n",
    "res.plot_diagnostics(figsize=(15, 12))\n",
    "\n",
    "plt.show()\n",
    "print(\"Ljung-box p-values:\\n\" + str(res.test_serial_correlation(method='ljungbox')[0][1]))\n",
    "res.summary()"
   ]
  },
  {
   "cell_type": "code",
   "execution_count": 33,
   "id": "4982f55e",
   "metadata": {},
   "outputs": [],
   "source": [
    "def pm(y_true, y_pred):\n",
    "    return sum((y_true-y_pred)**2)/sum((y_true-np.mean(y_true))**2)"
   ]
  },
  {
   "cell_type": "code",
   "execution_count": 34,
   "id": "0c1aee5d",
   "metadata": {
    "scrolled": true
   },
   "outputs": [
    {
     "data": {
      "image/png": "[encoded data removed]",
      "text/plain": [
       "<Figure size 864x504 with 1 Axes>"
      ]
     },
     "metadata": {
      "needs_background": "light"
     },
     "output_type": "display_data"
    }
   ],
   "source": [
    "pred_test = res.get_prediction(start=train_end,end=test_end,exog=exo_temp_hol_test)\n",
    "err = ('\\nPM: %.2f'% pm(nyc_v_test['crime count'], pred_test.predicted_mean.to_frame()['predicted_mean']) + \\\n",
    "      '\\nMean absolute percentage error: %.2f'% MAPE(nyc_v_test, pred_test.predicted_mean) + \\\n",
    "      '\\nRoot mean squared error: %.2f'% sqrt(MSE(nyc_v_test, pred_test.predicted_mean)))\n",
    "\n",
    "pred = res.get_prediction(start=begin,end=test_end,exog=exo_temp_hol_test)\n",
    "pred_ci = pred.conf_int()\n",
    "\n",
    "fig, ax = plt.subplots(figsize=(12,7))\n",
    "ax.set(title='NYC Violent Crime', ylabel='Number of Incidents')\n",
    "\n",
    "nyc_v.plot(ax=ax, style = 'o')\n",
    "pred.predicted_mean.plot(ax=ax, style='o')\n",
    "ci = pred_ci.loc[demo_start:]\n",
    "ax.fill_between(ci.index, ci.iloc[:,0], ci.iloc[:,1], color='r', alpha=0.1)\n",
    "\n",
    "plt.figtext(0.12, -0.06, err, ha=\"left\",fontsize=15,va='center')\n",
    "legend = ax.legend([\"Train Set Observed\",\"Test Set Observed\", \"Forecast\"])\n",
    "\n"
   ]
  },
  {
   "cell_type": "code",
   "execution_count": 35,
   "id": "d155aec8",
   "metadata": {},
   "outputs": [
    {
     "data": {
      "image/png": "[encoded data removed]",
      "text/plain": [
       "<Figure size 864x504 with 1 Axes>"
      ]
     },
     "metadata": {
      "needs_background": "light"
     },
     "output_type": "display_data"
    }
   ],
   "source": [
    "pred_test = res.get_prediction(start=train_end,end=test_end,exog=exo_temp_hol_test)\n",
    "# The root mean squared error\n",
    "err = ('\\nPM: %.2f'% pm(nyc_v_test['crime count'], pred_test.predicted_mean.to_frame()['predicted_mean']) + \\\n",
    "      '\\nMean absolute percentage error: %.2f'% MAPE(nyc_v_test, pred_test.predicted_mean) + \\\n",
    "      '\\nRoot mean squared error: %.2f'% sqrt(MSE(nyc_v_test, pred_test.predicted_mean)))\n",
    "\n",
    "pred = res.get_prediction(start=demo_start,end=test_end,exog=exo_temp_hol_test)\n",
    "pred_ci = pred.conf_int()\n",
    "\n",
    "fig, ax = plt.subplots(figsize=(12,7))\n",
    "ax.set(title='NYC Violent Crime', ylabel='Number of Incidents')\n",
    "\n",
    "nyc_v_train[demo_start:].plot(ax=ax)\n",
    "nyc_v_test.plot(ax=ax)\n",
    "pred.predicted_mean.plot(ax=ax)\n",
    "ci = pred_ci.loc[demo_start:]\n",
    "ax.fill_between(ci.index, ci.iloc[:,0], ci.iloc[:,1], color='r', alpha=0.1)\n",
    "\n",
    "plt.figtext(0.12, -0.06, err, ha=\"left\",fontsize=15,va='center')\n",
    "legend = ax.legend([\"Train Set Observed\",\"Test Set Observed\", \"Forecast\"])\n",
    "ax.grid(True)"
   ]
  }
 ],
 "metadata": {
  "kernelspec": {
   "display_name": "Python 3 (ipykernel)",
   "language": "python",
   "name": "python3"
  },
  "language_info": {
   "codemirror_mode": {
    "name": "ipython",
    "version": 3
   },
   "file_extension": ".py",
   "mimetype": "text/x-python",
   "name": "python",
   "nbconvert_exporter": "python",
   "pygments_lexer": "ipython3",
   "version": "3.9.7"
  }
 },
 "nbformat": 4,
 "nbformat_minor": 5
}
