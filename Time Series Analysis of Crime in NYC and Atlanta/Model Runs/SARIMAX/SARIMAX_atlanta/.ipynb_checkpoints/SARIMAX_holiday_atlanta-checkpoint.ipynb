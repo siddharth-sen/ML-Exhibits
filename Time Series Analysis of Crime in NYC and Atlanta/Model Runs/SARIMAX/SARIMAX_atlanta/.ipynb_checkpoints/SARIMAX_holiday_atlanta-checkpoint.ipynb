{
 "cells": [
  {
   "cell_type": "code",
   "execution_count": 1,
   "id": "c4056ef1",
   "metadata": {},
   "outputs": [],
   "source": [
    "#pip install holidays"
   ]
  },
  {
   "cell_type": "code",
   "execution_count": 2,
   "id": "adba5d5f",
   "metadata": {},
   "outputs": [],
   "source": [
    "# Basic imports\n",
    "import numpy as np\n",
    "import pandas as pd\n",
    "import datetime # manipulating date formats\n",
    "import itertools\n",
    "import time\n",
    "import holidays\n",
    "import os\n",
    "\n",
    "from math import sqrt\n",
    "from matplotlib import pyplot as plt\n",
    "\n",
    "from sklearn.model_selection import train_test_split\n",
    "from sklearn.metrics import mean_squared_error as MSE, r2_score, mean_absolute_percentage_error as MAPE\n",
    "from sklearn import datasets, linear_model\n",
    "\n",
    "# Stats packages\n",
    "from statsmodels.tsa.statespace.sarimax import SARIMAX\n",
    "from statsmodels.tsa.statespace.tools import diff\n",
    "from statsmodels.graphics.tsaplots import plot_acf,plot_pacf\n",
    "from statsmodels.stats.diagnostic import acorr_ljungbox\n",
    "from statsmodels.tsa.stattools import adfuller\n",
    "import statsmodels.api as sm\n",
    "\n",
    "import warnings\n",
    "warnings.filterwarnings(\"ignore\")"
   ]
  },
  {
   "cell_type": "code",
   "execution_count": 3,
   "id": "34aa177b",
   "metadata": {},
   "outputs": [],
   "source": [
    "atl_v = pd.read_csv(\"/Users/sameshbajaj/Desktop/Time Series Analysis/Assignments/Project/nyc_violent_final copy.csv\", parse_dates=['date'])\n",
    "atl_temp = pd.read_csv(\"/Users/sameshbajaj/Desktop/Time Series Analysis/Assignments/Project/ISYE6203_ATL_avg_temp_2009-2020.csv\", parse_dates=['date'])\n",
    "holiday = pd.read_csv(\"/Users/sameshbajaj/Desktop/Time Series Analysis/Assignments/Project/Holidays_2009-2020.csv\", parse_dates=['date'])"
   ]
  },
  {
   "cell_type": "code",
   "execution_count": 4,
   "id": "826d8b70",
   "metadata": {},
   "outputs": [],
   "source": [
    "atl_v = atl_v.set_index(\"date\")\n",
    "atl_temp = atl_temp.set_index(\"date\")\n",
    "holiday = holiday.set_index(\"date\")"
   ]
  },
  {
   "cell_type": "code",
   "execution_count": 5,
   "id": "4f15c467",
   "metadata": {},
   "outputs": [
    {
     "data": {
      "text/plain": [
       "<AxesSubplot:xlabel='date'>"
      ]
     },
     "execution_count": 5,
     "metadata": {},
     "output_type": "execute_result"
    },
    {
     "data": {
      "image/png": "[encoded data removed]",
      "text/plain": [
       "<Figure size 432x288 with 1 Axes>"
      ]
     },
     "metadata": {
      "needs_background": "light"
     },
     "output_type": "display_data"
    }
   ],
   "source": [
    "atl_v.plot()"
   ]
  },
  {
   "cell_type": "code",
   "execution_count": 6,
   "id": "107e9eaa",
   "metadata": {},
   "outputs": [
    {
     "ename": "KeyError",
     "evalue": "\"None of ['date'] are in the columns\"",
     "output_type": "error",
     "traceback": [
      "\u001b[0;31m---------------------------------------------------------------------------\u001b[0m",
      "\u001b[0;31mKeyError\u001b[0m                                  Traceback (most recent call last)",
      "\u001b[0;32m/var/folders/ht/dkkksp6x1cl492ld15b9jnkr0000gn/T/ipykernel_16890/3876641715.py\u001b[0m in \u001b[0;36m<module>\u001b[0;34m\u001b[0m\n\u001b[0;32m----> 1\u001b[0;31m \u001b[0matl_temp\u001b[0m \u001b[0;34m=\u001b[0m \u001b[0matl_temp\u001b[0m\u001b[0;34m.\u001b[0m\u001b[0mset_index\u001b[0m\u001b[0;34m(\u001b[0m\u001b[0;34m\"date\"\u001b[0m\u001b[0;34m)\u001b[0m\u001b[0;34m\u001b[0m\u001b[0;34m\u001b[0m\u001b[0m\n\u001b[0m",
      "\u001b[0;32m~/opt/anaconda3/lib/python3.9/site-packages/pandas/util/_decorators.py\u001b[0m in \u001b[0;36mwrapper\u001b[0;34m(*args, **kwargs)\u001b[0m\n\u001b[1;32m    309\u001b[0m                     \u001b[0mstacklevel\u001b[0m\u001b[0;34m=\u001b[0m\u001b[0mstacklevel\u001b[0m\u001b[0;34m,\u001b[0m\u001b[0;34m\u001b[0m\u001b[0;34m\u001b[0m\u001b[0m\n\u001b[1;32m    310\u001b[0m                 )\n\u001b[0;32m--> 311\u001b[0;31m             \u001b[0;32mreturn\u001b[0m \u001b[0mfunc\u001b[0m\u001b[0;34m(\u001b[0m\u001b[0;34m*\u001b[0m\u001b[0margs\u001b[0m\u001b[0;34m,\u001b[0m \u001b[0;34m**\u001b[0m\u001b[0mkwargs\u001b[0m\u001b[0;34m)\u001b[0m\u001b[0;34m\u001b[0m\u001b[0;34m\u001b[0m\u001b[0m\n\u001b[0m\u001b[1;32m    312\u001b[0m \u001b[0;34m\u001b[0m\u001b[0m\n\u001b[1;32m    313\u001b[0m         \u001b[0;32mreturn\u001b[0m \u001b[0mwrapper\u001b[0m\u001b[0;34m\u001b[0m\u001b[0;34m\u001b[0m\u001b[0m\n",
      "\u001b[0;32m~/opt/anaconda3/lib/python3.9/site-packages/pandas/core/frame.py\u001b[0m in \u001b[0;36mset_index\u001b[0;34m(self, keys, drop, append, inplace, verify_integrity)\u001b[0m\n\u001b[1;32m   5449\u001b[0m \u001b[0;34m\u001b[0m\u001b[0m\n\u001b[1;32m   5450\u001b[0m         \u001b[0;32mif\u001b[0m \u001b[0mmissing\u001b[0m\u001b[0;34m:\u001b[0m\u001b[0;34m\u001b[0m\u001b[0;34m\u001b[0m\u001b[0m\n\u001b[0;32m-> 5451\u001b[0;31m             \u001b[0;32mraise\u001b[0m \u001b[0mKeyError\u001b[0m\u001b[0;34m(\u001b[0m\u001b[0;34mf\"None of {missing} are in the columns\"\u001b[0m\u001b[0;34m)\u001b[0m\u001b[0;34m\u001b[0m\u001b[0;34m\u001b[0m\u001b[0m\n\u001b[0m\u001b[1;32m   5452\u001b[0m \u001b[0;34m\u001b[0m\u001b[0m\n\u001b[1;32m   5453\u001b[0m         \u001b[0;32mif\u001b[0m \u001b[0minplace\u001b[0m\u001b[0;34m:\u001b[0m\u001b[0;34m\u001b[0m\u001b[0;34m\u001b[0m\u001b[0m\n",
      "\u001b[0;31mKeyError\u001b[0m: \"None of ['date'] are in the columns\""
     ]
    }
   ],
   "source": [
    "atl_temp = atl_temp.set_index(\"date\")"
   ]
  },
  {
   "cell_type": "code",
   "execution_count": null,
   "id": "84f21c0d",
   "metadata": {},
   "outputs": [],
   "source": [
    "atl_temp"
   ]
  },
  {
   "cell_type": "code",
   "execution_count": null,
   "id": "932bf9a4",
   "metadata": {},
   "outputs": [],
   "source": [
    "atl_temp.plot()"
   ]
  },
  {
   "cell_type": "code",
   "execution_count": null,
   "id": "95bf4ec7",
   "metadata": {},
   "outputs": [],
   "source": [
    "holiday"
   ]
  },
  {
   "cell_type": "code",
   "execution_count": null,
   "id": "db1ac972",
   "metadata": {},
   "outputs": [],
   "source": [
    "def test_stationarity(timeseries):\n",
    "    # Perform Dickey-Fuller test:\n",
    "    print('Results of Dickey-Fuller Test:')\n",
    "    dftest = adfuller(timeseries,maxlag=7*4, autolag='AIC')\n",
    "    dfoutput = pd.Series(dftest[0:4], index=['Test Statistic','p-value','#Lags Used','Number of Observations Used'])\n",
    "    for key,value in dftest[4].items():\n",
    "        dfoutput['Critical Value (%s)'%key] = value\n",
    "    print (round(dfoutput,3))"
   ]
  },
  {
   "cell_type": "code",
   "execution_count": null,
   "id": "0cd2dd5f",
   "metadata": {
    "scrolled": true
   },
   "outputs": [],
   "source": [
    "test_stationarity(atl_v)"
   ]
  },
  {
   "cell_type": "code",
   "execution_count": null,
   "id": "179792e3",
   "metadata": {},
   "outputs": [],
   "source": [
    "acf=plot_acf(atl_v)\n",
    "pacf=plot_pacf(atl_v)"
   ]
  },
  {
   "cell_type": "code",
   "execution_count": null,
   "id": "63d04ecf",
   "metadata": {},
   "outputs": [],
   "source": [
    "train_end = '2020-12-24'\n",
    "#test_start = '2020-12-18'\n",
    "test_end = '2020-12-31'\n",
    "demo_start = '2020-10-31'\n",
    "demo = atl_v[demo_start:test_end]\n",
    "atl_v_train, atl_v_test = atl_v[:train_end], atl_v[train_end:]\n",
    "\n",
    "atl_v_train.plot(figsize=(12,6), style='o', grid=True)"
   ]
  },
  {
   "cell_type": "code",
   "execution_count": null,
   "id": "54c3a378",
   "metadata": {},
   "outputs": [],
   "source": [
    "begin = '2009-01-01'\n",
    "abv = '2020-12-30'\n",
    "\n",
    "exo = holiday.copy()\n",
    "exo_train,exo_test = exo[:train_end], exo[train_end:abv]\n",
    "exo_test"
   ]
  },
  {
   "cell_type": "code",
   "execution_count": null,
   "id": "756ddf5f",
   "metadata": {},
   "outputs": [],
   "source": [
    "exo_train.shape"
   ]
  },
  {
   "cell_type": "code",
   "execution_count": null,
   "id": "faf237e9",
   "metadata": {},
   "outputs": [],
   "source": [
    "exo_test.shape"
   ]
  },
  {
   "cell_type": "code",
   "execution_count": null,
   "id": "41932281",
   "metadata": {},
   "outputs": [],
   "source": [
    "atl_v_train.shape"
   ]
  },
  {
   "cell_type": "code",
   "execution_count": null,
   "id": "9a9decf9",
   "metadata": {},
   "outputs": [],
   "source": [
    "atl_v_test.shape"
   ]
  },
  {
   "cell_type": "code",
   "execution_count": null,
   "id": "b820118d",
   "metadata": {},
   "outputs": [],
   "source": [
    "def sarimax(ts,exo,all_param):\n",
    "    results = []\n",
    "    for param in all_param:\n",
    "        try:\n",
    "            mod = SARIMAX(ts,\n",
    "                          exog = exo,\n",
    "                          order=param[0],\n",
    "                          seasonal_order=param[1])\n",
    "            res = mod.fit()\n",
    "            results.append((res,res.aic,param))\n",
    "            print('Tried out SARIMAX{}x{} - AIC:{}'.format(param[0], param[1], round(res.aic,2)))\n",
    "        except Exception as e:\n",
    "            print(e)\n",
    "            continue\n",
    "            \n",
    "    return results"
   ]
  },
  {
   "cell_type": "code",
   "execution_count": null,
   "id": "28003be3",
   "metadata": {},
   "outputs": [],
   "source": [
    "# set parameter range\n",
    "p,d,q = range(0,2),[1],range(0,2)\n",
    "P,D,Q,s = range(0,2),[1],range(0,2),[7]\n",
    "# list of all parameter combos\n",
    "pdq = list(itertools.product(p, d, q))\n",
    "seasonal_pdq = list(itertools.product(P, D, Q, s))\n",
    "all_param = list(itertools.product(pdq,seasonal_pdq))"
   ]
  },
  {
   "cell_type": "code",
   "execution_count": null,
   "id": "22b00a97",
   "metadata": {},
   "outputs": [],
   "source": [
    "all_res = sarimax(atl_v_train,exo_train,all_param)"
   ]
  },
  {
   "cell_type": "code",
   "execution_count": null,
   "id": "b8d1a71c",
   "metadata": {},
   "outputs": [],
   "source": [
    "all_res.sort(key=lambda x: x[1])\n",
    "all_res[:5]"
   ]
  },
  {
   "cell_type": "code",
   "execution_count": null,
   "id": "4c89a6b2",
   "metadata": {},
   "outputs": [],
   "source": [
    "res = all_res[0][0]\n",
    "res.plot_diagnostics(figsize=(15, 12))\n",
    "\n",
    "plt.show()\n",
    "print(\"Ljung-box p-values:\\n\" + str(res.test_serial_correlation(method='ljungbox')[0][1]))\n",
    "res.summary()"
   ]
  },
  {
   "cell_type": "code",
   "execution_count": null,
   "id": "31ce8b38",
   "metadata": {},
   "outputs": [],
   "source": [
    "def pm(y_true, y_pred):\n",
    "    return sum((y_true-y_pred)**2)/sum((y_true-np.mean(y_true))**2)"
   ]
  },
  {
   "cell_type": "code",
   "execution_count": null,
   "id": "18900c2a",
   "metadata": {
    "scrolled": true
   },
   "outputs": [],
   "source": [
    "pred_test = res.get_prediction(start=train_end,end=test_end,exog=exo_test)\n",
    "err = ('\\nPM: %.2f'% pm(atl_v_test['occurance_count'], pred_test.predicted_mean.to_frame()['predicted_mean']) + \\\n",
    "      '\\nMean absolute percentage error: %.2f'% MAPE(atl_v_test, pred_test.predicted_mean) + \\\n",
    "      '\\nRoot mean squared error: %.2f'% sqrt(MSE(atl_v_test, pred_test.predicted_mean)))\n",
    "\n",
    "pred = res.get_prediction(start=begin,end=test_end,exog=exo_test)\n",
    "pred_ci = pred.conf_int()\n",
    "\n",
    "fig, ax = plt.subplots(figsize=(12,7))\n",
    "ax.set(title='Atlanta Violent Crime', ylabel='Number of Incidents')\n",
    "\n",
    "atl_v.plot(ax=ax, style = 'o')\n",
    "pred.predicted_mean.plot(ax=ax, style='o')\n",
    "ci = pred_ci.loc[demo_start:]\n",
    "ax.fill_between(ci.index, ci.iloc[:,0], ci.iloc[:,1], color='r', alpha=0.1)\n",
    "\n",
    "plt.figtext(0.12, -0.06, err, ha=\"left\",fontsize=15,va='center')\n",
    "legend = ax.legend([\"Train Set Observed\",\"Test Set Observed\", \"Forecast\"])\n",
    "\n"
   ]
  },
  {
   "cell_type": "code",
   "execution_count": null,
   "id": "872d6444",
   "metadata": {},
   "outputs": [],
   "source": [
    "pred_test = res.get_prediction(start=train_end,end=test_end,exog=exo_test)\n",
    "# The root mean squared error\n",
    "err = ('\\nPM: %.2f'% pm(atl_v_test['occurance_count'], pred_test.predicted_mean.to_frame()['predicted_mean']) + \\\n",
    "      '\\nMean absolute percentage error: %.2f'% MAPE(atl_v_test, pred_test.predicted_mean) + \\\n",
    "      '\\nRoot mean squared error: %.2f'% sqrt(MSE(atl_v_test, pred_test.predicted_mean)))\n",
    "\n",
    "pred = res.get_prediction(start=demo_start,end=test_end,exog=exo_test)\n",
    "pred_ci = pred.conf_int()\n",
    "\n",
    "fig, ax = plt.subplots(figsize=(12,7))\n",
    "ax.set(title='Atlanta Violent Crime', ylabel='Number of Incidents')\n",
    "\n",
    "atl_v_train[demo_start:].plot(ax=ax)\n",
    "atl_v_test.plot(ax=ax)\n",
    "pred.predicted_mean.plot(ax=ax)\n",
    "ci = pred_ci.loc[demo_start:]\n",
    "ax.fill_between(ci.index, ci.iloc[:,0], ci.iloc[:,1], color='r', alpha=0.1)\n",
    "\n",
    "plt.figtext(0.12, -0.06, err, ha=\"left\",fontsize=15,va='center')\n",
    "legend = ax.legend([\"Train Set Observed\",\"Test Set Observed\", \"Forecast\"])\n",
    "ax.grid(True)"
   ]
  },
  {
   "cell_type": "code",
   "execution_count": null,
   "id": "f0f49d61",
   "metadata": {},
   "outputs": [],
   "source": []
  }
 ],
 "metadata": {
  "kernelspec": {
   "display_name": "Python 3 (ipykernel)",
   "language": "python",
   "name": "python3"
  },
  "language_info": {
   "codemirror_mode": {
    "name": "ipython",
    "version": 3
   },
   "file_extension": ".py",
   "mimetype": "text/x-python",
   "name": "python",
   "nbconvert_exporter": "python",
   "pygments_lexer": "ipython3",
   "version": "3.9.7"
  }
 },
 "nbformat": 4,
 "nbformat_minor": 5
}
