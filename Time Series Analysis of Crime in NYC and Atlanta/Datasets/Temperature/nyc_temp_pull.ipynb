{
 "cells": [
  {
   "cell_type": "code",
   "execution_count": 6,
   "id": "f6cf7937",
   "metadata": {},
   "outputs": [],
   "source": [
    "#IMPORT LIBRARIES\n",
    "\n",
    "import requests\n",
    "import pandas as pd\n",
    "import json\n",
    "import numpy as np\n",
    "from datetime import datetime"
   ]
  },
  {
   "cell_type": "code",
   "execution_count": 7,
   "id": "e0d1d121",
   "metadata": {},
   "outputs": [],
   "source": [
    "#NOAA Token\n",
    "Token = 'enter NOAA token here'"
   ]
  },
  {
   "cell_type": "code",
   "execution_count": 8,
   "id": "ee3aeec5",
   "metadata": {},
   "outputs": [],
   "source": [
    "#NYC Station ID\n",
    "station_id = 'GHCND:USW00094728'"
   ]
  },
  {
   "cell_type": "code",
   "execution_count": 28,
   "id": "fbb91215",
   "metadata": {
    "scrolled": false
   },
   "outputs": [
    {
     "name": "stdout",
     "output_type": "stream",
     "text": [
      "working on year 2013\n",
      "working on year 2014\n"
     ]
    }
   ],
   "source": [
    "#initialize lists to store data\n",
    "dates_temp = []\n",
    "dates_prcp = []\n",
    "temps = []\n",
    "prcp = []\n",
    "\n",
    "#for each year from 2015-2019 ...\n",
    "for year in range(2013, 2015):\n",
    "    year = str(year)\n",
    "    print('working on year '+year)\n",
    "    \n",
    "    #make the api call\n",
    "    r = requests.get('https://www.ncdc.noaa.gov/cdo-web/api/v2/data?datasetid=GHCND&datatypeid=TAVG&limit=1000&stationid=GHCND:USW00013874&startdate='+year+'-01-01&enddate='+year+'-12-31', headers={'token':Token})\n",
    "    #load the api response as a json\n",
    "    d = json.loads(r.text)\n",
    "    #get all items in the response which are average temperature readings\n",
    "    avg_temps = [item for item in d['results'] if item['datatype']=='TAVG']\n",
    "    #get the date field from all average temperature readings\n",
    "    dates_temp += [item['date'] for item in avg_temps]\n",
    "    #get the actual average temperature from all average temperature readings\n",
    "    temps += [item['value'] for item in avg_temps]"
   ]
  },
  {
   "cell_type": "code",
   "execution_count": null,
   "id": "164216d9",
   "metadata": {},
   "outputs": [],
   "source": [
    "df_temp.to_csv('ISYE6203_ATL_avg_temp_2015-2020.csv', index = False)"
   ]
  },
  {
   "cell_type": "code",
   "execution_count": 30,
   "id": "103deb1c",
   "metadata": {},
   "outputs": [],
   "source": [
    "#initialize dataframe\n",
    "df_temp = pd.DataFrame()\n",
    "\n",
    "#populate date and average temperature fields (cast string date to datetime and convert temperature from tenths of Celsius to Fahrenheit)\n",
    "df_temp['date'] = [datetime.strptime(d, \"%Y-%m-%dT%H:%M:%S\") for d in dates_temp]\n",
    "df_temp['avgTemp'] = [float(v)/10.0*1.8 + 32 for v in temps]"
   ]
  },
  {
   "cell_type": "code",
   "execution_count": 58,
   "id": "b0570763",
   "metadata": {},
   "outputs": [
    {
     "name": "stdout",
     "output_type": "stream",
     "text": [
      "working on year 2009\n",
      "working on year 2010\n",
      "working on year 2011\n",
      "working on year 2012\n",
      "working on year 2013\n",
      "working on year 2014\n",
      "working on year 2015\n",
      "working on year 2016\n",
      "working on year 2017\n",
      "working on year 2018\n",
      "working on year 2019\n",
      "working on year 2020\n"
     ]
    }
   ],
   "source": [
    "#initialize lists to store data\n",
    "dates_maxtemp = []\n",
    "dates_maxprcp = []\n",
    "mtemps = []\n",
    "maxprcp = []\n",
    "\n",
    "#for each year from 2015-2019 ...\n",
    "for year in range(2009, 2021):\n",
    "    year = str(year)\n",
    "    print('working on year '+year)\n",
    "    \n",
    "    #make the api call\n",
    "    r = requests.get('https://www.ncdc.noaa.gov/cdo-web/api/v2/data?datasetid=GHCND&datatypeid=TMAX&limit=1000&stationid=GHCND:USW00094728&startdate='+year+'-01-01&enddate='+year+'-12-31', headers={'token':Token})\n",
    "    #load the api response as a json\n",
    "    d = json.loads(r.text)\n",
    "    #get all items in the response which are average temperature readings\n",
    "    max_temps = [item for item in d['results'] if item['datatype']=='TMAX']\n",
    "    #get the date field from all average temperature readings\n",
    "    dates_maxtemp += [item['date'] for item in max_temps]\n",
    "    #get the actual average temperature from all average temperature readings\n",
    "    mtemps += [item['value'] for item in max_temps]"
   ]
  },
  {
   "cell_type": "code",
   "execution_count": 59,
   "id": "fa12033d",
   "metadata": {},
   "outputs": [],
   "source": [
    "df_temp_hax = pd.DataFrame()\n",
    "\n",
    "df_temp_hax['date'] = [datetime.strptime(d, \"%Y-%m-%dT%H:%M:%S\") for d in dates_maxtemp]\n",
    "df_temp_hax['maxTemp'] = [float(v)/10.0*1.8 + 32 for v in mtemps]"
   ]
  },
  {
   "cell_type": "code",
   "execution_count": 60,
   "id": "2b6668dc",
   "metadata": {},
   "outputs": [
    {
     "name": "stdout",
     "output_type": "stream",
     "text": [
      "working on year 2009\n",
      "working on year 2010\n",
      "working on year 2011\n",
      "working on year 2012\n",
      "working on year 2013\n",
      "working on year 2014\n",
      "working on year 2015\n",
      "working on year 2016\n",
      "working on year 2017\n",
      "working on year 2018\n",
      "working on year 2019\n",
      "working on year 2020\n"
     ]
    }
   ],
   "source": [
    "#initialize lists to store data\n",
    "dates_mintemp = []\n",
    "dates_minprcp = []\n",
    "mintemps = []\n",
    "minprcp = []\n",
    "\n",
    "#for each year from 2015-2019 ...\n",
    "for year in range(2009, 2021):\n",
    "    year = str(year)\n",
    "    print('working on year '+year)\n",
    "    \n",
    "    #make the api call\n",
    "    r = requests.get('https://www.ncdc.noaa.gov/cdo-web/api/v2/data?datasetid=GHCND&datatypeid=TMIN&limit=1000&stationid=GHCND:USW00094728&startdate='+year+'-01-01&enddate='+year+'-12-31', headers={'token':Token})\n",
    "    #load the api response as a json\n",
    "    d = json.loads(r.text)\n",
    "    #get all items in the response which are average temperature readings\n",
    "    min_temps = [item for item in d['results'] if item['datatype']=='TMIN']\n",
    "    #get the date field from all average temperature readings\n",
    "    dates_mintemp += [item['date'] for item in min_temps]\n",
    "    #get the actual average temperature from all average temperature readings\n",
    "    mintemps += [item['value'] for item in min_temps]"
   ]
  },
  {
   "cell_type": "code",
   "execution_count": 61,
   "id": "1567d2b0",
   "metadata": {},
   "outputs": [],
   "source": [
    "df_temp_hax['date2'] = [datetime.strptime(d, \"%Y-%m-%dT%H:%M:%S\") for d in dates_mintemp]\n",
    "df_temp_hax['minTemp'] = [float(v)/10.0*1.8 + 32 for v in mintemps]"
   ]
  },
  {
   "cell_type": "code",
   "execution_count": 62,
   "id": "bbfe0f10",
   "metadata": {},
   "outputs": [],
   "source": [
    "df_temp_hax['avgTemp'] = (df_temp_hax['maxTemp'] + df_temp_hax['minTemp']) / 2"
   ]
  },
  {
   "cell_type": "code",
   "execution_count": 63,
   "id": "947aba40",
   "metadata": {},
   "outputs": [
    {
     "data": {
      "text/html": [
       "<div>\n",
       "<style scoped>\n",
       "    .dataframe tbody tr th:only-of-type {\n",
       "        vertical-align: middle;\n",
       "    }\n",
       "\n",
       "    .dataframe tbody tr th {\n",
       "        vertical-align: top;\n",
       "    }\n",
       "\n",
       "    .dataframe thead th {\n",
       "        text-align: right;\n",
       "    }\n",
       "</style>\n",
       "<table border=\"1\" class=\"dataframe\">\n",
       "  <thead>\n",
       "    <tr style=\"text-align: right;\">\n",
       "      <th></th>\n",
       "      <th>date</th>\n",
       "      <th>maxTemp</th>\n",
       "      <th>date2</th>\n",
       "      <th>minTemp</th>\n",
       "      <th>avgTemp</th>\n",
       "    </tr>\n",
       "  </thead>\n",
       "  <tbody>\n",
       "    <tr>\n",
       "      <th>0</th>\n",
       "      <td>2009-01-01</td>\n",
       "      <td>26.06</td>\n",
       "      <td>2009-01-01</td>\n",
       "      <td>15.08</td>\n",
       "      <td>20.57</td>\n",
       "    </tr>\n",
       "    <tr>\n",
       "      <th>1</th>\n",
       "      <td>2009-01-02</td>\n",
       "      <td>33.98</td>\n",
       "      <td>2009-01-02</td>\n",
       "      <td>23.00</td>\n",
       "      <td>28.49</td>\n",
       "    </tr>\n",
       "    <tr>\n",
       "      <th>2</th>\n",
       "      <td>2009-01-03</td>\n",
       "      <td>37.94</td>\n",
       "      <td>2009-01-03</td>\n",
       "      <td>28.94</td>\n",
       "      <td>33.44</td>\n",
       "    </tr>\n",
       "    <tr>\n",
       "      <th>3</th>\n",
       "      <td>2009-01-04</td>\n",
       "      <td>42.08</td>\n",
       "      <td>2009-01-04</td>\n",
       "      <td>24.98</td>\n",
       "      <td>33.53</td>\n",
       "    </tr>\n",
       "    <tr>\n",
       "      <th>4</th>\n",
       "      <td>2009-01-05</td>\n",
       "      <td>42.98</td>\n",
       "      <td>2009-01-05</td>\n",
       "      <td>37.94</td>\n",
       "      <td>40.46</td>\n",
       "    </tr>\n",
       "    <tr>\n",
       "      <th>...</th>\n",
       "      <td>...</td>\n",
       "      <td>...</td>\n",
       "      <td>...</td>\n",
       "      <td>...</td>\n",
       "      <td>...</td>\n",
       "    </tr>\n",
       "    <tr>\n",
       "      <th>4378</th>\n",
       "      <td>2020-12-27</td>\n",
       "      <td>37.04</td>\n",
       "      <td>2020-12-27</td>\n",
       "      <td>24.26</td>\n",
       "      <td>30.65</td>\n",
       "    </tr>\n",
       "    <tr>\n",
       "      <th>4379</th>\n",
       "      <td>2020-12-28</td>\n",
       "      <td>50.00</td>\n",
       "      <td>2020-12-28</td>\n",
       "      <td>35.06</td>\n",
       "      <td>42.53</td>\n",
       "    </tr>\n",
       "    <tr>\n",
       "      <th>4380</th>\n",
       "      <td>2020-12-29</td>\n",
       "      <td>42.98</td>\n",
       "      <td>2020-12-29</td>\n",
       "      <td>30.20</td>\n",
       "      <td>36.59</td>\n",
       "    </tr>\n",
       "    <tr>\n",
       "      <th>4381</th>\n",
       "      <td>2020-12-30</td>\n",
       "      <td>42.98</td>\n",
       "      <td>2020-12-30</td>\n",
       "      <td>28.22</td>\n",
       "      <td>35.60</td>\n",
       "    </tr>\n",
       "    <tr>\n",
       "      <th>4382</th>\n",
       "      <td>2020-12-31</td>\n",
       "      <td>48.02</td>\n",
       "      <td>2020-12-31</td>\n",
       "      <td>35.96</td>\n",
       "      <td>41.99</td>\n",
       "    </tr>\n",
       "  </tbody>\n",
       "</table>\n",
       "<p>4383 rows × 5 columns</p>\n",
       "</div>"
      ],
      "text/plain": [
       "           date  maxTemp      date2  minTemp  avgTemp\n",
       "0    2009-01-01    26.06 2009-01-01    15.08    20.57\n",
       "1    2009-01-02    33.98 2009-01-02    23.00    28.49\n",
       "2    2009-01-03    37.94 2009-01-03    28.94    33.44\n",
       "3    2009-01-04    42.08 2009-01-04    24.98    33.53\n",
       "4    2009-01-05    42.98 2009-01-05    37.94    40.46\n",
       "...         ...      ...        ...      ...      ...\n",
       "4378 2020-12-27    37.04 2020-12-27    24.26    30.65\n",
       "4379 2020-12-28    50.00 2020-12-28    35.06    42.53\n",
       "4380 2020-12-29    42.98 2020-12-29    30.20    36.59\n",
       "4381 2020-12-30    42.98 2020-12-30    28.22    35.60\n",
       "4382 2020-12-31    48.02 2020-12-31    35.96    41.99\n",
       "\n",
       "[4383 rows x 5 columns]"
      ]
     },
     "execution_count": 63,
     "metadata": {},
     "output_type": "execute_result"
    }
   ],
   "source": [
    "df_temp_hax"
   ]
  },
  {
   "cell_type": "code",
   "execution_count": 64,
   "id": "6c301854",
   "metadata": {},
   "outputs": [],
   "source": [
    "df_temp_hax = df_temp_hax[['date','avgTemp']]"
   ]
  },
  {
   "cell_type": "code",
   "execution_count": 65,
   "id": "f538012a",
   "metadata": {},
   "outputs": [
    {
     "data": {
      "text/html": [
       "<div>\n",
       "<style scoped>\n",
       "    .dataframe tbody tr th:only-of-type {\n",
       "        vertical-align: middle;\n",
       "    }\n",
       "\n",
       "    .dataframe tbody tr th {\n",
       "        vertical-align: top;\n",
       "    }\n",
       "\n",
       "    .dataframe thead th {\n",
       "        text-align: right;\n",
       "    }\n",
       "</style>\n",
       "<table border=\"1\" class=\"dataframe\">\n",
       "  <thead>\n",
       "    <tr style=\"text-align: right;\">\n",
       "      <th></th>\n",
       "      <th>date</th>\n",
       "      <th>avgTemp</th>\n",
       "    </tr>\n",
       "  </thead>\n",
       "  <tbody>\n",
       "    <tr>\n",
       "      <th>0</th>\n",
       "      <td>2009-01-01</td>\n",
       "      <td>20.57</td>\n",
       "    </tr>\n",
       "    <tr>\n",
       "      <th>1</th>\n",
       "      <td>2009-01-02</td>\n",
       "      <td>28.49</td>\n",
       "    </tr>\n",
       "    <tr>\n",
       "      <th>2</th>\n",
       "      <td>2009-01-03</td>\n",
       "      <td>33.44</td>\n",
       "    </tr>\n",
       "    <tr>\n",
       "      <th>3</th>\n",
       "      <td>2009-01-04</td>\n",
       "      <td>33.53</td>\n",
       "    </tr>\n",
       "    <tr>\n",
       "      <th>4</th>\n",
       "      <td>2009-01-05</td>\n",
       "      <td>40.46</td>\n",
       "    </tr>\n",
       "    <tr>\n",
       "      <th>...</th>\n",
       "      <td>...</td>\n",
       "      <td>...</td>\n",
       "    </tr>\n",
       "    <tr>\n",
       "      <th>4378</th>\n",
       "      <td>2020-12-27</td>\n",
       "      <td>30.65</td>\n",
       "    </tr>\n",
       "    <tr>\n",
       "      <th>4379</th>\n",
       "      <td>2020-12-28</td>\n",
       "      <td>42.53</td>\n",
       "    </tr>\n",
       "    <tr>\n",
       "      <th>4380</th>\n",
       "      <td>2020-12-29</td>\n",
       "      <td>36.59</td>\n",
       "    </tr>\n",
       "    <tr>\n",
       "      <th>4381</th>\n",
       "      <td>2020-12-30</td>\n",
       "      <td>35.60</td>\n",
       "    </tr>\n",
       "    <tr>\n",
       "      <th>4382</th>\n",
       "      <td>2020-12-31</td>\n",
       "      <td>41.99</td>\n",
       "    </tr>\n",
       "  </tbody>\n",
       "</table>\n",
       "<p>4383 rows × 2 columns</p>\n",
       "</div>"
      ],
      "text/plain": [
       "           date  avgTemp\n",
       "0    2009-01-01    20.57\n",
       "1    2009-01-02    28.49\n",
       "2    2009-01-03    33.44\n",
       "3    2009-01-04    33.53\n",
       "4    2009-01-05    40.46\n",
       "...         ...      ...\n",
       "4378 2020-12-27    30.65\n",
       "4379 2020-12-28    42.53\n",
       "4380 2020-12-29    36.59\n",
       "4381 2020-12-30    35.60\n",
       "4382 2020-12-31    41.99\n",
       "\n",
       "[4383 rows x 2 columns]"
      ]
     },
     "execution_count": 65,
     "metadata": {},
     "output_type": "execute_result"
    }
   ],
   "source": [
    "df_temp_hax"
   ]
  },
  {
   "cell_type": "code",
   "execution_count": 66,
   "id": "87d0405d",
   "metadata": {},
   "outputs": [],
   "source": [
    "df_temp_hax.to_csv('ISYE6203_NYC_avg_temp_2009-2020.csv', index = False)"
   ]
  }
 ],
 "metadata": {
  "kernelspec": {
   "display_name": "Python 3 (ipykernel)",
   "language": "python",
   "name": "python3"
  },
  "language_info": {
   "codemirror_mode": {
    "name": "ipython",
    "version": 3
   },
   "file_extension": ".py",
   "mimetype": "text/x-python",
   "name": "python",
   "nbconvert_exporter": "python",
   "pygments_lexer": "ipython3",
   "version": "3.9.7"
  }
 },
 "nbformat": 4,
 "nbformat_minor": 5
}
