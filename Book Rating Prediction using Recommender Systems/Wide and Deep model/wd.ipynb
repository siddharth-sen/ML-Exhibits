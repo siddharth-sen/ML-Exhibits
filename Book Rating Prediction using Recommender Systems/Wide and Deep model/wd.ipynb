{
  "nbformat": 4,
  "nbformat_minor": 0,
  "metadata": {
    "colab": {
      "name": "wd.ipynb",
      "provenance": [],
      "collapsed_sections": []
    },
    "kernelspec": {
      "name": "python3",
      "display_name": "Python 3"
    },
    "language_info": {
      "name": "python"
    },
    "accelerator": "GPU"
  },
  "cells": [
    {
      "cell_type": "code",
      "execution_count": null,
      "metadata": {
        "colab": {
          "base_uri": "https://localhost:8080/"
        },
        "id": "_wHTyuUloV7S",
        "outputId": "afcad54c-9d16-4a00-f41f-0ba17309b30a"
      },
      "outputs": [
        {
          "output_type": "stream",
          "name": "stdout",
          "text": [
            "Mounted at /content/drive\n"
          ]
        }
      ],
      "source": [
        "from google.colab import drive\n",
        "drive.mount('/content/drive')"
      ]
    },
    {
      "cell_type": "code",
      "source": [
        "!pip install recommenders"
      ],
      "metadata": {
        "colab": {
          "base_uri": "https://localhost:8080/"
        },
        "id": "po4f4HnNoad7",
        "outputId": "0495dc3e-ddb4-47ca-bd21-6a49487b0f3f"
      },
      "execution_count": null,
      "outputs": [
        {
          "output_type": "stream",
          "name": "stdout",
          "text": [
            "Collecting recommenders\n",
            "  Downloading recommenders-1.1.0-py3-none-manylinux1_x86_64.whl (335 kB)\n",
            "\u001b[K     |████████████████████████████████| 335 kB 6.9 MB/s \n",
            "\u001b[?25hRequirement already satisfied: numpy>=1.19 in /usr/local/lib/python3.7/dist-packages (from recommenders) (1.21.6)\n",
            "Collecting category-encoders<2,>=1.3.0\n",
            "  Downloading category_encoders-1.3.0-py2.py3-none-any.whl (61 kB)\n",
            "\u001b[K     |████████████████████████████████| 61 kB 5.7 MB/s \n",
            "\u001b[?25hRequirement already satisfied: jinja2<3.1,>=2 in /usr/local/lib/python3.7/dist-packages (from recommenders) (2.11.3)\n",
            "Collecting lightfm<2,>=1.15\n",
            "  Downloading lightfm-1.16.tar.gz (310 kB)\n",
            "\u001b[K     |████████████████████████████████| 310 kB 61.5 MB/s \n",
            "\u001b[?25hCollecting cornac<2,>=1.1.2\n",
            "  Downloading cornac-1.14.2-cp37-cp37m-manylinux1_x86_64.whl (12.4 MB)\n",
            "\u001b[K     |████████████████████████████████| 12.4 MB 14.1 MB/s \n",
            "\u001b[?25hCollecting transformers<5,>=2.5.0\n",
            "  Downloading transformers-4.18.0-py3-none-any.whl (4.0 MB)\n",
            "\u001b[K     |████████████████████████████████| 4.0 MB 54.8 MB/s \n",
            "\u001b[?25hCollecting nltk<4,>=3.4\n",
            "  Downloading nltk-3.7-py3-none-any.whl (1.5 MB)\n",
            "\u001b[K     |████████████████████████████████| 1.5 MB 43.6 MB/s \n",
            "\u001b[?25hRequirement already satisfied: scikit-learn<1.0.3,>=0.22.1 in /usr/local/lib/python3.7/dist-packages (from recommenders) (1.0.2)\n",
            "Collecting pandera[strategies]>=0.6.5\n",
            "  Downloading pandera-0.9.0-py3-none-any.whl (197 kB)\n",
            "\u001b[K     |████████████████████████████████| 197 kB 70.5 MB/s \n",
            "\u001b[?25hCollecting pyyaml<6,>=5.4.1\n",
            "  Downloading PyYAML-5.4.1-cp37-cp37m-manylinux1_x86_64.whl (636 kB)\n",
            "\u001b[K     |████████████████████████████████| 636 kB 64.5 MB/s \n",
            "\u001b[?25hRequirement already satisfied: seaborn<1,>=0.8.1 in /usr/local/lib/python3.7/dist-packages (from recommenders) (0.11.2)\n",
            "Collecting retrying>=1.3.3\n",
            "  Downloading retrying-1.3.3.tar.gz (10 kB)\n",
            "Requirement already satisfied: scipy<2,>=1.0.0 in /usr/local/lib/python3.7/dist-packages (from recommenders) (1.4.1)\n",
            "Requirement already satisfied: tqdm<5,>=4.31.1 in /usr/local/lib/python3.7/dist-packages (from recommenders) (4.64.0)\n",
            "Requirement already satisfied: requests<3,>=2.0.0 in /usr/local/lib/python3.7/dist-packages (from recommenders) (2.23.0)\n",
            "Collecting scikit-surprise>=1.0.6\n",
            "  Downloading scikit-surprise-1.1.1.tar.gz (11.8 MB)\n",
            "\u001b[K     |████████████████████████████████| 11.8 MB 33.1 MB/s \n",
            "\u001b[?25hRequirement already satisfied: bottleneck<2,>=1.2.1 in /usr/local/lib/python3.7/dist-packages (from recommenders) (1.3.4)\n",
            "Requirement already satisfied: lightgbm>=2.2.1 in /usr/local/lib/python3.7/dist-packages (from recommenders) (2.2.3)\n",
            "Requirement already satisfied: pandas<2,>1.0.3 in /usr/local/lib/python3.7/dist-packages (from recommenders) (1.3.5)\n",
            "Requirement already satisfied: matplotlib<4,>=2.2.2 in /usr/local/lib/python3.7/dist-packages (from recommenders) (3.2.2)\n",
            "Collecting memory-profiler<1,>=0.54.0\n",
            "  Downloading memory_profiler-0.60.0.tar.gz (38 kB)\n",
            "Requirement already satisfied: numba<1,>=0.38.1 in /usr/local/lib/python3.7/dist-packages (from recommenders) (0.51.2)\n",
            "Requirement already satisfied: statsmodels>=0.6.1 in /usr/local/lib/python3.7/dist-packages (from category-encoders<2,>=1.3.0->recommenders) (0.10.2)\n",
            "Requirement already satisfied: patsy>=0.4.1 in /usr/local/lib/python3.7/dist-packages (from category-encoders<2,>=1.3.0->recommenders) (0.5.2)\n",
            "Collecting powerlaw\n",
            "  Downloading powerlaw-1.5-py3-none-any.whl (24 kB)\n",
            "Requirement already satisfied: MarkupSafe>=0.23 in /usr/local/lib/python3.7/dist-packages (from jinja2<3.1,>=2->recommenders) (2.0.1)\n",
            "Requirement already satisfied: cycler>=0.10 in /usr/local/lib/python3.7/dist-packages (from matplotlib<4,>=2.2.2->recommenders) (0.11.0)\n",
            "Requirement already satisfied: kiwisolver>=1.0.1 in /usr/local/lib/python3.7/dist-packages (from matplotlib<4,>=2.2.2->recommenders) (1.4.2)\n",
            "Requirement already satisfied: python-dateutil>=2.1 in /usr/local/lib/python3.7/dist-packages (from matplotlib<4,>=2.2.2->recommenders) (2.8.2)\n",
            "Requirement already satisfied: pyparsing!=2.0.4,!=2.1.2,!=2.1.6,>=2.0.1 in /usr/local/lib/python3.7/dist-packages (from matplotlib<4,>=2.2.2->recommenders) (3.0.8)\n",
            "Requirement already satisfied: typing-extensions in /usr/local/lib/python3.7/dist-packages (from kiwisolver>=1.0.1->matplotlib<4,>=2.2.2->recommenders) (4.2.0)\n",
            "Requirement already satisfied: psutil in /usr/local/lib/python3.7/dist-packages (from memory-profiler<1,>=0.54.0->recommenders) (5.4.8)\n",
            "Collecting regex>=2021.8.3\n",
            "  Downloading regex-2022.4.24-cp37-cp37m-manylinux_2_17_x86_64.manylinux2014_x86_64.whl (749 kB)\n",
            "\u001b[K     |████████████████████████████████| 749 kB 53.7 MB/s \n",
            "\u001b[?25hRequirement already satisfied: joblib in /usr/local/lib/python3.7/dist-packages (from nltk<4,>=3.4->recommenders) (1.1.0)\n",
            "Requirement already satisfied: click in /usr/local/lib/python3.7/dist-packages (from nltk<4,>=3.4->recommenders) (7.1.2)\n",
            "Requirement already satisfied: llvmlite<0.35,>=0.34.0.dev0 in /usr/local/lib/python3.7/dist-packages (from numba<1,>=0.38.1->recommenders) (0.34.0)\n",
            "Requirement already satisfied: setuptools in /usr/local/lib/python3.7/dist-packages (from numba<1,>=0.38.1->recommenders) (57.4.0)\n",
            "Requirement already satisfied: pytz>=2017.3 in /usr/local/lib/python3.7/dist-packages (from pandas<2,>1.0.3->recommenders) (2022.1)\n",
            "Requirement already satisfied: pyarrow in /usr/local/lib/python3.7/dist-packages (from pandera[strategies]>=0.6.5->recommenders) (6.0.1)\n",
            "Collecting typing-inspect>=0.6.0\n",
            "  Downloading typing_inspect-0.7.1-py3-none-any.whl (8.4 kB)\n",
            "Collecting pydantic\n",
            "  Downloading pydantic-1.9.0-cp37-cp37m-manylinux_2_17_x86_64.manylinux2014_x86_64.whl (10.9 MB)\n",
            "\u001b[K     |████████████████████████████████| 10.9 MB 42.6 MB/s \n",
            "\u001b[?25hRequirement already satisfied: packaging>=20.0 in /usr/local/lib/python3.7/dist-packages (from pandera[strategies]>=0.6.5->recommenders) (21.3)\n",
            "Requirement already satisfied: wrapt in /usr/local/lib/python3.7/dist-packages (from pandera[strategies]>=0.6.5->recommenders) (1.14.0)\n",
            "Collecting hypothesis>=5.41.1\n",
            "  Downloading hypothesis-6.45.0-py3-none-any.whl (381 kB)\n",
            "\u001b[K     |████████████████████████████████| 381 kB 67.8 MB/s \n",
            "\u001b[?25hRequirement already satisfied: attrs>=19.2.0 in /usr/local/lib/python3.7/dist-packages (from hypothesis>=5.41.1->pandera[strategies]>=0.6.5->recommenders) (21.4.0)\n",
            "Requirement already satisfied: sortedcontainers<3.0.0,>=2.1.0 in /usr/local/lib/python3.7/dist-packages (from hypothesis>=5.41.1->pandera[strategies]>=0.6.5->recommenders) (2.4.0)\n",
            "Requirement already satisfied: six in /usr/local/lib/python3.7/dist-packages (from patsy>=0.4.1->category-encoders<2,>=1.3.0->recommenders) (1.15.0)\n",
            "Requirement already satisfied: idna<3,>=2.5 in /usr/local/lib/python3.7/dist-packages (from requests<3,>=2.0.0->recommenders) (2.10)\n",
            "Requirement already satisfied: urllib3!=1.25.0,!=1.25.1,<1.26,>=1.21.1 in /usr/local/lib/python3.7/dist-packages (from requests<3,>=2.0.0->recommenders) (1.24.3)\n",
            "Requirement already satisfied: chardet<4,>=3.0.2 in /usr/local/lib/python3.7/dist-packages (from requests<3,>=2.0.0->recommenders) (3.0.4)\n",
            "Requirement already satisfied: certifi>=2017.4.17 in /usr/local/lib/python3.7/dist-packages (from requests<3,>=2.0.0->recommenders) (2021.10.8)\n",
            "Requirement already satisfied: threadpoolctl>=2.0.0 in /usr/local/lib/python3.7/dist-packages (from scikit-learn<1.0.3,>=0.22.1->recommenders) (3.1.0)\n",
            "Requirement already satisfied: importlib-metadata in /usr/local/lib/python3.7/dist-packages (from transformers<5,>=2.5.0->recommenders) (4.11.3)\n",
            "Collecting huggingface-hub<1.0,>=0.1.0\n",
            "  Downloading huggingface_hub-0.5.1-py3-none-any.whl (77 kB)\n",
            "\u001b[K     |████████████████████████████████| 77 kB 8.0 MB/s \n",
            "\u001b[?25hCollecting tokenizers!=0.11.3,<0.13,>=0.11.1\n",
            "  Downloading tokenizers-0.12.1-cp37-cp37m-manylinux_2_12_x86_64.manylinux2010_x86_64.whl (6.6 MB)\n",
            "\u001b[K     |████████████████████████████████| 6.6 MB 37.1 MB/s \n",
            "\u001b[?25hRequirement already satisfied: filelock in /usr/local/lib/python3.7/dist-packages (from transformers<5,>=2.5.0->recommenders) (3.6.0)\n",
            "Collecting sacremoses\n",
            "  Downloading sacremoses-0.0.49-py3-none-any.whl (895 kB)\n",
            "\u001b[K     |████████████████████████████████| 895 kB 54.5 MB/s \n",
            "\u001b[?25hCollecting mypy-extensions>=0.3.0\n",
            "  Downloading mypy_extensions-0.4.3-py2.py3-none-any.whl (4.5 kB)\n",
            "Requirement already satisfied: zipp>=0.5 in /usr/local/lib/python3.7/dist-packages (from importlib-metadata->transformers<5,>=2.5.0->recommenders) (3.8.0)\n",
            "Requirement already satisfied: mpmath in /usr/local/lib/python3.7/dist-packages (from powerlaw->cornac<2,>=1.1.2->recommenders) (1.2.1)\n",
            "Building wheels for collected packages: lightfm, memory-profiler, retrying, scikit-surprise\n",
            "  Building wheel for lightfm (setup.py) ... \u001b[?25l\u001b[?25hdone\n",
            "  Created wheel for lightfm: filename=lightfm-1.16-cp37-cp37m-linux_x86_64.whl size=705371 sha256=a12df3585773d448057c4ec6589a6557c72b6e7a995846d1c084d27ba37eb7e2\n",
            "  Stored in directory: /root/.cache/pip/wheels/f8/56/28/5772a3bd3413d65f03aa452190b00898b680b10028a1021914\n",
            "  Building wheel for memory-profiler (setup.py) ... \u001b[?25l\u001b[?25hdone\n",
            "  Created wheel for memory-profiler: filename=memory_profiler-0.60.0-py3-none-any.whl size=31284 sha256=6e8995b4d59591bbfc7b4cd8e4ad5356863bed4ad310b02d3afd0ef6bc53012b\n",
            "  Stored in directory: /root/.cache/pip/wheels/67/2b/fb/326e30d638c538e69a5eb0aa47f4223d979f502bbdb403950f\n",
            "  Building wheel for retrying (setup.py) ... \u001b[?25l\u001b[?25hdone\n",
            "  Created wheel for retrying: filename=retrying-1.3.3-py3-none-any.whl size=11447 sha256=89f46b1956693a48b34aafa725d4350d1ecb50fc82f04aa6c92c2727c93445b2\n",
            "  Stored in directory: /root/.cache/pip/wheels/f9/8d/8d/f6af3f7f9eea3553bc2fe6d53e4b287dad18b06a861ac56ddf\n",
            "  Building wheel for scikit-surprise (setup.py) ... \u001b[?25l\u001b[?25hdone\n",
            "  Created wheel for scikit-surprise: filename=scikit_surprise-1.1.1-cp37-cp37m-linux_x86_64.whl size=1630184 sha256=c5d3030217f077a42bf16f18c546cd6a22766f4ff51913e4c6ffa9357c29fb59\n",
            "  Stored in directory: /root/.cache/pip/wheels/76/44/74/b498c42be47b2406bd27994e16c5188e337c657025ab400c1c\n",
            "Successfully built lightfm memory-profiler retrying scikit-surprise\n",
            "Installing collected packages: mypy-extensions, typing-inspect, regex, pyyaml, pydantic, tokenizers, sacremoses, powerlaw, pandera, hypothesis, huggingface-hub, transformers, scikit-surprise, retrying, nltk, memory-profiler, lightfm, cornac, category-encoders, recommenders\n",
            "  Attempting uninstall: regex\n",
            "    Found existing installation: regex 2019.12.20\n",
            "    Uninstalling regex-2019.12.20:\n",
            "      Successfully uninstalled regex-2019.12.20\n",
            "  Attempting uninstall: pyyaml\n",
            "    Found existing installation: PyYAML 3.13\n",
            "    Uninstalling PyYAML-3.13:\n",
            "      Successfully uninstalled PyYAML-3.13\n",
            "  Attempting uninstall: nltk\n",
            "    Found existing installation: nltk 3.2.5\n",
            "    Uninstalling nltk-3.2.5:\n",
            "      Successfully uninstalled nltk-3.2.5\n",
            "Successfully installed category-encoders-1.3.0 cornac-1.14.2 huggingface-hub-0.5.1 hypothesis-6.45.0 lightfm-1.16 memory-profiler-0.60.0 mypy-extensions-0.4.3 nltk-3.7 pandera-0.9.0 powerlaw-1.5 pydantic-1.9.0 pyyaml-5.4.1 recommenders-1.1.0 regex-2022.4.24 retrying-1.3.3 sacremoses-0.0.49 scikit-surprise-1.1.1 tokenizers-0.12.1 transformers-4.18.0 typing-inspect-0.7.1\n"
          ]
        }
      ]
    },
    {
      "cell_type": "code",
      "source": [
        "! pip install scrapbook"
      ],
      "metadata": {
        "colab": {
          "base_uri": "https://localhost:8080/",
          "height": 1000
        },
        "id": "FFOox2N9pNNo",
        "outputId": "969d8b20-ebe9-4e8e-fdbe-542cac9ad0f0"
      },
      "execution_count": null,
      "outputs": [
        {
          "output_type": "stream",
          "name": "stdout",
          "text": [
            "Collecting scrapbook\n",
            "  Downloading scrapbook-0.5.0-py3-none-any.whl (34 kB)\n",
            "Requirement already satisfied: jsonschema in /usr/local/lib/python3.7/dist-packages (from scrapbook) (4.3.3)\n",
            "Requirement already satisfied: pyarrow in /usr/local/lib/python3.7/dist-packages (from scrapbook) (6.0.1)\n",
            "Requirement already satisfied: pandas in /usr/local/lib/python3.7/dist-packages (from scrapbook) (1.3.5)\n",
            "Collecting papermill\n",
            "  Downloading papermill-2.3.4-py3-none-any.whl (37 kB)\n",
            "Requirement already satisfied: ipython in /usr/local/lib/python3.7/dist-packages (from scrapbook) (5.5.0)\n",
            "Requirement already satisfied: prompt-toolkit<2.0.0,>=1.0.4 in /usr/local/lib/python3.7/dist-packages (from ipython->scrapbook) (1.0.18)\n",
            "Requirement already satisfied: simplegeneric>0.8 in /usr/local/lib/python3.7/dist-packages (from ipython->scrapbook) (0.8.1)\n",
            "Requirement already satisfied: setuptools>=18.5 in /usr/local/lib/python3.7/dist-packages (from ipython->scrapbook) (57.4.0)\n",
            "Requirement already satisfied: traitlets>=4.2 in /usr/local/lib/python3.7/dist-packages (from ipython->scrapbook) (5.1.1)\n",
            "Requirement already satisfied: pickleshare in /usr/local/lib/python3.7/dist-packages (from ipython->scrapbook) (0.7.5)\n",
            "Requirement already satisfied: decorator in /usr/local/lib/python3.7/dist-packages (from ipython->scrapbook) (4.4.2)\n",
            "Requirement already satisfied: pygments in /usr/local/lib/python3.7/dist-packages (from ipython->scrapbook) (2.6.1)\n",
            "Requirement already satisfied: pexpect in /usr/local/lib/python3.7/dist-packages (from ipython->scrapbook) (4.8.0)\n",
            "Requirement already satisfied: six>=1.9.0 in /usr/local/lib/python3.7/dist-packages (from prompt-toolkit<2.0.0,>=1.0.4->ipython->scrapbook) (1.15.0)\n",
            "Requirement already satisfied: wcwidth in /usr/local/lib/python3.7/dist-packages (from prompt-toolkit<2.0.0,>=1.0.4->ipython->scrapbook) (0.2.5)\n",
            "Requirement already satisfied: importlib-metadata in /usr/local/lib/python3.7/dist-packages (from jsonschema->scrapbook) (4.11.3)\n",
            "Requirement already satisfied: attrs>=17.4.0 in /usr/local/lib/python3.7/dist-packages (from jsonschema->scrapbook) (21.4.0)\n",
            "Requirement already satisfied: importlib-resources>=1.4.0 in /usr/local/lib/python3.7/dist-packages (from jsonschema->scrapbook) (5.7.1)\n",
            "Requirement already satisfied: typing-extensions in /usr/local/lib/python3.7/dist-packages (from jsonschema->scrapbook) (4.2.0)\n",
            "Requirement already satisfied: pyrsistent!=0.17.0,!=0.17.1,!=0.17.2,>=0.14.0 in /usr/local/lib/python3.7/dist-packages (from jsonschema->scrapbook) (0.18.1)\n",
            "Requirement already satisfied: zipp>=3.1.0 in /usr/local/lib/python3.7/dist-packages (from importlib-resources>=1.4.0->jsonschema->scrapbook) (3.8.0)\n",
            "Requirement already satisfied: python-dateutil>=2.7.3 in /usr/local/lib/python3.7/dist-packages (from pandas->scrapbook) (2.8.2)\n",
            "Requirement already satisfied: pytz>=2017.3 in /usr/local/lib/python3.7/dist-packages (from pandas->scrapbook) (2022.1)\n",
            "Requirement already satisfied: numpy>=1.17.3 in /usr/local/lib/python3.7/dist-packages (from pandas->scrapbook) (1.21.6)\n",
            "Requirement already satisfied: entrypoints in /usr/local/lib/python3.7/dist-packages (from papermill->scrapbook) (0.4)\n",
            "Requirement already satisfied: pyyaml in /usr/local/lib/python3.7/dist-packages (from papermill->scrapbook) (5.4.1)\n",
            "Requirement already satisfied: tenacity in /usr/local/lib/python3.7/dist-packages (from papermill->scrapbook) (8.0.1)\n",
            "Requirement already satisfied: nbformat>=5.1.2 in /usr/local/lib/python3.7/dist-packages (from papermill->scrapbook) (5.3.0)\n",
            "Requirement already satisfied: nbclient>=0.2.0 in /usr/local/lib/python3.7/dist-packages (from papermill->scrapbook) (0.6.0)\n",
            "Requirement already satisfied: tqdm>=4.32.2 in /usr/local/lib/python3.7/dist-packages (from papermill->scrapbook) (4.64.0)\n",
            "Requirement already satisfied: click in /usr/local/lib/python3.7/dist-packages (from papermill->scrapbook) (7.1.2)\n",
            "Requirement already satisfied: requests in /usr/local/lib/python3.7/dist-packages (from papermill->scrapbook) (2.23.0)\n",
            "Collecting ansiwrap\n",
            "  Downloading ansiwrap-0.8.4-py2.py3-none-any.whl (8.5 kB)\n",
            "Requirement already satisfied: nest-asyncio in /usr/local/lib/python3.7/dist-packages (from nbclient>=0.2.0->papermill->scrapbook) (1.5.5)\n",
            "Collecting jupyter-client>=6.1.5\n",
            "  Downloading jupyter_client-7.3.0-py3-none-any.whl (130 kB)\n",
            "\u001b[K     |████████████████████████████████| 130 kB 37.5 MB/s \n",
            "\u001b[?25hRequirement already satisfied: pyzmq>=22.3 in /usr/local/lib/python3.7/dist-packages (from jupyter-client>=6.1.5->nbclient>=0.2.0->papermill->scrapbook) (22.3.0)\n",
            "Collecting tornado>=6.0\n",
            "  Downloading tornado-6.1-cp37-cp37m-manylinux2010_x86_64.whl (428 kB)\n",
            "\u001b[K     |████████████████████████████████| 428 kB 41.0 MB/s \n",
            "\u001b[?25hRequirement already satisfied: jupyter-core>=4.9.2 in /usr/local/lib/python3.7/dist-packages (from jupyter-client>=6.1.5->nbclient>=0.2.0->papermill->scrapbook) (4.10.0)\n",
            "Requirement already satisfied: fastjsonschema in /usr/local/lib/python3.7/dist-packages (from nbformat>=5.1.2->papermill->scrapbook) (2.15.3)\n",
            "Collecting textwrap3>=0.9.2\n",
            "  Downloading textwrap3-0.9.2-py2.py3-none-any.whl (12 kB)\n",
            "Requirement already satisfied: ptyprocess>=0.5 in /usr/local/lib/python3.7/dist-packages (from pexpect->ipython->scrapbook) (0.7.0)\n",
            "Requirement already satisfied: chardet<4,>=3.0.2 in /usr/local/lib/python3.7/dist-packages (from requests->papermill->scrapbook) (3.0.4)\n",
            "Requirement already satisfied: certifi>=2017.4.17 in /usr/local/lib/python3.7/dist-packages (from requests->papermill->scrapbook) (2021.10.8)\n",
            "Requirement already satisfied: urllib3!=1.25.0,!=1.25.1,<1.26,>=1.21.1 in /usr/local/lib/python3.7/dist-packages (from requests->papermill->scrapbook) (1.24.3)\n",
            "Requirement already satisfied: idna<3,>=2.5 in /usr/local/lib/python3.7/dist-packages (from requests->papermill->scrapbook) (2.10)\n",
            "Installing collected packages: tornado, textwrap3, jupyter-client, ansiwrap, papermill, scrapbook\n",
            "  Attempting uninstall: tornado\n",
            "    Found existing installation: tornado 5.1.1\n",
            "    Uninstalling tornado-5.1.1:\n",
            "      Successfully uninstalled tornado-5.1.1\n",
            "  Attempting uninstall: jupyter-client\n",
            "    Found existing installation: jupyter-client 5.3.5\n",
            "    Uninstalling jupyter-client-5.3.5:\n",
            "      Successfully uninstalled jupyter-client-5.3.5\n",
            "\u001b[31mERROR: pip's dependency resolver does not currently take into account all the packages that are installed. This behaviour is the source of the following dependency conflicts.\n",
            "google-colab 1.0.0 requires tornado~=5.1.0; python_version >= \"3.0\", but you have tornado 6.1 which is incompatible.\u001b[0m\n",
            "Successfully installed ansiwrap-0.8.4 jupyter-client-7.3.0 papermill-2.3.4 scrapbook-0.5.0 textwrap3-0.9.2 tornado-6.1\n"
          ]
        },
        {
          "output_type": "display_data",
          "data": {
            "application/vnd.colab-display-data+json": {
              "pip_warning": {
                "packages": [
                  "jupyter_client",
                  "tornado"
                ]
              }
            }
          },
          "metadata": {}
        }
      ]
    },
    {
      "cell_type": "code",
      "source": [
        "import itertools\n",
        "import math\n",
        "import os\n",
        "from tempfile import TemporaryDirectory\n",
        "\n",
        "import numpy as np\n",
        "import scrapbook as sb\n",
        "import pandas as pd\n",
        "import sklearn.preprocessing\n",
        "import tensorflow as tf\n",
        "tf.get_logger().setLevel('ERROR') # only show error messages\n",
        "\n",
        "from recommenders.utils.constants import (\n",
        "    DEFAULT_USER_COL as USER_COL,\n",
        "    DEFAULT_ITEM_COL as ITEM_COL,\n",
        "    DEFAULT_RATING_COL as RATING_COL,\n",
        "    DEFAULT_PREDICTION_COL as PREDICT_COL,\n",
        "    DEFAULT_GENRE_COL as ITEM_FEAT_COL,\n",
        "    SEED\n",
        ")\n",
        "from recommenders.utils import tf_utils, gpu_utils, plot\n",
        "from recommenders.datasets.pandas_df_utils import user_item_pairs\n",
        "from recommenders.datasets.python_splitters import python_random_split\n",
        "import recommenders.evaluation.python_evaluation as evaluator\n",
        "import recommenders.models.wide_deep.wide_deep_utils as wide_deep\n",
        "from sklearn.model_selection import train_test_split\n",
        "import ast\n",
        "import matplotlib.pyplot as plt\n",
        "\n",
        "print(\"Tensorflow Version:\", tf.__version__)\n",
        "print(\"GPUs:\\n\", gpu_utils.get_gpu_info())"
      ],
      "metadata": {
        "colab": {
          "base_uri": "https://localhost:8080/"
        },
        "id": "YF7TLCNxojH-",
        "outputId": "e686b227-9dc0-4fae-c61c-047b40a8cb5e"
      },
      "execution_count": null,
      "outputs": [
        {
          "output_type": "stream",
          "name": "stdout",
          "text": [
            "Tensorflow Version: 2.8.0\n",
            "GPUs:\n",
            " []\n"
          ]
        }
      ]
    },
    {
      "cell_type": "code",
      "source": [
        "cd /content/drive/MyDrive/6240_project/project_data/"
      ],
      "metadata": {
        "colab": {
          "base_uri": "https://localhost:8080/"
        },
        "id": "l8KoqGJspLRx",
        "outputId": "038e9f2a-308f-4c30-c077-bd113c30b60d"
      },
      "execution_count": null,
      "outputs": [
        {
          "output_type": "stream",
          "name": "stdout",
          "text": [
            "/content/drive/MyDrive/6240_project/project_data\n"
          ]
        }
      ]
    },
    {
      "cell_type": "code",
      "source": [
        "\n",
        "df = pd.read_csv('/content/drive/MyDrive/6240_project/project_data/interactions_genres.csv')\n",
        "df['genres'] = df['genres'].apply(lambda x : ast.literal_eval(x) )\n",
        "df.head()"
      ],
      "metadata": {
        "colab": {
          "base_uri": "https://localhost:8080/",
          "height": 204
        },
        "id": "8ys1W5L2pdSH",
        "outputId": "0d8412a3-93aa-43d2-fda3-a66aaea7b2ad"
      },
      "execution_count": null,
      "outputs": [
        {
          "output_type": "execute_result",
          "data": {
            "text/plain": [
              "   Unnamed: 0  Unnamed: 0.1  uid    bid  rating  \\\n",
              "0           0             0    0   5949       4   \n",
              "1           1             1    0   5831       4   \n",
              "2           2             2    0  21931       5   \n",
              "3           3             3    1  21931       3   \n",
              "4           4             4    2  17215       4   \n",
              "\n",
              "                                              genres  \n",
              "0  [1461.0, 4635.0, 1304.0, 0.0, 3669.0, 0.0, 82....  \n",
              "1  [1394.0, 2837.0, 567.0, 0.0, 3028.0, 0.0, 57.0...  \n",
              "2  [0.0, 1523.0, 169.0, 0.0, 9400.0, 0.0, 206.0, ...  \n",
              "3  [0.0, 1523.0, 169.0, 0.0, 9400.0, 0.0, 206.0, ...  \n",
              "4  [0.0, 548.0, 51.0, 0.0, 4954.0, 0.0, 99.0, 571...  "
            ],
            "text/html": [
              "\n",
              "  <div id=\"df-8937fe82-5dcb-46d3-910e-6d7c15aaa275\">\n",
              "    <div class=\"colab-df-container\">\n",
              "      <div>\n",
              "<style scoped>\n",
              "    .dataframe tbody tr th:only-of-type {\n",
              "        vertical-align: middle;\n",
              "    }\n",
              "\n",
              "    .dataframe tbody tr th {\n",
              "        vertical-align: top;\n",
              "    }\n",
              "\n",
              "    .dataframe thead th {\n",
              "        text-align: right;\n",
              "    }\n",
              "</style>\n",
              "<table border=\"1\" class=\"dataframe\">\n",
              "  <thead>\n",
              "    <tr style=\"text-align: right;\">\n",
              "      <th></th>\n",
              "      <th>Unnamed: 0</th>\n",
              "      <th>Unnamed: 0.1</th>\n",
              "      <th>uid</th>\n",
              "      <th>bid</th>\n",
              "      <th>rating</th>\n",
              "      <th>genres</th>\n",
              "    </tr>\n",
              "  </thead>\n",
              "  <tbody>\n",
              "    <tr>\n",
              "      <th>0</th>\n",
              "      <td>0</td>\n",
              "      <td>0</td>\n",
              "      <td>0</td>\n",
              "      <td>5949</td>\n",
              "      <td>4</td>\n",
              "      <td>[1461.0, 4635.0, 1304.0, 0.0, 3669.0, 0.0, 82....</td>\n",
              "    </tr>\n",
              "    <tr>\n",
              "      <th>1</th>\n",
              "      <td>1</td>\n",
              "      <td>1</td>\n",
              "      <td>0</td>\n",
              "      <td>5831</td>\n",
              "      <td>4</td>\n",
              "      <td>[1394.0, 2837.0, 567.0, 0.0, 3028.0, 0.0, 57.0...</td>\n",
              "    </tr>\n",
              "    <tr>\n",
              "      <th>2</th>\n",
              "      <td>2</td>\n",
              "      <td>2</td>\n",
              "      <td>0</td>\n",
              "      <td>21931</td>\n",
              "      <td>5</td>\n",
              "      <td>[0.0, 1523.0, 169.0, 0.0, 9400.0, 0.0, 206.0, ...</td>\n",
              "    </tr>\n",
              "    <tr>\n",
              "      <th>3</th>\n",
              "      <td>3</td>\n",
              "      <td>3</td>\n",
              "      <td>1</td>\n",
              "      <td>21931</td>\n",
              "      <td>3</td>\n",
              "      <td>[0.0, 1523.0, 169.0, 0.0, 9400.0, 0.0, 206.0, ...</td>\n",
              "    </tr>\n",
              "    <tr>\n",
              "      <th>4</th>\n",
              "      <td>4</td>\n",
              "      <td>4</td>\n",
              "      <td>2</td>\n",
              "      <td>17215</td>\n",
              "      <td>4</td>\n",
              "      <td>[0.0, 548.0, 51.0, 0.0, 4954.0, 0.0, 99.0, 571...</td>\n",
              "    </tr>\n",
              "  </tbody>\n",
              "</table>\n",
              "</div>\n",
              "      <button class=\"colab-df-convert\" onclick=\"convertToInteractive('df-8937fe82-5dcb-46d3-910e-6d7c15aaa275')\"\n",
              "              title=\"Convert this dataframe to an interactive table.\"\n",
              "              style=\"display:none;\">\n",
              "        \n",
              "  <svg xmlns=\"http://www.w3.org/2000/svg\" height=\"24px\"viewBox=\"0 0 24 24\"\n",
              "       width=\"24px\">\n",
              "    <path d=\"M0 0h24v24H0V0z\" fill=\"none\"/>\n",
              "    <path d=\"M18.56 5.44l.94 2.06.94-2.06 2.06-.94-2.06-.94-.94-2.06-.94 2.06-2.06.94zm-11 1L8.5 8.5l.94-2.06 2.06-.94-2.06-.94L8.5 2.5l-.94 2.06-2.06.94zm10 10l.94 2.06.94-2.06 2.06-.94-2.06-.94-.94-2.06-.94 2.06-2.06.94z\"/><path d=\"M17.41 7.96l-1.37-1.37c-.4-.4-.92-.59-1.43-.59-.52 0-1.04.2-1.43.59L10.3 9.45l-7.72 7.72c-.78.78-.78 2.05 0 2.83L4 21.41c.39.39.9.59 1.41.59.51 0 1.02-.2 1.41-.59l7.78-7.78 2.81-2.81c.8-.78.8-2.07 0-2.86zM5.41 20L4 18.59l7.72-7.72 1.47 1.35L5.41 20z\"/>\n",
              "  </svg>\n",
              "      </button>\n",
              "      \n",
              "  <style>\n",
              "    .colab-df-container {\n",
              "      display:flex;\n",
              "      flex-wrap:wrap;\n",
              "      gap: 12px;\n",
              "    }\n",
              "\n",
              "    .colab-df-convert {\n",
              "      background-color: #E8F0FE;\n",
              "      border: none;\n",
              "      border-radius: 50%;\n",
              "      cursor: pointer;\n",
              "      display: none;\n",
              "      fill: #1967D2;\n",
              "      height: 32px;\n",
              "      padding: 0 0 0 0;\n",
              "      width: 32px;\n",
              "    }\n",
              "\n",
              "    .colab-df-convert:hover {\n",
              "      background-color: #E2EBFA;\n",
              "      box-shadow: 0px 1px 2px rgba(60, 64, 67, 0.3), 0px 1px 3px 1px rgba(60, 64, 67, 0.15);\n",
              "      fill: #174EA6;\n",
              "    }\n",
              "\n",
              "    [theme=dark] .colab-df-convert {\n",
              "      background-color: #3B4455;\n",
              "      fill: #D2E3FC;\n",
              "    }\n",
              "\n",
              "    [theme=dark] .colab-df-convert:hover {\n",
              "      background-color: #434B5C;\n",
              "      box-shadow: 0px 1px 3px 1px rgba(0, 0, 0, 0.15);\n",
              "      filter: drop-shadow(0px 1px 2px rgba(0, 0, 0, 0.3));\n",
              "      fill: #FFFFFF;\n",
              "    }\n",
              "  </style>\n",
              "\n",
              "      <script>\n",
              "        const buttonEl =\n",
              "          document.querySelector('#df-8937fe82-5dcb-46d3-910e-6d7c15aaa275 button.colab-df-convert');\n",
              "        buttonEl.style.display =\n",
              "          google.colab.kernel.accessAllowed ? 'block' : 'none';\n",
              "\n",
              "        async function convertToInteractive(key) {\n",
              "          const element = document.querySelector('#df-8937fe82-5dcb-46d3-910e-6d7c15aaa275');\n",
              "          const dataTable =\n",
              "            await google.colab.kernel.invokeFunction('convertToInteractive',\n",
              "                                                     [key], {});\n",
              "          if (!dataTable) return;\n",
              "\n",
              "          const docLinkHtml = 'Like what you see? Visit the ' +\n",
              "            '<a target=\"_blank\" href=https://colab.research.google.com/notebooks/data_table.ipynb>data table notebook</a>'\n",
              "            + ' to learn more about interactive tables.';\n",
              "          element.innerHTML = '';\n",
              "          dataTable['output_type'] = 'display_data';\n",
              "          await google.colab.output.renderOutput(dataTable, element);\n",
              "          const docLink = document.createElement('div');\n",
              "          docLink.innerHTML = docLinkHtml;\n",
              "          element.appendChild(docLink);\n",
              "        }\n",
              "      </script>\n",
              "    </div>\n",
              "  </div>\n",
              "  "
            ]
          },
          "metadata": {},
          "execution_count": 8
        }
      ]
    },
    {
      "cell_type": "code",
      "source": [
        "df = df[['uid','bid','rating','genres']]\n",
        "df = df.rename(columns={'uid':'userID','bid':'itemID','genres':'genre'})\n",
        "df.head()"
      ],
      "metadata": {
        "colab": {
          "base_uri": "https://localhost:8080/",
          "height": 204
        },
        "id": "pB2YdPc3pq8h",
        "outputId": "702b7823-84d4-4615-ce59-a326c1e052ba"
      },
      "execution_count": null,
      "outputs": [
        {
          "output_type": "execute_result",
          "data": {
            "text/plain": [
              "   userID  itemID  rating                                              genre\n",
              "0       0    5949       4  [1461.0, 4635.0, 1304.0, 0.0, 3669.0, 0.0, 82....\n",
              "1       0    5831       4  [1394.0, 2837.0, 567.0, 0.0, 3028.0, 0.0, 57.0...\n",
              "2       0   21931       5  [0.0, 1523.0, 169.0, 0.0, 9400.0, 0.0, 206.0, ...\n",
              "3       1   21931       3  [0.0, 1523.0, 169.0, 0.0, 9400.0, 0.0, 206.0, ...\n",
              "4       2   17215       4  [0.0, 548.0, 51.0, 0.0, 4954.0, 0.0, 99.0, 571..."
            ],
            "text/html": [
              "\n",
              "  <div id=\"df-87728eff-d0b0-45c6-8302-f18bb40eb08c\">\n",
              "    <div class=\"colab-df-container\">\n",
              "      <div>\n",
              "<style scoped>\n",
              "    .dataframe tbody tr th:only-of-type {\n",
              "        vertical-align: middle;\n",
              "    }\n",
              "\n",
              "    .dataframe tbody tr th {\n",
              "        vertical-align: top;\n",
              "    }\n",
              "\n",
              "    .dataframe thead th {\n",
              "        text-align: right;\n",
              "    }\n",
              "</style>\n",
              "<table border=\"1\" class=\"dataframe\">\n",
              "  <thead>\n",
              "    <tr style=\"text-align: right;\">\n",
              "      <th></th>\n",
              "      <th>userID</th>\n",
              "      <th>itemID</th>\n",
              "      <th>rating</th>\n",
              "      <th>genre</th>\n",
              "    </tr>\n",
              "  </thead>\n",
              "  <tbody>\n",
              "    <tr>\n",
              "      <th>0</th>\n",
              "      <td>0</td>\n",
              "      <td>5949</td>\n",
              "      <td>4</td>\n",
              "      <td>[1461.0, 4635.0, 1304.0, 0.0, 3669.0, 0.0, 82....</td>\n",
              "    </tr>\n",
              "    <tr>\n",
              "      <th>1</th>\n",
              "      <td>0</td>\n",
              "      <td>5831</td>\n",
              "      <td>4</td>\n",
              "      <td>[1394.0, 2837.0, 567.0, 0.0, 3028.0, 0.0, 57.0...</td>\n",
              "    </tr>\n",
              "    <tr>\n",
              "      <th>2</th>\n",
              "      <td>0</td>\n",
              "      <td>21931</td>\n",
              "      <td>5</td>\n",
              "      <td>[0.0, 1523.0, 169.0, 0.0, 9400.0, 0.0, 206.0, ...</td>\n",
              "    </tr>\n",
              "    <tr>\n",
              "      <th>3</th>\n",
              "      <td>1</td>\n",
              "      <td>21931</td>\n",
              "      <td>3</td>\n",
              "      <td>[0.0, 1523.0, 169.0, 0.0, 9400.0, 0.0, 206.0, ...</td>\n",
              "    </tr>\n",
              "    <tr>\n",
              "      <th>4</th>\n",
              "      <td>2</td>\n",
              "      <td>17215</td>\n",
              "      <td>4</td>\n",
              "      <td>[0.0, 548.0, 51.0, 0.0, 4954.0, 0.0, 99.0, 571...</td>\n",
              "    </tr>\n",
              "  </tbody>\n",
              "</table>\n",
              "</div>\n",
              "      <button class=\"colab-df-convert\" onclick=\"convertToInteractive('df-87728eff-d0b0-45c6-8302-f18bb40eb08c')\"\n",
              "              title=\"Convert this dataframe to an interactive table.\"\n",
              "              style=\"display:none;\">\n",
              "        \n",
              "  <svg xmlns=\"http://www.w3.org/2000/svg\" height=\"24px\"viewBox=\"0 0 24 24\"\n",
              "       width=\"24px\">\n",
              "    <path d=\"M0 0h24v24H0V0z\" fill=\"none\"/>\n",
              "    <path d=\"M18.56 5.44l.94 2.06.94-2.06 2.06-.94-2.06-.94-.94-2.06-.94 2.06-2.06.94zm-11 1L8.5 8.5l.94-2.06 2.06-.94-2.06-.94L8.5 2.5l-.94 2.06-2.06.94zm10 10l.94 2.06.94-2.06 2.06-.94-2.06-.94-.94-2.06-.94 2.06-2.06.94z\"/><path d=\"M17.41 7.96l-1.37-1.37c-.4-.4-.92-.59-1.43-.59-.52 0-1.04.2-1.43.59L10.3 9.45l-7.72 7.72c-.78.78-.78 2.05 0 2.83L4 21.41c.39.39.9.59 1.41.59.51 0 1.02-.2 1.41-.59l7.78-7.78 2.81-2.81c.8-.78.8-2.07 0-2.86zM5.41 20L4 18.59l7.72-7.72 1.47 1.35L5.41 20z\"/>\n",
              "  </svg>\n",
              "      </button>\n",
              "      \n",
              "  <style>\n",
              "    .colab-df-container {\n",
              "      display:flex;\n",
              "      flex-wrap:wrap;\n",
              "      gap: 12px;\n",
              "    }\n",
              "\n",
              "    .colab-df-convert {\n",
              "      background-color: #E8F0FE;\n",
              "      border: none;\n",
              "      border-radius: 50%;\n",
              "      cursor: pointer;\n",
              "      display: none;\n",
              "      fill: #1967D2;\n",
              "      height: 32px;\n",
              "      padding: 0 0 0 0;\n",
              "      width: 32px;\n",
              "    }\n",
              "\n",
              "    .colab-df-convert:hover {\n",
              "      background-color: #E2EBFA;\n",
              "      box-shadow: 0px 1px 2px rgba(60, 64, 67, 0.3), 0px 1px 3px 1px rgba(60, 64, 67, 0.15);\n",
              "      fill: #174EA6;\n",
              "    }\n",
              "\n",
              "    [theme=dark] .colab-df-convert {\n",
              "      background-color: #3B4455;\n",
              "      fill: #D2E3FC;\n",
              "    }\n",
              "\n",
              "    [theme=dark] .colab-df-convert:hover {\n",
              "      background-color: #434B5C;\n",
              "      box-shadow: 0px 1px 3px 1px rgba(0, 0, 0, 0.15);\n",
              "      filter: drop-shadow(0px 1px 2px rgba(0, 0, 0, 0.3));\n",
              "      fill: #FFFFFF;\n",
              "    }\n",
              "  </style>\n",
              "\n",
              "      <script>\n",
              "        const buttonEl =\n",
              "          document.querySelector('#df-87728eff-d0b0-45c6-8302-f18bb40eb08c button.colab-df-convert');\n",
              "        buttonEl.style.display =\n",
              "          google.colab.kernel.accessAllowed ? 'block' : 'none';\n",
              "\n",
              "        async function convertToInteractive(key) {\n",
              "          const element = document.querySelector('#df-87728eff-d0b0-45c6-8302-f18bb40eb08c');\n",
              "          const dataTable =\n",
              "            await google.colab.kernel.invokeFunction('convertToInteractive',\n",
              "                                                     [key], {});\n",
              "          if (!dataTable) return;\n",
              "\n",
              "          const docLinkHtml = 'Like what you see? Visit the ' +\n",
              "            '<a target=\"_blank\" href=https://colab.research.google.com/notebooks/data_table.ipynb>data table notebook</a>'\n",
              "            + ' to learn more about interactive tables.';\n",
              "          element.innerHTML = '';\n",
              "          dataTable['output_type'] = 'display_data';\n",
              "          await google.colab.output.renderOutput(dataTable, element);\n",
              "          const docLink = document.createElement('div');\n",
              "          docLink.innerHTML = docLinkHtml;\n",
              "          element.appendChild(docLink);\n",
              "        }\n",
              "      </script>\n",
              "    </div>\n",
              "  </div>\n",
              "  "
            ]
          },
          "metadata": {},
          "execution_count": 9
        }
      ]
    },
    {
      "cell_type": "code",
      "source": [
        "train, test = train_test_split(df,test_size=0.2)\n",
        "train.reset_index(drop=True,inplace=True)\n",
        "test.reset_index(drop=True,inplace=True)"
      ],
      "metadata": {
        "id": "xiCYazTYqQez"
      },
      "execution_count": null,
      "outputs": []
    },
    {
      "cell_type": "code",
      "source": [
        "data = df"
      ],
      "metadata": {
        "id": "0pfSKQynrgse"
      },
      "execution_count": null,
      "outputs": []
    },
    {
      "cell_type": "code",
      "source": [
        "ITEM_FEAT_COL"
      ],
      "metadata": {
        "colab": {
          "base_uri": "https://localhost:8080/",
          "height": 37
        },
        "id": "rQ5Z7WHdquWY",
        "outputId": "1c9c38ba-124f-4187-b8b0-981608e55a6f"
      },
      "execution_count": null,
      "outputs": [
        {
          "output_type": "execute_result",
          "data": {
            "text/plain": [
              "'genre'"
            ],
            "application/vnd.google.colaboratory.intrinsic+json": {
              "type": "string"
            }
          },
          "metadata": {},
          "execution_count": 12
        }
      ]
    },
    {
      "cell_type": "code",
      "source": [
        "items = data.drop_duplicates(ITEM_COL)[[ITEM_COL, ITEM_FEAT_COL]].reset_index(drop=True)\n",
        "item_feat_shape = len(items[ITEM_FEAT_COL][0])"
      ],
      "metadata": {
        "id": "TskoTTGMrIgB"
      },
      "execution_count": null,
      "outputs": []
    },
    {
      "cell_type": "code",
      "source": [
        "users = data.drop_duplicates(USER_COL)[[USER_COL]].reset_index(drop=True)\n",
        "\n",
        "print(\"Total {} items and {} users in the dataset\".format(len(items), len(users)))"
      ],
      "metadata": {
        "colab": {
          "base_uri": "https://localhost:8080/"
        },
        "id": "-HMCFIa1rjCv",
        "outputId": "0be56752-af4a-48df-89b6-ccdad01acea3"
      },
      "execution_count": null,
      "outputs": [
        {
          "output_type": "stream",
          "name": "stdout",
          "text": [
            "Total 36182 items and 267821 users in the dataset\n"
          ]
        }
      ]
    },
    {
      "cell_type": "code",
      "source": [
        "\"\"\"Parameters (papermill)\"\"\"\n",
        "\n",
        "# Recommend top k items\n",
        "TOP_K = 10\n",
        "# Select MovieLens data size: 100k, 1m, 10m, or 20m\n",
        "MOVIELENS_DATA_SIZE = '100k'\n",
        "# Metrics to use for evaluation\n",
        "RANKING_METRICS = [\n",
        "    evaluator.ndcg_at_k.__name__,\n",
        "    evaluator.precision_at_k.__name__,\n",
        "]\n",
        "RATING_METRICS = [\n",
        "    evaluator.rmse.__name__,\n",
        "    evaluator.mae.__name__,\n",
        "]\n",
        "# Use session hook to evaluate model while training\n",
        "EVALUATE_WHILE_TRAINING = True\n",
        "\n",
        "RANDOM_SEED = SEED  # Set seed for deterministic result\n",
        "\n",
        "# Train and test set pickle file paths. If provided, use them. Otherwise, download the MovieLens dataset.\n",
        "DATA_DIR = None\n",
        "TRAIN_PICKLE_PATH = None\n",
        "TEST_PICKLE_PATH = None\n",
        "EXPORT_DIR_BASE = '/content/drive/MyDrive/6240_project/project_data/wd/model'\n",
        "# Model checkpoints directory. If None, use temp-dir.\n",
        "model_dir = '/content/drive/MyDrive/6240_project/project_data/wd'\n",
        "\n",
        "#### Hyperparameters\n",
        "MODEL_TYPE = 'wide_deep'\n",
        "STEPS = 50000  # Number of batches to train\n",
        "BATCH_SIZE = 32\n",
        "# Wide (linear) model hyperparameters\n",
        "LINEAR_OPTIMIZER = 'adagrad'\n",
        "LINEAR_OPTIMIZER_LR = 0.0621  # Learning rate\n",
        "LINEAR_L1_REG = 0.0           # Regularization rate for FtrlOptimizer\n",
        "LINEAR_L2_REG = 0.0\n",
        "LINEAR_MOMENTUM = 0.0         # Momentum for MomentumOptimizer or RMSPropOptimizer\n",
        "# DNN model hyperparameters\n",
        "DNN_OPTIMIZER = 'adadelta'\n",
        "DNN_OPTIMIZER_LR = 0.1\n",
        "DNN_L1_REG = 0.0           # Regularization rate for FtrlOptimizer\n",
        "DNN_L2_REG = 0.0\n",
        "DNN_MOMENTUM = 0.0         # Momentum for MomentumOptimizer or RMSPropOptimizer\n",
        "# Layer dimensions. Defined as follows to make this notebook runnable from Hyperparameter tuning services like AzureML Hyperdrive\n",
        "DNN_HIDDEN_LAYER_1 = 0     # Set 0 to not use this layer\n",
        "DNN_HIDDEN_LAYER_2 = 64    # Set 0 to not use this layer\n",
        "DNN_HIDDEN_LAYER_3 = 128   # Set 0 to not use this layer\n",
        "DNN_HIDDEN_LAYER_4 = 512   # Note, at least one layer should have nodes.\n",
        "DNN_HIDDEN_UNITS = [h for h in [DNN_HIDDEN_LAYER_1, DNN_HIDDEN_LAYER_2, DNN_HIDDEN_LAYER_3, DNN_HIDDEN_LAYER_4] if h > 0]\n",
        "DNN_USER_DIM = 32          # User embedding feature dimension\n",
        "DNN_ITEM_DIM = 16          # Item embedding feature dimension\n",
        "DNN_DROPOUT = 0.8\n",
        "DNN_BATCH_NORM = 1         # 1 to use batch normalization, 0 if not."
      ],
      "metadata": {
        "id": "MREF2ss8rmrP"
      },
      "execution_count": null,
      "outputs": []
    },
    {
      "cell_type": "code",
      "source": [
        "save_checkpoints_steps = max(1, STEPS // 5)"
      ],
      "metadata": {
        "id": "IgFFDow2rwJ_"
      },
      "execution_count": null,
      "outputs": []
    },
    {
      "cell_type": "code",
      "source": [
        "wide_columns, deep_columns = wide_deep.build_feature_columns(\n",
        "    users=users[USER_COL].values,\n",
        "    items=items[ITEM_COL].values,\n",
        "    user_col=USER_COL,\n",
        "    item_col=ITEM_COL,\n",
        "    item_feat_col=ITEM_FEAT_COL,\n",
        "    crossed_feat_dim=1000,\n",
        "    user_dim=DNN_USER_DIM,\n",
        "    item_dim=DNN_ITEM_DIM,\n",
        "    item_feat_shape=item_feat_shape,\n",
        "    model_type=MODEL_TYPE,\n",
        ")\n",
        "\n",
        "print(\"Wide feature specs:\")\n",
        "for c in wide_columns:\n",
        "    print(\"\\t\", str(c)[:100], \"...\")\n",
        "print(\"Deep feature specs:\")\n",
        "for c in deep_columns:\n",
        "    print(\"\\t\", str(c)[:100], \"...\")"
      ],
      "metadata": {
        "colab": {
          "base_uri": "https://localhost:8080/"
        },
        "id": "47XkrXxOr0wD",
        "outputId": "7c8c1baa-b9b2-4190-f6c4-768551de6546"
      },
      "execution_count": null,
      "outputs": [
        {
          "output_type": "stream",
          "name": "stdout",
          "text": [
            "Wide feature specs:\n",
            "\t VocabularyListCategoricalColumn(key='userID', vocabulary_list=(0, 1, 2, 3, 4, 5, 6, 7, 8, 9, 10, 11, ...\n",
            "\t VocabularyListCategoricalColumn(key='itemID', vocabulary_list=(5949, 5831, 21931, 17215, 19785, 2193 ...\n",
            "\t CrossedColumn(keys=(VocabularyListCategoricalColumn(key='userID', vocabulary_list=(0, 1, 2, 3, 4, 5, ...\n",
            "Deep feature specs:\n",
            "\t EmbeddingColumn(categorical_column=VocabularyListCategoricalColumn(key='userID', vocabulary_list=(0, ...\n",
            "\t EmbeddingColumn(categorical_column=VocabularyListCategoricalColumn(key='itemID', vocabulary_list=(59 ...\n",
            "\t NumericColumn(key='genre', shape=(10,), default_value=None, dtype=tf.float32, normalizer_fn=None) ...\n"
          ]
        }
      ]
    },
    {
      "cell_type": "code",
      "source": [
        "# Build a model based on the parameters\n",
        "model = wide_deep.build_model(\n",
        "    model_dir=model_dir,\n",
        "    wide_columns=wide_columns,\n",
        "    deep_columns=deep_columns,\n",
        "    linear_optimizer=tf_utils.build_optimizer(LINEAR_OPTIMIZER, LINEAR_OPTIMIZER_LR, **{\n",
        "        'l1_regularization_strength': LINEAR_L1_REG,\n",
        "        'l2_regularization_strength': LINEAR_L2_REG,\n",
        "        'momentum': LINEAR_MOMENTUM,\n",
        "    }),\n",
        "    dnn_optimizer=tf_utils.build_optimizer(DNN_OPTIMIZER, DNN_OPTIMIZER_LR, **{\n",
        "        'l1_regularization_strength': DNN_L1_REG,\n",
        "        'l2_regularization_strength': DNN_L2_REG,\n",
        "        'momentum': DNN_MOMENTUM,  \n",
        "    }),\n",
        "    dnn_hidden_units=DNN_HIDDEN_UNITS,\n",
        "    dnn_dropout=DNN_DROPOUT,\n",
        "    dnn_batch_norm=(DNN_BATCH_NORM==1),\n",
        "    log_every_n_iter=max(1, STEPS//10),  # log 10 times\n",
        "    save_checkpoints_steps=save_checkpoints_steps,\n",
        "    seed=RANDOM_SEED\n",
        ")"
      ],
      "metadata": {
        "id": "0fPtfj0Fr7dF"
      },
      "execution_count": null,
      "outputs": []
    },
    {
      "cell_type": "code",
      "source": [
        ""
      ],
      "metadata": {
        "id": "LWL8Kn9Fi9BZ"
      },
      "execution_count": null,
      "outputs": []
    },
    {
      "cell_type": "code",
      "source": [
        "cols = {\n",
        "    'col_user': USER_COL,\n",
        "    'col_item': ITEM_COL,\n",
        "    'col_rating': RATING_COL,\n",
        "    'col_prediction': PREDICT_COL,\n",
        "}\n",
        "\n",
        "# Prepare ranking evaluation set, i.e. get the cross join of all user-item pairs\n",
        "# ranking_pool = user_item_pairs(\n",
        "#     user_df=users,\n",
        "#     item_df=items,\n",
        "#     user_col=USER_COL,\n",
        "#     item_col=ITEM_COL,\n",
        "#     user_item_filter_df=train,  # Remove seen items\n",
        "#     shuffle=True,\n",
        "#     seed=RANDOM_SEED\n",
        "# )"
      ],
      "metadata": {
        "id": "CV_mw5JxsD4H"
      },
      "execution_count": null,
      "outputs": []
    },
    {
      "cell_type": "code",
      "source": [
        "hooks = []\n",
        "if EVALUATE_WHILE_TRAINING:\n",
        "    evaluation_logger = tf_utils.MetricsLogger()\n",
        "    metrics = RATING_METRICS\n",
        "    if len(metrics) > 0:\n",
        "        hooks.append(\n",
        "            tf_utils.evaluation_log_hook(\n",
        "                model,\n",
        "                logger=evaluation_logger,\n",
        "                true_df=test,\n",
        "                y_col=RATING_COL,\n",
        "                eval_df=ranking_pool if metrics==RANKING_METRICS else test.drop(RATING_COL, axis=1),\n",
        "                every_n_iter=save_checkpoints_steps,\n",
        "                model_dir=model_dir,\n",
        "                eval_fns=[evaluator.metrics[m] for m in metrics],\n",
        "                **({**cols, 'k': TOP_K} if metrics==RANKING_METRICS else cols)\n",
        "            )\n",
        "        )\n",
        "\n",
        "# Define training input (sample feeding) function\n",
        "train_fn = tf_utils.pandas_input_fn(\n",
        "    df=train,\n",
        "    y_col=RATING_COL,\n",
        "    batch_size=BATCH_SIZE,\n",
        "    num_epochs=None,  # We use steps=TRAIN_STEPS instead.\n",
        "    shuffle=True,\n",
        "    seed=RANDOM_SEED,\n",
        ")"
      ],
      "metadata": {
        "id": "otakLOjksfTh"
      },
      "execution_count": null,
      "outputs": []
    },
    {
      "cell_type": "code",
      "source": [
        "print(\n",
        "    \"Training steps = {}, Batch size = {} (num epochs = {})\"\n",
        "    .format(STEPS, BATCH_SIZE, (STEPS*BATCH_SIZE)//len(train))\n",
        ")\n",
        "tf.compat.v1.logging.set_verbosity(tf.compat.v1.logging.INFO)\n",
        "\n",
        "try:\n",
        "    model.train(\n",
        "        input_fn=train_fn,\n",
        "        hooks=hooks,\n",
        "        steps=STEPS\n",
        "    )\n",
        "except tf.train.NanLossDuringTrainingError:\n",
        "    import warnings\n",
        "    warnings.warn(\n",
        "        \"Training stopped with NanLossDuringTrainingError. \"\n",
        "        \"Try other optimizers, smaller batch size and/or smaller learning rate.\"\n",
        "    )"
      ],
      "metadata": {
        "colab": {
          "base_uri": "https://localhost:8080/"
        },
        "id": "I9BD8SF-vHL8",
        "outputId": "d1c6e8c1-99c5-44ca-d498-f57d9e215773"
      },
      "execution_count": null,
      "outputs": [
        {
          "output_type": "stream",
          "name": "stdout",
          "text": [
            "Training steps = 50000, Batch size = 32 (num epochs = 1)\n",
            "WARNING:tensorflow:From /usr/local/lib/python3.7/dist-packages/tensorflow/python/training/training_util.py:397: Variable.initialized_value (from tensorflow.python.ops.variables) is deprecated and will be removed in a future version.\n",
            "Instructions for updating:\n",
            "Use Variable.read_value. Variables in 2.X are initialized automatically both in eager and graph (inside tf.defun) contexts.\n",
            "INFO:tensorflow:Calling model_fn.\n",
            "WARNING:tensorflow:From /usr/local/lib/python3.7/dist-packages/keras/layers/normalization/batch_normalization.py:532: _colocate_with (from tensorflow.python.framework.ops) is deprecated and will be removed in a future version.\n",
            "Instructions for updating:\n",
            "Colocations handled automatically by placer.\n"
          ]
        },
        {
          "output_type": "stream",
          "name": "stderr",
          "text": [
            "/usr/local/lib/python3.7/dist-packages/tensorflow_estimator/python/estimator/canned/linear.py:1478: UserWarning: `layer.add_variable` is deprecated and will be removed in a future version. Please use `layer.add_weight` method instead.\n",
            "  getter=tf.compat.v1.get_variable)\n"
          ]
        },
        {
          "output_type": "stream",
          "name": "stdout",
          "text": [
            "WARNING:tensorflow:From /usr/local/lib/python3.7/dist-packages/tensorflow/python/training/adagrad.py:139: calling Constant.__init__ (from tensorflow.python.ops.init_ops) with dtype is deprecated and will be removed in a future version.\n",
            "Instructions for updating:\n",
            "Call initializer instance with the dtype argument instead of passing it to the constructor\n",
            "INFO:tensorflow:Done calling model_fn.\n",
            "INFO:tensorflow:Create CheckpointSaverHook.\n",
            "INFO:tensorflow:Graph was finalized.\n",
            "INFO:tensorflow:Running local_init_op.\n",
            "INFO:tensorflow:Done running local_init_op.\n",
            "INFO:tensorflow:Calling checkpoint listeners before saving checkpoint 0...\n",
            "INFO:tensorflow:Saving checkpoints for 0 into /content/drive/MyDrive/6240_project/project_data/wd/model.ckpt.\n",
            "INFO:tensorflow:Calling checkpoint listeners after saving checkpoint 0...\n",
            "INFO:tensorflow:loss = 588.3124, step = 0\n",
            "INFO:tensorflow:global_step/sec: 42.671\n",
            "INFO:tensorflow:loss = 48.684845, step = 5000 (95.809 sec)\n",
            "INFO:tensorflow:Calling checkpoint listeners before saving checkpoint 10000...\n",
            "INFO:tensorflow:Saving checkpoints for 10000 into /content/drive/MyDrive/6240_project/project_data/wd/model.ckpt.\n",
            "INFO:tensorflow:Calling checkpoint listeners after saving checkpoint 10000...\n",
            "INFO:tensorflow:global_step/sec: 60.6426\n"
          ]
        },
        {
          "output_type": "stream",
          "name": "stderr",
          "text": [
            "/usr/local/lib/python3.7/dist-packages/tensorflow_estimator/python/estimator/canned/linear.py:1478: UserWarning: `layer.add_variable` is deprecated and will be removed in a future version. Please use `layer.add_weight` method instead.\n",
            "  getter=tf.compat.v1.get_variable)\n"
          ]
        },
        {
          "output_type": "stream",
          "name": "stdout",
          "text": [
            "INFO:tensorflow:loss = 30.084976, step = 10000 (100.315 sec)\n",
            "INFO:tensorflow:global_step/sec: 51.9187\n",
            "INFO:tensorflow:loss = 39.626965, step = 15000 (78.440 sec)\n",
            "INFO:tensorflow:Calling checkpoint listeners before saving checkpoint 20000...\n",
            "INFO:tensorflow:Saving checkpoints for 20000 into /content/drive/MyDrive/6240_project/project_data/wd/model.ckpt.\n",
            "INFO:tensorflow:Calling checkpoint listeners after saving checkpoint 20000...\n",
            "INFO:tensorflow:global_step/sec: 63.0411\n"
          ]
        },
        {
          "output_type": "stream",
          "name": "stderr",
          "text": [
            "/usr/local/lib/python3.7/dist-packages/tensorflow_estimator/python/estimator/canned/linear.py:1478: UserWarning: `layer.add_variable` is deprecated and will be removed in a future version. Please use `layer.add_weight` method instead.\n",
            "  getter=tf.compat.v1.get_variable)\n"
          ]
        },
        {
          "output_type": "stream",
          "name": "stdout",
          "text": [
            "INFO:tensorflow:loss = 25.174051, step = 20000 (95.668 sec)\n",
            "INFO:tensorflow:global_step/sec: 53.1969\n",
            "INFO:tensorflow:loss = 28.144371, step = 25000 (77.636 sec)\n",
            "INFO:tensorflow:Calling checkpoint listeners before saving checkpoint 30000...\n",
            "INFO:tensorflow:Saving checkpoints for 30000 into /content/drive/MyDrive/6240_project/project_data/wd/model.ckpt.\n",
            "INFO:tensorflow:Calling checkpoint listeners after saving checkpoint 30000...\n",
            "INFO:tensorflow:global_step/sec: 64.0029\n"
          ]
        },
        {
          "output_type": "stream",
          "name": "stderr",
          "text": [
            "/usr/local/lib/python3.7/dist-packages/tensorflow_estimator/python/estimator/canned/linear.py:1478: UserWarning: `layer.add_variable` is deprecated and will be removed in a future version. Please use `layer.add_weight` method instead.\n",
            "  getter=tf.compat.v1.get_variable)\n"
          ]
        },
        {
          "output_type": "stream",
          "name": "stdout",
          "text": [
            "INFO:tensorflow:loss = 27.121128, step = 30000 (94.002 sec)\n",
            "INFO:tensorflow:global_step/sec: 54.1329\n",
            "INFO:tensorflow:loss = 26.659409, step = 35000 (76.485 sec)\n",
            "INFO:tensorflow:Calling checkpoint listeners before saving checkpoint 40000...\n",
            "INFO:tensorflow:Saving checkpoints for 40000 into /content/drive/MyDrive/6240_project/project_data/wd/model.ckpt.\n",
            "INFO:tensorflow:Calling checkpoint listeners after saving checkpoint 40000...\n",
            "INFO:tensorflow:global_step/sec: 63.1391\n"
          ]
        },
        {
          "output_type": "stream",
          "name": "stderr",
          "text": [
            "/usr/local/lib/python3.7/dist-packages/tensorflow_estimator/python/estimator/canned/linear.py:1478: UserWarning: `layer.add_variable` is deprecated and will be removed in a future version. Please use `layer.add_weight` method instead.\n",
            "  getter=tf.compat.v1.get_variable)\n"
          ]
        },
        {
          "output_type": "stream",
          "name": "stdout",
          "text": [
            "INFO:tensorflow:loss = 12.354209, step = 40000 (95.095 sec)\n",
            "INFO:tensorflow:global_step/sec: 54.5768\n",
            "INFO:tensorflow:loss = 16.336098, step = 45000 (75.709 sec)\n",
            "INFO:tensorflow:Calling checkpoint listeners before saving checkpoint 50000...\n",
            "INFO:tensorflow:Saving checkpoints for 50000 into /content/drive/MyDrive/6240_project/project_data/wd/model.ckpt.\n",
            "WARNING:tensorflow:From /usr/local/lib/python3.7/dist-packages/tensorflow/python/training/saver.py:1054: remove_checkpoint (from tensorflow.python.training.checkpoint_management) is deprecated and will be removed in a future version.\n",
            "Instructions for updating:\n",
            "Use standard file APIs to delete files with this prefix.\n",
            "INFO:tensorflow:Calling checkpoint listeners after saving checkpoint 50000...\n",
            "INFO:tensorflow:Loss for final step: 28.369976.\n"
          ]
        }
      ]
    },
    {
      "cell_type": "code",
      "source": [
        "if EVALUATE_WHILE_TRAINING:\n",
        "    logs = evaluation_logger.get_log()\n",
        "    for i, (m, v) in enumerate(logs.items(), 1):\n",
        "        sb.glue(\"eval_{}\".format(m), v)\n",
        "        x = [save_checkpoints_steps*i for i in range(1, len(v)+1)]\n",
        "        plot.line_graph(\n",
        "            values=list(zip(v, x)),\n",
        "            labels=m,\n",
        "            x_name=\"steps\",\n",
        "            y_name=m,\n",
        "            subplot=(math.ceil(len(logs)/2), 2, i),\n",
        "        )"
      ],
      "metadata": {
        "colab": {
          "base_uri": "https://localhost:8080/",
          "height": 334
        },
        "id": "u5EXpkrxvf46",
        "outputId": "6e102de1-84fb-41e2-fa54-6622c5c719ae"
      },
      "execution_count": null,
      "outputs": [
        {
          "output_type": "display_data",
          "data": {
            "application/scrapbook.scrap.json+json": {
              "name": "eval_rmse",
              "data": [
                187.96323590337204,
                0.930676813197591,
                0.9112185091127017,
                0.8981658694926892,
                0.8944080215583602
              ],
              "encoder": "json",
              "version": 1
            }
          },
          "metadata": {
            "scrapbook": {
              "name": "eval_rmse",
              "data": true,
              "display": false
            }
          }
        },
        {
          "output_type": "display_data",
          "data": {
            "application/scrapbook.scrap.json+json": {
              "name": "eval_mae",
              "data": [
                93.8064999128572,
                0.7546395692850846,
                0.7406680723021339,
                0.72806198899027,
                0.7281055998877257
              ],
              "encoder": "json",
              "version": 1
            }
          },
          "metadata": {
            "scrapbook": {
              "name": "eval_mae",
              "data": true,
              "display": false
            }
          }
        },
        {
          "output_type": "display_data",
          "data": {
            "text/plain": [
              "<Figure size 720x360 with 2 Axes>"
            ],
            "image/png": "[encoded data removed]"
          },
          "metadata": {
            "needs_background": "light"
          }
        }
      ]
    },
    {
      "cell_type": "code",
      "source": [
        "if len(RATING_METRICS) > 0:\n",
        "    predictions = list(model.predict(input_fn=tf_utils.pandas_input_fn(df=test)))\n",
        "    prediction_df = test.drop(RATING_COL, axis=1)\n",
        "    prediction_df[PREDICT_COL] = [p['predictions'][0] for p in predictions]\n",
        "    \n",
        "    rating_results = {}\n",
        "    for m in RATING_METRICS:\n",
        "        result = evaluator.metrics[m](test, prediction_df, **cols)\n",
        "        sb.glue(m, result)\n",
        "        rating_results[m] = result\n",
        "    print(rating_results)"
      ],
      "metadata": {
        "colab": {
          "base_uri": "https://localhost:8080/",
          "height": 190
        },
        "id": "r1Afkf9pvuGw",
        "outputId": "4006e6f1-effb-4fc0-c4e7-9eb238d7da75"
      },
      "execution_count": null,
      "outputs": [
        {
          "output_type": "stream",
          "name": "stdout",
          "text": [
            "INFO:tensorflow:Calling model_fn.\n"
          ]
        },
        {
          "output_type": "stream",
          "name": "stderr",
          "text": [
            "/usr/local/lib/python3.7/dist-packages/tensorflow_estimator/python/estimator/canned/linear.py:1478: UserWarning: `layer.add_variable` is deprecated and will be removed in a future version. Please use `layer.add_weight` method instead.\n",
            "  getter=tf.compat.v1.get_variable)\n"
          ]
        },
        {
          "output_type": "stream",
          "name": "stdout",
          "text": [
            "INFO:tensorflow:Done calling model_fn.\n",
            "INFO:tensorflow:Graph was finalized.\n",
            "INFO:tensorflow:Restoring parameters from /content/drive/MyDrive/6240_project/project_data/wd/model.ckpt-50000\n",
            "INFO:tensorflow:Running local_init_op.\n",
            "INFO:tensorflow:Done running local_init_op.\n"
          ]
        },
        {
          "output_type": "display_data",
          "data": {
            "application/scrapbook.scrap.json+json": {
              "name": "rmse",
              "data": 0.8858806373433523,
              "encoder": "json",
              "version": 1
            }
          },
          "metadata": {
            "scrapbook": {
              "name": "rmse",
              "data": true,
              "display": false
            }
          }
        },
        {
          "output_type": "display_data",
          "data": {
            "application/scrapbook.scrap.json+json": {
              "name": "mae",
              "data": 0.717226746851823,
              "encoder": "json",
              "version": 1
            }
          },
          "metadata": {
            "scrapbook": {
              "name": "mae",
              "data": true,
              "display": false
            }
          }
        },
        {
          "output_type": "stream",
          "name": "stdout",
          "text": [
            "{'rmse': 0.8858806373433523, 'mae': 0.717226746851823}\n"
          ]
        }
      ]
    },
    {
      "cell_type": "code",
      "source": [
        "evaluation_logger.get_log()"
      ],
      "metadata": {
        "colab": {
          "base_uri": "https://localhost:8080/"
        },
        "id": "yfFYBq1C1ZrD",
        "outputId": "6a5b4eba-92e4-4fad-d3aa-1d44b1637103"
      },
      "execution_count": null,
      "outputs": [
        {
          "output_type": "execute_result",
          "data": {
            "text/plain": [
              "{'mae': [93.8064999128572,\n",
              "  0.7546395692850846,\n",
              "  0.7406680723021339,\n",
              "  0.72806198899027,\n",
              "  0.7281055998877257],\n",
              " 'rmse': [187.96323590337204,\n",
              "  0.930676813197591,\n",
              "  0.9112185091127017,\n",
              "  0.8981658694926892,\n",
              "  0.8944080215583602]}"
            ]
          },
          "metadata": {},
          "execution_count": 37
        }
      ]
    },
    {
      "cell_type": "code",
      "source": [
        ""
      ],
      "metadata": {
        "id": "Mk_8SKkz2MaR"
      },
      "execution_count": null,
      "outputs": []
    }
  ]
}