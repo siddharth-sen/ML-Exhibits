{
 "cells": [
  {
   "cell_type": "code",
   "execution_count": 2,
   "metadata": {},
   "outputs": [],
   "source": [
    "import pandas as pd\n",
    "import ast\n",
    "#import file\n",
    "filepath=\"C:/Users/ahind/OneDrive/Desktop/Classes/Homework/Project/\"\n",
    "filename=\"out_data_2_small.csv\"\n",
    "import os\n",
    "os.chdir(filepath)\n",
    "data_out=pd.read_csv(filename)"
   ]
  },
  {
   "cell_type": "markdown",
   "metadata": {},
   "source": [
    "# World map Data"
   ]
  },
  {
   "cell_type": "code",
   "execution_count": 3,
   "metadata": {},
   "outputs": [],
   "source": [
    "import numpy as np\n",
    "data_world_map= data_out.groupby([\"date\",\"Location_clean\",\"sentiment\"]).agg(\n",
    "    neg=(\"neg\",np.mean),\n",
    "    neu=(\"neu\", np.mean),\n",
    "    pos=(\"pos\", np.mean),\n",
    "    compound=(\"compound\",np.mean),\n",
    "    count=(\"pos\",\"count\"),\n",
    ").reset_index()\n",
    "data_world_map.to_csv(\"data_world_map.csv\")"
   ]
  },
  {
   "cell_type": "markdown",
   "metadata": {},
   "source": [
    "# Hashtags Data"
   ]
  },
  {
   "cell_type": "code",
   "execution_count": 12,
   "metadata": {},
   "outputs": [],
   "source": [
    "#Extracting only hashtags\n",
    "data_hashtags_only=data_out[data_out[\"hashtag_length\"]>0]\n",
    "def f1(row1):\n",
    "    row1[\"hashtag_list\"]=ast.literal_eval(row1[\"hashtags\"])\n",
    "    \n",
    "    return row1\n",
    "data_hashtags_only = data_hashtags_only.apply(f1,axis=1)\n",
    "hashtag_summary=data_hashtags_only.explode(\"hashtag_list\").groupby([\"date\",\"Location_clean\",\"sentiment\",\"hashtag_list\"])[\"id\"].count().reset_index()\n",
    "hashtag_summary=hashtag_summary.rename(columns = {'id':'count'})\n",
    "hashtag_summary.to_csv(\"hashtag_summary.csv\")"
   ]
  },
  {
   "cell_type": "markdown",
   "metadata": {},
   "source": [
    "# Extracting Tockens"
   ]
  },
  {
   "cell_type": "code",
   "execution_count": 10,
   "metadata": {},
   "outputs": [],
   "source": [
    "\n",
    "def f1(row1):\n",
    "    row1[\"tocken_list\"]=ast.literal_eval(row1[\"tockens\"])\n",
    "    \n",
    "    return row1\n",
    "data_out = data_out.apply(f1,axis=1)\n",
    "data_top_word=data_out.explode(\"tocken_list\").groupby([\"date\",\"Location_clean\",\"sentiment\",\"tocken_list\"])[\"id\"].count().reset_index()\n",
    "data_top_word=data_top_word.rename(columns = {'id':'count'})\n",
    "data_top_word.to_csv(\"data_top_word.csv\")\n",
    "\n",
    "\n"
   ]
  }
 ],
 "metadata": {
  "kernelspec": {
   "display_name": "Python 3",
   "language": "python",
   "name": "python3"
  },
  "language_info": {
   "codemirror_mode": {
    "name": "ipython",
    "version": 3
   },
   "file_extension": ".py",
   "mimetype": "text/x-python",
   "name": "python",
   "nbconvert_exporter": "python",
   "pygments_lexer": "ipython3",
   "version": "3.8.5"
  }
 },
 "nbformat": 4,
 "nbformat_minor": 5
}
