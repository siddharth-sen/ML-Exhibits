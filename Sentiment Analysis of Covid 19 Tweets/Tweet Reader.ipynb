{
 "cells": [
  {
   "cell_type": "code",
   "execution_count": 16,
   "metadata": {},
   "outputs": [],
   "source": [
    "import pandas as pd\n",
    "import numpy as np\n",
    "chunksize = 10 ** 4\n",
    "temp = 1\n",
    "cnt=1\n",
    "filtered_month=2020\n",
    "filtered_year=10\n",
    "\n",
    "filepath = r\"D:\\Docs\\GT - Acads\""
   ]
  },
  {
   "cell_type": "code",
   "execution_count": 17,
   "metadata": {},
   "outputs": [
    {
     "name": "stdout",
     "output_type": "stream",
     "text": [
      "Finished processing chunk 2000 ...\n",
      "Finished processing chunk 4000 ...\n",
      "Finished processing chunk 6000 ...\n",
      "Finished processing chunk 8000 ...\n",
      "Finished processing chunk 10000 ...\n",
      "Finished processing chunk 12000 ...\n",
      "Finished processing chunk 14000 ...\n",
      "Finished processing chunk 16000 ...\n",
      "Finished processing chunk 18000 ...\n"
     ]
    }
   ],
   "source": [
    "for i, chunk in enumerate(pd.read_csv(filepath+r\"\\COVID19_twitter_full_dataset.csv\", chunksize=chunksize)):\n",
    "    \n",
    "    chunk = chunk[chunk[\"country/region\"] == \"United States\"]\n",
    "    chunk=chunk[[\"tweet_id\",\"sentiment\",\"emotion\",\"tweet_timestamp\"]]\n",
    "    chunk[\"year\"]=pd.to_datetime(chunk[\"tweet_timestamp\"].str[:7]).dt.year\n",
    "    chunk[\"month\"]=pd.to_datetime(chunk[\"tweet_timestamp\"].str[:7]).dt.month\n",
    "    \n",
    "    #Change month and year\n",
    "    cond1=chunk[\"year\"]== filtered_month\n",
    "    cond2=chunk[\"month\"]==filtered_year\n",
    "    chunk=chunk[cond1 & cond2]\n",
    "\n",
    "    if temp == 1:\n",
    "        temp = 2\n",
    "        chunk.to_csv(filepath+r\"\\output2.csv\")\n",
    "    else:\n",
    "        chunk.to_csv(filepath+r\"\\output2.csv\", mode='a', header=False)\n",
    "    \n",
    "    if (i+1)%2000 == 0:\n",
    "        print(\"Finished processing chunk {} ...\".format(i+1))\n",
    "    \n",
    "    cnt=cnt+1"
   ]
  },
  {
   "cell_type": "code",
   "execution_count": null,
   "metadata": {},
   "outputs": [],
   "source": [
    "# import numpy as np\n",
    "# chunks=np.array_split(data, 6)\n",
    "# Name=[\"Ahindrila\",\"Ahmed\",\"Lucy\",\"Jonathan\",\"Saurabh\",\"Siddharth\"]\n",
    "# for j in range(len(chunks)):\n",
    "#     loc1='C:/Users/ahind/Downloads/'+Name[j]+\".csv\"\n",
    "    \n",
    "#     chunks[j].to_csv(loc1)"
   ]
  }
 ],
 "metadata": {
  "kernelspec": {
   "display_name": "Python 3",
   "language": "python",
   "name": "python3"
  },
  "language_info": {
   "codemirror_mode": {
    "name": "ipython",
    "version": 3
   },
   "file_extension": ".py",
   "mimetype": "text/x-python",
   "name": "python",
   "nbconvert_exporter": "python",
   "pygments_lexer": "ipython3",
   "version": "3.8.5"
  }
 },
 "nbformat": 4,
 "nbformat_minor": 4
}
