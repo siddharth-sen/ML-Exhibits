{
 "cells": [
  {
   "cell_type": "code",
   "execution_count": 31,
   "metadata": {},
   "outputs": [],
   "source": [
    "import pandas as pd\n",
    "\n",
    "file = r\"D:\\Docs\\GT - Acads\\output2.csv\""
   ]
  },
  {
   "cell_type": "code",
   "execution_count": 32,
   "metadata": {},
   "outputs": [
    {
     "data": {
      "text/plain": [
       "(4184278, 7)"
      ]
     },
     "execution_count": 32,
     "metadata": {},
     "output_type": "execute_result"
    }
   ],
   "source": [
    "df = pd.read_csv(file)\n",
    "df.shape"
   ]
  },
  {
   "cell_type": "code",
   "execution_count": 33,
   "metadata": {},
   "outputs": [
    {
     "data": {
      "text/html": [
       "<div>\n",
       "<style scoped>\n",
       "    .dataframe tbody tr th:only-of-type {\n",
       "        vertical-align: middle;\n",
       "    }\n",
       "\n",
       "    .dataframe tbody tr th {\n",
       "        vertical-align: top;\n",
       "    }\n",
       "\n",
       "    .dataframe thead th {\n",
       "        text-align: right;\n",
       "    }\n",
       "</style>\n",
       "<table border=\"1\" class=\"dataframe\">\n",
       "  <thead>\n",
       "    <tr style=\"text-align: right;\">\n",
       "      <th></th>\n",
       "      <th>Unnamed: 0</th>\n",
       "      <th>tweet_id</th>\n",
       "      <th>sentiment</th>\n",
       "      <th>emotion</th>\n",
       "      <th>tweet_timestamp</th>\n",
       "      <th>year</th>\n",
       "      <th>month</th>\n",
       "    </tr>\n",
       "  </thead>\n",
       "  <tbody>\n",
       "    <tr>\n",
       "      <th>0</th>\n",
       "      <td>95801556</td>\n",
       "      <td>1311561486700027906</td>\n",
       "      <td>positive</td>\n",
       "      <td>happiness</td>\n",
       "      <td>2020-10-01 00-00-00</td>\n",
       "      <td>2020</td>\n",
       "      <td>10</td>\n",
       "    </tr>\n",
       "    <tr>\n",
       "      <th>1</th>\n",
       "      <td>95801562</td>\n",
       "      <td>1311561486372831232</td>\n",
       "      <td>negative</td>\n",
       "      <td>fear</td>\n",
       "      <td>2020-10-01 00-00-00</td>\n",
       "      <td>2020</td>\n",
       "      <td>10</td>\n",
       "    </tr>\n",
       "    <tr>\n",
       "      <th>2</th>\n",
       "      <td>95801563</td>\n",
       "      <td>1311561486230188034</td>\n",
       "      <td>neutral or mixed</td>\n",
       "      <td>no specific emotion</td>\n",
       "      <td>2020-10-01 00-00-00</td>\n",
       "      <td>2020</td>\n",
       "      <td>10</td>\n",
       "    </tr>\n",
       "    <tr>\n",
       "      <th>3</th>\n",
       "      <td>95801573</td>\n",
       "      <td>1311561489958883328</td>\n",
       "      <td>positive</td>\n",
       "      <td>happiness</td>\n",
       "      <td>2020-10-01 00-00-01</td>\n",
       "      <td>2020</td>\n",
       "      <td>10</td>\n",
       "    </tr>\n",
       "    <tr>\n",
       "      <th>4</th>\n",
       "      <td>95801579</td>\n",
       "      <td>1311561487903649792</td>\n",
       "      <td>positive</td>\n",
       "      <td>happiness</td>\n",
       "      <td>2020-10-01 00-00-01</td>\n",
       "      <td>2020</td>\n",
       "      <td>10</td>\n",
       "    </tr>\n",
       "  </tbody>\n",
       "</table>\n",
       "</div>"
      ],
      "text/plain": [
       "   Unnamed: 0             tweet_id         sentiment              emotion  \\\n",
       "0    95801556  1311561486700027906          positive            happiness   \n",
       "1    95801562  1311561486372831232          negative                 fear   \n",
       "2    95801563  1311561486230188034  neutral or mixed  no specific emotion   \n",
       "3    95801573  1311561489958883328          positive            happiness   \n",
       "4    95801579  1311561487903649792          positive            happiness   \n",
       "\n",
       "       tweet_timestamp  year  month  \n",
       "0  2020-10-01 00-00-00  2020     10  \n",
       "1  2020-10-01 00-00-00  2020     10  \n",
       "2  2020-10-01 00-00-00  2020     10  \n",
       "3  2020-10-01 00-00-01  2020     10  \n",
       "4  2020-10-01 00-00-01  2020     10  "
      ]
     },
     "execution_count": 33,
     "metadata": {},
     "output_type": "execute_result"
    }
   ],
   "source": [
    "df.head()"
   ]
  },
  {
   "cell_type": "code",
   "execution_count": 34,
   "metadata": {},
   "outputs": [
    {
     "data": {
      "text/html": [
       "<div>\n",
       "<style scoped>\n",
       "    .dataframe tbody tr th:only-of-type {\n",
       "        vertical-align: middle;\n",
       "    }\n",
       "\n",
       "    .dataframe tbody tr th {\n",
       "        vertical-align: top;\n",
       "    }\n",
       "\n",
       "    .dataframe thead th {\n",
       "        text-align: right;\n",
       "    }\n",
       "</style>\n",
       "<table border=\"1\" class=\"dataframe\">\n",
       "  <thead>\n",
       "    <tr style=\"text-align: right;\">\n",
       "      <th></th>\n",
       "      <th>Unnamed: 0</th>\n",
       "      <th>tweet_id</th>\n",
       "      <th>sentiment</th>\n",
       "      <th>emotion</th>\n",
       "      <th>tweet_timestamp</th>\n",
       "      <th>year</th>\n",
       "      <th>month</th>\n",
       "    </tr>\n",
       "  </thead>\n",
       "  <tbody>\n",
       "    <tr>\n",
       "      <th>2389929</th>\n",
       "      <td>102897044</td>\n",
       "      <td>1316575199026970625</td>\n",
       "      <td>negative</td>\n",
       "      <td>anger</td>\n",
       "      <td>2020-10-14 20-02-42</td>\n",
       "      <td>2020</td>\n",
       "      <td>10</td>\n",
       "    </tr>\n",
       "    <tr>\n",
       "      <th>1682559</th>\n",
       "      <td>100566233</td>\n",
       "      <td>1314354870799994885</td>\n",
       "      <td>negative</td>\n",
       "      <td>anger</td>\n",
       "      <td>2020-10-08 16-59-55</td>\n",
       "      <td>2020</td>\n",
       "      <td>10</td>\n",
       "    </tr>\n",
       "    <tr>\n",
       "      <th>3495670</th>\n",
       "      <td>106678369</td>\n",
       "      <td>1320770097598943232</td>\n",
       "      <td>negative</td>\n",
       "      <td>anger</td>\n",
       "      <td>2020-10-26 09-51-44</td>\n",
       "      <td>2020</td>\n",
       "      <td>10</td>\n",
       "    </tr>\n",
       "    <tr>\n",
       "      <th>1448779</th>\n",
       "      <td>99914839</td>\n",
       "      <td>1313956206667534339</td>\n",
       "      <td>positive</td>\n",
       "      <td>happiness</td>\n",
       "      <td>2020-10-07 14-35-46</td>\n",
       "      <td>2020</td>\n",
       "      <td>10</td>\n",
       "    </tr>\n",
       "    <tr>\n",
       "      <th>2827553</th>\n",
       "      <td>104437902</td>\n",
       "      <td>1318330074911956993</td>\n",
       "      <td>negative</td>\n",
       "      <td>anger</td>\n",
       "      <td>2020-10-19 16-15-57</td>\n",
       "      <td>2020</td>\n",
       "      <td>10</td>\n",
       "    </tr>\n",
       "  </tbody>\n",
       "</table>\n",
       "</div>"
      ],
      "text/plain": [
       "         Unnamed: 0             tweet_id sentiment    emotion  \\\n",
       "2389929   102897044  1316575199026970625  negative      anger   \n",
       "1682559   100566233  1314354870799994885  negative      anger   \n",
       "3495670   106678369  1320770097598943232  negative      anger   \n",
       "1448779    99914839  1313956206667534339  positive  happiness   \n",
       "2827553   104437902  1318330074911956993  negative      anger   \n",
       "\n",
       "             tweet_timestamp  year  month  \n",
       "2389929  2020-10-14 20-02-42  2020     10  \n",
       "1682559  2020-10-08 16-59-55  2020     10  \n",
       "3495670  2020-10-26 09-51-44  2020     10  \n",
       "1448779  2020-10-07 14-35-46  2020     10  \n",
       "2827553  2020-10-19 16-15-57  2020     10  "
      ]
     },
     "execution_count": 34,
     "metadata": {},
     "output_type": "execute_result"
    }
   ],
   "source": [
    "sample_1 = df.sample(500000, random_state=420)\n",
    "sample_1.head()"
   ]
  },
  {
   "cell_type": "code",
   "execution_count": 35,
   "metadata": {},
   "outputs": [],
   "source": [
    "sample_1['tweet_id'].to_csv(r'D:\\Docs\\GT - Acads\\sample_oct.txt', sep='\\t', header=False, index=False)"
   ]
  }
 ],
 "metadata": {
  "kernelspec": {
   "display_name": "Python 3",
   "language": "python",
   "name": "python3"
  },
  "language_info": {
   "codemirror_mode": {
    "name": "ipython",
    "version": 3
   },
   "file_extension": ".py",
   "mimetype": "text/x-python",
   "name": "python",
   "nbconvert_exporter": "python",
   "pygments_lexer": "ipython3",
   "version": "3.8.5"
  }
 },
 "nbformat": 4,
 "nbformat_minor": 4
}
