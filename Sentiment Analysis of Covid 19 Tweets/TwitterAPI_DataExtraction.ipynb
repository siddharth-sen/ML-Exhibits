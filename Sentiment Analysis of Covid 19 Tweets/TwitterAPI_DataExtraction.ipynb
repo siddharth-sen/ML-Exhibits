{
 "cells": [
  {
   "cell_type": "code",
   "execution_count": 1,
   "metadata": {},
   "outputs": [],
   "source": [
    "# !pip install tweepy"
   ]
  },
  {
   "cell_type": "code",
   "execution_count": 2,
   "metadata": {},
   "outputs": [],
   "source": [
    "import tweepy\n",
    "import pandas as pd\n",
    "import json\n",
    "from pandas.io.json import json_normalize"
   ]
  },
  {
   "cell_type": "code",
   "execution_count": 3,
   "metadata": {},
   "outputs": [],
   "source": [
    "#### Enter API key and secret ####\n",
    "consumer_key = '192H10sFeuLbF5hlfO4bJP1Uw'\n",
    "consumer_key_secret = 'STE7kXLfy3mBf317onMTzBe3t3y7wRiRicrdHKBvQw4Ev5oZeE'\n",
    "access_token = '700724367404085248-EtoB8C7nnaqEWeEtouJwegKPmwj2FLn'\n",
    "access_token_secret = 'jhdoWkbpMMhe5Bi1pfUIuxaluNZRgVc1QhYFR0Nb7f7ck'"
   ]
  },
  {
   "cell_type": "code",
   "execution_count": 4,
   "metadata": {},
   "outputs": [],
   "source": [
    "auth = tweepy.OAuthHandler(consumer_key, consumer_key_secret)\n",
    "auth.set_access_token(access_token, access_token_secret)\n",
    "api = tweepy.API(auth, wait_on_rate_limit=True)"
   ]
  },
  {
   "cell_type": "markdown",
   "metadata": {},
   "source": [
    "### Define Helper Functions"
   ]
  },
  {
   "cell_type": "code",
   "execution_count": 5,
   "metadata": {},
   "outputs": [],
   "source": [
    "# function to convert _json to JSON\n",
    "def jsonify_tweepy(tweepy_object):\n",
    "    json_str = json.dumps(tweepy_object._json)\n",
    "    return json.loads(json_str)\n",
    "\n",
    "# flatten nested json\n",
    "def flatten_json(y):\n",
    "    out = {}\n",
    "    def flatten(x, name=''):\n",
    "        if type(x) is dict:\n",
    "            for a in x:\n",
    "                flatten(x[a], name + a + '_')\n",
    "        elif type(x) is list:\n",
    "            i = 0\n",
    "            for a in x:\n",
    "                flatten(a, name + str(i) + '_')\n",
    "                i += 1\n",
    "        else:\n",
    "            out[name[:-1]] = x\n",
    "    flatten(y)\n",
    "    return out"
   ]
  },
  {
   "cell_type": "code",
   "execution_count": 6,
   "metadata": {},
   "outputs": [],
   "source": [
    "# df = pd.json_normalize(flatten_json(jsonify_tweepy(api.get_status(str(1221958334661779458)))))\n",
    "# df.columns"
   ]
  },
  {
   "cell_type": "markdown",
   "metadata": {},
   "source": [
    "### Read input file"
   ]
  },
  {
   "cell_type": "code",
   "execution_count": 7,
   "metadata": {},
   "outputs": [
    {
     "data": {
      "text/html": [
       "<div>\n",
       "<style scoped>\n",
       "    .dataframe tbody tr th:only-of-type {\n",
       "        vertical-align: middle;\n",
       "    }\n",
       "\n",
       "    .dataframe tbody tr th {\n",
       "        vertical-align: top;\n",
       "    }\n",
       "\n",
       "    .dataframe thead th {\n",
       "        text-align: right;\n",
       "    }\n",
       "</style>\n",
       "<table border=\"1\" class=\"dataframe\">\n",
       "  <thead>\n",
       "    <tr style=\"text-align: right;\">\n",
       "      <th></th>\n",
       "      <th>Unnamed: 0</th>\n",
       "      <th>Unnamed: 0.1</th>\n",
       "      <th>tweet_id</th>\n",
       "      <th>sentiment</th>\n",
       "      <th>emotion</th>\n",
       "    </tr>\n",
       "  </thead>\n",
       "  <tbody>\n",
       "    <tr>\n",
       "      <th>0</th>\n",
       "      <td>45605293</td>\n",
       "      <td>160115920</td>\n",
       "      <td>1381223045600272387</td>\n",
       "      <td>negative</td>\n",
       "      <td>fear</td>\n",
       "    </tr>\n",
       "    <tr>\n",
       "      <th>1</th>\n",
       "      <td>45605294</td>\n",
       "      <td>160115932</td>\n",
       "      <td>1381223054357884942</td>\n",
       "      <td>negative</td>\n",
       "      <td>anger</td>\n",
       "    </tr>\n",
       "    <tr>\n",
       "      <th>2</th>\n",
       "      <td>45605295</td>\n",
       "      <td>160115934</td>\n",
       "      <td>1381223052109877248</td>\n",
       "      <td>neutral or mixed</td>\n",
       "      <td>no specific emotion</td>\n",
       "    </tr>\n",
       "    <tr>\n",
       "      <th>3</th>\n",
       "      <td>45605296</td>\n",
       "      <td>160115935</td>\n",
       "      <td>1381223055876325379</td>\n",
       "      <td>negative</td>\n",
       "      <td>anger</td>\n",
       "    </tr>\n",
       "    <tr>\n",
       "      <th>4</th>\n",
       "      <td>45605297</td>\n",
       "      <td>160115940</td>\n",
       "      <td>1381223067062571014</td>\n",
       "      <td>negative</td>\n",
       "      <td>fear</td>\n",
       "    </tr>\n",
       "  </tbody>\n",
       "</table>\n",
       "</div>"
      ],
      "text/plain": [
       "   Unnamed: 0  Unnamed: 0.1             tweet_id         sentiment  \\\n",
       "0    45605293     160115920  1381223045600272387          negative   \n",
       "1    45605294     160115932  1381223054357884942          negative   \n",
       "2    45605295     160115934  1381223052109877248  neutral or mixed   \n",
       "3    45605296     160115935  1381223055876325379          negative   \n",
       "4    45605297     160115940  1381223067062571014          negative   \n",
       "\n",
       "               emotion  \n",
       "0                 fear  \n",
       "1                anger  \n",
       "2  no specific emotion  \n",
       "3                anger  \n",
       "4                 fear  "
      ]
     },
     "execution_count": 7,
     "metadata": {},
     "output_type": "execute_result"
    }
   ],
   "source": [
    "someTweets = pd.read_csv(r'C:\\Users\\siddh\\Desktop\\MSA\\Acads\\CSE 6242\\Siddharth.csv')\n",
    "someTweets.head()"
   ]
  },
  {
   "cell_type": "code",
   "execution_count": 8,
   "metadata": {},
   "outputs": [],
   "source": [
    "# Specify which rows of dataframe to read\n",
    "tweet_ids = someTweets['tweet_id'][0:10000]\n",
    "\n",
    "# Choose columns to extract and initialize dataframe\n",
    "column_names = ['id', 'text', 'user_location', 'created_at', 'retweet_count', 'favorite_count', 'user_followers_count', 'lang']\n",
    "df = pd.DataFrame()"
   ]
  },
  {
   "cell_type": "code",
   "execution_count": 9,
   "metadata": {},
   "outputs": [
    {
     "data": {
      "text/plain": [
       "10000"
      ]
     },
     "execution_count": 9,
     "metadata": {},
     "output_type": "execute_result"
    }
   ],
   "source": [
    "len(tweet_ids)"
   ]
  },
  {
   "cell_type": "markdown",
   "metadata": {},
   "source": [
    "### Create chunks of data to feed into API"
   ]
  },
  {
   "cell_type": "code",
   "execution_count": 16,
   "metadata": {},
   "outputs": [
    {
     "data": {
      "text/plain": [
       "[0       1381223045600272387\n",
       " 1       1381223054357884942\n",
       " 2       1381223052109877248\n",
       " 3       1381223055876325379\n",
       " 4       1381223067062571014\n",
       "                ...         \n",
       " 9995    1381280398446010368\n",
       " 9996    1381280401562476547\n",
       " 9997    1381280419128217605\n",
       " 9998    1381280423439831042\n",
       " 9999    1381280430637338628\n",
       " Name: tweet_id, Length: 10000, dtype: int64,\n",
       " 10000    1381280438635745284\n",
       " 10001    1381280450694557698\n",
       " 10002    1381280458261037056\n",
       " 10003    1381280454670757890\n",
       " 10004    1381280460186206208\n",
       "                 ...         \n",
       " 19995    1381335773602058243\n",
       " 19996    1381335777804648451\n",
       " 19997    1381335788655271936\n",
       " 19998    1381335802542649344\n",
       " 19999    1381335802161020928\n",
       " Name: tweet_id, Length: 10000, dtype: int64,\n",
       " 20000    1381335817268891649\n",
       " 20001    1381335823140880387\n",
       " 20002    1381335824868970499\n",
       " 20003    1381335830766182400\n",
       " 20004    1381335832410341377\n",
       "                 ...         \n",
       " 29995    1381397743315398658\n",
       " 29996    1381397740127682560\n",
       " 29997    1381397763930402816\n",
       " 29998    1381397766203658242\n",
       " 29999    1381397777582854148\n",
       " Name: tweet_id, Length: 10000, dtype: int64,\n",
       " 30000    1381397778195214337\n",
       " 30001    1381397783677173760\n",
       " 30002    1381397816745062400\n",
       " 30003    1381397826018668544\n",
       " 30004    1381397834835107841\n",
       "                 ...         \n",
       " 39995    1381483117689593856\n",
       " 39996    1381483165425016834\n",
       " 39997    1381483170814517248\n",
       " 39998    1381483177483628549\n",
       " 39999    1381483175633895425\n",
       " Name: tweet_id, Length: 10000, dtype: int64,\n",
       " 40000    1381483180788604928\n",
       " 40001    1381483197297524736\n",
       " 40002    1381483196718612481\n",
       " 40003    1381483200325689344\n",
       " 40004    1381483222324768769\n",
       "                 ...         \n",
       " 49995    1381598052293689347\n",
       " 49996    1381598063169507328\n",
       " 49997    1381598066222977024\n",
       " 49998    1381598074880016384\n",
       " 49999    1381598072736735238\n",
       " Name: tweet_id, Length: 10000, dtype: int64]"
      ]
     },
     "execution_count": 16,
     "metadata": {},
     "output_type": "execute_result"
    }
   ],
   "source": [
    "n_chunks = 5\n",
    "size = 10000\n",
    "start = 0\n",
    "\n",
    "chunks = [someTweets['tweet_id'][start + (size*i): (start + (i+1)*size)] for i in range(0, n_chunks)]\n",
    "# chunks"
   ]
  },
  {
   "cell_type": "markdown",
   "metadata": {},
   "source": [
    "### Loop over tweets and append to dataframe"
   ]
  },
  {
   "cell_type": "code",
   "execution_count": 17,
   "metadata": {},
   "outputs": [
    {
     "name": "stderr",
     "output_type": "stream",
     "text": [
      "Rate limit reached. Sleeping for: 351\n"
     ]
    },
    {
     "name": "stdout",
     "output_type": "stream",
     "text": [
      "=== Started reading tweets from Twitter API for chunk 1 ===\n",
      "... Finished reading 100/10000 tweets ...\n",
      "... Finished reading 200/10000 tweets ...\n",
      "... Finished reading 300/10000 tweets ...\n",
      "... Finished reading 400/10000 tweets ...\n",
      "... Finished reading 500/10000 tweets ...\n",
      "... Finished reading 600/10000 tweets ...\n",
      "... Finished reading 700/10000 tweets ...\n",
      "... Finished reading 800/10000 tweets ...\n",
      "... Finished reading 900/10000 tweets ...\n"
     ]
    },
    {
     "name": "stderr",
     "output_type": "stream",
     "text": [
      "Rate limit reached. Sleeping for: 718\n"
     ]
    },
    {
     "name": "stdout",
     "output_type": "stream",
     "text": [
      "... Finished reading 1000/10000 tweets ...\n",
      "... Finished reading 1100/10000 tweets ...\n",
      "... Finished reading 1200/10000 tweets ...\n",
      "... Finished reading 1300/10000 tweets ...\n",
      "... Finished reading 1400/10000 tweets ...\n",
      "... Finished reading 1500/10000 tweets ...\n",
      "... Finished reading 1600/10000 tweets ...\n",
      "... Finished reading 1700/10000 tweets ...\n",
      "... Finished reading 1800/10000 tweets ...\n"
     ]
    },
    {
     "name": "stderr",
     "output_type": "stream",
     "text": [
      "Rate limit reached. Sleeping for: 668\n"
     ]
    },
    {
     "name": "stdout",
     "output_type": "stream",
     "text": [
      "... Finished reading 1900/10000 tweets ...\n",
      "... Finished reading 2000/10000 tweets ...\n",
      "... Finished reading 2100/10000 tweets ...\n",
      "... Finished reading 2200/10000 tweets ...\n",
      "... Finished reading 2300/10000 tweets ...\n",
      "... Finished reading 2400/10000 tweets ...\n",
      "... Finished reading 2500/10000 tweets ...\n",
      "... Finished reading 2600/10000 tweets ...\n",
      "... Finished reading 2700/10000 tweets ...\n"
     ]
    },
    {
     "name": "stderr",
     "output_type": "stream",
     "text": [
      "Rate limit reached. Sleeping for: 578\n"
     ]
    },
    {
     "name": "stdout",
     "output_type": "stream",
     "text": [
      "... Finished reading 2800/10000 tweets ...\n",
      "... Finished reading 2900/10000 tweets ...\n",
      "... Finished reading 3000/10000 tweets ...\n",
      "... Finished reading 3100/10000 tweets ...\n",
      "... Finished reading 3200/10000 tweets ...\n",
      "... Finished reading 3300/10000 tweets ...\n",
      "... Finished reading 3400/10000 tweets ...\n",
      "... Finished reading 3500/10000 tweets ...\n",
      "... Finished reading 3600/10000 tweets ...\n"
     ]
    },
    {
     "name": "stderr",
     "output_type": "stream",
     "text": [
      "Rate limit reached. Sleeping for: 532\n"
     ]
    },
    {
     "name": "stdout",
     "output_type": "stream",
     "text": [
      "... Finished reading 3700/10000 tweets ...\n",
      "... Finished reading 3800/10000 tweets ...\n",
      "... Finished reading 3900/10000 tweets ...\n",
      "... Finished reading 4000/10000 tweets ...\n",
      "... Finished reading 4100/10000 tweets ...\n",
      "... Finished reading 4200/10000 tweets ...\n",
      "... Finished reading 4300/10000 tweets ...\n",
      "... Finished reading 4400/10000 tweets ...\n",
      "... Finished reading 4500/10000 tweets ...\n"
     ]
    },
    {
     "name": "stderr",
     "output_type": "stream",
     "text": [
      "Rate limit reached. Sleeping for: 464\n"
     ]
    },
    {
     "name": "stdout",
     "output_type": "stream",
     "text": [
      "... Finished reading 4600/10000 tweets ...\n",
      "... Finished reading 4700/10000 tweets ...\n",
      "... Finished reading 4800/10000 tweets ...\n",
      "... Finished reading 4900/10000 tweets ...\n",
      "... Finished reading 5000/10000 tweets ...\n",
      "... Finished reading 5100/10000 tweets ...\n",
      "... Finished reading 5200/10000 tweets ...\n",
      "... Finished reading 5300/10000 tweets ...\n",
      "... Finished reading 5400/10000 tweets ...\n"
     ]
    },
    {
     "name": "stderr",
     "output_type": "stream",
     "text": [
      "Rate limit reached. Sleeping for: 385\n"
     ]
    },
    {
     "name": "stdout",
     "output_type": "stream",
     "text": [
      "... Finished reading 5500/10000 tweets ...\n",
      "... Finished reading 5600/10000 tweets ...\n",
      "... Finished reading 5700/10000 tweets ...\n",
      "... Finished reading 5800/10000 tweets ...\n",
      "... Finished reading 5900/10000 tweets ...\n",
      "... Finished reading 6000/10000 tweets ...\n",
      "... Finished reading 6100/10000 tweets ...\n",
      "... Finished reading 6200/10000 tweets ...\n",
      "... Finished reading 6300/10000 tweets ...\n"
     ]
    },
    {
     "name": "stderr",
     "output_type": "stream",
     "text": [
      "Rate limit reached. Sleeping for: 294\n"
     ]
    },
    {
     "name": "stdout",
     "output_type": "stream",
     "text": [
      "... Finished reading 6400/10000 tweets ...\n",
      "... Finished reading 6500/10000 tweets ...\n",
      "... Finished reading 6600/10000 tweets ...\n",
      "... Finished reading 6700/10000 tweets ...\n",
      "... Finished reading 6800/10000 tweets ...\n",
      "... Finished reading 6900/10000 tweets ...\n",
      "... Finished reading 7000/10000 tweets ...\n",
      "... Finished reading 7100/10000 tweets ...\n",
      "... Finished reading 7200/10000 tweets ...\n"
     ]
    },
    {
     "name": "stderr",
     "output_type": "stream",
     "text": [
      "Rate limit reached. Sleeping for: 199\n"
     ]
    },
    {
     "name": "stdout",
     "output_type": "stream",
     "text": [
      "... Finished reading 7300/10000 tweets ...\n",
      "... Finished reading 7400/10000 tweets ...\n",
      "... Finished reading 7500/10000 tweets ...\n",
      "... Finished reading 7600/10000 tweets ...\n",
      "... Finished reading 7700/10000 tweets ...\n",
      "... Finished reading 7800/10000 tweets ...\n",
      "... Finished reading 7900/10000 tweets ...\n",
      "... Finished reading 8000/10000 tweets ...\n",
      "... Finished reading 8100/10000 tweets ...\n"
     ]
    },
    {
     "name": "stderr",
     "output_type": "stream",
     "text": [
      "Rate limit reached. Sleeping for: 96\n"
     ]
    },
    {
     "name": "stdout",
     "output_type": "stream",
     "text": [
      "... Finished reading 8200/10000 tweets ...\n",
      "... Finished reading 8300/10000 tweets ...\n",
      "... Finished reading 8400/10000 tweets ...\n",
      "... Finished reading 8500/10000 tweets ...\n",
      "... Finished reading 8600/10000 tweets ...\n",
      "... Finished reading 8700/10000 tweets ...\n",
      "... Finished reading 8800/10000 tweets ...\n",
      "... Finished reading 8900/10000 tweets ...\n"
     ]
    },
    {
     "name": "stderr",
     "output_type": "stream",
     "text": [
      "Rate limit reached. Sleeping for: 17\n"
     ]
    },
    {
     "name": "stdout",
     "output_type": "stream",
     "text": [
      "... Finished reading 9000/10000 tweets ...\n",
      "... Finished reading 9100/10000 tweets ...\n",
      "... Finished reading 9200/10000 tweets ...\n",
      "... Finished reading 9300/10000 tweets ...\n",
      "... Finished reading 9400/10000 tweets ...\n",
      "... Finished reading 9500/10000 tweets ...\n",
      "... Finished reading 9600/10000 tweets ...\n",
      "... Finished reading 9700/10000 tweets ...\n",
      "... Finished reading 9800/10000 tweets ...\n",
      "... Finished reading 9900/10000 tweets ...\n",
      "... Finished reading 10000/10000 tweets ...\n",
      "=== Started reading tweets from Twitter API for chunk 2 ===\n",
      "... Finished reading 100/10000 tweets ...\n",
      "... Finished reading 200/10000 tweets ...\n",
      "... Finished reading 300/10000 tweets ...\n",
      "... Finished reading 400/10000 tweets ...\n",
      "... Finished reading 500/10000 tweets ...\n",
      "... Finished reading 600/10000 tweets ...\n",
      "... Finished reading 700/10000 tweets ...\n"
     ]
    },
    {
     "name": "stderr",
     "output_type": "stream",
     "text": [
      "Rate limit reached. Sleeping for: 549\n"
     ]
    },
    {
     "name": "stdout",
     "output_type": "stream",
     "text": [
      "... Finished reading 800/10000 tweets ...\n",
      "... Finished reading 900/10000 tweets ...\n",
      "... Finished reading 1000/10000 tweets ...\n",
      "... Finished reading 1100/10000 tweets ...\n",
      "... Finished reading 1200/10000 tweets ...\n",
      "... Finished reading 1300/10000 tweets ...\n",
      "... Finished reading 1400/10000 tweets ...\n",
      "... Finished reading 1500/10000 tweets ...\n",
      "... Finished reading 1600/10000 tweets ...\n"
     ]
    },
    {
     "name": "stderr",
     "output_type": "stream",
     "text": [
      "Rate limit reached. Sleeping for: 691\n"
     ]
    },
    {
     "name": "stdout",
     "output_type": "stream",
     "text": [
      "... Finished reading 1700/10000 tweets ...\n",
      "... Finished reading 1800/10000 tweets ...\n",
      "... Finished reading 1900/10000 tweets ...\n",
      "... Finished reading 2000/10000 tweets ...\n",
      "... Finished reading 2100/10000 tweets ...\n",
      "... Finished reading 2200/10000 tweets ...\n",
      "... Finished reading 2300/10000 tweets ...\n",
      "... Finished reading 2400/10000 tweets ...\n",
      "... Finished reading 2500/10000 tweets ...\n"
     ]
    },
    {
     "name": "stderr",
     "output_type": "stream",
     "text": [
      "Rate limit reached. Sleeping for: 605\n"
     ]
    },
    {
     "name": "stdout",
     "output_type": "stream",
     "text": [
      "... Finished reading 2600/10000 tweets ...\n",
      "... Finished reading 2700/10000 tweets ...\n",
      "... Finished reading 2800/10000 tweets ...\n",
      "... Finished reading 2900/10000 tweets ...\n",
      "... Finished reading 3000/10000 tweets ...\n",
      "... Finished reading 3100/10000 tweets ...\n",
      "... Finished reading 3200/10000 tweets ...\n",
      "... Finished reading 3300/10000 tweets ...\n",
      "... Finished reading 3400/10000 tweets ...\n"
     ]
    },
    {
     "name": "stderr",
     "output_type": "stream",
     "text": [
      "Rate limit reached. Sleeping for: 540\n"
     ]
    },
    {
     "name": "stdout",
     "output_type": "stream",
     "text": [
      "... Finished reading 3500/10000 tweets ...\n",
      "... Finished reading 3600/10000 tweets ...\n",
      "... Finished reading 3700/10000 tweets ...\n",
      "... Finished reading 3800/10000 tweets ...\n",
      "... Finished reading 3900/10000 tweets ...\n",
      "... Finished reading 4000/10000 tweets ...\n",
      "... Finished reading 4100/10000 tweets ...\n",
      "... Finished reading 4200/10000 tweets ...\n",
      "... Finished reading 4300/10000 tweets ...\n",
      "... Finished reading 4400/10000 tweets ...\n",
      "... Finished reading 4500/10000 tweets ...\n",
      "... Finished reading 4600/10000 tweets ...\n",
      "... Finished reading 4700/10000 tweets ...\n",
      "... Finished reading 4800/10000 tweets ...\n",
      "... Finished reading 4900/10000 tweets ...\n",
      "... Finished reading 5000/10000 tweets ...\n"
     ]
    },
    {
     "name": "stderr",
     "output_type": "stream",
     "text": [
      "Rate limit reached. Sleeping for: 402\n"
     ]
    },
    {
     "name": "stdout",
     "output_type": "stream",
     "text": [
      "... Finished reading 5100/10000 tweets ...\n",
      "... Finished reading 5200/10000 tweets ...\n",
      "... Finished reading 5300/10000 tweets ...\n",
      "... Finished reading 5400/10000 tweets ...\n",
      "... Finished reading 5500/10000 tweets ...\n",
      "... Finished reading 5600/10000 tweets ...\n",
      "... Finished reading 5700/10000 tweets ...\n",
      "... Finished reading 5800/10000 tweets ...\n",
      "... Finished reading 5900/10000 tweets ...\n"
     ]
    },
    {
     "name": "stderr",
     "output_type": "stream",
     "text": [
      "Rate limit reached. Sleeping for: 326\n"
     ]
    },
    {
     "name": "stdout",
     "output_type": "stream",
     "text": [
      "... Finished reading 6000/10000 tweets ...\n",
      "... Finished reading 6100/10000 tweets ...\n",
      "... Finished reading 6200/10000 tweets ...\n",
      "... Finished reading 6300/10000 tweets ...\n",
      "... Finished reading 6400/10000 tweets ...\n",
      "... Finished reading 6500/10000 tweets ...\n",
      "... Finished reading 6600/10000 tweets ...\n",
      "... Finished reading 6700/10000 tweets ...\n",
      "... Finished reading 6800/10000 tweets ...\n"
     ]
    },
    {
     "name": "stderr",
     "output_type": "stream",
     "text": [
      "Rate limit reached. Sleeping for: 247\n"
     ]
    },
    {
     "name": "stdout",
     "output_type": "stream",
     "text": [
      "... Finished reading 6900/10000 tweets ...\n",
      "... Finished reading 7000/10000 tweets ...\n",
      "... Finished reading 7100/10000 tweets ...\n",
      "... Finished reading 7200/10000 tweets ...\n",
      "... Finished reading 7300/10000 tweets ...\n",
      "... Finished reading 7400/10000 tweets ...\n",
      "... Finished reading 7500/10000 tweets ...\n",
      "... Finished reading 7600/10000 tweets ...\n",
      "... Finished reading 7700/10000 tweets ...\n"
     ]
    },
    {
     "name": "stderr",
     "output_type": "stream",
     "text": [
      "Rate limit reached. Sleeping for: 162\n"
     ]
    },
    {
     "name": "stdout",
     "output_type": "stream",
     "text": [
      "... Finished reading 7800/10000 tweets ...\n",
      "... Finished reading 7900/10000 tweets ...\n",
      "... Finished reading 8000/10000 tweets ...\n",
      "... Finished reading 8100/10000 tweets ...\n",
      "... Finished reading 8200/10000 tweets ...\n",
      "... Finished reading 8300/10000 tweets ...\n",
      "... Finished reading 8400/10000 tweets ...\n",
      "... Finished reading 8500/10000 tweets ...\n",
      "... Finished reading 8600/10000 tweets ...\n"
     ]
    },
    {
     "name": "stderr",
     "output_type": "stream",
     "text": [
      "Rate limit reached. Sleeping for: 40\n"
     ]
    },
    {
     "name": "stdout",
     "output_type": "stream",
     "text": [
      "... Finished reading 8700/10000 tweets ...\n",
      "... Finished reading 8800/10000 tweets ...\n",
      "... Finished reading 8900/10000 tweets ...\n",
      "... Finished reading 9000/10000 tweets ...\n",
      "... Finished reading 9100/10000 tweets ...\n",
      "... Finished reading 9200/10000 tweets ...\n",
      "... Finished reading 9300/10000 tweets ...\n",
      "... Finished reading 9400/10000 tweets ...\n",
      "... Finished reading 9500/10000 tweets ...\n",
      "... Finished reading 9600/10000 tweets ...\n",
      "... Finished reading 9700/10000 tweets ...\n",
      "... Finished reading 9800/10000 tweets ...\n",
      "... Finished reading 9900/10000 tweets ...\n",
      "... Finished reading 10000/10000 tweets ...\n",
      "=== Started reading tweets from Twitter API for chunk 3 ===\n",
      "... Finished reading 100/10000 tweets ...\n",
      "... Finished reading 200/10000 tweets ...\n",
      "... Finished reading 300/10000 tweets ...\n"
     ]
    },
    {
     "name": "stderr",
     "output_type": "stream",
     "text": [
      "Rate limit reached. Sleeping for: 242\n"
     ]
    },
    {
     "name": "stdout",
     "output_type": "stream",
     "text": [
      "... Finished reading 400/10000 tweets ...\n",
      "... Finished reading 500/10000 tweets ...\n",
      "... Finished reading 600/10000 tweets ...\n",
      "... Finished reading 700/10000 tweets ...\n",
      "... Finished reading 800/10000 tweets ...\n",
      "... Finished reading 900/10000 tweets ...\n",
      "... Finished reading 1000/10000 tweets ...\n",
      "... Finished reading 1100/10000 tweets ...\n",
      "... Finished reading 1200/10000 tweets ...\n"
     ]
    },
    {
     "name": "stderr",
     "output_type": "stream",
     "text": [
      "Rate limit reached. Sleeping for: 706\n"
     ]
    },
    {
     "name": "stdout",
     "output_type": "stream",
     "text": [
      "... Finished reading 1300/10000 tweets ...\n",
      "... Finished reading 1400/10000 tweets ...\n",
      "... Finished reading 1500/10000 tweets ...\n",
      "... Finished reading 1600/10000 tweets ...\n",
      "... Finished reading 1700/10000 tweets ...\n",
      "... Finished reading 1800/10000 tweets ...\n",
      "... Finished reading 1900/10000 tweets ...\n",
      "... Finished reading 2000/10000 tweets ...\n",
      "... Finished reading 2100/10000 tweets ...\n"
     ]
    },
    {
     "name": "stderr",
     "output_type": "stream",
     "text": [
      "Rate limit reached. Sleeping for: 648\n"
     ]
    },
    {
     "name": "stdout",
     "output_type": "stream",
     "text": [
      "... Finished reading 2200/10000 tweets ...\n",
      "... Finished reading 2300/10000 tweets ...\n",
      "... Finished reading 2400/10000 tweets ...\n",
      "... Finished reading 2500/10000 tweets ...\n",
      "... Finished reading 2600/10000 tweets ...\n",
      "... Finished reading 2700/10000 tweets ...\n",
      "... Finished reading 2800/10000 tweets ...\n",
      "... Finished reading 2900/10000 tweets ...\n",
      "... Finished reading 3000/10000 tweets ...\n"
     ]
    },
    {
     "name": "stderr",
     "output_type": "stream",
     "text": [
      "Rate limit reached. Sleeping for: 591\n"
     ]
    },
    {
     "name": "stdout",
     "output_type": "stream",
     "text": [
      "... Finished reading 3100/10000 tweets ...\n",
      "... Finished reading 3200/10000 tweets ...\n",
      "... Finished reading 3300/10000 tweets ...\n",
      "... Finished reading 3400/10000 tweets ...\n",
      "... Finished reading 3500/10000 tweets ...\n",
      "... Finished reading 3600/10000 tweets ...\n",
      "... Finished reading 3700/10000 tweets ...\n",
      "... Finished reading 3800/10000 tweets ...\n",
      "... Finished reading 3900/10000 tweets ...\n"
     ]
    },
    {
     "name": "stderr",
     "output_type": "stream",
     "text": [
      "Rate limit reached. Sleeping for: 532\n"
     ]
    },
    {
     "name": "stdout",
     "output_type": "stream",
     "text": [
      "... Finished reading 4000/10000 tweets ...\n",
      "... Finished reading 4100/10000 tweets ...\n",
      "... Finished reading 4200/10000 tweets ...\n",
      "... Finished reading 4300/10000 tweets ...\n",
      "... Finished reading 4400/10000 tweets ...\n",
      "... Finished reading 4500/10000 tweets ...\n",
      "... Finished reading 4600/10000 tweets ...\n",
      "... Finished reading 4700/10000 tweets ...\n",
      "... Finished reading 4800/10000 tweets ...\n"
     ]
    },
    {
     "name": "stderr",
     "output_type": "stream",
     "text": [
      "Rate limit reached. Sleeping for: 436\n"
     ]
    },
    {
     "name": "stdout",
     "output_type": "stream",
     "text": [
      "... Finished reading 4900/10000 tweets ...\n",
      "... Finished reading 5000/10000 tweets ...\n",
      "... Finished reading 5100/10000 tweets ...\n",
      "... Finished reading 5200/10000 tweets ...\n",
      "... Finished reading 5300/10000 tweets ...\n",
      "... Finished reading 5400/10000 tweets ...\n",
      "... Finished reading 5500/10000 tweets ...\n",
      "... Finished reading 5600/10000 tweets ...\n",
      "... Finished reading 5700/10000 tweets ...\n"
     ]
    },
    {
     "name": "stderr",
     "output_type": "stream",
     "text": [
      "Rate limit reached. Sleeping for: 354\n"
     ]
    },
    {
     "name": "stdout",
     "output_type": "stream",
     "text": [
      "... Finished reading 5800/10000 tweets ...\n",
      "... Finished reading 5900/10000 tweets ...\n",
      "... Finished reading 6000/10000 tweets ...\n",
      "... Finished reading 6100/10000 tweets ...\n",
      "... Finished reading 6200/10000 tweets ...\n",
      "... Finished reading 6300/10000 tweets ...\n",
      "... Finished reading 6400/10000 tweets ...\n",
      "... Finished reading 6500/10000 tweets ...\n",
      "... Finished reading 6600/10000 tweets ...\n"
     ]
    },
    {
     "name": "stderr",
     "output_type": "stream",
     "text": [
      "Rate limit reached. Sleeping for: 265\n"
     ]
    },
    {
     "name": "stdout",
     "output_type": "stream",
     "text": [
      "... Finished reading 6700/10000 tweets ...\n",
      "... Finished reading 6800/10000 tweets ...\n",
      "... Finished reading 6900/10000 tweets ...\n",
      "... Finished reading 7000/10000 tweets ...\n",
      "... Finished reading 7100/10000 tweets ...\n",
      "... Finished reading 7200/10000 tweets ...\n",
      "... Finished reading 7300/10000 tweets ...\n",
      "... Finished reading 7400/10000 tweets ...\n",
      "... Finished reading 7500/10000 tweets ...\n"
     ]
    },
    {
     "name": "stderr",
     "output_type": "stream",
     "text": [
      "Rate limit reached. Sleeping for: 141\n"
     ]
    },
    {
     "name": "stdout",
     "output_type": "stream",
     "text": [
      "... Finished reading 7600/10000 tweets ...\n",
      "... Finished reading 7700/10000 tweets ...\n",
      "... Finished reading 7800/10000 tweets ...\n",
      "... Finished reading 7900/10000 tweets ...\n",
      "... Finished reading 8000/10000 tweets ...\n",
      "... Finished reading 8100/10000 tweets ...\n",
      "... Finished reading 8200/10000 tweets ...\n",
      "... Finished reading 8300/10000 tweets ...\n",
      "... Finished reading 8400/10000 tweets ...\n",
      "... Finished reading 8500/10000 tweets ...\n",
      "... Finished reading 8600/10000 tweets ...\n",
      "... Finished reading 8700/10000 tweets ...\n",
      "... Finished reading 8800/10000 tweets ...\n",
      "... Finished reading 8900/10000 tweets ...\n",
      "... Finished reading 9000/10000 tweets ...\n",
      "... Finished reading 9100/10000 tweets ...\n",
      "... Finished reading 9200/10000 tweets ...\n",
      "... Finished reading 9300/10000 tweets ...\n",
      "... Finished reading 9400/10000 tweets ...\n",
      "... Finished reading 9500/10000 tweets ...\n",
      "... Finished reading 9600/10000 tweets ...\n",
      "... Finished reading 9700/10000 tweets ...\n",
      "... Finished reading 9800/10000 tweets ...\n",
      "... Finished reading 9900/10000 tweets ...\n",
      "... Finished reading 10000/10000 tweets ...\n",
      "=== Started reading tweets from Twitter API for chunk 4 ===\n",
      "... Finished reading 100/10000 tweets ...\n",
      "... Finished reading 200/10000 tweets ...\n",
      "... Finished reading 300/10000 tweets ...\n",
      "... Finished reading 400/10000 tweets ...\n",
      "... Finished reading 500/10000 tweets ...\n",
      "... Finished reading 600/10000 tweets ...\n"
     ]
    },
    {
     "name": "stderr",
     "output_type": "stream",
     "text": [
      "Rate limit reached. Sleeping for: 513\n"
     ]
    },
    {
     "name": "stdout",
     "output_type": "stream",
     "text": [
      "... Finished reading 700/10000 tweets ...\n",
      "... Finished reading 800/10000 tweets ...\n",
      "... Finished reading 900/10000 tweets ...\n",
      "... Finished reading 1000/10000 tweets ...\n",
      "... Finished reading 1100/10000 tweets ...\n",
      "... Finished reading 1200/10000 tweets ...\n",
      "... Finished reading 1300/10000 tweets ...\n",
      "... Finished reading 1400/10000 tweets ...\n",
      "... Finished reading 1500/10000 tweets ...\n"
     ]
    },
    {
     "name": "stderr",
     "output_type": "stream",
     "text": [
      "Rate limit reached. Sleeping for: 666\n"
     ]
    },
    {
     "name": "stdout",
     "output_type": "stream",
     "text": [
      "... Finished reading 1600/10000 tweets ...\n",
      "... Finished reading 1700/10000 tweets ...\n",
      "... Finished reading 1800/10000 tweets ...\n",
      "... Finished reading 1900/10000 tweets ...\n",
      "... Finished reading 2000/10000 tweets ...\n",
      "... Finished reading 2100/10000 tweets ...\n",
      "... Finished reading 2200/10000 tweets ...\n",
      "... Finished reading 2300/10000 tweets ...\n",
      "... Finished reading 2400/10000 tweets ...\n"
     ]
    },
    {
     "name": "stderr",
     "output_type": "stream",
     "text": [
      "Rate limit reached. Sleeping for: 632\n"
     ]
    },
    {
     "name": "stdout",
     "output_type": "stream",
     "text": [
      "... Finished reading 2500/10000 tweets ...\n",
      "... Finished reading 2600/10000 tweets ...\n",
      "... Finished reading 2700/10000 tweets ...\n",
      "... Finished reading 2800/10000 tweets ...\n",
      "... Finished reading 2900/10000 tweets ...\n",
      "... Finished reading 3000/10000 tweets ...\n",
      "... Finished reading 3100/10000 tweets ...\n",
      "... Finished reading 3200/10000 tweets ...\n",
      "... Finished reading 3300/10000 tweets ...\n"
     ]
    },
    {
     "name": "stderr",
     "output_type": "stream",
     "text": [
      "Rate limit reached. Sleeping for: 574\n"
     ]
    },
    {
     "name": "stdout",
     "output_type": "stream",
     "text": [
      "... Finished reading 3400/10000 tweets ...\n",
      "... Finished reading 3500/10000 tweets ...\n",
      "... Finished reading 3600/10000 tweets ...\n",
      "... Finished reading 3700/10000 tweets ...\n",
      "... Finished reading 3800/10000 tweets ...\n",
      "... Finished reading 3900/10000 tweets ...\n",
      "... Finished reading 4000/10000 tweets ...\n",
      "... Finished reading 4100/10000 tweets ...\n",
      "... Finished reading 4200/10000 tweets ...\n"
     ]
    },
    {
     "name": "stderr",
     "output_type": "stream",
     "text": [
      "Rate limit reached. Sleeping for: 503\n"
     ]
    },
    {
     "name": "stdout",
     "output_type": "stream",
     "text": [
      "... Finished reading 4300/10000 tweets ...\n",
      "... Finished reading 4400/10000 tweets ...\n",
      "... Finished reading 4500/10000 tweets ...\n",
      "... Finished reading 4600/10000 tweets ...\n",
      "... Finished reading 4700/10000 tweets ...\n",
      "... Finished reading 4800/10000 tweets ...\n",
      "... Finished reading 4900/10000 tweets ...\n",
      "... Finished reading 5000/10000 tweets ...\n",
      "... Finished reading 5100/10000 tweets ...\n"
     ]
    },
    {
     "name": "stderr",
     "output_type": "stream",
     "text": [
      "Rate limit reached. Sleeping for: 471\n"
     ]
    },
    {
     "name": "stdout",
     "output_type": "stream",
     "text": [
      "... Finished reading 5200/10000 tweets ...\n",
      "... Finished reading 5300/10000 tweets ...\n",
      "... Finished reading 5400/10000 tweets ...\n",
      "... Finished reading 5500/10000 tweets ...\n",
      "... Finished reading 5600/10000 tweets ...\n",
      "... Finished reading 5700/10000 tweets ...\n",
      "... Finished reading 5800/10000 tweets ...\n",
      "... Finished reading 5900/10000 tweets ...\n",
      "... Finished reading 6000/10000 tweets ...\n"
     ]
    },
    {
     "name": "stderr",
     "output_type": "stream",
     "text": [
      "Rate limit reached. Sleeping for: 384\n"
     ]
    },
    {
     "name": "stdout",
     "output_type": "stream",
     "text": [
      "... Finished reading 6100/10000 tweets ...\n",
      "... Finished reading 6200/10000 tweets ...\n",
      "... Finished reading 6300/10000 tweets ...\n",
      "... Finished reading 6400/10000 tweets ...\n",
      "... Finished reading 6500/10000 tweets ...\n",
      "... Finished reading 6600/10000 tweets ...\n",
      "... Finished reading 6700/10000 tweets ...\n",
      "... Finished reading 6800/10000 tweets ...\n",
      "... Finished reading 6900/10000 tweets ...\n"
     ]
    },
    {
     "name": "stderr",
     "output_type": "stream",
     "text": [
      "Rate limit reached. Sleeping for: 250\n"
     ]
    },
    {
     "name": "stdout",
     "output_type": "stream",
     "text": [
      "... Finished reading 7000/10000 tweets ...\n",
      "... Finished reading 7100/10000 tweets ...\n",
      "... Finished reading 7200/10000 tweets ...\n",
      "... Finished reading 7300/10000 tweets ...\n",
      "... Finished reading 7400/10000 tweets ...\n",
      "... Finished reading 7500/10000 tweets ...\n",
      "... Finished reading 7600/10000 tweets ...\n",
      "... Finished reading 7700/10000 tweets ...\n",
      "... Finished reading 7800/10000 tweets ...\n"
     ]
    },
    {
     "name": "stderr",
     "output_type": "stream",
     "text": [
      "Rate limit reached. Sleeping for: 201\n"
     ]
    },
    {
     "name": "stdout",
     "output_type": "stream",
     "text": [
      "... Finished reading 7900/10000 tweets ...\n",
      "... Finished reading 8000/10000 tweets ...\n",
      "... Finished reading 8100/10000 tweets ...\n",
      "... Finished reading 8200/10000 tweets ...\n",
      "... Finished reading 8300/10000 tweets ...\n",
      "... Finished reading 8400/10000 tweets ...\n",
      "... Finished reading 8500/10000 tweets ...\n",
      "... Finished reading 8600/10000 tweets ...\n",
      "... Finished reading 8700/10000 tweets ...\n"
     ]
    },
    {
     "name": "stderr",
     "output_type": "stream",
     "text": [
      "Rate limit reached. Sleeping for: 84\n"
     ]
    },
    {
     "name": "stdout",
     "output_type": "stream",
     "text": [
      "... Finished reading 8800/10000 tweets ...\n",
      "... Finished reading 8900/10000 tweets ...\n",
      "... Finished reading 9000/10000 tweets ...\n",
      "... Finished reading 9100/10000 tweets ...\n",
      "... Finished reading 9200/10000 tweets ...\n",
      "... Finished reading 9300/10000 tweets ...\n",
      "... Finished reading 9400/10000 tweets ...\n",
      "... Finished reading 9500/10000 tweets ...\n",
      "... Finished reading 9600/10000 tweets ...\n",
      "... Finished reading 9700/10000 tweets ...\n",
      "... Finished reading 9800/10000 tweets ...\n",
      "... Finished reading 9900/10000 tweets ...\n",
      "... Finished reading 10000/10000 tweets ...\n",
      "=== Started reading tweets from Twitter API for chunk 5 ===\n",
      "... Finished reading 100/10000 tweets ...\n",
      "... Finished reading 200/10000 tweets ...\n",
      "... Finished reading 300/10000 tweets ...\n",
      "... Finished reading 400/10000 tweets ...\n",
      "... Finished reading 500/10000 tweets ...\n",
      "... Finished reading 600/10000 tweets ...\n",
      "... Finished reading 700/10000 tweets ...\n"
     ]
    },
    {
     "name": "stderr",
     "output_type": "stream",
     "text": [
      "Rate limit reached. Sleeping for: 540\n"
     ]
    },
    {
     "name": "stdout",
     "output_type": "stream",
     "text": [
      "... Finished reading 800/10000 tweets ...\n",
      "... Finished reading 900/10000 tweets ...\n",
      "... Finished reading 1000/10000 tweets ...\n",
      "... Finished reading 1100/10000 tweets ...\n",
      "... Finished reading 1200/10000 tweets ...\n",
      "... Finished reading 1300/10000 tweets ...\n",
      "... Finished reading 1400/10000 tweets ...\n",
      "... Finished reading 1500/10000 tweets ...\n",
      "... Finished reading 1600/10000 tweets ...\n"
     ]
    },
    {
     "name": "stderr",
     "output_type": "stream",
     "text": [
      "Rate limit reached. Sleeping for: 666\n"
     ]
    },
    {
     "name": "stdout",
     "output_type": "stream",
     "text": [
      "... Finished reading 1700/10000 tweets ...\n",
      "... Finished reading 1800/10000 tweets ...\n",
      "... Finished reading 1900/10000 tweets ...\n",
      "... Finished reading 2000/10000 tweets ...\n",
      "... Finished reading 2100/10000 tweets ...\n",
      "... Finished reading 2200/10000 tweets ...\n",
      "... Finished reading 2300/10000 tweets ...\n",
      "... Finished reading 2400/10000 tweets ...\n",
      "... Finished reading 2500/10000 tweets ...\n"
     ]
    },
    {
     "name": "stderr",
     "output_type": "stream",
     "text": [
      "Rate limit reached. Sleeping for: 581\n"
     ]
    },
    {
     "name": "stdout",
     "output_type": "stream",
     "text": [
      "... Finished reading 2600/10000 tweets ...\n",
      "... Finished reading 2700/10000 tweets ...\n",
      "... Finished reading 2800/10000 tweets ...\n",
      "... Finished reading 2900/10000 tweets ...\n",
      "... Finished reading 3000/10000 tweets ...\n",
      "... Finished reading 3100/10000 tweets ...\n",
      "... Finished reading 3200/10000 tweets ...\n",
      "... Finished reading 3300/10000 tweets ...\n",
      "... Finished reading 3400/10000 tweets ...\n"
     ]
    },
    {
     "name": "stderr",
     "output_type": "stream",
     "text": [
      "Rate limit reached. Sleeping for: 490\n"
     ]
    },
    {
     "name": "stdout",
     "output_type": "stream",
     "text": [
      "... Finished reading 3500/10000 tweets ...\n",
      "... Finished reading 3600/10000 tweets ...\n",
      "... Finished reading 3700/10000 tweets ...\n",
      "... Finished reading 3800/10000 tweets ...\n",
      "... Finished reading 3900/10000 tweets ...\n",
      "... Finished reading 4000/10000 tweets ...\n",
      "... Finished reading 4100/10000 tweets ...\n",
      "... Finished reading 4200/10000 tweets ...\n",
      "... Finished reading 4300/10000 tweets ...\n"
     ]
    },
    {
     "name": "stderr",
     "output_type": "stream",
     "text": [
      "Rate limit reached. Sleeping for: 398\n"
     ]
    },
    {
     "name": "stdout",
     "output_type": "stream",
     "text": [
      "... Finished reading 4400/10000 tweets ...\n",
      "... Finished reading 4500/10000 tweets ...\n",
      "... Finished reading 4600/10000 tweets ...\n",
      "... Finished reading 4700/10000 tweets ...\n",
      "... Finished reading 4800/10000 tweets ...\n",
      "... Finished reading 4900/10000 tweets ...\n",
      "... Finished reading 5000/10000 tweets ...\n",
      "... Finished reading 5100/10000 tweets ...\n",
      "... Finished reading 5200/10000 tweets ...\n"
     ]
    },
    {
     "name": "stderr",
     "output_type": "stream",
     "text": [
      "Rate limit reached. Sleeping for: 271\n"
     ]
    },
    {
     "name": "stdout",
     "output_type": "stream",
     "text": [
      "... Finished reading 5300/10000 tweets ...\n",
      "... Finished reading 5400/10000 tweets ...\n",
      "... Finished reading 5500/10000 tweets ...\n",
      "... Finished reading 5600/10000 tweets ...\n",
      "... Finished reading 5700/10000 tweets ...\n",
      "... Finished reading 5800/10000 tweets ...\n",
      "... Finished reading 5900/10000 tweets ...\n",
      "... Finished reading 6000/10000 tweets ...\n",
      "... Finished reading 6100/10000 tweets ...\n",
      "... Finished reading 6200/10000 tweets ...\n",
      "... Finished reading 6300/10000 tweets ...\n",
      "... Finished reading 6400/10000 tweets ...\n",
      "... Finished reading 6500/10000 tweets ...\n",
      "... Finished reading 6600/10000 tweets ...\n",
      "... Finished reading 6700/10000 tweets ...\n",
      "... Finished reading 6800/10000 tweets ...\n",
      "... Finished reading 6900/10000 tweets ...\n",
      "... Finished reading 7000/10000 tweets ...\n",
      "... Finished reading 7100/10000 tweets ...\n",
      "... Finished reading 7200/10000 tweets ...\n",
      "... Finished reading 7300/10000 tweets ...\n",
      "... Finished reading 7400/10000 tweets ...\n",
      "... Finished reading 7500/10000 tweets ...\n",
      "... Finished reading 7600/10000 tweets ...\n",
      "... Finished reading 7700/10000 tweets ...\n",
      "... Finished reading 7800/10000 tweets ...\n",
      "... Finished reading 7900/10000 tweets ...\n",
      "... Finished reading 8000/10000 tweets ...\n",
      "... Finished reading 8100/10000 tweets ...\n",
      "... Finished reading 8200/10000 tweets ...\n",
      "... Finished reading 8300/10000 tweets ...\n",
      "... Finished reading 8400/10000 tweets ...\n",
      "... Finished reading 8500/10000 tweets ...\n",
      "... Finished reading 8600/10000 tweets ...\n",
      "... Finished reading 8700/10000 tweets ...\n",
      "... Finished reading 8800/10000 tweets ...\n",
      "... Finished reading 8900/10000 tweets ...\n",
      "... Finished reading 9000/10000 tweets ...\n",
      "... Finished reading 9100/10000 tweets ...\n",
      "... Finished reading 9200/10000 tweets ...\n",
      "... Finished reading 9300/10000 tweets ...\n",
      "... Finished reading 9400/10000 tweets ...\n",
      "... Finished reading 9500/10000 tweets ...\n",
      "... Finished reading 9600/10000 tweets ...\n",
      "... Finished reading 9700/10000 tweets ...\n",
      "... Finished reading 9800/10000 tweets ...\n",
      "... Finished reading 9900/10000 tweets ...\n",
      "... Finished reading 10000/10000 tweets ...\n",
      "\n",
      "\n",
      "***** FINISHED EXTRACTION *****\n",
      "45167 tweets read successfully\n",
      "4833 tweets skipped\n"
     ]
    }
   ],
   "source": [
    "t = 0\n",
    "s = 0\n",
    "for i, chunk in enumerate(chunks):\n",
    "    print('=== Started reading tweets from Twitter API for chunk {} ==='.format(i+1))\n",
    "    df = pd.DataFrame()\n",
    "    for id, tweet in enumerate(chunk):\n",
    "        try:\n",
    "            if (id+1)%100 == 0:\n",
    "                print('... Finished reading {}/{} tweets ...'.format(id+1, len(chunk)))\n",
    "            tweet_data = pd.json_normalize(flatten_json(jsonify_tweepy(api.get_status(tweet))))\n",
    "            t += 1\n",
    "            df = df.append(tweet_data)\n",
    "#             df = df.append(tweet_data[column_names])\n",
    "        except:\n",
    "            s += 1\n",
    "            continue\n",
    "    \n",
    "    # write output in chunks\n",
    "    df.to_csv(r'C:\\Users\\siddh\\Desktop\\MSA\\Acads\\CSE 6242\\output-'+str(i+1)+'.csv', index=False)\n",
    "\n",
    "print('\\n')\n",
    "print('***** FINISHED EXTRACTION *****')\n",
    "print('{} tweets read successfully'.format(t))\n",
    "print('{} tweets skipped'.format(s))"
   ]
  },
  {
   "cell_type": "markdown",
   "metadata": {},
   "source": [
    "### Concatenate output files"
   ]
  },
  {
   "cell_type": "code",
   "execution_count": 18,
   "metadata": {},
   "outputs": [
    {
     "name": "stderr",
     "output_type": "stream",
     "text": [
      "C:\\Users\\siddh\\anaconda3\\lib\\site-packages\\IPython\\core\\interactiveshell.py:3146: DtypeWarning: Columns (313,314,315,316,317,318,319,320,329,330,331,338,339,340,341,343,344,345,355,356,357,358,359,362,363,364,365,366,367,368,369,372,376,380,381,384,385,386,387,388,389,390,391,392,393,394,395,396,398,399,400,401,402,403,404,405,424,425,426,427,428,429,432,435,438,441,446,447,448,449,450,451,454,457,460,463,468,469,470,471,472,473,476,479,482,485,512,513,514,515,520,523,526,529,532,535,536,545,546,547,548,549,550,553,556,559,562,567,568,569,570,571,572,575,578,581,584,589,590,591,592,593,594,597,600,603,606,607,608,609,613,614,615,618,621,622,627,628,633,634,639,640,645,646,651,656,657,658,659,660,661,662,667,670,673,676,679,682,687,688,689,690,691,694,697,700,703,706,707,708,711,714,727,730,731,732,733,734,735,736,737,740,744,748,749,752,753,754,755,756,757,758,759,760,761,762,763,764,766,767,768,769,770,771,772,773,774,775,780,781,786,789,790,791,794,795,796,801,802,803,806,807,808) have mixed types.Specify dtype option on import or set low_memory=False.\n",
      "  has_raised = await self.run_ast_nodes(code_ast.body, cell_name,\n",
      "C:\\Users\\siddh\\anaconda3\\lib\\site-packages\\IPython\\core\\interactiveshell.py:3146: DtypeWarning: Columns (301,332,333,334,335,337,338,339,351,354,357,360,363,378,379,398,399,401,402,404,405,408,409,412,413,414,415,416,417,418,419,422,426,430,431,434,435,436,437,438,439,440,441,442,443,444,445,446,448,449,450,451,452,453,454,455,457,458,459,466,467,468,469,470,471,474,477,480,483,488,489,490,491,492,493,496,499,502,505,510,511,512,513,514,515,518,521,524,527,532,533,534,535,536,537,540,543,546,549,554,555,556,557,558,559,562,565,568,571,572,575,578,579,580,583,584,585,588,589,590,601,609,610,611,612,613,614,617,620,623,626,627,630,631,636,637,642,643,648,649,650,651,652,653,654,655,666,667,668,669,670,671,672,673,676,680,684,685,688,689,690,691,692,693,694,695,696,697,698,699,700,701,702,703,704,705,706,707,708,709,710,713,716,717,722,723,728,729,734,735,736,739,740,741,742,743,744,747,748,749,752,753,754) have mixed types.Specify dtype option on import or set low_memory=False.\n",
      "  has_raised = await self.run_ast_nodes(code_ast.body, cell_name,\n",
      "C:\\Users\\siddh\\anaconda3\\lib\\site-packages\\IPython\\core\\interactiveshell.py:3146: DtypeWarning: Columns (244,328,329,330,331,332,333,336,339,342,345,372,375,403,404,405,406,408,409,410,411,412,413,429,430,431,434,435,440,441,446,447,454,469,470,471,472,473,474,477,480,483,486,497,498,499,500,501,502,503,504,507,511,515,516,519,520,521,522,523,524,525,526,527,528,529,530,531,533,534,535,536,537,538,539,540,541,544,547,548,549,552,553,554,555,556,557,558,559,570,571,572,573,580,581,582,583,584,585,588,591,594,597,602,603,604,605,606,607,610,613,616,619,620,623,626,629,632,635,638,639,644,645,650,651,656,657,664,665,666,667,668,669,670,671,674,678,682,683,686,687,688,689,690,691,692,693,694,695,696,697,698,699,700,701,702,703,704,705,706,707,712,713,714,715,716,717,720,723,726,729,730,731,734,737,740,743,744,745,748,749,750,765,766,767,770,771,772,775,778) have mixed types.Specify dtype option on import or set low_memory=False.\n",
      "  has_raised = await self.run_ast_nodes(code_ast.body, cell_name,\n",
      "C:\\Users\\siddh\\anaconda3\\lib\\site-packages\\IPython\\core\\interactiveshell.py:3146: DtypeWarning: Columns (175,352,353,354,355,356,357,361,365,366,369,370,371,372,373,374,375,376,377,378,379,380,381,383,384,385,386,387,388,389,390,395,396,397,398,399,400,403,406,409,412,417,418,419,420,421,422,425,428,431,434,439,440,441,442,443,444,447,450,453,456,474,477,480,483,484,489,490,495,496,501,502,503,506,509,516,519,520,525,526,527,530,532,533,534,535,542,543,544,545,546,547,550,553,556,559,560,563,566,569,572,573,578,579,585,586,588,589,590,591,592,597,598,603,604,610,611,612,614,616,617,618,619,622,623,624,625,626,627,628,629,638,639,640,653,654,655,656,657,658,659,660,663,667,671,672,675,676,677,678,679,680,681,682,683,684,685,686,687,688,689,690,691,692,693,694,695,696,697,700,703,706,709,710,719,720,721,722,723,724,727,730,733,736,741,742,743,744,745,746,749,752,755,758,759,760,761,764,765,770,771,776,777,782,783,784,787,788,789,792,793,794) have mixed types.Specify dtype option on import or set low_memory=False.\n",
      "  has_raised = await self.run_ast_nodes(code_ast.body, cell_name,\n",
      "C:\\Users\\siddh\\anaconda3\\lib\\site-packages\\IPython\\core\\interactiveshell.py:3146: DtypeWarning: Columns (331,344,345,346,347,348,349,352,355,358,361,377,378,379,380,382,383,384,387,388,389,390,391,392,393,394,397,401,405,406,409,410,411,412,413,414,415,416,417,418,419,420,421,422,423,424,425,426,427,428,429,430,436,439,443,444,445,448,449,454,455,460,461,466,467,472,473,478,479,495,498,501,504,507,508,509,516,517,518,519,520,521,524,527,530,533,538,539,540,541,542,543,546,549,552,555,556,559,565,566,568,569,571,572,573,574,575,580,581,586,587,588,591,592,593,596,599,600,601,602,603,604,605,606,619,620,621,622,623,624,627,630,633,636,637,638,639,642,643,649,650,651,654,657,665,666,667,668,669,670,673,676,679,682,687,688,689,690,691,692,695,698,701,704,705,706,707,712,715,716,717,718,719,720,721,722,725,726,727,730,734,738,739,742,743,744,745,746,747,748,749,750,751,752,753,754,756,757,758,759,760,761,762,763,766,767,770,773,776,779,780,785,786,787,790,791,792,795,796,797) have mixed types.Specify dtype option on import or set low_memory=False.\n",
      "  has_raised = await self.run_ast_nodes(code_ast.body, cell_name,\n"
     ]
    }
   ],
   "source": [
    "path = r'C:\\Users\\siddh\\Desktop\\MSA\\Acads\\CSE 6242'\n",
    "\n",
    "df1 = pd.read_csv(path+r'\\output-1.csv')\n",
    "df2 = pd.read_csv(path+r'\\output-2.csv')\n",
    "df3 = pd.read_csv(path+r'\\output-3.csv')\n",
    "df4 = pd.read_csv(path+r'\\output-4.csv')\n",
    "df5 = pd.read_csv(path+r'\\output-5.csv')"
   ]
  },
  {
   "cell_type": "code",
   "execution_count": 19,
   "metadata": {},
   "outputs": [],
   "source": [
    "df_out = pd.concat([df1, df2, df3, df4, df5], ignore_index=True)\n",
    "\n",
    "df_out.to_csv(path+r'\\tweets_full_output.csv', index=False)"
   ]
  },
  {
   "cell_type": "code",
   "execution_count": 25,
   "metadata": {
    "scrolled": true
   },
   "outputs": [
    {
     "name": "stdout",
     "output_type": "stream",
     "text": [
      "=== Tweet 13 Skipped ===\n",
      "=== Tweet 21 Skipped ===\n",
      "=== Tweet 38 Skipped ===\n",
      "=== Tweet 64 Skipped ===\n",
      "=== Tweet 86 Skipped ===\n",
      "...Finished reading 100/9000 tweets...\n",
      "=== Tweet 113 Skipped ===\n",
      "=== Tweet 140 Skipped ===\n",
      "=== Tweet 143 Skipped ===\n",
      "=== Tweet 149 Skipped ===\n",
      "=== Tweet 152 Skipped ===\n",
      "=== Tweet 163 Skipped ===\n",
      "=== Tweet 174 Skipped ===\n",
      "=== Tweet 175 Skipped ===\n",
      "=== Tweet 180 Skipped ===\n",
      "...Finished reading 200/9000 tweets...\n",
      "=== Tweet 205 Skipped ===\n",
      "=== Tweet 219 Skipped ===\n",
      "=== Tweet 223 Skipped ===\n",
      "=== Tweet 239 Skipped ===\n",
      "=== Tweet 242 Skipped ===\n",
      "=== Tweet 254 Skipped ===\n",
      "=== Tweet 255 Skipped ===\n",
      "...Finished reading 300/9000 tweets...\n",
      "=== Tweet 319 Skipped ===\n",
      "=== Tweet 339 Skipped ===\n",
      "=== Tweet 341 Skipped ===\n",
      "=== Tweet 343 Skipped ===\n",
      "=== Tweet 344 Skipped ===\n",
      "=== Tweet 353 Skipped ===\n",
      "=== Tweet 359 Skipped ===\n",
      "=== Tweet 362 Skipped ===\n",
      "=== Tweet 364 Skipped ===\n",
      "=== Tweet 373 Skipped ===\n",
      "=== Tweet 379 Skipped ===\n",
      "=== Tweet 381 Skipped ===\n",
      "=== Tweet 387 Skipped ===\n",
      "...Finished reading 400/9000 tweets...\n",
      "=== Tweet 432 Skipped ===\n",
      "=== Tweet 442 Skipped ===\n",
      "=== Tweet 444 Skipped ===\n",
      "=== Tweet 471 Skipped ===\n",
      "=== Tweet 476 Skipped ===\n",
      "=== Tweet 481 Skipped ===\n",
      "=== Tweet 484 Skipped ===\n",
      "...Finished reading 500/9000 tweets...\n",
      "=== Tweet 512 Skipped ===\n",
      "=== Tweet 522 Skipped ===\n",
      "=== Tweet 547 Skipped ===\n",
      "=== Tweet 566 Skipped ===\n",
      "=== Tweet 595 Skipped ===\n",
      "...Finished reading 600/9000 tweets...\n",
      "=== Tweet 619 Skipped ===\n",
      "=== Tweet 637 Skipped ===\n",
      "=== Tweet 638 Skipped ===\n",
      "=== Tweet 694 Skipped ===\n",
      "=== Tweet 695 Skipped ===\n",
      "...Finished reading 700/9000 tweets...\n",
      "=== Tweet 705 Skipped ===\n",
      "=== Tweet 727 Skipped ===\n",
      "=== Tweet 741 Skipped ===\n",
      "=== Tweet 760 Skipped ===\n",
      "=== Tweet 773 Skipped ===\n",
      "=== Tweet 774 Skipped ===\n",
      "=== Tweet 793 Skipped ===\n",
      "...Finished reading 800/9000 tweets...\n",
      "=== Tweet 809 Skipped ===\n",
      "=== Tweet 815 Skipped ===\n",
      "=== Tweet 827 Skipped ===\n",
      "=== Tweet 839 Skipped ===\n",
      "=== Tweet 848 Skipped ===\n",
      "=== Tweet 868 Skipped ===\n",
      "=== Tweet 887 Skipped ===\n",
      "...Finished reading 900/9000 tweets...\n"
     ]
    },
    {
     "name": "stderr",
     "output_type": "stream",
     "text": [
      "Rate limit reached. Sleeping for: 773\n"
     ]
    },
    {
     "name": "stdout",
     "output_type": "stream",
     "text": [
      "=== Tweet 917 Skipped ===\n",
      "=== Tweet 924 Skipped ===\n",
      "=== Tweet 928 Skipped ===\n",
      "=== Tweet 979 Skipped ===\n",
      "...Finished reading 1000/9000 tweets...\n",
      "=== Tweet 1015 Skipped ===\n",
      "=== Tweet 1022 Skipped ===\n",
      "=== Tweet 1033 Skipped ===\n",
      "=== Tweet 1039 Skipped ===\n",
      "=== Tweet 1042 Skipped ===\n",
      "=== Tweet 1044 Skipped ===\n",
      "=== Tweet 1059 Skipped ===\n",
      "=== Tweet 1074 Skipped ===\n",
      "=== Tweet 1084 Skipped ===\n",
      "...Finished reading 1100/9000 tweets...\n",
      "=== Tweet 1104 Skipped ===\n",
      "=== Tweet 1109 Skipped ===\n",
      "=== Tweet 1114 Skipped ===\n",
      "=== Tweet 1145 Skipped ===\n",
      "=== Tweet 1156 Skipped ===\n",
      "=== Tweet 1157 Skipped ===\n",
      "=== Tweet 1180 Skipped ===\n",
      "=== Tweet 1184 Skipped ===\n",
      "=== Tweet 1197 Skipped ===\n",
      "...Finished reading 1200/9000 tweets...\n",
      "=== Tweet 1226 Skipped ===\n",
      "=== Tweet 1227 Skipped ===\n",
      "=== Tweet 1236 Skipped ===\n",
      "=== Tweet 1252 Skipped ===\n",
      "=== Tweet 1258 Skipped ===\n",
      "=== Tweet 1266 Skipped ===\n",
      "=== Tweet 1273 Skipped ===\n",
      "=== Tweet 1275 Skipped ===\n",
      "=== Tweet 1278 Skipped ===\n",
      "=== Tweet 1288 Skipped ===\n",
      "...Finished reading 1300/9000 tweets...\n",
      "=== Tweet 1301 Skipped ===\n",
      "=== Tweet 1307 Skipped ===\n",
      "=== Tweet 1313 Skipped ===\n",
      "=== Tweet 1315 Skipped ===\n",
      "=== Tweet 1325 Skipped ===\n",
      "=== Tweet 1331 Skipped ===\n",
      "=== Tweet 1333 Skipped ===\n",
      "=== Tweet 1347 Skipped ===\n",
      "=== Tweet 1356 Skipped ===\n",
      "=== Tweet 1359 Skipped ===\n",
      "=== Tweet 1396 Skipped ===\n",
      "...Finished reading 1400/9000 tweets...\n",
      "=== Tweet 1407 Skipped ===\n",
      "=== Tweet 1409 Skipped ===\n",
      "=== Tweet 1417 Skipped ===\n",
      "=== Tweet 1424 Skipped ===\n",
      "=== Tweet 1493 Skipped ===\n",
      "...Finished reading 1500/9000 tweets...\n",
      "=== Tweet 1517 Skipped ===\n",
      "=== Tweet 1551 Skipped ===\n",
      "=== Tweet 1566 Skipped ===\n",
      "=== Tweet 1584 Skipped ===\n",
      "=== Tweet 1585 Skipped ===\n",
      "=== Tweet 1589 Skipped ===\n",
      "...Finished reading 1600/9000 tweets...\n",
      "=== Tweet 1606 Skipped ===\n",
      "=== Tweet 1608 Skipped ===\n",
      "=== Tweet 1617 Skipped ===\n",
      "=== Tweet 1626 Skipped ===\n",
      "=== Tweet 1630 Skipped ===\n",
      "=== Tweet 1647 Skipped ===\n",
      "=== Tweet 1679 Skipped ===\n",
      "=== Tweet 1691 Skipped ===\n",
      "=== Tweet 1694 Skipped ===\n",
      "...Finished reading 1700/9000 tweets...\n",
      "=== Tweet 1715 Skipped ===\n",
      "=== Tweet 1717 Skipped ===\n",
      "=== Tweet 1728 Skipped ===\n",
      "=== Tweet 1759 Skipped ===\n",
      "=== Tweet 1786 Skipped ===\n",
      "=== Tweet 1798 Skipped ===\n",
      "...Finished reading 1800/9000 tweets...\n"
     ]
    },
    {
     "name": "stderr",
     "output_type": "stream",
     "text": [
      "Rate limit reached. Sleeping for: 746\n"
     ]
    },
    {
     "name": "stdout",
     "output_type": "stream",
     "text": [
      "=== Tweet 1804 Skipped ===\n",
      "=== Tweet 1810 Skipped ===\n",
      "=== Tweet 1830 Skipped ===\n",
      "=== Tweet 1852 Skipped ===\n",
      "=== Tweet 1882 Skipped ===\n",
      "=== Tweet 1887 Skipped ===\n",
      "=== Tweet 1888 Skipped ===\n",
      "=== Tweet 1898 Skipped ===\n",
      "=== Tweet 1899 Skipped ===\n",
      "...Finished reading 1900/9000 tweets...\n",
      "=== Tweet 1908 Skipped ===\n",
      "=== Tweet 1916 Skipped ===\n",
      "=== Tweet 1926 Skipped ===\n",
      "=== Tweet 1942 Skipped ===\n",
      "=== Tweet 1952 Skipped ===\n",
      "=== Tweet 1954 Skipped ===\n",
      "=== Tweet 1957 Skipped ===\n",
      "=== Tweet 1958 Skipped ===\n",
      "=== Tweet 1992 Skipped ===\n",
      "...Finished reading 2000/9000 tweets...\n",
      "=== Tweet 2032 Skipped ===\n",
      "=== Tweet 2033 Skipped ===\n",
      "=== Tweet 2035 Skipped ===\n",
      "=== Tweet 2059 Skipped ===\n",
      "=== Tweet 2088 Skipped ===\n",
      "...Finished reading 2100/9000 tweets...\n",
      "=== Tweet 2108 Skipped ===\n",
      "=== Tweet 2115 Skipped ===\n",
      "=== Tweet 2122 Skipped ===\n",
      "...Finished reading 2200/9000 tweets...\n",
      "=== Tweet 2210 Skipped ===\n",
      "=== Tweet 2266 Skipped ===\n",
      "...Finished reading 2300/9000 tweets...\n",
      "=== Tweet 2309 Skipped ===\n",
      "=== Tweet 2313 Skipped ===\n",
      "=== Tweet 2329 Skipped ===\n",
      "=== Tweet 2331 Skipped ===\n",
      "=== Tweet 2339 Skipped ===\n",
      "=== Tweet 2353 Skipped ===\n",
      "=== Tweet 2362 Skipped ===\n",
      "=== Tweet 2369 Skipped ===\n",
      "...Finished reading 2400/9000 tweets...\n",
      "=== Tweet 2406 Skipped ===\n",
      "=== Tweet 2418 Skipped ===\n",
      "=== Tweet 2419 Skipped ===\n",
      "=== Tweet 2432 Skipped ===\n",
      "=== Tweet 2437 Skipped ===\n",
      "=== Tweet 2460 Skipped ===\n",
      "=== Tweet 2476 Skipped ===\n",
      "=== Tweet 2487 Skipped ===\n",
      "=== Tweet 2495 Skipped ===\n",
      "...Finished reading 2500/9000 tweets...\n",
      "=== Tweet 2502 Skipped ===\n",
      "=== Tweet 2508 Skipped ===\n",
      "=== Tweet 2509 Skipped ===\n",
      "=== Tweet 2545 Skipped ===\n",
      "=== Tweet 2560 Skipped ===\n",
      "=== Tweet 2574 Skipped ===\n",
      "=== Tweet 2587 Skipped ===\n",
      "=== Tweet 2594 Skipped ===\n",
      "...Finished reading 2600/9000 tweets...\n",
      "=== Tweet 2603 Skipped ===\n",
      "=== Tweet 2638 Skipped ===\n",
      "=== Tweet 2644 Skipped ===\n",
      "=== Tweet 2651 Skipped ===\n",
      "=== Tweet 2652 Skipped ===\n",
      "=== Tweet 2655 Skipped ===\n",
      "=== Tweet 2660 Skipped ===\n",
      "=== Tweet 2679 Skipped ===\n",
      "=== Tweet 2693 Skipped ===\n",
      "...Finished reading 2700/9000 tweets...\n"
     ]
    },
    {
     "name": "stderr",
     "output_type": "stream",
     "text": [
      "Rate limit reached. Sleeping for: 739\n"
     ]
    },
    {
     "name": "stdout",
     "output_type": "stream",
     "text": [
      "=== Tweet 2712 Skipped ===\n",
      "=== Tweet 2719 Skipped ===\n",
      "=== Tweet 2729 Skipped ===\n",
      "=== Tweet 2761 Skipped ===\n",
      "=== Tweet 2764 Skipped ===\n",
      "=== Tweet 2765 Skipped ===\n",
      "=== Tweet 2777 Skipped ===\n",
      "=== Tweet 2789 Skipped ===\n",
      "...Finished reading 2800/9000 tweets...\n",
      "=== Tweet 2809 Skipped ===\n",
      "=== Tweet 2835 Skipped ===\n",
      "=== Tweet 2837 Skipped ===\n",
      "=== Tweet 2879 Skipped ===\n",
      "=== Tweet 2892 Skipped ===\n",
      "...Finished reading 2900/9000 tweets...\n",
      "=== Tweet 2912 Skipped ===\n",
      "=== Tweet 2935 Skipped ===\n",
      "=== Tweet 2968 Skipped ===\n",
      "=== Tweet 2977 Skipped ===\n",
      "=== Tweet 2984 Skipped ===\n",
      "=== Tweet 2993 Skipped ===\n",
      "=== Tweet 2994 Skipped ===\n",
      "=== Tweet 2996 Skipped ===\n",
      "...Finished reading 3000/9000 tweets...\n",
      "=== Tweet 3001 Skipped ===\n",
      "=== Tweet 3007 Skipped ===\n",
      "=== Tweet 3010 Skipped ===\n",
      "=== Tweet 3015 Skipped ===\n",
      "=== Tweet 3021 Skipped ===\n",
      "=== Tweet 3025 Skipped ===\n",
      "=== Tweet 3032 Skipped ===\n",
      "=== Tweet 3033 Skipped ===\n",
      "...Finished reading 3100/9000 tweets...\n",
      "=== Tweet 3101 Skipped ===\n",
      "=== Tweet 3124 Skipped ===\n",
      "=== Tweet 3126 Skipped ===\n",
      "=== Tweet 3138 Skipped ===\n",
      "=== Tweet 3139 Skipped ===\n",
      "=== Tweet 3140 Skipped ===\n",
      "=== Tweet 3144 Skipped ===\n",
      "=== Tweet 3145 Skipped ===\n",
      "=== Tweet 3160 Skipped ===\n",
      "=== Tweet 3161 Skipped ===\n",
      "=== Tweet 3165 Skipped ===\n",
      "...Finished reading 3200/9000 tweets...\n",
      "=== Tweet 3217 Skipped ===\n",
      "=== Tweet 3223 Skipped ===\n",
      "=== Tweet 3230 Skipped ===\n",
      "=== Tweet 3280 Skipped ===\n",
      "=== Tweet 3281 Skipped ===\n",
      "=== Tweet 3291 Skipped ===\n",
      "...Finished reading 3300/9000 tweets...\n",
      "=== Tweet 3336 Skipped ===\n",
      "=== Tweet 3340 Skipped ===\n",
      "=== Tweet 3348 Skipped ===\n",
      "=== Tweet 3381 Skipped ===\n",
      "=== Tweet 3386 Skipped ===\n",
      "...Finished reading 3400/9000 tweets...\n",
      "=== Tweet 3403 Skipped ===\n",
      "=== Tweet 3417 Skipped ===\n",
      "=== Tweet 3423 Skipped ===\n",
      "=== Tweet 3432 Skipped ===\n",
      "=== Tweet 3448 Skipped ===\n",
      "=== Tweet 3452 Skipped ===\n",
      "=== Tweet 3473 Skipped ===\n",
      "=== Tweet 3476 Skipped ===\n",
      "=== Tweet 3478 Skipped ===\n",
      "=== Tweet 3486 Skipped ===\n",
      "=== Tweet 3487 Skipped ===\n",
      "...Finished reading 3500/9000 tweets...\n",
      "=== Tweet 3529 Skipped ===\n",
      "=== Tweet 3533 Skipped ===\n",
      "=== Tweet 3541 Skipped ===\n",
      "=== Tweet 3554 Skipped ===\n",
      "=== Tweet 3566 Skipped ===\n",
      "=== Tweet 3574 Skipped ===\n",
      "=== Tweet 3592 Skipped ===\n",
      "=== Tweet 3599 Skipped ===\n",
      "...Finished reading 3600/9000 tweets...\n",
      "=== Tweet 3600 Skipped ===\n"
     ]
    },
    {
     "name": "stderr",
     "output_type": "stream",
     "text": [
      "Rate limit reached. Sleeping for: 746\n"
     ]
    },
    {
     "name": "stdout",
     "output_type": "stream",
     "text": [
      "=== Tweet 3602 Skipped ===\n",
      "=== Tweet 3603 Skipped ===\n",
      "=== Tweet 3605 Skipped ===\n",
      "=== Tweet 3610 Skipped ===\n",
      "=== Tweet 3621 Skipped ===\n",
      "=== Tweet 3627 Skipped ===\n",
      "=== Tweet 3630 Skipped ===\n",
      "=== Tweet 3632 Skipped ===\n",
      "=== Tweet 3635 Skipped ===\n",
      "=== Tweet 3638 Skipped ===\n",
      "=== Tweet 3645 Skipped ===\n",
      "=== Tweet 3648 Skipped ===\n",
      "=== Tweet 3649 Skipped ===\n",
      "...Finished reading 3700/9000 tweets...\n",
      "=== Tweet 3706 Skipped ===\n",
      "=== Tweet 3716 Skipped ===\n",
      "=== Tweet 3730 Skipped ===\n",
      "=== Tweet 3731 Skipped ===\n",
      "=== Tweet 3734 Skipped ===\n",
      "=== Tweet 3753 Skipped ===\n",
      "=== Tweet 3767 Skipped ===\n",
      "=== Tweet 3769 Skipped ===\n",
      "=== Tweet 3771 Skipped ===\n",
      "=== Tweet 3773 Skipped ===\n",
      "=== Tweet 3790 Skipped ===\n",
      "=== Tweet 3797 Skipped ===\n",
      "=== Tweet 3799 Skipped ===\n",
      "...Finished reading 3800/9000 tweets...\n",
      "=== Tweet 3810 Skipped ===\n",
      "=== Tweet 3843 Skipped ===\n",
      "=== Tweet 3845 Skipped ===\n",
      "=== Tweet 3859 Skipped ===\n",
      "=== Tweet 3863 Skipped ===\n",
      "=== Tweet 3870 Skipped ===\n",
      "=== Tweet 3882 Skipped ===\n",
      "=== Tweet 3899 Skipped ===\n",
      "...Finished reading 3900/9000 tweets...\n",
      "=== Tweet 3923 Skipped ===\n",
      "=== Tweet 3925 Skipped ===\n",
      "=== Tweet 3929 Skipped ===\n",
      "=== Tweet 3944 Skipped ===\n",
      "=== Tweet 3954 Skipped ===\n",
      "=== Tweet 3955 Skipped ===\n",
      "=== Tweet 3957 Skipped ===\n",
      "=== Tweet 3964 Skipped ===\n",
      "=== Tweet 3992 Skipped ===\n",
      "=== Tweet 3999 Skipped ===\n",
      "...Finished reading 4000/9000 tweets...\n",
      "=== Tweet 4013 Skipped ===\n",
      "=== Tweet 4014 Skipped ===\n",
      "=== Tweet 4024 Skipped ===\n",
      "=== Tweet 4029 Skipped ===\n",
      "=== Tweet 4041 Skipped ===\n",
      "=== Tweet 4060 Skipped ===\n",
      "=== Tweet 4065 Skipped ===\n",
      "=== Tweet 4083 Skipped ===\n",
      "=== Tweet 4085 Skipped ===\n",
      "=== Tweet 4087 Skipped ===\n",
      "=== Tweet 4095 Skipped ===\n",
      "...Finished reading 4100/9000 tweets...\n",
      "=== Tweet 4101 Skipped ===\n",
      "=== Tweet 4110 Skipped ===\n",
      "=== Tweet 4119 Skipped ===\n",
      "=== Tweet 4138 Skipped ===\n",
      "=== Tweet 4148 Skipped ===\n",
      "=== Tweet 4168 Skipped ===\n",
      "=== Tweet 4178 Skipped ===\n",
      "=== Tweet 4183 Skipped ===\n",
      "=== Tweet 4185 Skipped ===\n",
      "=== Tweet 4198 Skipped ===\n",
      "...Finished reading 4200/9000 tweets...\n",
      "=== Tweet 4209 Skipped ===\n",
      "=== Tweet 4214 Skipped ===\n",
      "=== Tweet 4246 Skipped ===\n",
      "=== Tweet 4252 Skipped ===\n",
      "=== Tweet 4266 Skipped ===\n",
      "=== Tweet 4269 Skipped ===\n",
      "=== Tweet 4279 Skipped ===\n",
      "=== Tweet 4281 Skipped ===\n",
      "...Finished reading 4300/9000 tweets...\n",
      "=== Tweet 4311 Skipped ===\n",
      "=== Tweet 4319 Skipped ===\n",
      "=== Tweet 4361 Skipped ===\n",
      "=== Tweet 4387 Skipped ===\n",
      "=== Tweet 4390 Skipped ===\n",
      "=== Tweet 4391 Skipped ===\n",
      "=== Tweet 4396 Skipped ===\n",
      "=== Tweet 4397 Skipped ===\n",
      "...Finished reading 4400/9000 tweets...\n",
      "=== Tweet 4400 Skipped ===\n",
      "=== Tweet 4401 Skipped ===\n",
      "=== Tweet 4402 Skipped ===\n",
      "=== Tweet 4405 Skipped ===\n",
      "=== Tweet 4416 Skipped ===\n",
      "=== Tweet 4432 Skipped ===\n",
      "=== Tweet 4436 Skipped ===\n",
      "=== Tweet 4440 Skipped ===\n",
      "=== Tweet 4446 Skipped ===\n",
      "=== Tweet 4449 Skipped ===\n",
      "=== Tweet 4462 Skipped ===\n",
      "=== Tweet 4466 Skipped ===\n",
      "=== Tweet 4469 Skipped ===\n",
      "=== Tweet 4489 Skipped ===\n",
      "=== Tweet 4494 Skipped ===\n",
      "...Finished reading 4500/9000 tweets...\n"
     ]
    },
    {
     "name": "stderr",
     "output_type": "stream",
     "text": [
      "Rate limit reached. Sleeping for: 734\n"
     ]
    },
    {
     "name": "stdout",
     "output_type": "stream",
     "text": [
      "=== Tweet 4519 Skipped ===\n",
      "=== Tweet 4529 Skipped ===\n",
      "=== Tweet 4540 Skipped ===\n",
      "=== Tweet 4544 Skipped ===\n",
      "=== Tweet 4548 Skipped ===\n",
      "=== Tweet 4559 Skipped ===\n",
      "=== Tweet 4560 Skipped ===\n",
      "=== Tweet 4563 Skipped ===\n",
      "=== Tweet 4571 Skipped ===\n",
      "=== Tweet 4585 Skipped ===\n",
      "=== Tweet 4586 Skipped ===\n",
      "=== Tweet 4597 Skipped ===\n",
      "=== Tweet 4598 Skipped ===\n",
      "=== Tweet 4599 Skipped ===\n",
      "...Finished reading 4600/9000 tweets...\n",
      "=== Tweet 4618 Skipped ===\n",
      "=== Tweet 4638 Skipped ===\n",
      "=== Tweet 4639 Skipped ===\n",
      "=== Tweet 4648 Skipped ===\n",
      "=== Tweet 4653 Skipped ===\n",
      "=== Tweet 4661 Skipped ===\n",
      "=== Tweet 4664 Skipped ===\n",
      "=== Tweet 4665 Skipped ===\n",
      "=== Tweet 4670 Skipped ===\n",
      "=== Tweet 4687 Skipped ===\n",
      "...Finished reading 4700/9000 tweets...\n",
      "=== Tweet 4711 Skipped ===\n",
      "=== Tweet 4715 Skipped ===\n",
      "=== Tweet 4735 Skipped ===\n",
      "=== Tweet 4740 Skipped ===\n",
      "=== Tweet 4750 Skipped ===\n",
      "=== Tweet 4759 Skipped ===\n",
      "=== Tweet 4760 Skipped ===\n",
      "=== Tweet 4774 Skipped ===\n",
      "...Finished reading 4800/9000 tweets...\n",
      "=== Tweet 4805 Skipped ===\n",
      "=== Tweet 4807 Skipped ===\n",
      "=== Tweet 4811 Skipped ===\n",
      "=== Tweet 4816 Skipped ===\n",
      "=== Tweet 4825 Skipped ===\n",
      "=== Tweet 4828 Skipped ===\n",
      "=== Tweet 4851 Skipped ===\n",
      "=== Tweet 4857 Skipped ===\n",
      "=== Tweet 4876 Skipped ===\n",
      "=== Tweet 4880 Skipped ===\n",
      "=== Tweet 4881 Skipped ===\n",
      "=== Tweet 4882 Skipped ===\n",
      "=== Tweet 4885 Skipped ===\n",
      "=== Tweet 4887 Skipped ===\n",
      "...Finished reading 4900/9000 tweets...\n",
      "=== Tweet 4901 Skipped ===\n",
      "=== Tweet 4902 Skipped ===\n",
      "=== Tweet 4903 Skipped ===\n",
      "=== Tweet 4908 Skipped ===\n",
      "=== Tweet 4917 Skipped ===\n",
      "=== Tweet 4923 Skipped ===\n",
      "=== Tweet 4932 Skipped ===\n",
      "=== Tweet 4933 Skipped ===\n",
      "=== Tweet 4936 Skipped ===\n",
      "=== Tweet 4943 Skipped ===\n",
      "=== Tweet 4961 Skipped ===\n",
      "=== Tweet 4976 Skipped ===\n",
      "=== Tweet 4982 Skipped ===\n",
      "=== Tweet 4989 Skipped ===\n",
      "=== Tweet 4999 Skipped ===\n",
      "...Finished reading 5000/9000 tweets...\n",
      "=== Tweet 5038 Skipped ===\n",
      "=== Tweet 5041 Skipped ===\n",
      "=== Tweet 5066 Skipped ===\n",
      "=== Tweet 5084 Skipped ===\n",
      "...Finished reading 5100/9000 tweets...\n",
      "=== Tweet 5103 Skipped ===\n",
      "=== Tweet 5111 Skipped ===\n",
      "=== Tweet 5135 Skipped ===\n",
      "=== Tweet 5184 Skipped ===\n",
      "=== Tweet 5193 Skipped ===\n",
      "...Finished reading 5200/9000 tweets...\n",
      "=== Tweet 5239 Skipped ===\n",
      "=== Tweet 5247 Skipped ===\n",
      "=== Tweet 5253 Skipped ===\n",
      "=== Tweet 5257 Skipped ===\n",
      "...Finished reading 5300/9000 tweets...\n",
      "=== Tweet 5306 Skipped ===\n",
      "=== Tweet 5313 Skipped ===\n",
      "=== Tweet 5314 Skipped ===\n",
      "=== Tweet 5315 Skipped ===\n",
      "=== Tweet 5323 Skipped ===\n",
      "=== Tweet 5347 Skipped ===\n",
      "=== Tweet 5368 Skipped ===\n",
      "=== Tweet 5382 Skipped ===\n",
      "=== Tweet 5393 Skipped ===\n",
      "=== Tweet 5399 Skipped ===\n",
      "...Finished reading 5400/9000 tweets...\n"
     ]
    },
    {
     "name": "stderr",
     "output_type": "stream",
     "text": [
      "Rate limit reached. Sleeping for: 747\n"
     ]
    },
    {
     "name": "stdout",
     "output_type": "stream",
     "text": [
      "=== Tweet 5405 Skipped ===\n",
      "=== Tweet 5408 Skipped ===\n",
      "=== Tweet 5410 Skipped ===\n",
      "=== Tweet 5427 Skipped ===\n",
      "=== Tweet 5439 Skipped ===\n",
      "=== Tweet 5440 Skipped ===\n",
      "=== Tweet 5447 Skipped ===\n",
      "=== Tweet 5452 Skipped ===\n",
      "=== Tweet 5463 Skipped ===\n",
      "=== Tweet 5467 Skipped ===\n",
      "=== Tweet 5477 Skipped ===\n",
      "=== Tweet 5483 Skipped ===\n",
      "=== Tweet 5488 Skipped ===\n",
      "...Finished reading 5500/9000 tweets...\n",
      "=== Tweet 5501 Skipped ===\n",
      "=== Tweet 5517 Skipped ===\n",
      "=== Tweet 5537 Skipped ===\n",
      "=== Tweet 5539 Skipped ===\n",
      "=== Tweet 5545 Skipped ===\n",
      "=== Tweet 5565 Skipped ===\n",
      "=== Tweet 5589 Skipped ===\n",
      "=== Tweet 5594 Skipped ===\n",
      "=== Tweet 5596 Skipped ===\n",
      "...Finished reading 5600/9000 tweets...\n",
      "=== Tweet 5617 Skipped ===\n",
      "=== Tweet 5622 Skipped ===\n",
      "=== Tweet 5624 Skipped ===\n",
      "=== Tweet 5628 Skipped ===\n",
      "=== Tweet 5645 Skipped ===\n",
      "=== Tweet 5648 Skipped ===\n",
      "=== Tweet 5649 Skipped ===\n",
      "=== Tweet 5650 Skipped ===\n",
      "=== Tweet 5662 Skipped ===\n",
      "=== Tweet 5664 Skipped ===\n",
      "...Finished reading 5700/9000 tweets...\n",
      "=== Tweet 5703 Skipped ===\n",
      "=== Tweet 5733 Skipped ===\n",
      "=== Tweet 5744 Skipped ===\n",
      "=== Tweet 5751 Skipped ===\n",
      "=== Tweet 5764 Skipped ===\n",
      "=== Tweet 5767 Skipped ===\n",
      "=== Tweet 5775 Skipped ===\n",
      "=== Tweet 5778 Skipped ===\n",
      "...Finished reading 5800/9000 tweets...\n",
      "=== Tweet 5814 Skipped ===\n",
      "=== Tweet 5841 Skipped ===\n",
      "=== Tweet 5842 Skipped ===\n",
      "=== Tweet 5851 Skipped ===\n",
      "=== Tweet 5858 Skipped ===\n",
      "=== Tweet 5869 Skipped ===\n",
      "=== Tweet 5871 Skipped ===\n",
      "=== Tweet 5890 Skipped ===\n",
      "=== Tweet 5891 Skipped ===\n",
      "...Finished reading 5900/9000 tweets...\n",
      "=== Tweet 5928 Skipped ===\n",
      "=== Tweet 5963 Skipped ===\n",
      "=== Tweet 5971 Skipped ===\n",
      "=== Tweet 5979 Skipped ===\n",
      "=== Tweet 5980 Skipped ===\n",
      "=== Tweet 5987 Skipped ===\n",
      "=== Tweet 5988 Skipped ===\n",
      "=== Tweet 5994 Skipped ===\n",
      "...Finished reading 6000/9000 tweets...\n",
      "=== Tweet 6010 Skipped ===\n",
      "=== Tweet 6019 Skipped ===\n",
      "=== Tweet 6021 Skipped ===\n",
      "=== Tweet 6038 Skipped ===\n",
      "=== Tweet 6052 Skipped ===\n",
      "=== Tweet 6062 Skipped ===\n",
      "=== Tweet 6090 Skipped ===\n",
      "=== Tweet 6092 Skipped ===\n",
      "...Finished reading 6100/9000 tweets...\n",
      "=== Tweet 6116 Skipped ===\n",
      "=== Tweet 6134 Skipped ===\n",
      "=== Tweet 6137 Skipped ===\n",
      "=== Tweet 6148 Skipped ===\n",
      "=== Tweet 6151 Skipped ===\n",
      "=== Tweet 6152 Skipped ===\n",
      "=== Tweet 6166 Skipped ===\n",
      "=== Tweet 6184 Skipped ===\n",
      "=== Tweet 6186 Skipped ===\n",
      "=== Tweet 6192 Skipped ===\n",
      "...Finished reading 6200/9000 tweets...\n",
      "=== Tweet 6246 Skipped ===\n",
      "=== Tweet 6251 Skipped ===\n",
      "=== Tweet 6261 Skipped ===\n",
      "=== Tweet 6287 Skipped ===\n",
      "=== Tweet 6291 Skipped ===\n",
      "...Finished reading 6300/9000 tweets...\n",
      "=== Tweet 6314 Skipped ===\n",
      "=== Tweet 6316 Skipped ===\n",
      "=== Tweet 6325 Skipped ===\n",
      "=== Tweet 6333 Skipped ===\n",
      "=== Tweet 6335 Skipped ===\n",
      "=== Tweet 6336 Skipped ===\n",
      "=== Tweet 6340 Skipped ===\n",
      "=== Tweet 6347 Skipped ===\n",
      "=== Tweet 6349 Skipped ===\n",
      "=== Tweet 6363 Skipped ===\n",
      "=== Tweet 6366 Skipped ===\n",
      "=== Tweet 6368 Skipped ===\n",
      "=== Tweet 6376 Skipped ===\n",
      "=== Tweet 6379 Skipped ===\n",
      "...Finished reading 6400/9000 tweets...\n",
      "=== Tweet 6440 Skipped ===\n",
      "=== Tweet 6453 Skipped ===\n",
      "=== Tweet 6466 Skipped ===\n",
      "=== Tweet 6473 Skipped ===\n",
      "=== Tweet 6478 Skipped ===\n",
      "...Finished reading 6500/9000 tweets...\n",
      "=== Tweet 6509 Skipped ===\n",
      "=== Tweet 6528 Skipped ===\n",
      "=== Tweet 6529 Skipped ===\n",
      "=== Tweet 6532 Skipped ===\n",
      "=== Tweet 6539 Skipped ===\n",
      "=== Tweet 6540 Skipped ===\n",
      "=== Tweet 6550 Skipped ===\n",
      "=== Tweet 6552 Skipped ===\n",
      "=== Tweet 6554 Skipped ===\n",
      "=== Tweet 6559 Skipped ===\n",
      "=== Tweet 6570 Skipped ===\n",
      "=== Tweet 6574 Skipped ===\n",
      "=== Tweet 6576 Skipped ===\n",
      "=== Tweet 6599 Skipped ===\n",
      "...Finished reading 6600/9000 tweets...\n",
      "=== Tweet 6619 Skipped ===\n",
      "=== Tweet 6637 Skipped ===\n",
      "=== Tweet 6638 Skipped ===\n",
      "=== Tweet 6641 Skipped ===\n",
      "=== Tweet 6642 Skipped ===\n",
      "=== Tweet 6650 Skipped ===\n",
      "=== Tweet 6653 Skipped ===\n"
     ]
    },
    {
     "name": "stderr",
     "output_type": "stream",
     "text": [
      "Rate limit reached. Sleeping for: 695\n"
     ]
    },
    {
     "name": "stdout",
     "output_type": "stream",
     "text": [
      "=== Tweet 6666 Skipped ===\n",
      "=== Tweet 6669 Skipped ===\n",
      "=== Tweet 6678 Skipped ===\n",
      "=== Tweet 6679 Skipped ===\n",
      "=== Tweet 6694 Skipped ===\n",
      "...Finished reading 6700/9000 tweets...\n",
      "=== Tweet 6700 Skipped ===\n",
      "=== Tweet 6710 Skipped ===\n",
      "=== Tweet 6713 Skipped ===\n",
      "=== Tweet 6751 Skipped ===\n",
      "=== Tweet 6761 Skipped ===\n",
      "=== Tweet 6770 Skipped ===\n",
      "=== Tweet 6796 Skipped ===\n",
      "...Finished reading 6800/9000 tweets...\n",
      "=== Tweet 6853 Skipped ===\n",
      "=== Tweet 6855 Skipped ===\n",
      "=== Tweet 6860 Skipped ===\n",
      "=== Tweet 6871 Skipped ===\n",
      "=== Tweet 6879 Skipped ===\n",
      "...Finished reading 6900/9000 tweets...\n",
      "=== Tweet 6900 Skipped ===\n",
      "=== Tweet 6908 Skipped ===\n",
      "=== Tweet 6914 Skipped ===\n",
      "=== Tweet 6917 Skipped ===\n",
      "=== Tweet 6923 Skipped ===\n",
      "=== Tweet 6934 Skipped ===\n",
      "=== Tweet 6958 Skipped ===\n",
      "...Finished reading 7000/9000 tweets...\n",
      "=== Tweet 7019 Skipped ===\n",
      "=== Tweet 7032 Skipped ===\n",
      "=== Tweet 7044 Skipped ===\n",
      "=== Tweet 7063 Skipped ===\n",
      "=== Tweet 7076 Skipped ===\n",
      "=== Tweet 7088 Skipped ===\n",
      "...Finished reading 7100/9000 tweets...\n",
      "=== Tweet 7107 Skipped ===\n",
      "=== Tweet 7112 Skipped ===\n",
      "=== Tweet 7115 Skipped ===\n",
      "=== Tweet 7116 Skipped ===\n",
      "=== Tweet 7146 Skipped ===\n",
      "=== Tweet 7159 Skipped ===\n",
      "=== Tweet 7161 Skipped ===\n",
      "=== Tweet 7166 Skipped ===\n",
      "=== Tweet 7167 Skipped ===\n",
      "=== Tweet 7169 Skipped ===\n",
      "=== Tweet 7175 Skipped ===\n",
      "=== Tweet 7184 Skipped ===\n",
      "=== Tweet 7188 Skipped ===\n",
      "=== Tweet 7194 Skipped ===\n",
      "...Finished reading 7200/9000 tweets...\n",
      "=== Tweet 7212 Skipped ===\n",
      "=== Tweet 7239 Skipped ===\n",
      "=== Tweet 7240 Skipped ===\n",
      "=== Tweet 7255 Skipped ===\n",
      "=== Tweet 7259 Skipped ===\n",
      "=== Tweet 7266 Skipped ===\n",
      "=== Tweet 7269 Skipped ===\n",
      "=== Tweet 7270 Skipped ===\n",
      "=== Tweet 7271 Skipped ===\n",
      "=== Tweet 7273 Skipped ===\n",
      "=== Tweet 7280 Skipped ===\n",
      "=== Tweet 7282 Skipped ===\n",
      "=== Tweet 7289 Skipped ===\n",
      "=== Tweet 7291 Skipped ===\n",
      "...Finished reading 7300/9000 tweets...\n",
      "=== Tweet 7322 Skipped ===\n",
      "=== Tweet 7334 Skipped ===\n",
      "=== Tweet 7344 Skipped ===\n",
      "=== Tweet 7361 Skipped ===\n",
      "=== Tweet 7363 Skipped ===\n",
      "=== Tweet 7377 Skipped ===\n",
      "=== Tweet 7379 Skipped ===\n",
      "=== Tweet 7380 Skipped ===\n",
      "=== Tweet 7396 Skipped ===\n",
      "...Finished reading 7400/9000 tweets...\n",
      "=== Tweet 7405 Skipped ===\n",
      "=== Tweet 7406 Skipped ===\n",
      "=== Tweet 7407 Skipped ===\n",
      "=== Tweet 7408 Skipped ===\n",
      "=== Tweet 7427 Skipped ===\n",
      "=== Tweet 7435 Skipped ===\n",
      "=== Tweet 7438 Skipped ===\n",
      "=== Tweet 7445 Skipped ===\n",
      "=== Tweet 7458 Skipped ===\n",
      "=== Tweet 7470 Skipped ===\n",
      "=== Tweet 7486 Skipped ===\n",
      "=== Tweet 7491 Skipped ===\n",
      "...Finished reading 7500/9000 tweets...\n",
      "=== Tweet 7504 Skipped ===\n",
      "=== Tweet 7510 Skipped ===\n",
      "=== Tweet 7511 Skipped ===\n",
      "=== Tweet 7540 Skipped ===\n",
      "=== Tweet 7542 Skipped ===\n",
      "=== Tweet 7550 Skipped ===\n"
     ]
    },
    {
     "name": "stderr",
     "output_type": "stream",
     "text": [
      "Rate limit reached. Sleeping for: 686\n"
     ]
    },
    {
     "name": "stdout",
     "output_type": "stream",
     "text": [
      "=== Tweet 7565 Skipped ===\n",
      "=== Tweet 7575 Skipped ===\n",
      "=== Tweet 7593 Skipped ===\n",
      "...Finished reading 7600/9000 tweets...\n",
      "=== Tweet 7607 Skipped ===\n",
      "=== Tweet 7616 Skipped ===\n",
      "=== Tweet 7618 Skipped ===\n",
      "=== Tweet 7624 Skipped ===\n",
      "=== Tweet 7656 Skipped ===\n",
      "=== Tweet 7657 Skipped ===\n",
      "=== Tweet 7674 Skipped ===\n",
      "=== Tweet 7675 Skipped ===\n",
      "=== Tweet 7681 Skipped ===\n",
      "=== Tweet 7684 Skipped ===\n",
      "=== Tweet 7691 Skipped ===\n",
      "=== Tweet 7693 Skipped ===\n",
      "...Finished reading 7700/9000 tweets...\n",
      "=== Tweet 7704 Skipped ===\n",
      "=== Tweet 7707 Skipped ===\n",
      "=== Tweet 7708 Skipped ===\n",
      "=== Tweet 7710 Skipped ===\n",
      "=== Tweet 7722 Skipped ===\n",
      "=== Tweet 7725 Skipped ===\n",
      "=== Tweet 7727 Skipped ===\n",
      "=== Tweet 7742 Skipped ===\n",
      "=== Tweet 7752 Skipped ===\n",
      "=== Tweet 7777 Skipped ===\n",
      "=== Tweet 7782 Skipped ===\n",
      "=== Tweet 7791 Skipped ===\n",
      "=== Tweet 7792 Skipped ===\n",
      "=== Tweet 7799 Skipped ===\n",
      "...Finished reading 7800/9000 tweets...\n",
      "=== Tweet 7802 Skipped ===\n",
      "=== Tweet 7809 Skipped ===\n",
      "=== Tweet 7824 Skipped ===\n",
      "=== Tweet 7852 Skipped ===\n",
      "=== Tweet 7863 Skipped ===\n",
      "=== Tweet 7879 Skipped ===\n",
      "...Finished reading 7900/9000 tweets...\n",
      "=== Tweet 7949 Skipped ===\n",
      "=== Tweet 7952 Skipped ===\n",
      "=== Tweet 7953 Skipped ===\n",
      "=== Tweet 7971 Skipped ===\n",
      "=== Tweet 7983 Skipped ===\n",
      "=== Tweet 7988 Skipped ===\n",
      "=== Tweet 7991 Skipped ===\n",
      "=== Tweet 7995 Skipped ===\n",
      "...Finished reading 8000/9000 tweets...\n",
      "=== Tweet 8000 Skipped ===\n",
      "=== Tweet 8029 Skipped ===\n",
      "=== Tweet 8030 Skipped ===\n",
      "=== Tweet 8032 Skipped ===\n",
      "=== Tweet 8035 Skipped ===\n",
      "=== Tweet 8043 Skipped ===\n",
      "=== Tweet 8053 Skipped ===\n",
      "=== Tweet 8060 Skipped ===\n",
      "=== Tweet 8073 Skipped ===\n",
      "=== Tweet 8090 Skipped ===\n",
      "=== Tweet 8092 Skipped ===\n",
      "=== Tweet 8094 Skipped ===\n",
      "...Finished reading 8100/9000 tweets...\n",
      "=== Tweet 8108 Skipped ===\n",
      "=== Tweet 8111 Skipped ===\n",
      "=== Tweet 8115 Skipped ===\n",
      "=== Tweet 8122 Skipped ===\n",
      "=== Tweet 8127 Skipped ===\n",
      "=== Tweet 8136 Skipped ===\n",
      "=== Tweet 8146 Skipped ===\n",
      "=== Tweet 8159 Skipped ===\n",
      "=== Tweet 8161 Skipped ===\n",
      "=== Tweet 8162 Skipped ===\n",
      "=== Tweet 8164 Skipped ===\n",
      "=== Tweet 8167 Skipped ===\n",
      "=== Tweet 8168 Skipped ===\n",
      "=== Tweet 8194 Skipped ===\n",
      "=== Tweet 8198 Skipped ===\n",
      "...Finished reading 8200/9000 tweets...\n",
      "=== Tweet 8203 Skipped ===\n",
      "=== Tweet 8212 Skipped ===\n",
      "=== Tweet 8229 Skipped ===\n",
      "=== Tweet 8242 Skipped ===\n",
      "=== Tweet 8244 Skipped ===\n",
      "=== Tweet 8248 Skipped ===\n",
      "=== Tweet 8249 Skipped ===\n",
      "=== Tweet 8258 Skipped ===\n",
      "=== Tweet 8263 Skipped ===\n",
      "=== Tweet 8279 Skipped ===\n",
      "=== Tweet 8282 Skipped ===\n",
      "=== Tweet 8286 Skipped ===\n",
      "=== Tweet 8288 Skipped ===\n",
      "=== Tweet 8289 Skipped ===\n",
      "=== Tweet 8298 Skipped ===\n",
      "...Finished reading 8300/9000 tweets...\n",
      "=== Tweet 8301 Skipped ===\n",
      "=== Tweet 8336 Skipped ===\n",
      "=== Tweet 8374 Skipped ===\n",
      "=== Tweet 8376 Skipped ===\n",
      "=== Tweet 8390 Skipped ===\n",
      "=== Tweet 8399 Skipped ===\n",
      "...Finished reading 8400/9000 tweets...\n",
      "=== Tweet 8421 Skipped ===\n",
      "=== Tweet 8437 Skipped ===\n",
      "=== Tweet 8454 Skipped ===\n",
      "=== Tweet 8459 Skipped ===\n"
     ]
    },
    {
     "name": "stderr",
     "output_type": "stream",
     "text": [
      "Rate limit reached. Sleeping for: 686\n"
     ]
    },
    {
     "name": "stdout",
     "output_type": "stream",
     "text": [
      "=== Tweet 8466 Skipped ===\n",
      "=== Tweet 8473 Skipped ===\n",
      "=== Tweet 8486 Skipped ===\n",
      "=== Tweet 8490 Skipped ===\n",
      "...Finished reading 8500/9000 tweets...\n",
      "=== Tweet 8503 Skipped ===\n",
      "=== Tweet 8510 Skipped ===\n",
      "=== Tweet 8584 Skipped ===\n",
      "=== Tweet 8596 Skipped ===\n",
      "...Finished reading 8600/9000 tweets...\n",
      "=== Tweet 8610 Skipped ===\n",
      "=== Tweet 8644 Skipped ===\n",
      "=== Tweet 8657 Skipped ===\n",
      "=== Tweet 8662 Skipped ===\n",
      "=== Tweet 8669 Skipped ===\n",
      "=== Tweet 8696 Skipped ===\n",
      "...Finished reading 8700/9000 tweets...\n",
      "=== Tweet 8749 Skipped ===\n",
      "=== Tweet 8758 Skipped ===\n",
      "=== Tweet 8766 Skipped ===\n",
      "=== Tweet 8777 Skipped ===\n",
      "=== Tweet 8779 Skipped ===\n",
      "=== Tweet 8795 Skipped ===\n",
      "=== Tweet 8798 Skipped ===\n",
      "...Finished reading 8800/9000 tweets...\n",
      "=== Tweet 8801 Skipped ===\n",
      "=== Tweet 8804 Skipped ===\n",
      "=== Tweet 8827 Skipped ===\n",
      "=== Tweet 8855 Skipped ===\n",
      "=== Tweet 8858 Skipped ===\n",
      "=== Tweet 8864 Skipped ===\n",
      "=== Tweet 8869 Skipped ===\n",
      "=== Tweet 8874 Skipped ===\n",
      "=== Tweet 8875 Skipped ===\n",
      "=== Tweet 8879 Skipped ===\n",
      "=== Tweet 8881 Skipped ===\n",
      "=== Tweet 8893 Skipped ===\n",
      "...Finished reading 8900/9000 tweets...\n",
      "=== Tweet 8910 Skipped ===\n",
      "=== Tweet 8919 Skipped ===\n",
      "=== Tweet 8921 Skipped ===\n",
      "=== Tweet 8937 Skipped ===\n",
      "=== Tweet 8948 Skipped ===\n",
      "=== Tweet 8963 Skipped ===\n",
      "=== Tweet 8964 Skipped ===\n",
      "=== Tweet 8973 Skipped ===\n",
      "...Finished reading 9000/9000 tweets...\n",
      "\n",
      " 8212 tweets read\n",
      "788 tweets skipped\n"
     ]
    }
   ],
   "source": [
    "# s = 0\n",
    "# print('=== Started reading tweets from Twitter API ===')\n",
    "# for id, tweet in enumerate(tweet_ids):\n",
    "#     try:\n",
    "#         if (id+1)%100 == 0:\n",
    "#             print('... Finished reading {}/{} tweets ...'.format(id+1, len(tweet_ids)))\n",
    "#         tweet_data = pd.json_normalize(flatten_json(jsonify_tweepy(api.get_status(tweet))))\n",
    "#         df = df.append(tweet_data[column_names])\n",
    "#     except:\n",
    "#         s += 1\n",
    "#         continue\n",
    "        \n",
    "# print('\\n')\n",
    "# print('{} tweets read successfully'.format(df.shape[0]))\n",
    "# print('{} tweets skipped'.format(s))"
   ]
  },
  {
   "cell_type": "code",
   "execution_count": 26,
   "metadata": {},
   "outputs": [],
   "source": [
    "# df.to_csv(r'C:\\Users\\siddh\\Desktop\\MSA\\Acads\\CSE 6242\\out_test-2.csv')"
   ]
  }
 ],
 "metadata": {
  "kernelspec": {
   "display_name": "Python 3",
   "language": "python",
   "name": "python3"
  },
  "language_info": {
   "codemirror_mode": {
    "name": "ipython",
    "version": 3
   },
   "file_extension": ".py",
   "mimetype": "text/x-python",
   "name": "python",
   "nbconvert_exporter": "python",
   "pygments_lexer": "ipython3",
   "version": "3.8.5"
  }
 },
 "nbformat": 4,
 "nbformat_minor": 5
}
